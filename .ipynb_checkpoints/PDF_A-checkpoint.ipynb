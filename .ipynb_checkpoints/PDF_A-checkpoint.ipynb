{
 "cells": [
  {
   "cell_type": "code",
   "execution_count": 1,
   "id": "3a416489-d96c-47fd-9a36-177282fb4263",
   "metadata": {},
   "outputs": [
    {
     "name": "stdout",
     "output_type": "stream",
     "text": [
      "Requirement already satisfied: PyPDF2 in c:\\users\\matsuno\\anaconda3\\lib\\site-packages (1.28.1)\n"
     ]
    }
   ],
   "source": [
    "!pip install PyPDF2"
   ]
  },
  {
   "cell_type": "code",
   "execution_count": 2,
   "id": "0cf8c834-aa0e-41dc-aac3-471feda6b32b",
   "metadata": {},
   "outputs": [
    {
     "name": "stderr",
     "output_type": "stream",
     "text": [
      "C:\\Users\\matsuno\\anaconda3\\lib\\site-packages\\PyPDF2\\_utils.py:76: UserWarning: isString is deprecated and will be removed in PyPDF2 2.0.0.\n",
      "  warnings.warn(DEPR_MSG_NO_REPLACEMENT.format(\"isString\"))\n",
      "UserWarning: namedDestinations will be removed in PyPDF2 2.0.0. Use `named_destinations` instead. [_reader.py:519]\n"
     ]
    }
   ],
   "source": [
    "import PyPDF2\n",
    "\n",
    "merger = PyPDF2.PdfFileMerger()\n",
    "\n",
    "file_1 = \"履歴書 新川功司.pdf\"\n",
    "file_2 = \"職務経歴書 新川功司.pdf\"\n",
    "name_kyusyokusya = \"新川功司\"\n",
    "\n",
    "merger.append('C:/Users/matsuno/Downloads/MyPandas/' + file_1)\n",
    "merger.append('C:/Users/matsuno/Downloads/MyPandas/' + file_2)\n",
    "#merger.merge(1,'C:/Users/rukur/Downloads/MyPandas/' + file_2)\n",
    "\n",
    "merger.write('C:/Users/matsuno/Downloads/MyPandas/履歴書_職務経歴書_' + name_kyusyokusya + '.pdf')\n",
    "merger.close()"
   ]
  },
  {
   "cell_type": "code",
   "execution_count": 3,
   "id": "5a3e8aa1-fc91-4a89-9379-0f16bad75795",
   "metadata": {},
   "outputs": [],
   "source": [
    "merger.close()"
   ]
  },
  {
   "cell_type": "code",
   "execution_count": null,
   "id": "708c85c9-e2fd-42db-ae16-4fedd12eb6a3",
   "metadata": {},
   "outputs": [],
   "source": []
  }
 ],
 "metadata": {
  "kernelspec": {
   "display_name": "Python 3 (ipykernel)",
   "language": "python",
   "name": "python3"
  },
  "language_info": {
   "codemirror_mode": {
    "name": "ipython",
    "version": 3
   },
   "file_extension": ".py",
   "mimetype": "text/x-python",
   "name": "python",
   "nbconvert_exporter": "python",
   "pygments_lexer": "ipython3",
   "version": "3.9.13"
  }
 },
 "nbformat": 4,
 "nbformat_minor": 5
}
