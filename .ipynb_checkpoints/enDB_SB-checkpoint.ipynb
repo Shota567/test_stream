{
 "cells": [
  {
   "cell_type": "code",
   "execution_count": 9,
   "id": "8d596df0-c97c-49c4-aad3-30bc4e01e065",
   "metadata": {},
   "outputs": [
    {
     "name": "stdout",
     "output_type": "stream",
     "text": [
      "Requirement already satisfied: selenium in c:\\users\\matsuno\\anaconda3\\lib\\site-packages (4.2.0)\n",
      "Requirement already satisfied: trio~=0.17 in c:\\users\\matsuno\\anaconda3\\lib\\site-packages (from selenium) (0.20.0)\n",
      "Requirement already satisfied: urllib3[secure,socks]~=1.26 in c:\\users\\matsuno\\anaconda3\\lib\\site-packages (from selenium) (1.26.9)\n",
      "Requirement already satisfied: trio-websocket~=0.9 in c:\\users\\matsuno\\anaconda3\\lib\\site-packages (from selenium) (0.9.2)\n",
      "Requirement already satisfied: idna in c:\\users\\matsuno\\anaconda3\\lib\\site-packages (from trio~=0.17->selenium) (3.3)\n",
      "Requirement already satisfied: sortedcontainers in c:\\users\\matsuno\\anaconda3\\lib\\site-packages (from trio~=0.17->selenium) (2.4.0)\n",
      "Requirement already satisfied: async-generator>=1.9 in c:\\users\\matsuno\\anaconda3\\lib\\site-packages (from trio~=0.17->selenium) (1.10)\n",
      "Requirement already satisfied: attrs>=19.2.0 in c:\\users\\matsuno\\anaconda3\\lib\\site-packages (from trio~=0.17->selenium) (21.4.0)\n",
      "Requirement already satisfied: sniffio in c:\\users\\matsuno\\anaconda3\\lib\\site-packages (from trio~=0.17->selenium) (1.2.0)\n",
      "Requirement already satisfied: cffi>=1.14 in c:\\users\\matsuno\\anaconda3\\lib\\site-packages (from trio~=0.17->selenium) (1.15.0)\n",
      "Requirement already satisfied: outcome in c:\\users\\matsuno\\anaconda3\\lib\\site-packages (from trio~=0.17->selenium) (1.1.0)\n",
      "Requirement already satisfied: pycparser in c:\\users\\matsuno\\anaconda3\\lib\\site-packages (from cffi>=1.14->trio~=0.17->selenium) (2.21)\n",
      "Requirement already satisfied: wsproto>=0.14 in c:\\users\\matsuno\\anaconda3\\lib\\site-packages (from trio-websocket~=0.9->selenium) (1.1.0)\n",
      "Requirement already satisfied: PySocks!=1.5.7,<2.0,>=1.5.6 in c:\\users\\matsuno\\anaconda3\\lib\\site-packages (from urllib3[secure,socks]~=1.26->selenium) (1.7.1)\n",
      "Requirement already satisfied: pyOpenSSL>=0.14 in c:\\users\\matsuno\\anaconda3\\lib\\site-packages (from urllib3[secure,socks]~=1.26->selenium) (21.0.0)\n",
      "Requirement already satisfied: certifi in c:\\users\\matsuno\\anaconda3\\lib\\site-packages (from urllib3[secure,socks]~=1.26->selenium) (2021.10.8)\n",
      "Requirement already satisfied: cryptography>=1.3.4 in c:\\users\\matsuno\\anaconda3\\lib\\site-packages (from urllib3[secure,socks]~=1.26->selenium) (3.4.7)\n",
      "Requirement already satisfied: six>=1.5.2 in c:\\users\\matsuno\\anaconda3\\lib\\site-packages (from pyOpenSSL>=0.14->urllib3[secure,socks]~=1.26->selenium) (1.16.0)\n",
      "Requirement already satisfied: h11<1,>=0.9.0 in c:\\users\\matsuno\\anaconda3\\lib\\site-packages (from wsproto>=0.14->trio-websocket~=0.9->selenium) (0.13.0)\n"
     ]
    }
   ],
   "source": [
    "!pip install selenium"
   ]
  },
  {
   "cell_type": "code",
   "execution_count": 10,
   "id": "c62caeb7-5b6d-4a81-9a82-186a71d42dd2",
   "metadata": {},
   "outputs": [],
   "source": [
    "from selenium import webdriver\n",
    "\n",
    "import time\n",
    "\n",
    "import pandas as pd\n",
    "\n",
    "from selenium.webdriver.common.action_chains import ActionChains\n",
    "from selenium.webdriver.common.keys import Keys\n",
    "from selenium.common.exceptions import NoSuchElementException\n",
    "\n",
    "import re\n",
    "\n",
    "import numpy as np\n",
    "\n"
   ]
  },
  {
   "cell_type": "code",
   "execution_count": 11,
   "id": "a52ec4cc-200b-4cea-b45e-7bae1b82fff6",
   "metadata": {},
   "outputs": [],
   "source": [
    "IIDA = ['PMC010' , 'PPP0224']\n",
    "\n",
    "HEAD_HUNTER_all = [IIDA]\n",
    "\n",
    "url_login = 'https://mid-tenshoku.com/company_login/login/?PK=DB1298'"
   ]
  },
  {
   "cell_type": "code",
   "execution_count": 12,
   "id": "cc8983c0-efcf-4d01-86df-782107186c5b",
   "metadata": {},
   "outputs": [],
   "source": [
    "i = 0\n",
    "HEAD_HUNTER = HEAD_HUNTER_all[i]"
   ]
  },
  {
   "cell_type": "code",
   "execution_count": 13,
   "id": "11520a60-54d7-4f6b-be0b-dc6fc8cc3145",
   "metadata": {},
   "outputs": [
    {
     "name": "stderr",
     "output_type": "stream",
     "text": [
      "C:\\Users\\matsuno\\AppData\\Local\\Temp\\ipykernel_3188\\3325898327.py:1: DeprecationWarning: executable_path has been deprecated, please pass in a Service object\n",
      "  browser = webdriver.Chrome(executable_path = 'C:/Users/matsuno/Downloads/MyPandas/chromedriver.exe')\n"
     ]
    },
    {
     "name": "stdout",
     "output_type": "stream",
     "text": [
      "ログインページに開きました\n"
     ]
    }
   ],
   "source": [
    "browser = webdriver.Chrome(executable_path = 'C:/Users/matsuno/Downloads/MyPandas/chromedriver.exe')\n",
    "browser.implicitly_wait(10)\n",
    "browser.get(url_login)\n",
    "time.sleep(1)\n",
    "print(\"ログインページに開きました\")"
   ]
  },
  {
   "cell_type": "code",
   "execution_count": 14,
   "id": "44c56844-4654-4bfd-be22-479b93acd244",
   "metadata": {},
   "outputs": [
    {
     "name": "stderr",
     "output_type": "stream",
     "text": [
      "C:\\Users\\matsuno\\AppData\\Local\\Temp\\ipykernel_3188\\839271715.py:1: DeprecationWarning: find_element_by_name is deprecated. Please use find_element(by=By.NAME, value=name) instead\n",
      "  element = browser.find_element_by_name('accLoginID')\n",
      "C:\\Users\\matsuno\\AppData\\Local\\Temp\\ipykernel_3188\\839271715.py:5: DeprecationWarning: find_element_by_name is deprecated. Please use find_element(by=By.NAME, value=name) instead\n",
      "  element = browser.find_element_by_name('accLoginPW')\n"
     ]
    },
    {
     "name": "stdout",
     "output_type": "stream",
     "text": [
      "情報を入力しました\n"
     ]
    },
    {
     "name": "stderr",
     "output_type": "stream",
     "text": [
      "C:\\Users\\matsuno\\AppData\\Local\\Temp\\ipykernel_3188\\839271715.py:10: DeprecationWarning: find_element_by_xpath is deprecated. Please use find_element(by=By.XPATH, value=xpath) instead\n",
      "  browser_from = browser.find_element_by_xpath('/html/body/section/section[2]/div/form/div/span/button')\n"
     ]
    },
    {
     "name": "stdout",
     "output_type": "stream",
     "text": [
      "情報を入力してログインボタンを押しました\n"
     ]
    }
   ],
   "source": [
    "element = browser.find_element_by_name('accLoginID')\n",
    "element.clear()\n",
    "element.send_keys(HEAD_HUNTER[0])\n",
    "\n",
    "element = browser.find_element_by_name('accLoginPW')\n",
    "element.clear()\n",
    "element.send_keys(HEAD_HUNTER[1])\n",
    "print(\"情報を入力しました\")\n",
    "\n",
    "browser_from = browser.find_element_by_xpath('/html/body/section/section[2]/div/form/div/span/button')\n",
    "time.sleep(1)\n",
    "browser_from.click()\n",
    "time.sleep(1)\n",
    "print(\"情報を入力してログインボタンを押しました\")"
   ]
  },
  {
   "cell_type": "code",
   "execution_count": 15,
   "id": "2c2871d9-9391-433f-9641-60670cf0fe62",
   "metadata": {},
   "outputs": [],
   "source": [
    "sc = [\"台湾\",\"モンゴル\",\"中国\",\"中華\",\"台北\",\"韓国\",\"上海\",\"北京\",\"釜山\",\"日本語学校\"]"
   ]
  },
  {
   "cell_type": "code",
   "execution_count": 16,
   "id": "51926983-e421-4207-affe-3155eb9bc1cf",
   "metadata": {},
   "outputs": [
    {
     "name": "stdout",
     "output_type": "stream",
     "text": [
      "エンDBに移動\n"
     ]
    },
    {
     "name": "stderr",
     "output_type": "stream",
     "text": [
      "C:\\Users\\matsuno\\AppData\\Local\\Temp\\ipykernel_3188\\4281066408.py:25: DeprecationWarning: find_element_by_xpath is deprecated. Please use find_element(by=By.XPATH, value=xpath) instead\n",
      "  browser_from = browser.find_element_by_xpath('/html/body/section/div[3]/section[1]/form/div[1]/div[1]/div[2]/select/option[' + str(e) + ']')\n"
     ]
    },
    {
     "name": "stdout",
     "output_type": "stream",
     "text": [
      "スカウト条件ボタンを押しました\n",
      "●●●　2　SB23.3万円を送信します\n",
      "全5件\n"
     ]
    },
    {
     "name": "stderr",
     "output_type": "stream",
     "text": [
      "C:\\Users\\matsuno\\AppData\\Local\\Temp\\ipykernel_3188\\4281066408.py:30: DeprecationWarning: find_element_by_xpath is deprecated. Please use find_element(by=By.XPATH, value=xpath) instead\n",
      "  browser_from = browser.find_element_by_xpath('/html/body/section/div[2]/div/div[2]/ul[1]/li[1]/span[2]')\n",
      "C:\\Users\\matsuno\\AppData\\Local\\Temp\\ipykernel_3188\\4281066408.py:33: DeprecationWarning: find_element_by_xpath is deprecated. Please use find_element(by=By.XPATH, value=xpath) instead\n",
      "  browser_all = browser.find_element_by_xpath('/html/body/section/section/div/div[1]/span/span[1]')\n",
      "C:\\Users\\matsuno\\AppData\\Local\\Temp\\ipykernel_3188\\4281066408.py:44: DeprecationWarning: find_element_by_xpath is deprecated. Please use find_element(by=By.XPATH, value=xpath) instead\n",
      "  browser_from = browser.find_element_by_xpath('/html/body/section/section/div/div[2]/div[' + str(i) + ']/div[1]/div[1]/div[1]/div[3]')\n",
      "C:\\Users\\matsuno\\AppData\\Local\\Temp\\ipykernel_3188\\4281066408.py:54: DeprecationWarning: find_element_by_xpath is deprecated. Please use find_element(by=By.XPATH, value=xpath) instead\n",
      "  hantei_school = browser.find_element_by_xpath('/html/body/section/section/div/div[2]/div[' + str(i) + ']/div[1]/div/div[3]/ul/li[1]')\n"
     ]
    },
    {
     "name": "stdout",
     "output_type": "stream",
     "text": [
      "5件中　1番目\n",
      "高校 / 群馬県立大間々高等学校\n",
      "年齢NG\n",
      "5件中　2番目\n",
      "高校 / 福島県立四倉高等学校\n",
      "年齢NG\n",
      "5件中　3番目\n",
      "高校 / 福島県立大沼高等学校\n",
      "['男性', '21歳 / 福島県']\n",
      "求職者詳細へ移動\n"
     ]
    },
    {
     "name": "stderr",
     "output_type": "stream",
     "text": [
      "C:\\Users\\matsuno\\AppData\\Local\\Temp\\ipykernel_3188\\4281066408.py:75: DeprecationWarning: find_element_by_xpath is deprecated. Please use find_element(by=By.XPATH, value=xpath) instead\n",
      "  browser_from = browser.find_element_by_xpath('/html/body/div[2]/div/div[1]/div/div[4]/div/div/div/div/div[2]/form/div[1]/select/option[' + str(f) + ']')\n"
     ]
    },
    {
     "name": "stdout",
     "output_type": "stream",
     "text": [
      "スカウトを選択　ソフトバンク23.3万円\n",
      "リマインドを選択\n"
     ]
    },
    {
     "name": "stderr",
     "output_type": "stream",
     "text": [
      "C:\\Users\\matsuno\\AppData\\Local\\Temp\\ipykernel_3188\\4281066408.py:82: DeprecationWarning: find_element_by_xpath is deprecated. Please use find_element(by=By.XPATH, value=xpath) instead\n",
      "  element = browser.find_element_by_xpath('/html/body/div[2]/div/div[1]/div/div[4]/div/div/div/div/div[2]/form/div[6]/div[1]/input')\n",
      "C:\\Users\\matsuno\\AppData\\Local\\Temp\\ipykernel_3188\\4281066408.py:84: DeprecationWarning: find_element_by_xpath is deprecated. Please use find_element(by=By.XPATH, value=xpath) instead\n",
      "  element.find_element_by_xpath(\"following-sibling::label\").click()\n",
      "C:\\Users\\matsuno\\AppData\\Local\\Temp\\ipykernel_3188\\4281066408.py:88: DeprecationWarning: find_element_by_xpath is deprecated. Please use find_element(by=By.XPATH, value=xpath) instead\n",
      "  browser_from = browser.find_element_by_xpath('/html/body/div[2]/div/div[1]/div/div[4]/div/div/div/div/div[2]/form/div[6]/div[2]/select/option[' + str(f) + ']')\n"
     ]
    },
    {
     "name": "stdout",
     "output_type": "stream",
     "text": [
      "再送スカウトを選択　ソフトバンク23.3万円\n",
      "再送信を選択　再送信日を選択\n"
     ]
    },
    {
     "name": "stderr",
     "output_type": "stream",
     "text": [
      "C:\\Users\\matsuno\\AppData\\Local\\Temp\\ipykernel_3188\\4281066408.py:95: DeprecationWarning: find_element_by_xpath is deprecated. Please use find_element(by=By.XPATH, value=xpath) instead\n",
      "  browser_from = browser.find_element_by_xpath('/html/body/div[2]/div/div[1]/div/div[4]/div/div/div/div/div[2]/form/div[6]/div[5]/div[1]/label')\n",
      "C:\\Users\\matsuno\\AppData\\Local\\Temp\\ipykernel_3188\\4281066408.py:97: DeprecationWarning: find_element_by_xpath is deprecated. Please use find_element(by=By.XPATH, value=xpath) instead\n",
      "  browser_from = browser.find_element_by_xpath('/html/body/div[2]/div/div[1]/div/div[4]/div/div/div/div/div[2]/form/div[6]/div[5]/div[1]/label/select/option[10]')\n",
      "C:\\Users\\matsuno\\AppData\\Local\\Temp\\ipykernel_3188\\4281066408.py:102: DeprecationWarning: find_element_by_xpath is deprecated. Please use find_element(by=By.XPATH, value=xpath) instead\n",
      "  browser_from = browser.find_element_by_xpath('/html/body/div[2]/div/div[1]/div/div[4]/div/div/div/div/div[2]/form/div[8]/div/a[3]')\n",
      "C:\\Users\\matsuno\\AppData\\Local\\Temp\\ipykernel_3188\\4281066408.py:105: DeprecationWarning: find_element_by_xpath is deprecated. Please use find_element(by=By.XPATH, value=xpath) instead\n",
      "  browser_from = browser.find_element_by_xpath('/html/body/div[2]/div/div[1]/div/div[4]/div/div/div/div/div[2]/form/div[8]/div/div/div[2]/a[1]')\n"
     ]
    },
    {
     "name": "stdout",
     "output_type": "stream",
     "text": [
      "●　1件目のスカウト送信\n"
     ]
    },
    {
     "name": "stderr",
     "output_type": "stream",
     "text": [
      "C:\\Users\\matsuno\\AppData\\Local\\Temp\\ipykernel_3188\\4281066408.py:117: DeprecationWarning: find_element_by_xpath is deprecated. Please use find_element(by=By.XPATH, value=xpath) instead\n",
      "  browser_from = browser.find_element_by_xpath('/html/body/div[2]/div/a')\n"
     ]
    },
    {
     "name": "stdout",
     "output_type": "stream",
     "text": [
      "求職者詳細を閉じる\n",
      "5件中　4番目\n",
      "大学院 / 北海道大学大学院環境科学院 生物圏科学専攻\n",
      "年齢NG\n",
      "5件中　5番目\n",
      "大学 / 拓殖大学外国語学部 中国語学科\n",
      "★★学歴NG 1\n"
     ]
    },
    {
     "name": "stderr",
     "output_type": "stream",
     "text": [
      "C:\\Users\\matsuno\\AppData\\Local\\Temp\\ipykernel_3188\\4281066408.py:47: DeprecationWarning: find_element_by_xpath is deprecated. Please use find_element(by=By.XPATH, value=xpath) instead\n",
      "  browser_from = browser.find_element_by_xpath('/html/body/section/section/div/div[2]/div[' + str(i) + ']/div[1]/div/div[1]/div[3]')\n"
     ]
    },
    {
     "name": "stdout",
     "output_type": "stream",
     "text": [
      "求職者でない箇所\n",
      "●　次のスカウト条件へ\n",
      "エンDBに移動\n",
      "スカウト条件ボタンを押しました\n",
      "●●●　3　SB23.3万円2を送信します\n",
      "全3件\n",
      "3件中　1番目\n",
      "大学 / 九州保健福祉大学臨床福祉学科　通信教育部\n",
      "年齢NG\n",
      "3件中　2番目\n",
      "専門各種学校 / 福岡市医師会看護専門学校(高等過程准看護師科)\n",
      "年齢NG\n",
      "3件中　3番目\n",
      "大学 / 福岡大学人文学部 東アジア地域言語学科\n",
      "['女性', '25歳 / 福岡県']\n",
      "求職者詳細へ移動\n",
      "スカウトを選択　ソフトバンク23.3万円\n",
      "リマインドを選択\n",
      "再送スカウトを選択　ソフトバンク23.3万円\n",
      "再送信を選択　再送信日を選択\n",
      "●　2件目のスカウト送信\n",
      "求職者詳細を閉じる\n",
      "求職者でない箇所\n",
      "●　次のスカウト条件へ\n",
      "エンDBに移動\n",
      "スカウト条件ボタンを押しました\n",
      "●●●　4　SB25,26万円を送信します\n",
      "全84件\n",
      "84件中　1番目\n",
      "高校 / NHK学園高等学校\n",
      "年齢NG\n",
      "84件中　2番目\n",
      "高校 / 石川県立鶴来高等学校\n",
      "['女性', '28歳 / 石川県']\n",
      "求職者詳細へ移動\n",
      "スカウトを選択　ソフトバンク25万円\n",
      "リマインドを選択\n",
      "再送スカウトを選択　ソフトバンク25万円\n",
      "再送信を選択　再送信日を選択\n",
      "●　3件目のスカウト送信\n",
      "求職者詳細を閉じる\n",
      "84件中　3番目\n",
      "高校 / 科学技術学園高等学校\n",
      "['男性', '22歳 / 愛知県']\n",
      "求職者詳細へ移動\n",
      "スカウトを選択　ソフトバンク25万円\n",
      "リマインドを選択\n",
      "再送スカウトを選択　ソフトバンク25万円\n",
      "再送信を選択　再送信日を選択\n",
      "●　4件目のスカウト送信\n",
      "求職者詳細を閉じる\n",
      "84件中　4番目\n",
      "高校 / 中村高校\n",
      "['女性', '23歳 / 兵庫県']\n",
      "求職者詳細へ移動\n",
      "スカウトを選択　ソフトバンク25万円\n",
      "リマインドを選択\n",
      "再送スカウトを選択　ソフトバンク25万円\n",
      "再送信を選択　再送信日を選択\n",
      "●　5件目のスカウト送信\n",
      "求職者詳細を閉じる\n",
      "84件中　5番目\n",
      "高校 / 大阪府立桜塚高等学校\n",
      "['男性', '24歳 / 大阪府']\n",
      "求職者詳細へ移動\n",
      "スカウトを選択　ソフトバンク25万円\n",
      "リマインドを選択\n",
      "再送スカウトを選択　ソフトバンク25万円\n",
      "再送信を選択　再送信日を選択\n",
      "●　6件目のスカウト送信\n",
      "求職者詳細を閉じる\n",
      "84件中　6番目\n",
      "高校 / 大阪学院大学高等学校\n",
      "['女性', '24歳 / 大阪府']\n",
      "求職者詳細へ移動\n",
      "スカウトを選択　ソフトバンク25万円\n",
      "リマインドを選択\n",
      "再送スカウトを選択　ソフトバンク25万円\n",
      "再送信を選択　再送信日を選択\n",
      "●　7件目のスカウト送信\n",
      "求職者詳細を閉じる\n",
      "84件中　7番目\n",
      "高校 / 大阪府立福泉高等学校\n",
      "['男性', '26歳 / 大阪府']\n",
      "求職者詳細へ移動\n",
      "スカウトを選択　ソフトバンク25万円\n",
      "リマインドを選択\n",
      "再送スカウトを選択　ソフトバンク25万円\n",
      "再送信を選択　再送信日を選択\n",
      "●　8件目のスカウト送信\n",
      "求職者詳細を閉じる\n",
      "84件中　8番目\n",
      "高校 / 東海商業高校\n",
      "['女性', '23歳 / 愛知県']\n",
      "求職者詳細へ移動\n",
      "スカウトを選択　ソフトバンク25万円\n",
      "リマインドを選択\n",
      "再送スカウトを選択　ソフトバンク25万円\n",
      "再送信を選択　再送信日を選択\n",
      "●　9件目のスカウト送信\n",
      "求職者詳細を閉じる\n",
      "84件中　9番目\n",
      "大学 / 関西外国語大学外国語学部 英米語学科\n",
      "年齢NG\n",
      "84件中　10番目\n",
      "大学 / 関西外国語大学英語国際学部 英語国際学科\n",
      "['男性', '25歳 / 兵庫県']\n",
      "求職者詳細へ移動\n",
      "スカウトを選択　ソフトバンク25万円\n",
      "リマインドを選択\n",
      "再送スカウトを選択　ソフトバンク25万円\n",
      "再送信を選択　再送信日を選択\n",
      "●　10件目のスカウト送信\n",
      "求職者詳細を閉じる\n",
      "84件中　11番目\n",
      "高校 / 愛知県立安城南高等学校\n",
      "['男性', '28歳 / 愛知県']\n",
      "求職者詳細へ移動\n",
      "スカウトを選択　ソフトバンク25万円\n",
      "リマインドを選択\n",
      "再送スカウトを選択　ソフトバンク25万円\n",
      "再送信を選択　再送信日を選択\n"
     ]
    },
    {
     "ename": "KeyboardInterrupt",
     "evalue": "",
     "output_type": "error",
     "traceback": [
      "\u001b[1;31m---------------------------------------------------------------------------\u001b[0m",
      "\u001b[1;31mKeyboardInterrupt\u001b[0m                         Traceback (most recent call last)",
      "Input \u001b[1;32mIn [16]\u001b[0m, in \u001b[0;36m<cell line: 5>\u001b[1;34m()\u001b[0m\n\u001b[0;32m    105\u001b[0m browser_from \u001b[38;5;241m=\u001b[39m browser\u001b[38;5;241m.\u001b[39mfind_element_by_xpath(\u001b[38;5;124m'\u001b[39m\u001b[38;5;124m/html/body/div[2]/div/div[1]/div/div[4]/div/div/div/div/div[2]/form/div[8]/div/div/div[2]/a[1]\u001b[39m\u001b[38;5;124m'\u001b[39m)\n\u001b[0;32m    106\u001b[0m browser_from\u001b[38;5;241m.\u001b[39mclick()\n\u001b[1;32m--> 107\u001b[0m \u001b[43mtime\u001b[49m\u001b[38;5;241;43m.\u001b[39;49m\u001b[43msleep\u001b[49m\u001b[43m(\u001b[49m\u001b[38;5;241;43m1\u001b[39;49m\u001b[43m)\u001b[49m\n\u001b[0;32m    109\u001b[0m j \u001b[38;5;241m+\u001b[39m\u001b[38;5;241m=\u001b[39m \u001b[38;5;241m1\u001b[39m\n\u001b[0;32m    110\u001b[0m \u001b[38;5;28mprint\u001b[39m(\u001b[38;5;124m\"\u001b[39m\u001b[38;5;124m●　\u001b[39m\u001b[38;5;124m\"\u001b[39m \u001b[38;5;241m+\u001b[39m \u001b[38;5;28mstr\u001b[39m(j) \u001b[38;5;241m+\u001b[39m \u001b[38;5;124m\"\u001b[39m\u001b[38;5;124m件目のスカウト送信\u001b[39m\u001b[38;5;124m\"\u001b[39m)\n",
      "\u001b[1;31mKeyboardInterrupt\u001b[0m: "
     ]
    }
   ],
   "source": [
    "j = 0\n",
    "jj = 100\n",
    "gg = 0\n",
    "\n",
    "for e in range(2,8):\n",
    "    #2～7\n",
    "    \n",
    "    if j > jj:\n",
    "        print(str(j) + \"件の送信終了しました\")\n",
    "        break\n",
    "    \n",
    "    if e == 2 or e == 3 or e == 6:\n",
    "        f = 6  \n",
    "    elif e == 4:\n",
    "        f = 7\n",
    "    elif e == 5:\n",
    "        f = 9\n",
    "    elif e == 7:\n",
    "        f = 8\n",
    "    \n",
    "    browser.get('https://mid-tenshoku.com/company/scout_emp/?PK=DB1298')\n",
    "    time.sleep(1)\n",
    "    print(\"エンDBに移動\")\n",
    "    \n",
    "    browser_from = browser.find_element_by_xpath('/html/body/section/div[3]/section[1]/form/div[1]/div[1]/div[2]/select/option[' + str(e) + ']')\n",
    "    browser_from.click()\n",
    "    time.sleep(5)\n",
    "    print(\"スカウト条件ボタンを押しました\")\n",
    "\n",
    "    browser_from = browser.find_element_by_xpath('/html/body/section/div[2]/div/div[2]/ul[1]/li[1]/span[2]')\n",
    "    print(\"●●●　\" + str(e) + \"　\" + browser_from.text + \"を送信します\")\n",
    "\n",
    "    browser_all = browser.find_element_by_xpath('/html/body/section/section/div/div[1]/span/span[1]')\n",
    "    print(\"全\" + browser_all.text + \"件\")\n",
    "\n",
    "    kensuu = int(browser_all.text)\n",
    "    if kensuu > 200:\n",
    "        kensuu = 200\n",
    "\n",
    "    for i in range(1,kensuu + 2):\n",
    "        gakurekiNG = 0\n",
    "\n",
    "        try:\n",
    "            browser_from = browser.find_element_by_xpath('/html/body/section/section/div/div[2]/div[' + str(i) + ']/div[1]/div[1]/div[1]/div[3]')\n",
    "        except NoSuchElementException:\n",
    "            try:\n",
    "                browser_from = browser.find_element_by_xpath('/html/body/section/section/div/div[2]/div[' + str(i) + ']/div[1]/div/div[1]/div[3]')\n",
    "            except NoSuchElementException:\n",
    "                print(\"求職者でない箇所\")\n",
    "                continue\n",
    "\n",
    "        hantei = browser_from.text.splitlines()\n",
    "        \n",
    "        hantei_school = browser.find_element_by_xpath('/html/body/section/section/div/div[2]/div[' + str(i) + ']/div[1]/div/div[3]/ul/li[1]')\n",
    "        \n",
    "        print(browser_all.text + \"件中　\" + str(i) + \"番目\")\n",
    "        print(hantei_school.text)    \n",
    "\n",
    "        if 20 <= int(re.sub(r\"\\D\", \"\", hantei[1].split('歳')[0])) <= 35:\n",
    "            for s in range(0,10):\n",
    "                if sc[s] in hantei_school.text:\n",
    "                    gg += 1\n",
    "                    print(\"★★学歴NG \" + str(gg))\n",
    "                    gakurekiNG = 1\n",
    "                    break\n",
    "            if gakurekiNG == 1:\n",
    "                gakurekiNG = 0\n",
    "                continue\n",
    "            \n",
    "            print(hantei)\n",
    "\n",
    "            browser_from.click()\n",
    "            print(\"求職者詳細へ移動\")\n",
    "\n",
    "            browser_from = browser.find_element_by_xpath('/html/body/div[2]/div/div[1]/div/div[4]/div/div/div/div/div[2]/form/div[1]/select/option[' + str(f) + ']')\n",
    "            browser_from.click()\n",
    "            print(\"スカウトを選択　\" + browser_from.text)\n",
    "\n",
    "            if not \"ソフトバンク\" in browser_from.text:\n",
    "                break\n",
    "\n",
    "            element = browser.find_element_by_xpath('/html/body/div[2]/div/div[1]/div/div[4]/div/div/div/div/div[2]/form/div[6]/div[1]/input')\n",
    "            if not element.is_selected():\n",
    "                element.find_element_by_xpath(\"following-sibling::label\").click()\n",
    "            #time.sleep(1)\n",
    "            print(\"リマインドを選択\")\n",
    "\n",
    "            browser_from = browser.find_element_by_xpath('/html/body/div[2]/div/div[1]/div/div[4]/div/div/div/div/div[2]/form/div[6]/div[2]/select/option[' + str(f) + ']')\n",
    "            browser_from.click()\n",
    "            print(\"再送スカウトを選択　\" + browser_from.text)\n",
    "\n",
    "            if not \"ソフトバンク\" in browser_from.text:\n",
    "                break\n",
    "\n",
    "            browser_from = browser.find_element_by_xpath('/html/body/div[2]/div/div[1]/div/div[4]/div/div/div/div/div[2]/form/div[6]/div[5]/div[1]/label')\n",
    "            browser_from.click()\n",
    "            browser_from = browser.find_element_by_xpath('/html/body/div[2]/div/div[1]/div/div[4]/div/div/div/div/div[2]/form/div[6]/div[5]/div[1]/label/select/option[10]')\n",
    "            browser_from.click()\n",
    "            print(\"再送信を選択　再送信日を選択\")\n",
    "\n",
    "            time.sleep(1)\n",
    "            browser_from = browser.find_element_by_xpath('/html/body/div[2]/div/div[1]/div/div[4]/div/div/div/div/div[2]/form/div[8]/div/a[3]')\n",
    "            browser_from.click()\n",
    "            \n",
    "            browser_from = browser.find_element_by_xpath('/html/body/div[2]/div/div[1]/div/div[4]/div/div/div/div/div[2]/form/div[8]/div/div/div[2]/a[1]')\n",
    "            browser_from.click()\n",
    "            time.sleep(1)\n",
    "\n",
    "            j += 1\n",
    "            print(\"●　\" + str(j) + \"件目のスカウト送信\")\n",
    "            \n",
    "            if j > jj:\n",
    "                print(str(j) + \"件の送信終了しました\")\n",
    "                break\n",
    "\n",
    "            time.sleep(1)\n",
    "            browser_from = browser.find_element_by_xpath('/html/body/div[2]/div/a')\n",
    "            browser_from.click()\n",
    "            print(\"求職者詳細を閉じる\")\n",
    "            time.sleep(1)\n",
    "\n",
    "        else:\n",
    "            print(\"年齢NG\")\n",
    "    else:\n",
    "        print(\"●　次のスカウト条件へ\")\n"
   ]
  },
  {
   "cell_type": "code",
   "execution_count": null,
   "id": "2376f20b-7a8c-4995-bdb2-a7b9fc583412",
   "metadata": {},
   "outputs": [],
   "source": []
  },
  {
   "cell_type": "code",
   "execution_count": null,
   "id": "718966f9-121e-489c-a30b-4312036cc663",
   "metadata": {},
   "outputs": [],
   "source": []
  }
 ],
 "metadata": {
  "kernelspec": {
   "display_name": "Python 3 (ipykernel)",
   "language": "python",
   "name": "python3"
  },
  "language_info": {
   "codemirror_mode": {
    "name": "ipython",
    "version": 3
   },
   "file_extension": ".py",
   "mimetype": "text/x-python",
   "name": "python",
   "nbconvert_exporter": "python",
   "pygments_lexer": "ipython3",
   "version": "3.9.12"
  }
 },
 "nbformat": 4,
 "nbformat_minor": 5
}
