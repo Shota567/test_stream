{
 "cells": [
  {
   "cell_type": "code",
   "execution_count": 1,
   "id": "26c893a4-7048-4936-88b5-664f3ca9da6b",
   "metadata": {},
   "outputs": [
    {
     "name": "stdout",
     "output_type": "stream",
     "text": [
      "Requirement already satisfied: selenium in c:\\programdata\\anaconda3\\lib\\site-packages (4.8.2)\n",
      "Requirement already satisfied: urllib3[socks]~=1.26 in c:\\programdata\\anaconda3\\lib\\site-packages (from selenium) (1.26.11)\n",
      "Requirement already satisfied: trio-websocket~=0.9 in c:\\programdata\\anaconda3\\lib\\site-packages (from selenium) (0.9.2)\n",
      "Requirement already satisfied: certifi>=2021.10.8 in c:\\programdata\\anaconda3\\lib\\site-packages (from selenium) (2022.9.14)\n",
      "Requirement already satisfied: trio~=0.17 in c:\\programdata\\anaconda3\\lib\\site-packages (from selenium) (0.22.0)\n",
      "Requirement already satisfied: async-generator>=1.9 in c:\\programdata\\anaconda3\\lib\\site-packages (from trio~=0.17->selenium) (1.10)\n",
      "Requirement already satisfied: cffi>=1.14 in c:\\programdata\\anaconda3\\lib\\site-packages (from trio~=0.17->selenium) (1.15.1)\n",
      "Requirement already satisfied: sortedcontainers in c:\\programdata\\anaconda3\\lib\\site-packages (from trio~=0.17->selenium) (2.4.0)\n",
      "Requirement already satisfied: attrs>=19.2.0 in c:\\programdata\\anaconda3\\lib\\site-packages (from trio~=0.17->selenium) (21.4.0)\n",
      "Requirement already satisfied: idna in c:\\programdata\\anaconda3\\lib\\site-packages (from trio~=0.17->selenium) (3.3)\n",
      "Requirement already satisfied: exceptiongroup>=1.0.0rc9 in c:\\programdata\\anaconda3\\lib\\site-packages (from trio~=0.17->selenium) (1.1.0)\n",
      "Requirement already satisfied: outcome in c:\\programdata\\anaconda3\\lib\\site-packages (from trio~=0.17->selenium) (1.2.0)\n",
      "Requirement already satisfied: sniffio in c:\\programdata\\anaconda3\\lib\\site-packages (from trio~=0.17->selenium) (1.2.0)\n",
      "Requirement already satisfied: wsproto>=0.14 in c:\\programdata\\anaconda3\\lib\\site-packages (from trio-websocket~=0.9->selenium) (1.2.0)\n",
      "Requirement already satisfied: PySocks!=1.5.7,<2.0,>=1.5.6 in c:\\programdata\\anaconda3\\lib\\site-packages (from urllib3[socks]~=1.26->selenium) (1.7.1)\n",
      "Requirement already satisfied: pycparser in c:\\programdata\\anaconda3\\lib\\site-packages (from cffi>=1.14->trio~=0.17->selenium) (2.21)\n",
      "Requirement already satisfied: h11<1,>=0.9.0 in c:\\programdata\\anaconda3\\lib\\site-packages (from wsproto>=0.14->trio-websocket~=0.9->selenium) (0.14.0)\n"
     ]
    }
   ],
   "source": [
    "!pip install selenium"
   ]
  },
  {
   "cell_type": "code",
   "execution_count": 2,
   "id": "534d46fc-066e-481a-99e3-30a1c78e6247",
   "metadata": {},
   "outputs": [],
   "source": [
    "from selenium import webdriver\n",
    "\n",
    "import time\n",
    "\n",
    "import pandas as pd\n",
    "\n",
    "from selenium.webdriver.common.action_chains import ActionChains\n",
    "from selenium.webdriver.common.keys import Keys\n",
    "\n",
    "from selenium.common.exceptions import NoSuchElementException\n",
    "\n",
    "from bs4 import BeautifulSoup\n",
    "import requests\n",
    "\n",
    "import re\n",
    "\n",
    "import numpy as np"
   ]
  },
  {
   "cell_type": "code",
   "execution_count": 3,
   "id": "8fb1b07f-0368-4ca0-a9d7-b56a0c9f71c7",
   "metadata": {},
   "outputs": [],
   "source": [
    "GOTO = ['goto@assemblage.asia' , 'Goto10231023']\n",
    "OKAMOTO = ['y-okamoto@pmc-g.jp' , 'yutaka-Okamoto581214']\n",
    "IIDA = ['iida@pmc-g.jp' , 'pmcpmcpmc1207']\n",
    "TAMURA = ['tamura@assemblage.asia' , 'tamura20220301']\n",
    "\n",
    "HEAD_HUNTER_all = [GOTO , OKAMOTO , IIDA , TAMURA]\n",
    "\n",
    "url_login = 'https://agt.directscout.recruit.co.jp/agent/login'"
   ]
  },
  {
   "cell_type": "code",
   "execution_count": 4,
   "id": "0aa6f2e4-4eda-4474-90a0-a95d31dd30fe",
   "metadata": {},
   "outputs": [],
   "source": [
    "DAY = '2022/05/30'\n",
    "\n",
    "i = 1\n",
    "HEAD_HUNTER = HEAD_HUNTER_all[i]"
   ]
  },
  {
   "cell_type": "code",
   "execution_count": 5,
   "id": "f8c859b7-c5b2-4fb3-81dd-afe7e18fec51",
   "metadata": {},
   "outputs": [
    {
     "name": "stderr",
     "output_type": "stream",
     "text": [
      "C:\\Users\\s-mat\\AppData\\Local\\Temp\\ipykernel_16392\\2310720611.py:1: DeprecationWarning: executable_path has been deprecated, please pass in a Service object\n",
      "  browser = webdriver.Chrome(executable_path = 'C:/Users/rukur/Downloads/MyPandas/chromedriver.exe')\n"
     ]
    },
    {
     "name": "stdout",
     "output_type": "stream",
     "text": [
      "ログインページに開きました\n"
     ]
    }
   ],
   "source": [
    "browser = webdriver.Chrome(executable_path = 'C:/Users/rukur/Downloads/MyPandas/chromedriver.exe')\n",
    "browser.implicitly_wait(1)\n",
    "browser.get(url_login)\n",
    "time.sleep(1)\n",
    "print(\"ログインページに開きました\")"
   ]
  },
  {
   "cell_type": "code",
   "execution_count": 6,
   "id": "223b55ea-1c6b-4eb5-b326-8df909b1fe43",
   "metadata": {},
   "outputs": [
    {
     "ename": "AttributeError",
     "evalue": "'WebDriver' object has no attribute 'find_element_by_id'",
     "output_type": "error",
     "traceback": [
      "\u001b[1;31m---------------------------------------------------------------------------\u001b[0m",
      "\u001b[1;31mAttributeError\u001b[0m                            Traceback (most recent call last)",
      "\u001b[1;32m~\\AppData\\Local\\Temp\\ipykernel_16392\\2421731075.py\u001b[0m in \u001b[0;36m<module>\u001b[1;34m\u001b[0m\n\u001b[1;32m----> 1\u001b[1;33m \u001b[0melement\u001b[0m \u001b[1;33m=\u001b[0m \u001b[0mbrowser\u001b[0m\u001b[1;33m.\u001b[0m\u001b[0mfind_element_by_id\u001b[0m\u001b[1;33m(\u001b[0m\u001b[1;34m'head_hunter_email'\u001b[0m\u001b[1;33m)\u001b[0m\u001b[1;33m\u001b[0m\u001b[1;33m\u001b[0m\u001b[0m\n\u001b[0m\u001b[0;32m      2\u001b[0m \u001b[0melement\u001b[0m\u001b[1;33m.\u001b[0m\u001b[0mclear\u001b[0m\u001b[1;33m(\u001b[0m\u001b[1;33m)\u001b[0m\u001b[1;33m\u001b[0m\u001b[1;33m\u001b[0m\u001b[0m\n\u001b[0;32m      3\u001b[0m \u001b[0melement\u001b[0m\u001b[1;33m.\u001b[0m\u001b[0msend_keys\u001b[0m\u001b[1;33m(\u001b[0m\u001b[0mHEAD_HUNTER\u001b[0m\u001b[1;33m[\u001b[0m\u001b[1;36m0\u001b[0m\u001b[1;33m]\u001b[0m\u001b[1;33m)\u001b[0m\u001b[1;33m\u001b[0m\u001b[1;33m\u001b[0m\u001b[0m\n\u001b[0;32m      4\u001b[0m \u001b[1;33m\u001b[0m\u001b[0m\n\u001b[0;32m      5\u001b[0m \u001b[0melement\u001b[0m \u001b[1;33m=\u001b[0m \u001b[0mbrowser\u001b[0m\u001b[1;33m.\u001b[0m\u001b[0mfind_element_by_id\u001b[0m\u001b[1;33m(\u001b[0m\u001b[1;34m'head_hunter_password'\u001b[0m\u001b[1;33m)\u001b[0m\u001b[1;33m\u001b[0m\u001b[1;33m\u001b[0m\u001b[0m\n",
      "\u001b[1;31mAttributeError\u001b[0m: 'WebDriver' object has no attribute 'find_element_by_id'"
     ]
    }
   ],
   "source": [
    "element = browser.find_element_by_id('head_hunter_email')\n",
    "element.clear()\n",
    "element.send_keys(HEAD_HUNTER[0])\n",
    "\n",
    "element = browser.find_element_by_id('head_hunter_password')\n",
    "element.clear()\n",
    "element.send_keys(HEAD_HUNTER[1])\n",
    "print(\"情報を入力しました\")\n",
    "\n",
    "browser_from = browser.find_element_by_name('commit')\n",
    "time.sleep(1)\n",
    "browser_from.click()\n",
    "print(\"情報を入力してログインボタンを押しました\")"
   ]
  },
  {
   "cell_type": "code",
   "execution_count": null,
   "id": "981c3b36-b789-42a9-9edf-9d3f7c328ead",
   "metadata": {},
   "outputs": [],
   "source": [
    "browser_from = browser.find_element_by_xpath('/html/body/header/nav/ul/li[6]/a')\n",
    "time.sleep(1)\n",
    "browser_from.click()\n",
    "print(\"求職者一覧ページへ移動しました\")"
   ]
  },
  {
   "cell_type": "code",
   "execution_count": null,
   "id": "1fa31df2-3b89-4ca9-b966-b69f2df37cfb",
   "metadata": {},
   "outputs": [],
   "source": [
    "element = browser.find_element_by_name('message_search_form[date_from]')\n",
    "element.clear()\n",
    "element.send_keys(DAY)\n",
    "\n",
    "element = browser.find_element_by_name('message_search_form[date_to]')\n",
    "element.clear()\n",
    "element.send_keys(DAY)\n",
    "print(\"フォームを送信\")\n",
    "time.sleep(1)"
   ]
  },
  {
   "cell_type": "code",
   "execution_count": null,
   "id": "081a4297-1f2c-4882-b9e2-ce3a9fc84fc0",
   "metadata": {},
   "outputs": [],
   "source": [
    "browser_from = browser.find_element_by_xpath('/html/body/div[2]/div/div[1]/div[1]/div[2]/form/dl[3]/dd/div[1]/div[5]/ins')\n",
    "browser_from.click()\n",
    "print(\"その他返信をクリア\")\n",
    "\n",
    "browser_from = browser.find_element_by_xpath('/html/body/div[2]/div/div[1]/div[1]/div[2]/form/dl[3]/dd/div[1]/div[7]/ins')\n",
    "browser_from.click()\n",
    "print(\"相談をクリア\")\n",
    "\n",
    "browser_from = browser.find_element_by_xpath('/html/body/div[2]/div/div[1]/div[1]/div[2]/form/dl[4]/dd/input[1]')\n",
    "browser_from.clear()\n",
    "\n",
    "browser_from = browser.find_element_by_name('commit')\n",
    "time.sleep(1)\n",
    "browser_from.click()\n",
    "time.sleep(1)\n",
    "\n",
    "re_all = browser.find_element_by_xpath('/html/body/div[2]/div/div[1]/div[2]/p')\n",
    "re_all_count = re.sub(r\"\\D\", \"\", re_all.text.split('全')[1])\n",
    "print(HEAD_HUNTER[0] + \"は、返信 \" + re_all_count + \"件\")"
   ]
  },
  {
   "cell_type": "code",
   "execution_count": null,
   "id": "87cfe320-ccaa-4d71-adb9-941fcd9feb15",
   "metadata": {},
   "outputs": [],
   "source": []
  },
  {
   "cell_type": "code",
   "execution_count": null,
   "id": "41168642-0ec6-4630-bad3-a6eafe21f648",
   "metadata": {},
   "outputs": [],
   "source": []
  },
  {
   "cell_type": "code",
   "execution_count": null,
   "id": "cc112f32-87a0-4458-88dd-cc84f0d2a34f",
   "metadata": {},
   "outputs": [],
   "source": []
  }
 ],
 "metadata": {
  "kernelspec": {
   "display_name": "Python 3 (ipykernel)",
   "language": "python",
   "name": "python3"
  },
  "language_info": {
   "codemirror_mode": {
    "name": "ipython",
    "version": 3
   },
   "file_extension": ".py",
   "mimetype": "text/x-python",
   "name": "python",
   "nbconvert_exporter": "python",
   "pygments_lexer": "ipython3",
   "version": "3.9.13"
  }
 },
 "nbformat": 4,
 "nbformat_minor": 5
}
