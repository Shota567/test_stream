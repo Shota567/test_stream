{
 "cells": [
  {
   "cell_type": "code",
   "execution_count": 70,
   "id": "2611102c-d7d9-4037-8a78-25c3f37166ff",
   "metadata": {},
   "outputs": [
    {
     "name": "stdout",
     "output_type": "stream",
     "text": [
      "Requirement already satisfied: selenium in c:\\users\\rukur\\anaconda3\\lib\\site-packages (4.1.3)\n",
      "Requirement already satisfied: trio-websocket~=0.9 in c:\\users\\rukur\\anaconda3\\lib\\site-packages (from selenium) (0.9.2)\n",
      "Requirement already satisfied: trio~=0.17 in c:\\users\\rukur\\anaconda3\\lib\\site-packages (from selenium) (0.20.0)\n",
      "Requirement already satisfied: urllib3[secure,socks]~=1.26 in c:\\users\\rukur\\anaconda3\\lib\\site-packages (from selenium) (1.26.7)\n",
      "Requirement already satisfied: cffi>=1.14 in c:\\users\\rukur\\anaconda3\\lib\\site-packages (from trio~=0.17->selenium) (1.14.6)\n",
      "Requirement already satisfied: idna in c:\\users\\rukur\\anaconda3\\lib\\site-packages (from trio~=0.17->selenium) (3.2)\n",
      "Requirement already satisfied: sortedcontainers in c:\\users\\rukur\\anaconda3\\lib\\site-packages (from trio~=0.17->selenium) (2.4.0)\n",
      "Requirement already satisfied: sniffio in c:\\users\\rukur\\anaconda3\\lib\\site-packages (from trio~=0.17->selenium) (1.2.0)\n",
      "Requirement already satisfied: outcome in c:\\users\\rukur\\anaconda3\\lib\\site-packages (from trio~=0.17->selenium) (1.1.0)\n",
      "Requirement already satisfied: attrs>=19.2.0 in c:\\users\\rukur\\anaconda3\\lib\\site-packages (from trio~=0.17->selenium) (21.2.0)\n",
      "Requirement already satisfied: async-generator>=1.9 in c:\\users\\rukur\\anaconda3\\lib\\site-packages (from trio~=0.17->selenium) (1.10)\n",
      "Requirement already satisfied: pycparser in c:\\users\\rukur\\anaconda3\\lib\\site-packages (from cffi>=1.14->trio~=0.17->selenium) (2.20)\n",
      "Requirement already satisfied: wsproto>=0.14 in c:\\users\\rukur\\anaconda3\\lib\\site-packages (from trio-websocket~=0.9->selenium) (1.1.0)\n",
      "Requirement already satisfied: pyOpenSSL>=0.14 in c:\\users\\rukur\\anaconda3\\lib\\site-packages (from urllib3[secure,socks]~=1.26->selenium) (21.0.0)\n",
      "Requirement already satisfied: cryptography>=1.3.4 in c:\\users\\rukur\\anaconda3\\lib\\site-packages (from urllib3[secure,socks]~=1.26->selenium) (3.4.7)\n",
      "Requirement already satisfied: certifi in c:\\users\\rukur\\anaconda3\\lib\\site-packages (from urllib3[secure,socks]~=1.26->selenium) (2021.10.8)\n",
      "Requirement already satisfied: PySocks!=1.5.7,<2.0,>=1.5.6 in c:\\users\\rukur\\anaconda3\\lib\\site-packages (from urllib3[secure,socks]~=1.26->selenium) (1.7.1)\n",
      "Requirement already satisfied: six>=1.5.2 in c:\\users\\rukur\\anaconda3\\lib\\site-packages (from pyOpenSSL>=0.14->urllib3[secure,socks]~=1.26->selenium) (1.16.0)\n",
      "Requirement already satisfied: h11<1,>=0.9.0 in c:\\users\\rukur\\anaconda3\\lib\\site-packages (from wsproto>=0.14->trio-websocket~=0.9->selenium) (0.13.0)\n"
     ]
    }
   ],
   "source": [
    "!pip install selenium"
   ]
  },
  {
   "cell_type": "code",
   "execution_count": 71,
   "id": "30fbb2a5-3a64-41e0-bf63-023d0f30483f",
   "metadata": {},
   "outputs": [
    {
     "name": "stdout",
     "output_type": "stream",
     "text": [
      "Requirement already satisfied: beautifulsoup4 in c:\\users\\rukur\\anaconda3\\lib\\site-packages (4.10.0)\n",
      "Requirement already satisfied: soupsieve>1.2 in c:\\users\\rukur\\anaconda3\\lib\\site-packages (from beautifulsoup4) (2.2.1)\n"
     ]
    }
   ],
   "source": [
    "!pip install beautifulsoup4"
   ]
  },
  {
   "cell_type": "code",
   "execution_count": 72,
   "id": "6153a516-c4fc-4729-9e9a-58f9c58fa334",
   "metadata": {},
   "outputs": [],
   "source": [
    "from selenium import webdriver\n",
    "\n",
    "import time\n",
    "\n",
    "import pandas as pd\n",
    "\n",
    "from selenium.webdriver.common.action_chains import ActionChains\n",
    "from selenium.webdriver.common.keys import Keys\n",
    "\n",
    "from selenium.common.exceptions import NoSuchElementException\n",
    "\n",
    "from bs4 import BeautifulSoup\n",
    "import requests\n",
    "\n",
    "import re\n",
    "\n",
    "import numpy as np"
   ]
  },
  {
   "cell_type": "code",
   "execution_count": 94,
   "id": "8c11abb8-da43-4159-8095-d894aa026945",
   "metadata": {},
   "outputs": [],
   "source": [
    "DAY = '2022/05/18'\n",
    "\n",
    "GOTO = ['goto@assemblage.asia' , 'Goto10231023']\n",
    "OKAMOTO = ['y-okamoto@pmc-g.jp' , 'yutaka-Okamoto581214']\n",
    "IIDA = ['iida@pmc-g.jp' , 'pmcpmcpmc1207']\n",
    "TAMURA = ['tamura@assemblage.asia' , 'tamura20220301']\n",
    "\n",
    "url_login = 'https://agt.directscout.recruit.co.jp/agent/login'"
   ]
  },
  {
   "cell_type": "code",
   "execution_count": 115,
   "id": "9ff6fdd0-7c64-49bc-bddb-c54ec30a65f8",
   "metadata": {},
   "outputs": [],
   "source": [
    "HEAD_HUNTER_all = [GOTO , OKAMOTO , IIDA , TAMURA]\n",
    "HEAD_HUNTER = HEAD_HUNTER_all[3]"
   ]
  },
  {
   "cell_type": "code",
   "execution_count": 116,
   "id": "49c0943e-73ac-4f17-a32e-f89428a7c66a",
   "metadata": {},
   "outputs": [],
   "source": [
    "scout_title = [\"\",\"組織コンサル\",\"脱M&A仲介\",\"医療法人の\",\"マネージャー候補\",\"既存事業、新規事業共に加速できる\",\"不動産売買事業を展開する\",\"×ICT\",\"100年企業を\",\"人事担当募集\",\"ご面談の\",\"転職活動の\",\"その後の\"]"
   ]
  },
  {
   "cell_type": "code",
   "execution_count": 117,
   "id": "8560f4ec-7120-41fc-b237-83bbb89ee733",
   "metadata": {},
   "outputs": [
    {
     "name": "stderr",
     "output_type": "stream",
     "text": [
      "C:\\Users\\rukur\\AppData\\Local\\Temp/ipykernel_5436/37351864.py:1: DeprecationWarning: executable_path has been deprecated, please pass in a Service object\n",
      "  browser = webdriver.Chrome(executable_path = 'C:/Users/rukur/Downloads/MyPandas/chromedriver.exe')\n"
     ]
    }
   ],
   "source": [
    "browser = webdriver.Chrome(executable_path = 'C:/Users/rukur/Downloads/MyPandas/chromedriver.exe')\n",
    "browser.implicitly_wait(1)"
   ]
  },
  {
   "cell_type": "code",
   "execution_count": 118,
   "id": "b30a18a7-080f-4f77-8a1a-4cb7f22054eb",
   "metadata": {},
   "outputs": [
    {
     "name": "stdout",
     "output_type": "stream",
     "text": [
      "ログインページにアクセスしました\n"
     ]
    }
   ],
   "source": [
    "browser.get(url_login)\n",
    "time.sleep(1)\n",
    "print(\"ログインページにアクセスしました\")"
   ]
  },
  {
   "cell_type": "code",
   "execution_count": 119,
   "id": "2b815709-f442-40c2-9e3b-bc33fac7f8e2",
   "metadata": {},
   "outputs": [
    {
     "name": "stdout",
     "output_type": "stream",
     "text": [
      "フォームを送信\n"
     ]
    },
    {
     "name": "stderr",
     "output_type": "stream",
     "text": [
      "C:\\Users\\rukur\\AppData\\Local\\Temp/ipykernel_5436/2302894290.py:1: DeprecationWarning: find_element_by_* commands are deprecated. Please use find_element() instead\n",
      "  element = browser.find_element_by_id('head_hunter_email')\n",
      "C:\\Users\\rukur\\AppData\\Local\\Temp/ipykernel_5436/2302894290.py:5: DeprecationWarning: find_element_by_* commands are deprecated. Please use find_element() instead\n",
      "  element = browser.find_element_by_id('head_hunter_password')\n"
     ]
    }
   ],
   "source": [
    "element = browser.find_element_by_id('head_hunter_email')\n",
    "element.clear()\n",
    "element.send_keys(HEAD_HUNTER[0])\n",
    "\n",
    "element = browser.find_element_by_id('head_hunter_password')\n",
    "element.clear()\n",
    "element.send_keys(HEAD_HUNTER[1])\n",
    "\n",
    "print(\"フォームを送信\")"
   ]
  },
  {
   "cell_type": "code",
   "execution_count": 120,
   "id": "0155e744-41c9-4142-a888-9470284ac6e5",
   "metadata": {},
   "outputs": [
    {
     "name": "stderr",
     "output_type": "stream",
     "text": [
      "C:\\Users\\rukur\\AppData\\Local\\Temp/ipykernel_5436/953659867.py:1: DeprecationWarning: find_element_by_name is deprecated. Please use find_element(by=By.NAME, value=name) instead\n",
      "  browser_from = browser.find_element_by_name('commit')\n"
     ]
    },
    {
     "name": "stdout",
     "output_type": "stream",
     "text": [
      "情報を入力してログインボタンを押しました\n"
     ]
    }
   ],
   "source": [
    "browser_from = browser.find_element_by_name('commit')\n",
    "time.sleep(1)\n",
    "browser_from.click()\n",
    "print(\"情報を入力してログインボタンを押しました\")"
   ]
  },
  {
   "cell_type": "code",
   "execution_count": 121,
   "id": "f5012c50-e7dc-4404-bf56-4d2b0d38e5f1",
   "metadata": {},
   "outputs": [
    {
     "name": "stderr",
     "output_type": "stream",
     "text": [
      "C:\\Users\\rukur\\AppData\\Local\\Temp/ipykernel_5436/2412660140.py:1: DeprecationWarning: find_element_by_xpath is deprecated. Please use find_element(by=By.XPATH, value=xpath) instead\n",
      "  browser_from = browser.find_element_by_xpath('/html/body/header/nav/ul/li[3]/a')\n"
     ]
    },
    {
     "name": "stdout",
     "output_type": "stream",
     "text": [
      "モニタリングページへ移動しました\n"
     ]
    }
   ],
   "source": [
    "browser_from = browser.find_element_by_xpath('/html/body/header/nav/ul/li[3]/a')\n",
    "time.sleep(1)\n",
    "browser_from.click()\n",
    "print(\"モニタリングページへ移動しました\")\n",
    "time.sleep(1)"
   ]
  },
  {
   "cell_type": "code",
   "execution_count": 122,
   "id": "a4765463-80f0-4154-b88d-a8f56476192a",
   "metadata": {},
   "outputs": [
    {
     "name": "stderr",
     "output_type": "stream",
     "text": [
      "C:\\Users\\rukur\\AppData\\Local\\Temp/ipykernel_5436/1579366160.py:1: DeprecationWarning: find_element_by_name is deprecated. Please use find_element(by=By.NAME, value=name) instead\n",
      "  element = browser.find_element_by_name('received_at_start')\n",
      "C:\\Users\\rukur\\AppData\\Local\\Temp/ipykernel_5436/1579366160.py:5: DeprecationWarning: find_element_by_name is deprecated. Please use find_element(by=By.NAME, value=name) instead\n",
      "  element = browser.find_element_by_name('received_at_end')\n",
      "C:\\Users\\rukur\\AppData\\Local\\Temp/ipykernel_5436/1579366160.py:9: DeprecationWarning: find_element_by_name is deprecated. Please use find_element(by=By.NAME, value=name) instead\n",
      "  browser_from = browser.find_element_by_name('commit')\n"
     ]
    },
    {
     "name": "stdout",
     "output_type": "stream",
     "text": [
      "日付を送信\n"
     ]
    }
   ],
   "source": [
    "element = browser.find_element_by_name('received_at_start')\n",
    "element.clear()\n",
    "element.send_keys(DAY)\n",
    "\n",
    "element = browser.find_element_by_name('received_at_end')\n",
    "element.clear()\n",
    "element.send_keys(DAY)\n",
    "\n",
    "browser_from = browser.find_element_by_name('commit')\n",
    "time.sleep(1)\n",
    "browser_from.click()\n",
    "time.sleep(1)\n",
    "\n",
    "print(\"日付を送信\")"
   ]
  },
  {
   "cell_type": "code",
   "execution_count": 123,
   "id": "eed3d063-49fd-49c1-9f6d-dd9d3af65ea6",
   "metadata": {},
   "outputs": [
    {
     "name": "stderr",
     "output_type": "stream",
     "text": [
      "C:\\Users\\rukur\\AppData\\Local\\Temp/ipykernel_5436/347975881.py:1: DeprecationWarning: find_element_by_xpath is deprecated. Please use find_element(by=By.XPATH, value=xpath) instead\n",
      "  scout_count_all = browser.find_element_by_xpath('/html/body/div[1]/div/div[1]/div/div[2]/table[1]/tbody/tr[2]/td[1]')\n",
      "C:\\Users\\rukur\\AppData\\Local\\Temp/ipykernel_5436/347975881.py:2: DeprecationWarning: find_element_by_xpath is deprecated. Please use find_element(by=By.XPATH, value=xpath) instead\n",
      "  normal_count = browser.find_element_by_xpath('/html/body/div[1]/div/div[1]/div/div[2]/table[2]/tbody/tr[2]/td[1]')\n",
      "C:\\Users\\rukur\\AppData\\Local\\Temp/ipykernel_5436/347975881.py:3: DeprecationWarning: find_element_by_xpath is deprecated. Please use find_element(by=By.XPATH, value=xpath) instead\n",
      "  limited_count = browser.find_element_by_xpath('/html/body/div[1]/div/div[1]/div/div[2]/table[2]/tbody/tr[2]/td[4]')\n",
      "C:\\Users\\rukur\\AppData\\Local\\Temp/ipykernel_5436/347975881.py:4: DeprecationWarning: find_element_by_xpath is deprecated. Please use find_element(by=By.XPATH, value=xpath) instead\n",
      "  fithunter_count = browser.find_element_by_xpath('/html/body/div[1]/div/div[1]/div/div[2]/table[2]/tbody/tr[2]/td[7]')\n",
      "C:\\Users\\rukur\\AppData\\Local\\Temp/ipykernel_5436/347975881.py:5: DeprecationWarning: find_element_by_xpath is deprecated. Please use find_element(by=By.XPATH, value=xpath) instead\n",
      "  automatic_count = browser.find_element_by_xpath('/html/body/div[1]/div/div[1]/div/div[2]/table[2]/tbody/tr[2]/td[10]')\n",
      "C:\\Users\\rukur\\AppData\\Local\\Temp/ipykernel_5436/347975881.py:6: DeprecationWarning: find_element_by_xpath is deprecated. Please use find_element(by=By.XPATH, value=xpath) instead\n",
      "  remindchance_count = browser.find_element_by_xpath('/html/body/div[1]/div/div[1]/div/div[2]/table[2]/tbody/tr[2]/td[13]')\n",
      "C:\\Users\\rukur\\AppData\\Local\\Temp/ipykernel_5436/347975881.py:7: DeprecationWarning: find_element_by_xpath is deprecated. Please use find_element(by=By.XPATH, value=xpath) instead\n",
      "  reply_count_all = browser.find_element_by_xpath('/html/body/div[1]/div/div[1]/div/div[2]/table[1]/tbody/tr[2]/td[2]')\n"
     ]
    }
   ],
   "source": [
    "scout_count_all = browser.find_element_by_xpath('/html/body/div[1]/div/div[1]/div/div[2]/table[1]/tbody/tr[2]/td[1]')\n",
    "normal_count = browser.find_element_by_xpath('/html/body/div[1]/div/div[1]/div/div[2]/table[2]/tbody/tr[2]/td[1]')\n",
    "limited_count = browser.find_element_by_xpath('/html/body/div[1]/div/div[1]/div/div[2]/table[2]/tbody/tr[2]/td[4]')\n",
    "fithunter_count = browser.find_element_by_xpath('/html/body/div[1]/div/div[1]/div/div[2]/table[2]/tbody/tr[2]/td[7]')\n",
    "automatic_count = browser.find_element_by_xpath('/html/body/div[1]/div/div[1]/div/div[2]/table[2]/tbody/tr[2]/td[10]')\n",
    "remindchance_count = browser.find_element_by_xpath('/html/body/div[1]/div/div[1]/div/div[2]/table[2]/tbody/tr[2]/td[13]')\n",
    "reply_count_all = browser.find_element_by_xpath('/html/body/div[1]/div/div[1]/div/div[2]/table[1]/tbody/tr[2]/td[2]')"
   ]
  },
  {
   "cell_type": "code",
   "execution_count": null,
   "id": "fd6585b4-82f5-4957-a6ec-a9a3fd02ec97",
   "metadata": {},
   "outputs": [],
   "source": []
  },
  {
   "cell_type": "code",
   "execution_count": 124,
   "id": "a000b95a-31f1-4f90-92de-b8c33a580cff",
   "metadata": {},
   "outputs": [],
   "source": [
    "scout_count_nozoku = int(scout_count_all.text) - int(automatic_count.text) - int(remindchance_count.text)\n",
    "df_monitoring = pd.DataFrame([['送信全件',scout_count_all.text],['通常スカウト',normal_count.text],['一球入魂',limited_count.text],['fithunter',fithunter_count.text],['自動再送',automatic_count.text],['リマチャン',remindchance_count.text],['「再送除く」',int(scout_count_nozoku)],['返信数',reply_count_all.text]])"
   ]
  },
  {
   "cell_type": "code",
   "execution_count": 125,
   "id": "acd775f1-4bd9-4743-8027-525b352fad91",
   "metadata": {},
   "outputs": [
    {
     "data": {
      "text/html": [
       "<div>\n",
       "<style scoped>\n",
       "    .dataframe tbody tr th:only-of-type {\n",
       "        vertical-align: middle;\n",
       "    }\n",
       "\n",
       "    .dataframe tbody tr th {\n",
       "        vertical-align: top;\n",
       "    }\n",
       "\n",
       "    .dataframe thead th {\n",
       "        text-align: right;\n",
       "    }\n",
       "</style>\n",
       "<table border=\"1\" class=\"dataframe\">\n",
       "  <thead>\n",
       "    <tr style=\"text-align: right;\">\n",
       "      <th></th>\n",
       "      <th>0</th>\n",
       "      <th>1</th>\n",
       "    </tr>\n",
       "  </thead>\n",
       "  <tbody>\n",
       "    <tr>\n",
       "      <th>0</th>\n",
       "      <td>送信全件</td>\n",
       "      <td>31</td>\n",
       "    </tr>\n",
       "    <tr>\n",
       "      <th>1</th>\n",
       "      <td>通常スカウト</td>\n",
       "      <td>31</td>\n",
       "    </tr>\n",
       "    <tr>\n",
       "      <th>2</th>\n",
       "      <td>一球入魂</td>\n",
       "      <td>0</td>\n",
       "    </tr>\n",
       "    <tr>\n",
       "      <th>3</th>\n",
       "      <td>fithunter</td>\n",
       "      <td>0</td>\n",
       "    </tr>\n",
       "    <tr>\n",
       "      <th>4</th>\n",
       "      <td>自動再送</td>\n",
       "      <td>0</td>\n",
       "    </tr>\n",
       "    <tr>\n",
       "      <th>5</th>\n",
       "      <td>リマチャン</td>\n",
       "      <td>0</td>\n",
       "    </tr>\n",
       "    <tr>\n",
       "      <th>6</th>\n",
       "      <td>「再送除く」</td>\n",
       "      <td>31</td>\n",
       "    </tr>\n",
       "    <tr>\n",
       "      <th>7</th>\n",
       "      <td>返信数</td>\n",
       "      <td>1</td>\n",
       "    </tr>\n",
       "  </tbody>\n",
       "</table>\n",
       "</div>"
      ],
      "text/plain": [
       "           0   1\n",
       "0       送信全件  31\n",
       "1     通常スカウト  31\n",
       "2       一球入魂   0\n",
       "3  fithunter   0\n",
       "4       自動再送   0\n",
       "5      リマチャン   0\n",
       "6     「再送除く」  31\n",
       "7        返信数   1"
      ]
     },
     "execution_count": 125,
     "metadata": {},
     "output_type": "execute_result"
    }
   ],
   "source": [
    "df_monitoring"
   ]
  },
  {
   "cell_type": "code",
   "execution_count": 126,
   "id": "310e36fd-d1e9-4ec0-baec-9b1664b07fe2",
   "metadata": {},
   "outputs": [
    {
     "name": "stderr",
     "output_type": "stream",
     "text": [
      "C:\\Users\\rukur\\AppData\\Local\\Temp/ipykernel_5436/266064639.py:1: DeprecationWarning: find_element_by_xpath is deprecated. Please use find_element(by=By.XPATH, value=xpath) instead\n",
      "  browser_from = browser.find_element_by_xpath('/html/body/header/nav/ul/li[6]/a')\n"
     ]
    },
    {
     "name": "stdout",
     "output_type": "stream",
     "text": [
      "求職者一覧ページへ移動しました\n"
     ]
    }
   ],
   "source": [
    "browser_from = browser.find_element_by_xpath('/html/body/header/nav/ul/li[6]/a')\n",
    "time.sleep(1)\n",
    "browser_from.click()\n",
    "print(\"求職者一覧ページへ移動しました\")"
   ]
  },
  {
   "cell_type": "code",
   "execution_count": 127,
   "id": "0321b6b7-f5cc-46d9-a711-5d975700a6e8",
   "metadata": {},
   "outputs": [
    {
     "name": "stdout",
     "output_type": "stream",
     "text": [
      "フォームを送信\n"
     ]
    },
    {
     "name": "stderr",
     "output_type": "stream",
     "text": [
      "C:\\Users\\rukur\\AppData\\Local\\Temp/ipykernel_5436/3198523656.py:1: DeprecationWarning: find_element_by_name is deprecated. Please use find_element(by=By.NAME, value=name) instead\n",
      "  element = browser.find_element_by_name('message_search_form[date_from]')\n",
      "C:\\Users\\rukur\\AppData\\Local\\Temp/ipykernel_5436/3198523656.py:5: DeprecationWarning: find_element_by_name is deprecated. Please use find_element(by=By.NAME, value=name) instead\n",
      "  element = browser.find_element_by_name('message_search_form[date_to]')\n"
     ]
    }
   ],
   "source": [
    "element = browser.find_element_by_name('message_search_form[date_from]')\n",
    "element.clear()\n",
    "element.send_keys(DAY)\n",
    "\n",
    "element = browser.find_element_by_name('message_search_form[date_to]')\n",
    "element.clear()\n",
    "element.send_keys(DAY)\n",
    "\n",
    "print(\"フォームを送信\")\n",
    "time.sleep(1)"
   ]
  },
  {
   "cell_type": "code",
   "execution_count": 128,
   "id": "8b774cce-cf4f-4d95-9c04-8ec77d9dcbb4",
   "metadata": {},
   "outputs": [
    {
     "name": "stderr",
     "output_type": "stream",
     "text": [
      "C:\\Users\\rukur\\AppData\\Local\\Temp/ipykernel_5436/4016194675.py:2: DeprecationWarning: find_element_by_xpath is deprecated. Please use find_element(by=By.XPATH, value=xpath) instead\n",
      "  browser_from = browser.find_element_by_xpath('//*[@id=\"new_message_search_form\"]/dl[3]/dd/div[1]/div[1]/ins')\n",
      "C:\\Users\\rukur\\AppData\\Local\\Temp/ipykernel_5436/4016194675.py:6: DeprecationWarning: find_element_by_xpath is deprecated. Please use find_element(by=By.XPATH, value=xpath) instead\n",
      "  browser_from = browser.find_element_by_xpath('//*[@id=\"new_message_search_form\"]/dl[3]/dd/div[2]/div[1]/ins')\n",
      "C:\\Users\\rukur\\AppData\\Local\\Temp/ipykernel_5436/4016194675.py:10: DeprecationWarning: find_element_by_xpath is deprecated. Please use find_element(by=By.XPATH, value=xpath) instead\n",
      "  browser_from = browser.find_element_by_xpath('/html/body/div[2]/div/div[1]/div[1]/div[2]/form/dl[3]/dd/div[2]/div[5]/ins')\n"
     ]
    },
    {
     "name": "stdout",
     "output_type": "stream",
     "text": [
      "受信をクリア\n",
      "送信をチェック\n",
      "返信をクリア\n"
     ]
    },
    {
     "name": "stderr",
     "output_type": "stream",
     "text": [
      "C:\\Users\\rukur\\AppData\\Local\\Temp/ipykernel_5436/4016194675.py:15: DeprecationWarning: find_element_by_xpath is deprecated. Please use find_element(by=By.XPATH, value=xpath) instead\n",
      "  browser_from = browser.find_element_by_xpath('/html/body/div[2]/div/div[1]/div[1]/div[2]/form/dl[4]/dd/div[1]/ins')\n"
     ]
    },
    {
     "name": "stdout",
     "output_type": "stream",
     "text": [
      "件名をチェック\n"
     ]
    }
   ],
   "source": [
    "time.sleep(1)\n",
    "browser_from = browser.find_element_by_xpath('//*[@id=\"new_message_search_form\"]/dl[3]/dd/div[1]/div[1]/ins')\n",
    "browser_from.click()\n",
    "print(\"受信をクリア\")\n",
    "\n",
    "browser_from = browser.find_element_by_xpath('//*[@id=\"new_message_search_form\"]/dl[3]/dd/div[2]/div[1]/ins')\n",
    "browser_from.click()\n",
    "print(\"送信をチェック\")\n",
    "\n",
    "browser_from = browser.find_element_by_xpath('/html/body/div[2]/div/div[1]/div[1]/div[2]/form/dl[3]/dd/div[2]/div[5]/ins')\n",
    "browser_from.click()\n",
    "print(\"返信をクリア\")\n",
    "\n",
    "time.sleep(1)\n",
    "browser_from = browser.find_element_by_xpath('/html/body/div[2]/div/div[1]/div[1]/div[2]/form/dl[4]/dd/div[1]/ins')\n",
    "browser_from.click()\n",
    "print(\"件名をチェック\")\n",
    "time.sleep(1)"
   ]
  },
  {
   "cell_type": "code",
   "execution_count": null,
   "id": "188a527c-69c4-4991-a8c9-7d25cff7c13b",
   "metadata": {},
   "outputs": [],
   "source": []
  },
  {
   "cell_type": "code",
   "execution_count": 129,
   "id": "0697bb5e-e425-42c4-9738-f39078c816dd",
   "metadata": {},
   "outputs": [],
   "source": [
    "df_count = pd.DataFrame(columns=['send_tittle','number'])"
   ]
  },
  {
   "cell_type": "code",
   "execution_count": 130,
   "id": "1212b180-9e54-4302-b1e7-5d49ea9ea2a3",
   "metadata": {},
   "outputs": [
    {
     "name": "stderr",
     "output_type": "stream",
     "text": [
      "C:\\Users\\rukur\\AppData\\Local\\Temp/ipykernel_5436/395161254.py:3: DeprecationWarning: find_element_by_xpath is deprecated. Please use find_element(by=By.XPATH, value=xpath) instead\n",
      "  browser_from = browser.find_element_by_xpath('/html/body/div[2]/div/div[1]/div[1]/div[2]/form/dl[4]/dd/input[1]')\n",
      "C:\\Users\\rukur\\AppData\\Local\\Temp/ipykernel_5436/395161254.py:7: DeprecationWarning: find_element_by_name is deprecated. Please use find_element(by=By.NAME, value=name) instead\n",
      "  browser_from = browser.find_element_by_name('commit')\n"
     ]
    },
    {
     "name": "stdout",
     "output_type": "stream",
     "text": [
      "「」を検索しました\n",
      "「」31件\n"
     ]
    },
    {
     "name": "stderr",
     "output_type": "stream",
     "text": [
      "C:\\Users\\rukur\\AppData\\Local\\Temp/ipykernel_5436/395161254.py:13: DeprecationWarning: find_element_by_xpath is deprecated. Please use find_element(by=By.XPATH, value=xpath) instead\n",
      "  send_all = browser.find_element_by_xpath('/html/body/div[2]/div/div[1]/div[2]/p')\n"
     ]
    },
    {
     "name": "stdout",
     "output_type": "stream",
     "text": [
      "「組織コンサル」を検索しました\n",
      "送信0件です\n",
      "「脱M&A仲介」を検索しました\n",
      "送信0件です\n",
      "「医療法人の」を検索しました\n",
      "送信0件です\n",
      "「マネージャー候補」を検索しました\n",
      "送信0件です\n",
      "「既存事業、新規事業共に加速できる」を検索しました\n",
      "送信0件です\n",
      "「不動産売買事業を展開する」を検索しました\n",
      "送信0件です\n",
      "「×ICT」を検索しました\n",
      "送信0件です\n",
      "「100年企業を」を検索しました\n",
      "送信0件です\n",
      "「人事担当募集」を検索しました\n",
      "送信0件です\n",
      "「ご面談の」を検索しました\n",
      "「ご面談の」31件\n",
      "「転職活動の」を検索しました\n",
      "送信0件です\n",
      "「その後の」を検索しました\n",
      "送信0件です\n"
     ]
    }
   ],
   "source": [
    "for s_title in scout_title:\n",
    "    \n",
    "    browser_from = browser.find_element_by_xpath('/html/body/div[2]/div/div[1]/div[1]/div[2]/form/dl[4]/dd/input[1]')\n",
    "    browser_from.clear()\n",
    "    browser_from.send_keys(s_title)\n",
    "\n",
    "    browser_from = browser.find_element_by_name('commit')\n",
    "    time.sleep(1)\n",
    "    browser_from.click()\n",
    "    print(\"「\" + s_title + \"」\" + \"を検索しました\")\n",
    "\n",
    "    try:\n",
    "        send_all = browser.find_element_by_xpath('/html/body/div[2]/div/div[1]/div[2]/p')\n",
    "        send_all_count = re.sub(r\"\\D\", \"\", send_all.text.split('全')[1])\n",
    "        print(\"「\" + s_title + \"」\" + send_all_count + \"件\")\n",
    "        \n",
    "        df = pd.DataFrame([[s_title,send_all_count]],columns=['send_tittle','number'])\n",
    "        df_count = pd.concat([df_count,df],join='outer',ignore_index=True)\n",
    "        \n",
    "    except NoSuchElementException:\n",
    "        print(\"送信0件です\")"
   ]
  },
  {
   "cell_type": "code",
   "execution_count": 131,
   "id": "dd785ff6-c4dd-4efb-af52-acaa9b1301bf",
   "metadata": {},
   "outputs": [
    {
     "data": {
      "text/html": [
       "<div>\n",
       "<style scoped>\n",
       "    .dataframe tbody tr th:only-of-type {\n",
       "        vertical-align: middle;\n",
       "    }\n",
       "\n",
       "    .dataframe tbody tr th {\n",
       "        vertical-align: top;\n",
       "    }\n",
       "\n",
       "    .dataframe thead th {\n",
       "        text-align: right;\n",
       "    }\n",
       "</style>\n",
       "<table border=\"1\" class=\"dataframe\">\n",
       "  <thead>\n",
       "    <tr style=\"text-align: right;\">\n",
       "      <th></th>\n",
       "      <th>send_tittle</th>\n",
       "      <th>number</th>\n",
       "    </tr>\n",
       "  </thead>\n",
       "  <tbody>\n",
       "    <tr>\n",
       "      <th>0</th>\n",
       "      <td></td>\n",
       "      <td>31</td>\n",
       "    </tr>\n",
       "    <tr>\n",
       "      <th>1</th>\n",
       "      <td>ご面談の</td>\n",
       "      <td>31</td>\n",
       "    </tr>\n",
       "  </tbody>\n",
       "</table>\n",
       "</div>"
      ],
      "text/plain": [
       "  send_tittle number\n",
       "0                 31\n",
       "1        ご面談の     31"
      ]
     },
     "execution_count": 131,
     "metadata": {},
     "output_type": "execute_result"
    }
   ],
   "source": [
    "df_count"
   ]
  },
  {
   "cell_type": "code",
   "execution_count": 132,
   "id": "eca0cc1a-ad24-4532-a94f-19b42c0c1a00",
   "metadata": {},
   "outputs": [
    {
     "data": {
      "text/html": [
       "<div>\n",
       "<style scoped>\n",
       "    .dataframe tbody tr th:only-of-type {\n",
       "        vertical-align: middle;\n",
       "    }\n",
       "\n",
       "    .dataframe tbody tr th {\n",
       "        vertical-align: top;\n",
       "    }\n",
       "\n",
       "    .dataframe thead th {\n",
       "        text-align: right;\n",
       "    }\n",
       "</style>\n",
       "<table border=\"1\" class=\"dataframe\">\n",
       "  <thead>\n",
       "    <tr style=\"text-align: right;\">\n",
       "      <th></th>\n",
       "      <th>0</th>\n",
       "      <th>1</th>\n",
       "    </tr>\n",
       "  </thead>\n",
       "  <tbody>\n",
       "    <tr>\n",
       "      <th>0</th>\n",
       "      <td>送信全件</td>\n",
       "      <td>31</td>\n",
       "    </tr>\n",
       "    <tr>\n",
       "      <th>1</th>\n",
       "      <td>通常スカウト</td>\n",
       "      <td>31</td>\n",
       "    </tr>\n",
       "    <tr>\n",
       "      <th>2</th>\n",
       "      <td>一球入魂</td>\n",
       "      <td>0</td>\n",
       "    </tr>\n",
       "    <tr>\n",
       "      <th>3</th>\n",
       "      <td>fithunter</td>\n",
       "      <td>0</td>\n",
       "    </tr>\n",
       "    <tr>\n",
       "      <th>4</th>\n",
       "      <td>自動再送</td>\n",
       "      <td>0</td>\n",
       "    </tr>\n",
       "    <tr>\n",
       "      <th>5</th>\n",
       "      <td>リマチャン</td>\n",
       "      <td>0</td>\n",
       "    </tr>\n",
       "    <tr>\n",
       "      <th>6</th>\n",
       "      <td>「再送除く」</td>\n",
       "      <td>31</td>\n",
       "    </tr>\n",
       "    <tr>\n",
       "      <th>7</th>\n",
       "      <td>返信数</td>\n",
       "      <td>1</td>\n",
       "    </tr>\n",
       "  </tbody>\n",
       "</table>\n",
       "</div>"
      ],
      "text/plain": [
       "           0   1\n",
       "0       送信全件  31\n",
       "1     通常スカウト  31\n",
       "2       一球入魂   0\n",
       "3  fithunter   0\n",
       "4       自動再送   0\n",
       "5      リマチャン   0\n",
       "6     「再送除く」  31\n",
       "7        返信数   1"
      ]
     },
     "execution_count": 132,
     "metadata": {},
     "output_type": "execute_result"
    }
   ],
   "source": [
    "df_monitoring"
   ]
  },
  {
   "cell_type": "code",
   "execution_count": 133,
   "id": "3c953012-0ad1-4ee8-9b39-40acc69d61bf",
   "metadata": {},
   "outputs": [
    {
     "name": "stderr",
     "output_type": "stream",
     "text": [
      "C:\\Users\\rukur\\AppData\\Local\\Temp/ipykernel_5436/3957106075.py:2: DeprecationWarning: find_element_by_xpath is deprecated. Please use find_element(by=By.XPATH, value=xpath) instead\n",
      "  browser_from = browser.find_element_by_xpath('//*[@id=\"new_message_search_form\"]/dl[3]/dd/div[2]/div[1]/ins')\n",
      "C:\\Users\\rukur\\AppData\\Local\\Temp/ipykernel_5436/3957106075.py:6: DeprecationWarning: find_element_by_xpath is deprecated. Please use find_element(by=By.XPATH, value=xpath) instead\n",
      "  browser_from = browser.find_element_by_xpath('//*[@id=\"new_message_search_form\"]/dl[3]/dd/div[2]/div[1]/ins')\n",
      "C:\\Users\\rukur\\AppData\\Local\\Temp/ipykernel_5436/3957106075.py:10: DeprecationWarning: find_element_by_xpath is deprecated. Please use find_element(by=By.XPATH, value=xpath) instead\n",
      "  browser_from = browser.find_element_by_xpath('//*[@id=\"new_message_search_form\"]/dl[3]/dd/div[1]/div[1]/ins')\n",
      "C:\\Users\\rukur\\AppData\\Local\\Temp/ipykernel_5436/3957106075.py:14: DeprecationWarning: find_element_by_xpath is deprecated. Please use find_element(by=By.XPATH, value=xpath) instead\n",
      "  browser_from = browser.find_element_by_xpath('/html/body/div[2]/div/div[1]/div[1]/div[2]/form/dl[3]/dd/div[1]/div[5]/ins')\n",
      "C:\\Users\\rukur\\AppData\\Local\\Temp/ipykernel_5436/3957106075.py:18: DeprecationWarning: find_element_by_xpath is deprecated. Please use find_element(by=By.XPATH, value=xpath) instead\n",
      "  browser_from = browser.find_element_by_xpath('/html/body/div[2]/div/div[1]/div[1]/div[2]/form/dl[3]/dd/div[1]/div[7]/ins')\n",
      "C:\\Users\\rukur\\AppData\\Local\\Temp/ipykernel_5436/3957106075.py:22: DeprecationWarning: find_element_by_xpath is deprecated. Please use find_element(by=By.XPATH, value=xpath) instead\n",
      "  browser_from = browser.find_element_by_xpath('/html/body/div[2]/div/div[1]/div[1]/div[2]/form/dl[4]/dd/input[1]')\n",
      "C:\\Users\\rukur\\AppData\\Local\\Temp/ipykernel_5436/3957106075.py:25: DeprecationWarning: find_element_by_name is deprecated. Please use find_element(by=By.NAME, value=name) instead\n",
      "  browser_from = browser.find_element_by_name('commit')\n"
     ]
    },
    {
     "name": "stdout",
     "output_type": "stream",
     "text": [
      "送信をチェック\n",
      "送信をクリア\n",
      "受信をチェック\n",
      "その他返信をクリア\n",
      "相談をクリア\n"
     ]
    }
   ],
   "source": [
    "time.sleep(1)\n",
    "browser_from = browser.find_element_by_xpath('//*[@id=\"new_message_search_form\"]/dl[3]/dd/div[2]/div[1]/ins')\n",
    "browser_from.click()\n",
    "print(\"送信をチェック\")\n",
    "\n",
    "browser_from = browser.find_element_by_xpath('//*[@id=\"new_message_search_form\"]/dl[3]/dd/div[2]/div[1]/ins')\n",
    "browser_from.click()\n",
    "print(\"送信をクリア\")\n",
    "\n",
    "browser_from = browser.find_element_by_xpath('//*[@id=\"new_message_search_form\"]/dl[3]/dd/div[1]/div[1]/ins')\n",
    "browser_from.click()\n",
    "print(\"受信をチェック\")\n",
    "\n",
    "browser_from = browser.find_element_by_xpath('/html/body/div[2]/div/div[1]/div[1]/div[2]/form/dl[3]/dd/div[1]/div[5]/ins')\n",
    "browser_from.click()\n",
    "print(\"その他返信をクリア\")\n",
    "\n",
    "browser_from = browser.find_element_by_xpath('/html/body/div[2]/div/div[1]/div[1]/div[2]/form/dl[3]/dd/div[1]/div[7]/ins')\n",
    "browser_from.click()\n",
    "print(\"相談をクリア\")\n",
    "\n",
    "browser_from = browser.find_element_by_xpath('/html/body/div[2]/div/div[1]/div[1]/div[2]/form/dl[4]/dd/input[1]')\n",
    "browser_from.clear()\n",
    "\n",
    "browser_from = browser.find_element_by_name('commit')\n",
    "time.sleep(1)\n",
    "browser_from.click()\n",
    "\n",
    "time.sleep(1)"
   ]
  },
  {
   "cell_type": "code",
   "execution_count": 134,
   "id": "cd54f8bd-6643-410d-ba38-f929dea98e52",
   "metadata": {},
   "outputs": [
    {
     "name": "stderr",
     "output_type": "stream",
     "text": [
      "C:\\Users\\rukur\\AppData\\Local\\Temp/ipykernel_5436/2816603309.py:1: DeprecationWarning: find_element_by_xpath is deprecated. Please use find_element(by=By.XPATH, value=xpath) instead\n",
      "  re_all = browser.find_element_by_xpath('/html/body/div[2]/div/div[1]/div[2]/p')\n"
     ]
    },
    {
     "name": "stdout",
     "output_type": "stream",
     "text": [
      "返信 1件\n"
     ]
    }
   ],
   "source": [
    "re_all = browser.find_element_by_xpath('/html/body/div[2]/div/div[1]/div[2]/p')\n",
    "re_all_count = re.sub(r\"\\D\", \"\", re_all.text.split('全')[1])\n",
    "print(\"返信 \" + re_all_count + \"件\")"
   ]
  },
  {
   "cell_type": "code",
   "execution_count": null,
   "id": "9f828e5b-a84e-41f7-bb33-a5c3fe7994c9",
   "metadata": {},
   "outputs": [],
   "source": []
  }
 ],
 "metadata": {
  "kernelspec": {
   "display_name": "Python 3 (ipykernel)",
   "language": "python",
   "name": "python3"
  },
  "language_info": {
   "codemirror_mode": {
    "name": "ipython",
    "version": 3
   },
   "file_extension": ".py",
   "mimetype": "text/x-python",
   "name": "python",
   "nbconvert_exporter": "python",
   "pygments_lexer": "ipython3",
   "version": "3.9.7"
  }
 },
 "nbformat": 4,
 "nbformat_minor": 5
}
