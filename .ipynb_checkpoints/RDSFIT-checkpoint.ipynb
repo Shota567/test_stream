{
 "cells": [
  {
   "cell_type": "code",
   "execution_count": 205,
   "id": "a8b495e0-76f7-401b-ada2-0a329b41f8a1",
   "metadata": {},
   "outputs": [
    {
     "name": "stdout",
     "output_type": "stream",
     "text": [
      "Requirement already satisfied: selenium in c:\\users\\rukur\\anaconda3\\lib\\site-packages (4.1.3)\n",
      "Requirement already satisfied: urllib3[secure,socks]~=1.26 in c:\\users\\rukur\\anaconda3\\lib\\site-packages (from selenium) (1.26.7)\n",
      "Requirement already satisfied: trio~=0.17 in c:\\users\\rukur\\anaconda3\\lib\\site-packages (from selenium) (0.20.0)\n",
      "Requirement already satisfied: trio-websocket~=0.9 in c:\\users\\rukur\\anaconda3\\lib\\site-packages (from selenium) (0.9.2)\n",
      "Requirement already satisfied: sortedcontainers in c:\\users\\rukur\\anaconda3\\lib\\site-packages (from trio~=0.17->selenium) (2.4.0)\n",
      "Requirement already satisfied: idna in c:\\users\\rukur\\anaconda3\\lib\\site-packages (from trio~=0.17->selenium) (3.2)\n",
      "Requirement already satisfied: outcome in c:\\users\\rukur\\anaconda3\\lib\\site-packages (from trio~=0.17->selenium) (1.1.0)\n",
      "Requirement already satisfied: sniffio in c:\\users\\rukur\\anaconda3\\lib\\site-packages (from trio~=0.17->selenium) (1.2.0)\n",
      "Requirement already satisfied: attrs>=19.2.0 in c:\\users\\rukur\\anaconda3\\lib\\site-packages (from trio~=0.17->selenium) (21.2.0)\n",
      "Requirement already satisfied: cffi>=1.14 in c:\\users\\rukur\\anaconda3\\lib\\site-packages (from trio~=0.17->selenium) (1.14.6)\n",
      "Requirement already satisfied: async-generator>=1.9 in c:\\users\\rukur\\anaconda3\\lib\\site-packages (from trio~=0.17->selenium) (1.10)\n",
      "Requirement already satisfied: pycparser in c:\\users\\rukur\\anaconda3\\lib\\site-packages (from cffi>=1.14->trio~=0.17->selenium) (2.20)\n",
      "Requirement already satisfied: wsproto>=0.14 in c:\\users\\rukur\\anaconda3\\lib\\site-packages (from trio-websocket~=0.9->selenium) (1.1.0)\n",
      "Requirement already satisfied: pyOpenSSL>=0.14 in c:\\users\\rukur\\anaconda3\\lib\\site-packages (from urllib3[secure,socks]~=1.26->selenium) (21.0.0)\n",
      "Requirement already satisfied: cryptography>=1.3.4 in c:\\users\\rukur\\anaconda3\\lib\\site-packages (from urllib3[secure,socks]~=1.26->selenium) (3.4.7)\n",
      "Requirement already satisfied: certifi in c:\\users\\rukur\\anaconda3\\lib\\site-packages (from urllib3[secure,socks]~=1.26->selenium) (2021.10.8)\n",
      "Requirement already satisfied: PySocks!=1.5.7,<2.0,>=1.5.6 in c:\\users\\rukur\\anaconda3\\lib\\site-packages (from urllib3[secure,socks]~=1.26->selenium) (1.7.1)\n",
      "Requirement already satisfied: six>=1.5.2 in c:\\users\\rukur\\anaconda3\\lib\\site-packages (from pyOpenSSL>=0.14->urllib3[secure,socks]~=1.26->selenium) (1.16.0)\n",
      "Requirement already satisfied: h11<1,>=0.9.0 in c:\\users\\rukur\\anaconda3\\lib\\site-packages (from wsproto>=0.14->trio-websocket~=0.9->selenium) (0.13.0)\n"
     ]
    }
   ],
   "source": [
    "!pip install selenium"
   ]
  },
  {
   "cell_type": "code",
   "execution_count": 206,
   "id": "0f375107-ba0f-4435-8e2a-e07dee29cc68",
   "metadata": {},
   "outputs": [
    {
     "name": "stdout",
     "output_type": "stream",
     "text": [
      "Requirement already satisfied: beautifulsoup4 in c:\\users\\rukur\\anaconda3\\lib\\site-packages (4.10.0)\n",
      "Requirement already satisfied: soupsieve>1.2 in c:\\users\\rukur\\anaconda3\\lib\\site-packages (from beautifulsoup4) (2.2.1)\n"
     ]
    }
   ],
   "source": [
    "!pip install beautifulsoup4"
   ]
  },
  {
   "cell_type": "code",
   "execution_count": 207,
   "id": "458a9a56-538c-4227-a20f-ba04f2ab5855",
   "metadata": {},
   "outputs": [],
   "source": [
    "from selenium import webdriver\n",
    "\n",
    "import time\n",
    "\n",
    "import pandas as pd\n",
    "\n",
    "from selenium.webdriver.common.action_chains import ActionChains\n",
    "from selenium.webdriver.common.keys import Keys\n",
    "\n",
    "from selenium.common.exceptions import NoSuchElementException\n",
    "\n",
    "from bs4 import BeautifulSoup\n",
    "import requests\n",
    "\n",
    "import re\n",
    "\n",
    "import numpy as np"
   ]
  },
  {
   "cell_type": "code",
   "execution_count": 208,
   "id": "5c0987ea-3fe5-4b91-bcc1-1efb6ed570c2",
   "metadata": {},
   "outputs": [],
   "source": [
    "USER = 'matsuno@assemblage.asia'\n",
    "PASS = 'shota1004'\n",
    "DAY = '2022/05/09'"
   ]
  },
  {
   "cell_type": "code",
   "execution_count": 209,
   "id": "f9dbf1cb-f54a-42b9-9d5f-69d6073b82ac",
   "metadata": {},
   "outputs": [
    {
     "name": "stderr",
     "output_type": "stream",
     "text": [
      "C:\\Users\\rukur\\AppData\\Local\\Temp/ipykernel_13072/37351864.py:1: DeprecationWarning: executable_path has been deprecated, please pass in a Service object\n",
      "  browser = webdriver.Chrome(executable_path = 'C:/Users/rukur/Downloads/MyPandas/chromedriver.exe')\n"
     ]
    }
   ],
   "source": [
    "browser = webdriver.Chrome(executable_path = 'C:/Users/rukur/Downloads/MyPandas/chromedriver.exe')\n",
    "browser.implicitly_wait(1)"
   ]
  },
  {
   "cell_type": "code",
   "execution_count": 210,
   "id": "97e31ccf-2e3a-4f1c-9361-4be8e3cf281e",
   "metadata": {},
   "outputs": [
    {
     "name": "stdout",
     "output_type": "stream",
     "text": [
      "ログインページにアクセスしました\n"
     ]
    }
   ],
   "source": [
    "url_login = 'https://agt.directscout.recruit.co.jp/agent_administrator/login'\n",
    "browser.get(url_login)\n",
    "time.sleep(1)\n",
    "print(\"ログインページにアクセスしました\")"
   ]
  },
  {
   "cell_type": "code",
   "execution_count": 211,
   "id": "ceaa7b99-9e57-4c8f-be66-91071d2351fe",
   "metadata": {},
   "outputs": [
    {
     "name": "stdout",
     "output_type": "stream",
     "text": [
      "フォームを送信\n"
     ]
    },
    {
     "name": "stderr",
     "output_type": "stream",
     "text": [
      "C:\\Users\\rukur\\AppData\\Local\\Temp/ipykernel_13072/2514630149.py:1: DeprecationWarning: find_element_by_* commands are deprecated. Please use find_element() instead\n",
      "  element = browser.find_element_by_id('agent_administrator_email')\n",
      "C:\\Users\\rukur\\AppData\\Local\\Temp/ipykernel_13072/2514630149.py:5: DeprecationWarning: find_element_by_* commands are deprecated. Please use find_element() instead\n",
      "  element = browser.find_element_by_id('agent_administrator_password')\n"
     ]
    }
   ],
   "source": [
    "element = browser.find_element_by_id('agent_administrator_email')\n",
    "element.clear()\n",
    "element.send_keys(USER)\n",
    "\n",
    "element = browser.find_element_by_id('agent_administrator_password')\n",
    "element.clear()\n",
    "element.send_keys(PASS)\n",
    "\n",
    "print(\"フォームを送信\")"
   ]
  },
  {
   "cell_type": "code",
   "execution_count": 212,
   "id": "8666f6ec-3059-4588-b1a8-139bcc96783e",
   "metadata": {},
   "outputs": [
    {
     "name": "stderr",
     "output_type": "stream",
     "text": [
      "C:\\Users\\rukur\\AppData\\Local\\Temp/ipykernel_13072/1062997332.py:1: DeprecationWarning: find_element_by_name is deprecated. Please use find_element(by=By.NAME, value=name) instead\n",
      "  browser_from = browser.find_element_by_name('commit')\n"
     ]
    },
    {
     "name": "stdout",
     "output_type": "stream",
     "text": [
      "情報を入力してログインボタンを押しました\n"
     ]
    }
   ],
   "source": [
    "browser_from = browser.find_element_by_name('commit')\n",
    "time.sleep(3)\n",
    "browser_from.click()\n",
    "print(\"情報を入力してログインボタンを押しました\")"
   ]
  },
  {
   "cell_type": "code",
   "execution_count": 213,
   "id": "f41ba293-035f-4d7c-9419-bbc4708a491f",
   "metadata": {},
   "outputs": [
    {
     "name": "stderr",
     "output_type": "stream",
     "text": [
      "C:\\Users\\rukur\\AppData\\Local\\Temp/ipykernel_13072/1993384756.py:1: DeprecationWarning: find_element_by_* commands are deprecated. Please use find_element() instead\n",
      "  browser_from = browser.find_element_by_id('d-head-hunter-login-106233')\n"
     ]
    },
    {
     "name": "stdout",
     "output_type": "stream",
     "text": [
      "コンサルタントページへ移動しました\n"
     ]
    }
   ],
   "source": [
    "browser_from = browser.find_element_by_id('d-head-hunter-login-106233')\n",
    "time.sleep(1)\n",
    "browser_from.click()\n",
    "print(\"コンサルタントページへ移動しました\")"
   ]
  },
  {
   "cell_type": "code",
   "execution_count": 214,
   "id": "377a3bf4-1fcb-4302-bde2-e9a36067e7cf",
   "metadata": {},
   "outputs": [
    {
     "name": "stderr",
     "output_type": "stream",
     "text": [
      "C:\\Users\\rukur\\AppData\\Local\\Temp/ipykernel_13072/1781063321.py:1: DeprecationWarning: find_element_by_xpath is deprecated. Please use find_element(by=By.XPATH, value=xpath) instead\n",
      "  browser_from = browser.find_element_by_xpath('/html/body/header/nav/ul/li[6]/a')\n"
     ]
    },
    {
     "name": "stdout",
     "output_type": "stream",
     "text": [
      "求職者検索ページへ移動しました\n"
     ]
    }
   ],
   "source": [
    "browser_from = browser.find_element_by_xpath('/html/body/header/nav/ul/li[6]/a')\n",
    "time.sleep(1)\n",
    "browser_from.click()\n",
    "print(\"求職者検索ページへ移動しました\")"
   ]
  },
  {
   "cell_type": "code",
   "execution_count": 215,
   "id": "ad25614c-33c4-4d8d-b854-5ce600552350",
   "metadata": {},
   "outputs": [
    {
     "name": "stdout",
     "output_type": "stream",
     "text": [
      "フォームを送信\n"
     ]
    },
    {
     "name": "stderr",
     "output_type": "stream",
     "text": [
      "C:\\Users\\rukur\\AppData\\Local\\Temp/ipykernel_13072/516648591.py:1: DeprecationWarning: find_element_by_name is deprecated. Please use find_element(by=By.NAME, value=name) instead\n",
      "  element = browser.find_element_by_name('message_search_form[date_from]')\n",
      "C:\\Users\\rukur\\AppData\\Local\\Temp/ipykernel_13072/516648591.py:5: DeprecationWarning: find_element_by_name is deprecated. Please use find_element(by=By.NAME, value=name) instead\n",
      "  element = browser.find_element_by_name('message_search_form[date_to]')\n"
     ]
    }
   ],
   "source": [
    "element = browser.find_element_by_name('message_search_form[date_from]')\n",
    "element.clear()\n",
    "element.send_keys(DAY)\n",
    "\n",
    "element = browser.find_element_by_name('message_search_form[date_to]')\n",
    "element.clear()\n",
    "element.send_keys(DAY)\n",
    "\n",
    "print(\"フォームを送信\")"
   ]
  },
  {
   "cell_type": "code",
   "execution_count": 216,
   "id": "d887e8af-a0c5-44e6-9f13-d3e701aaca25",
   "metadata": {},
   "outputs": [
    {
     "name": "stderr",
     "output_type": "stream",
     "text": [
      "C:\\Users\\rukur\\AppData\\Local\\Temp/ipykernel_13072/1689418702.py:1: DeprecationWarning: find_element_by_xpath is deprecated. Please use find_element(by=By.XPATH, value=xpath) instead\n",
      "  browser_from = browser.find_element_by_xpath('//*[@id=\"new_message_search_form\"]/dl[3]/dd/div[1]/div[1]/ins')\n"
     ]
    },
    {
     "name": "stdout",
     "output_type": "stream",
     "text": [
      "受信をクリア\n",
      "送信をチェック\n",
      "返信をクリア\n",
      "FITをクリア\n"
     ]
    },
    {
     "name": "stderr",
     "output_type": "stream",
     "text": [
      "C:\\Users\\rukur\\AppData\\Local\\Temp/ipykernel_13072/1689418702.py:5: DeprecationWarning: find_element_by_xpath is deprecated. Please use find_element(by=By.XPATH, value=xpath) instead\n",
      "  browser_from = browser.find_element_by_xpath('//*[@id=\"new_message_search_form\"]/dl[3]/dd/div[2]/div[1]/ins')\n",
      "C:\\Users\\rukur\\AppData\\Local\\Temp/ipykernel_13072/1689418702.py:9: DeprecationWarning: find_element_by_xpath is deprecated. Please use find_element(by=By.XPATH, value=xpath) instead\n",
      "  browser_from = browser.find_element_by_xpath('//*[@id=\"new_message_search_form\"]/dl[3]/dd/div[2]/div[5]/ins')\n",
      "C:\\Users\\rukur\\AppData\\Local\\Temp/ipykernel_13072/1689418702.py:13: DeprecationWarning: find_element_by_xpath is deprecated. Please use find_element(by=By.XPATH, value=xpath) instead\n",
      "  browser_from = browser.find_element_by_xpath('/html/body/div[2]/div/div[1]/div[1]/div[2]/form/dl[3]/dd/div[2]/div[4]/ins')\n"
     ]
    }
   ],
   "source": [
    "browser_from = browser.find_element_by_xpath('//*[@id=\"new_message_search_form\"]/dl[3]/dd/div[1]/div[1]/ins')\n",
    "browser_from.click()\n",
    "print(\"受信をクリア\")\n",
    "\n",
    "browser_from = browser.find_element_by_xpath('//*[@id=\"new_message_search_form\"]/dl[3]/dd/div[2]/div[1]/ins')\n",
    "browser_from.click()\n",
    "print(\"送信をチェック\")\n",
    "\n",
    "browser_from = browser.find_element_by_xpath('//*[@id=\"new_message_search_form\"]/dl[3]/dd/div[2]/div[5]/ins')\n",
    "browser_from.click()\n",
    "print(\"返信をクリア\")\n",
    "\n",
    "browser_from = browser.find_element_by_xpath('/html/body/div[2]/div/div[1]/div[1]/div[2]/form/dl[3]/dd/div[2]/div[4]/ins')\n",
    "browser_from.click()\n",
    "print(\"FITをクリア\")"
   ]
  },
  {
   "cell_type": "code",
   "execution_count": 217,
   "id": "7f7bb1ba-fa07-49f4-b937-75d8ed381475",
   "metadata": {},
   "outputs": [
    {
     "name": "stderr",
     "output_type": "stream",
     "text": [
      "C:\\Users\\rukur\\AppData\\Local\\Temp/ipykernel_13072/2986351597.py:1: DeprecationWarning: find_element_by_name is deprecated. Please use find_element(by=By.NAME, value=name) instead\n",
      "  browser_from = browser.find_element_by_name('commit')\n"
     ]
    },
    {
     "name": "stdout",
     "output_type": "stream",
     "text": [
      "検索をしました\n"
     ]
    }
   ],
   "source": [
    "browser_from = browser.find_element_by_name('commit')\n",
    "time.sleep(1)\n",
    "browser_from.click()\n",
    "print(\"検索をしました\")"
   ]
  },
  {
   "cell_type": "code",
   "execution_count": 218,
   "id": "b8f19bd0-61a2-4ae2-a5f7-8ecb623dfa1c",
   "metadata": {},
   "outputs": [
    {
     "name": "stdout",
     "output_type": "stream",
     "text": [
      "165\n"
     ]
    },
    {
     "name": "stderr",
     "output_type": "stream",
     "text": [
      "C:\\Users\\rukur\\AppData\\Local\\Temp/ipykernel_13072/1919625979.py:1: DeprecationWarning: find_element_by_xpath is deprecated. Please use find_element(by=By.XPATH, value=xpath) instead\n",
      "  send_all = browser.find_element_by_xpath('/html/body/div[2]/div/div[1]/div[2]/p')\n"
     ]
    }
   ],
   "source": [
    "send_all = browser.find_element_by_xpath('/html/body/div[2]/div/div[1]/div[2]/p')\n",
    "send_all_count = re.sub(r\"\\D\", \"\", send_all.text.split('全')[1])\n",
    "print(send_all_count)"
   ]
  },
  {
   "cell_type": "code",
   "execution_count": 219,
   "id": "30f29aaf-eb20-406e-b237-db9e1a195c98",
   "metadata": {},
   "outputs": [],
   "source": [
    "actions = ActionChains(browser)"
   ]
  },
  {
   "cell_type": "code",
   "execution_count": 220,
   "id": "7774682f-122c-4938-8bd0-21c8fa2ff2fd",
   "metadata": {},
   "outputs": [],
   "source": [
    "k1 = '/html/body/div[2]/div/div[1]/table/tbody/tr['\n",
    "k2 = ']/td[3]/a/span'"
   ]
  },
  {
   "cell_type": "code",
   "execution_count": 221,
   "id": "4e9c3100-86fc-4f06-b9f2-88959eac1d52",
   "metadata": {},
   "outputs": [
    {
     "data": {
      "text/html": [
       "<div>\n",
       "<style scoped>\n",
       "    .dataframe tbody tr th:only-of-type {\n",
       "        vertical-align: middle;\n",
       "    }\n",
       "\n",
       "    .dataframe tbody tr th {\n",
       "        vertical-align: top;\n",
       "    }\n",
       "\n",
       "    .dataframe thead th {\n",
       "        text-align: right;\n",
       "    }\n",
       "</style>\n",
       "<table border=\"1\" class=\"dataframe\">\n",
       "  <thead>\n",
       "    <tr style=\"text-align: right;\">\n",
       "      <th></th>\n",
       "      <th>send_tittle</th>\n",
       "      <th>send_day</th>\n",
       "    </tr>\n",
       "  </thead>\n",
       "  <tbody>\n",
       "  </tbody>\n",
       "</table>\n",
       "</div>"
      ],
      "text/plain": [
       "Empty DataFrame\n",
       "Columns: [send_tittle, send_day]\n",
       "Index: []"
      ]
     },
     "execution_count": 221,
     "metadata": {},
     "output_type": "execute_result"
    }
   ],
   "source": [
    "df2 = pd.DataFrame(columns=['number','send_tittle','send_day'])\n",
    "df2"
   ]
  },
  {
   "cell_type": "code",
   "execution_count": 222,
   "id": "3a023358-93dc-4b57-ad8d-c63178ec8e34",
   "metadata": {},
   "outputs": [
    {
     "name": "stdout",
     "output_type": "stream",
     "text": [
      "5 16\n",
      "[1, 2, 3, 4]\n"
     ]
    }
   ],
   "source": [
    "j = int(send_all_count)\n",
    "if j <= 50:\n",
    "    j_page = j + 1\n",
    "    j_loop = 2\n",
    "else:\n",
    "    j_page = divmod(j,50)[1] + 1\n",
    "    j_loop = divmod(j,50)[0] + 2\n",
    "print(j_loop,j_page)\n",
    "print(list(range(1,j_loop)))"
   ]
  },
  {
   "cell_type": "code",
   "execution_count": 223,
   "id": "36cf9246-bdc8-4b64-916c-f45b96e0fb65",
   "metadata": {
    "tags": []
   },
   "outputs": [
    {
     "name": "stdout",
     "output_type": "stream",
     "text": [
      "1\n"
     ]
    },
    {
     "name": "stderr",
     "output_type": "stream",
     "text": [
      "C:\\Users\\rukur\\AppData\\Local\\Temp/ipykernel_13072/3236272403.py:15: DeprecationWarning: find_element_by_xpath is deprecated. Please use find_element(by=By.XPATH, value=xpath) instead\n",
      "  browser_from = browser.find_element_by_xpath(k1 + str(i) + k2)\n"
     ]
    },
    {
     "name": "stdout",
     "output_type": "stream",
     "text": [
      "求職者ページへ遷移1\n"
     ]
    },
    {
     "name": "stderr",
     "output_type": "stream",
     "text": [
      "C:\\Users\\rukur\\AppData\\Local\\Temp/ipykernel_13072/3236272403.py:28: DeprecationWarning: find_element_by_xpath is deprecated. Please use find_element(by=By.XPATH, value=xpath) instead\n",
      "  browser_from = browser.find_element_by_xpath('/html/body/div[2]/div/div[2]/ul/li[2]/a')\n"
     ]
    },
    {
     "name": "stdout",
     "output_type": "stream",
     "text": [
      "メッセージへ移動しました1\n"
     ]
    },
    {
     "name": "stderr",
     "output_type": "stream",
     "text": [
      "C:\\Users\\rukur\\AppData\\Local\\Temp/ipykernel_13072/3236272403.py:34: DeprecationWarning: find_element_by_xpath is deprecated. Please use find_element(by=By.XPATH, value=xpath) instead\n",
      "  browser_from = browser.find_element_by_xpath('/html/body/div[2]/div/div[2]/div[4]/div[2]/div[1]/div[2]')\n"
     ]
    },
    {
     "name": "stdout",
     "output_type": "stream",
     "text": [
      "全 1 件\n",
      "医療法人の運営マネージャー・経営コンサルタント■東証1部上場グループ／年休122日／リモート環境あり 2022/05/09 22:28\n"
     ]
    },
    {
     "name": "stderr",
     "output_type": "stream",
     "text": [
      "C:\\Users\\rukur\\AppData\\Local\\Temp/ipykernel_13072/3236272403.py:48: DeprecationWarning: find_element_by_xpath is deprecated. Please use find_element(by=By.XPATH, value=xpath) instead\n",
      "  send_tittle = browser.find_element_by_xpath(s1+result+s2)\n",
      "C:\\Users\\rukur\\AppData\\Local\\Temp/ipykernel_13072/3236272403.py:49: DeprecationWarning: find_element_by_xpath is deprecated. Please use find_element(by=By.XPATH, value=xpath) instead\n",
      "  send_day = browser.find_element_by_xpath(s1+result+s3)\n"
     ]
    },
    {
     "name": "stdout",
     "output_type": "stream",
     "text": [
      "2\n",
      "求職者ページへ遷移2\n",
      "メッセージへ移動しました2\n",
      "全 1 件\n",
      "医療法人の運営マネージャー・経営コンサルタント■東証1部上場グループ／年休122日／リモート環境あり 2022/05/09 22:27\n",
      "3\n",
      "求職者ページへ遷移3\n",
      "メッセージへ移動しました3\n",
      "全 1 件\n",
      "医療法人の運営マネージャー・経営コンサルタント■東証1部上場グループ／年休122日／リモート環境あり 2022/05/09 22:23\n"
     ]
    },
    {
     "name": "stderr",
     "output_type": "stream",
     "text": [
      "C:\\Users\\rukur\\AppData\\Local\\Temp/ipykernel_13072/3236272403.py:71: DeprecationWarning: find_elements_by_xpath is deprecated. Please use find_elements(by=By.XPATH, value=xpath) instead\n",
      "  for item in browser.find_elements_by_xpath('//a[contains(text(), \"次の50件 >\")]') :\n"
     ]
    },
    {
     "name": "stdout",
     "output_type": "stream",
     "text": [
      "次のページへ1\n",
      "51\n",
      "求職者ページへ遷移51\n",
      "メッセージへ移動しました51\n"
     ]
    },
    {
     "name": "stderr",
     "output_type": "stream",
     "text": [
      "C:\\Users\\rukur\\AppData\\Local\\Temp/ipykernel_13072/3236272403.py:37: DeprecationWarning: find_element_by_xpath is deprecated. Please use find_element(by=By.XPATH, value=xpath) instead\n",
      "  browser_from = browser.find_element_by_xpath('/html/body/div[2]/div/div[2]/div[5]/div[2]/div[1]/div[2]')\n"
     ]
    },
    {
     "name": "stdout",
     "output_type": "stream",
     "text": [
      "全 1 件\n"
     ]
    },
    {
     "name": "stderr",
     "output_type": "stream",
     "text": [
      "C:\\Users\\rukur\\AppData\\Local\\Temp/ipykernel_13072/3236272403.py:55: DeprecationWarning: find_element_by_xpath is deprecated. Please use find_element(by=By.XPATH, value=xpath) instead\n",
      "  send_tittle = browser.find_element_by_xpath(s1+result+s2)\n",
      "C:\\Users\\rukur\\AppData\\Local\\Temp/ipykernel_13072/3236272403.py:56: DeprecationWarning: find_element_by_xpath is deprecated. Please use find_element(by=By.XPATH, value=xpath) instead\n",
      "  send_day = browser.find_element_by_xpath(s1+result+s3)\n"
     ]
    },
    {
     "name": "stdout",
     "output_type": "stream",
     "text": [
      "【ご面談のお願い】ご経歴を拝見致しました！ 2022/05/09 19:06\n",
      "52\n",
      "求職者ページへ遷移52\n",
      "メッセージへ移動しました52\n",
      "全 1 件\n",
      "【ご面談のお願い】ご経歴を拝見致しました！ 2022/05/09 19:05\n",
      "53\n",
      "求職者ページへ遷移53\n",
      "メッセージへ移動しました53\n",
      "全 1 件\n",
      "【ご面談のお願い】ご経歴を拝見致しました！ 2022/05/09 19:05\n",
      "次のページへ2\n",
      "101\n",
      "求職者ページへ遷移101\n",
      "メッセージへ移動しました101\n",
      "全 1 件\n",
      "【組織コンサルタント/幹部候補】～マネジメントの”解”を学び、自ら組織を変革～ 2022/05/09 18:08\n",
      "102\n",
      "求職者ページへ遷移102\n",
      "メッセージへ移動しました102\n",
      "全 1 件\n",
      "【ご面談のお願い】ご経歴を拝見致しました！ 2022/05/09 18:06\n",
      "103\n",
      "求職者ページへ遷移103\n",
      "メッセージへ移動しました103\n",
      "全 1 件\n",
      "【ご面談のお願い】ご経歴を拝見致しました！ 2022/05/09 18:06\n",
      "次のページへ3\n",
      "151\n",
      "求職者ページへ遷移151\n",
      "メッセージへ移動しました151\n",
      "全 1 件\n",
      "【組織コンサルタント/幹部候補】～マネジメントの”解”を学び、自ら組織を変革～ 2022/05/09 14:28\n",
      "152\n",
      "求職者ページへ遷移152\n",
      "メッセージへ移動しました152\n",
      "全 1 件\n",
      "【組織コンサルタント/幹部候補】～マネジメントの”解”を学び、自ら組織を変革～ 2022/05/09 14:06\n",
      "153\n",
      "求職者ページへ遷移153\n",
      "メッセージへ移動しました153\n",
      "全 1 件\n",
      "【組織コンサルタント/幹部候補】～マネジメントの”解”を学び、自ら組織を変革～ 2022/05/09 14:05\n"
     ]
    }
   ],
   "source": [
    "tab_count = 0\n",
    "\n",
    "for h in range(1,j_loop):\n",
    "    if h == j_loop - 1:\n",
    "        send_page = j_page\n",
    "    else:\n",
    "        send_page = 51\n",
    "\n",
    "\n",
    "    for i in range(1,4):\n",
    "        # send_page\n",
    "\n",
    "        print(str(i + ((h - 1) * 50)))     \n",
    "\n",
    "        browser_from = browser.find_element_by_xpath(k1 + str(i) + k2)\n",
    "        time.sleep(1)\n",
    "\n",
    "        actions.key_down(Keys.CONTROL)\n",
    "        actions.click(browser_from)\n",
    "        actions.perform()\n",
    "\n",
    "        print(\"求職者ページへ遷移\" + str(i + ((h - 1) * 50)))\n",
    "\n",
    "        tab_count += 1\n",
    "        browser.switch_to.window(browser.window_handles[tab_count])\n",
    "        time.sleep(1)\n",
    "\n",
    "        browser_from = browser.find_element_by_xpath('/html/body/div[2]/div/div[2]/ul/li[2]/a')   \n",
    "        browser_from.click()\n",
    "        print(\"メッセージへ移動しました\" + str(i + ((h - 1) * 50)))\n",
    "        time.sleep(1)\n",
    "\n",
    "        try:\n",
    "            browser_from = browser.find_element_by_xpath('/html/body/div[2]/div/div[2]/div[4]/div[2]/div[1]/div[2]')\n",
    "            time.sleep(1)        \n",
    "        except NoSuchElementException:\n",
    "            browser_from = browser.find_element_by_xpath('/html/body/div[2]/div/div[2]/div[5]/div[2]/div[1]/div[2]')\n",
    "            time.sleep(1)\n",
    "\n",
    "        print(browser_from.text)\n",
    "        result = re.sub(r\"\\D\", \"\", browser_from.text)\n",
    "\n",
    "        s1 = '/html/body/div[2]/div/div[2]/div[4]/div[2]/ul/li['\n",
    "        s2 = ']/div[1]/span[2]'\n",
    "        s3 = ']/div[1]/span[3]'\n",
    "\n",
    "        try:\n",
    "            send_tittle = browser.find_element_by_xpath(s1+result+s2)\n",
    "            send_day = browser.find_element_by_xpath(s1+result+s3)\n",
    "        except NoSuchElementException:\n",
    "            s1 = '/html/body/div[2]/div/div[2]/div[5]/div[2]/ul/li['\n",
    "            s2 = ']/div[1]/span[2]'\n",
    "            s3 = ']/div[1]/span[3]'\n",
    "\n",
    "            send_tittle = browser.find_element_by_xpath(s1+result+s2)\n",
    "            send_day = browser.find_element_by_xpath(s1+result+s3)\n",
    "\n",
    "        print(send_tittle.text,send_day.text)\n",
    "\n",
    "        df = pd.DataFrame([[str(i + ((h - 1) * 50)),send_tittle.text,send_day.text]],columns=['number','send_tittle','send_day'])\n",
    "\n",
    "        df2 = pd.concat([df2,df],join='outer',ignore_index=True)\n",
    "\n",
    "        browser.switch_to.window(browser.window_handles[0])\n",
    "        time.sleep(1)\n",
    "\n",
    "    \n",
    "    if h == j_loop - 1:\n",
    "        pass\n",
    "    else:\n",
    "        for item in browser.find_elements_by_xpath('//a[contains(text(), \"次の50件 >\")]') :\n",
    "            time.sleep(1)\n",
    "            item.click()\n",
    "            print(\"次のページへ\" + str(h))\n",
    "            break\n",
    "\n"
   ]
  },
  {
   "cell_type": "code",
   "execution_count": 224,
   "id": "c21d487d-3478-430f-b772-ad80ab2cf78f",
   "metadata": {},
   "outputs": [
    {
     "data": {
      "text/html": [
       "<div>\n",
       "<style scoped>\n",
       "    .dataframe tbody tr th:only-of-type {\n",
       "        vertical-align: middle;\n",
       "    }\n",
       "\n",
       "    .dataframe tbody tr th {\n",
       "        vertical-align: top;\n",
       "    }\n",
       "\n",
       "    .dataframe thead th {\n",
       "        text-align: right;\n",
       "    }\n",
       "</style>\n",
       "<table border=\"1\" class=\"dataframe\">\n",
       "  <thead>\n",
       "    <tr style=\"text-align: right;\">\n",
       "      <th></th>\n",
       "      <th>send_tittle</th>\n",
       "      <th>send_day</th>\n",
       "    </tr>\n",
       "  </thead>\n",
       "  <tbody>\n",
       "    <tr>\n",
       "      <th>0</th>\n",
       "      <td>医療法人の運営マネージャー・経営コンサルタント■東証1部上場グループ／年休122日／リモート...</td>\n",
       "      <td>2022/05/09 22:28</td>\n",
       "    </tr>\n",
       "    <tr>\n",
       "      <th>1</th>\n",
       "      <td>医療法人の運営マネージャー・経営コンサルタント■東証1部上場グループ／年休122日／リモート...</td>\n",
       "      <td>2022/05/09 22:27</td>\n",
       "    </tr>\n",
       "    <tr>\n",
       "      <th>2</th>\n",
       "      <td>医療法人の運営マネージャー・経営コンサルタント■東証1部上場グループ／年休122日／リモート...</td>\n",
       "      <td>2022/05/09 22:23</td>\n",
       "    </tr>\n",
       "    <tr>\n",
       "      <th>3</th>\n",
       "      <td>【ご面談のお願い】ご経歴を拝見致しました！</td>\n",
       "      <td>2022/05/09 19:06</td>\n",
       "    </tr>\n",
       "    <tr>\n",
       "      <th>4</th>\n",
       "      <td>【ご面談のお願い】ご経歴を拝見致しました！</td>\n",
       "      <td>2022/05/09 19:05</td>\n",
       "    </tr>\n",
       "    <tr>\n",
       "      <th>5</th>\n",
       "      <td>【ご面談のお願い】ご経歴を拝見致しました！</td>\n",
       "      <td>2022/05/09 19:05</td>\n",
       "    </tr>\n",
       "    <tr>\n",
       "      <th>6</th>\n",
       "      <td>【組織コンサルタント/幹部候補】～マネジメントの”解”を学び、自ら組織を変革～</td>\n",
       "      <td>2022/05/09 18:08</td>\n",
       "    </tr>\n",
       "    <tr>\n",
       "      <th>7</th>\n",
       "      <td>【ご面談のお願い】ご経歴を拝見致しました！</td>\n",
       "      <td>2022/05/09 18:06</td>\n",
       "    </tr>\n",
       "    <tr>\n",
       "      <th>8</th>\n",
       "      <td>【ご面談のお願い】ご経歴を拝見致しました！</td>\n",
       "      <td>2022/05/09 18:06</td>\n",
       "    </tr>\n",
       "    <tr>\n",
       "      <th>9</th>\n",
       "      <td>【組織コンサルタント/幹部候補】～マネジメントの”解”を学び、自ら組織を変革～</td>\n",
       "      <td>2022/05/09 14:28</td>\n",
       "    </tr>\n",
       "    <tr>\n",
       "      <th>10</th>\n",
       "      <td>【組織コンサルタント/幹部候補】～マネジメントの”解”を学び、自ら組織を変革～</td>\n",
       "      <td>2022/05/09 14:06</td>\n",
       "    </tr>\n",
       "    <tr>\n",
       "      <th>11</th>\n",
       "      <td>【組織コンサルタント/幹部候補】～マネジメントの”解”を学び、自ら組織を変革～</td>\n",
       "      <td>2022/05/09 14:05</td>\n",
       "    </tr>\n",
       "  </tbody>\n",
       "</table>\n",
       "</div>"
      ],
      "text/plain": [
       "                                          send_tittle          send_day\n",
       "0   医療法人の運営マネージャー・経営コンサルタント■東証1部上場グループ／年休122日／リモート...  2022/05/09 22:28\n",
       "1   医療法人の運営マネージャー・経営コンサルタント■東証1部上場グループ／年休122日／リモート...  2022/05/09 22:27\n",
       "2   医療法人の運営マネージャー・経営コンサルタント■東証1部上場グループ／年休122日／リモート...  2022/05/09 22:23\n",
       "3                               【ご面談のお願い】ご経歴を拝見致しました！  2022/05/09 19:06\n",
       "4                               【ご面談のお願い】ご経歴を拝見致しました！  2022/05/09 19:05\n",
       "5                               【ご面談のお願い】ご経歴を拝見致しました！  2022/05/09 19:05\n",
       "6             【組織コンサルタント/幹部候補】～マネジメントの”解”を学び、自ら組織を変革～  2022/05/09 18:08\n",
       "7                               【ご面談のお願い】ご経歴を拝見致しました！  2022/05/09 18:06\n",
       "8                               【ご面談のお願い】ご経歴を拝見致しました！  2022/05/09 18:06\n",
       "9             【組織コンサルタント/幹部候補】～マネジメントの”解”を学び、自ら組織を変革～  2022/05/09 14:28\n",
       "10            【組織コンサルタント/幹部候補】～マネジメントの”解”を学び、自ら組織を変革～  2022/05/09 14:06\n",
       "11            【組織コンサルタント/幹部候補】～マネジメントの”解”を学び、自ら組織を変革～  2022/05/09 14:05"
      ]
     },
     "execution_count": 224,
     "metadata": {},
     "output_type": "execute_result"
    }
   ],
   "source": [
    "df2"
   ]
  },
  {
   "cell_type": "code",
   "execution_count": 227,
   "id": "285513f7-63c6-4945-b9e7-d19b7ff5f694",
   "metadata": {},
   "outputs": [
    {
     "data": {
      "text/plain": [
       "【ご面談のお願い】ご経歴を拝見致しました！                                 5\n",
       "【組織コンサルタント/幹部候補】～マネジメントの”解”を学び、自ら組織を変革～               4\n",
       "医療法人の運営マネージャー・経営コンサルタント■東証1部上場グループ／年休122日／リモート環境あり    3\n",
       "Name: send_tittle, dtype: int64"
      ]
     },
     "execution_count": 227,
     "metadata": {},
     "output_type": "execute_result"
    }
   ],
   "source": [
    "df3 = df2['send_tittle']\n",
    "df3.value_counts()"
   ]
  },
  {
   "cell_type": "code",
   "execution_count": null,
   "id": "ddd372ed-0540-44d5-9c96-1b6416c6824d",
   "metadata": {},
   "outputs": [],
   "source": []
  },
  {
   "cell_type": "code",
   "execution_count": null,
   "id": "ac403e58-48a1-4fb1-a359-05680905592f",
   "metadata": {},
   "outputs": [],
   "source": []
  },
  {
   "cell_type": "code",
   "execution_count": 112,
   "id": "13e24da8-aa21-4acb-851b-bc116a629f8a",
   "metadata": {},
   "outputs": [
    {
     "data": {
      "text/html": [
       "<div>\n",
       "<style scoped>\n",
       "    .dataframe tbody tr th:only-of-type {\n",
       "        vertical-align: middle;\n",
       "    }\n",
       "\n",
       "    .dataframe tbody tr th {\n",
       "        vertical-align: top;\n",
       "    }\n",
       "\n",
       "    .dataframe thead th {\n",
       "        text-align: right;\n",
       "    }\n",
       "</style>\n",
       "<table border=\"1\" class=\"dataframe\">\n",
       "  <thead>\n",
       "    <tr style=\"text-align: right;\">\n",
       "      <th></th>\n",
       "      <th>send_tittle</th>\n",
       "      <th>send_day</th>\n",
       "    </tr>\n",
       "  </thead>\n",
       "  <tbody>\n",
       "    <tr>\n",
       "      <th>0</th>\n",
       "      <td>【ご面談のお願い】ご経歴を拝見致しました！</td>\n",
       "      <td>2022/04/28 21:13</td>\n",
       "    </tr>\n",
       "    <tr>\n",
       "      <th>1</th>\n",
       "      <td>【ご面談のお願い】ご経歴を拝見致しました！</td>\n",
       "      <td>2022/04/28 21:13</td>\n",
       "    </tr>\n",
       "  </tbody>\n",
       "</table>\n",
       "</div>"
      ],
      "text/plain": [
       "             send_tittle          send_day\n",
       "0  【ご面談のお願い】ご経歴を拝見致しました！  2022/04/28 21:13\n",
       "1  【ご面談のお願い】ご経歴を拝見致しました！  2022/04/28 21:13"
      ]
     },
     "execution_count": 112,
     "metadata": {},
     "output_type": "execute_result"
    }
   ],
   "source": []
  },
  {
   "cell_type": "code",
   "execution_count": null,
   "id": "86b4bad6-a87f-4b80-a960-0d9f0a6d47ef",
   "metadata": {},
   "outputs": [],
   "source": []
  }
 ],
 "metadata": {
  "kernelspec": {
   "display_name": "Python 3 (ipykernel)",
   "language": "python",
   "name": "python3"
  },
  "language_info": {
   "codemirror_mode": {
    "name": "ipython",
    "version": 3
   },
   "file_extension": ".py",
   "mimetype": "text/x-python",
   "name": "python",
   "nbconvert_exporter": "python",
   "pygments_lexer": "ipython3",
   "version": "3.9.7"
  }
 },
 "nbformat": 4,
 "nbformat_minor": 5
}
