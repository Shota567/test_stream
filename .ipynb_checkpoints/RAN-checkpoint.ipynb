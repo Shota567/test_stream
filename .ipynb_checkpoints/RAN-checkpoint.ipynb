{
 "cells": [
  {
   "cell_type": "code",
   "execution_count": 1,
   "id": "2fc0bbf0-6a88-4f8e-9145-3af784f7322c",
   "metadata": {},
   "outputs": [
    {
     "name": "stdout",
     "output_type": "stream",
     "text": [
      "Requirement already satisfied: selenium in c:\\users\\matsuno\\anaconda3\\lib\\site-packages (4.2.0)\n",
      "Requirement already satisfied: urllib3[secure,socks]~=1.26 in c:\\users\\matsuno\\anaconda3\\lib\\site-packages (from selenium) (1.26.9)\n",
      "Requirement already satisfied: trio-websocket~=0.9 in c:\\users\\matsuno\\anaconda3\\lib\\site-packages (from selenium) (0.9.2)\n",
      "Requirement already satisfied: trio~=0.17 in c:\\users\\matsuno\\anaconda3\\lib\\site-packages (from selenium) (0.20.0)\n",
      "Requirement already satisfied: sortedcontainers in c:\\users\\matsuno\\anaconda3\\lib\\site-packages (from trio~=0.17->selenium) (2.4.0)\n",
      "Requirement already satisfied: attrs>=19.2.0 in c:\\users\\matsuno\\anaconda3\\lib\\site-packages (from trio~=0.17->selenium) (21.4.0)\n",
      "Requirement already satisfied: outcome in c:\\users\\matsuno\\anaconda3\\lib\\site-packages (from trio~=0.17->selenium) (1.1.0)\n",
      "Requirement already satisfied: sniffio in c:\\users\\matsuno\\anaconda3\\lib\\site-packages (from trio~=0.17->selenium) (1.2.0)\n",
      "Requirement already satisfied: idna in c:\\users\\matsuno\\anaconda3\\lib\\site-packages (from trio~=0.17->selenium) (3.3)\n",
      "Requirement already satisfied: cffi>=1.14 in c:\\users\\matsuno\\anaconda3\\lib\\site-packages (from trio~=0.17->selenium) (1.15.0)\n",
      "Requirement already satisfied: async-generator>=1.9 in c:\\users\\matsuno\\anaconda3\\lib\\site-packages (from trio~=0.17->selenium) (1.10)\n",
      "Requirement already satisfied: pycparser in c:\\users\\matsuno\\anaconda3\\lib\\site-packages (from cffi>=1.14->trio~=0.17->selenium) (2.21)\n",
      "Requirement already satisfied: wsproto>=0.14 in c:\\users\\matsuno\\anaconda3\\lib\\site-packages (from trio-websocket~=0.9->selenium) (1.1.0)\n",
      "Requirement already satisfied: PySocks!=1.5.7,<2.0,>=1.5.6 in c:\\users\\matsuno\\anaconda3\\lib\\site-packages (from urllib3[secure,socks]~=1.26->selenium) (1.7.1)\n",
      "Requirement already satisfied: certifi in c:\\users\\matsuno\\anaconda3\\lib\\site-packages (from urllib3[secure,socks]~=1.26->selenium) (2021.10.8)\n",
      "Requirement already satisfied: cryptography>=1.3.4 in c:\\users\\matsuno\\anaconda3\\lib\\site-packages (from urllib3[secure,socks]~=1.26->selenium) (3.4.7)\n",
      "Requirement already satisfied: pyOpenSSL>=0.14 in c:\\users\\matsuno\\anaconda3\\lib\\site-packages (from urllib3[secure,socks]~=1.26->selenium) (21.0.0)\n",
      "Requirement already satisfied: six>=1.5.2 in c:\\users\\matsuno\\anaconda3\\lib\\site-packages (from pyOpenSSL>=0.14->urllib3[secure,socks]~=1.26->selenium) (1.16.0)\n",
      "Requirement already satisfied: h11<1,>=0.9.0 in c:\\users\\matsuno\\anaconda3\\lib\\site-packages (from wsproto>=0.14->trio-websocket~=0.9->selenium) (0.13.0)\n"
     ]
    }
   ],
   "source": [
    "!pip install selenium"
   ]
  },
  {
   "cell_type": "code",
   "execution_count": 2,
   "id": "4a0518a7-1e30-43b2-86a3-00c50a0290cd",
   "metadata": {},
   "outputs": [],
   "source": [
    "from selenium import webdriver\n",
    "\n",
    "import time\n",
    "\n",
    "import pandas as pd\n",
    "\n",
    "from selenium.webdriver.common.action_chains import ActionChains\n",
    "from selenium.webdriver.common.keys import Keys\n",
    "from selenium.common.exceptions import NoSuchElementException\n",
    "\n",
    "import re\n",
    "import numpy as np"
   ]
  },
  {
   "cell_type": "code",
   "execution_count": 3,
   "id": "d3d1362f-9f6e-43e3-9238-b1e997127888",
   "metadata": {},
   "outputs": [],
   "source": [
    "DAY = '2022/10/28'\n",
    "\n",
    "OKAMOTO = ['32185620031513' , 'pmc-581214']\n",
    "IIDA = ['Iida-202103' , '@Pmc0224']\n",
    "RIKITAKE = ['Rikitake-202208' , 'pmcpmc-09']\n",
    "GOTO = ['40439600052135' , 'Goto1023!']\n",
    "\n",
    "HEAD_HUNTER_all = [OKAMOTO , IIDA , RIKITAKE , GOTO]\n",
    "\n",
    "url_login = 'https://ran.next.rikunabi.com/rnc/docs/ca_s01000.jsp?__u=16399866292046550213623108645490'"
   ]
  },
  {
   "cell_type": "code",
   "execution_count": 4,
   "id": "8bb07d30-69a9-43fa-afe8-3e03109b5b1b",
   "metadata": {},
   "outputs": [],
   "source": [
    "i = 3\n",
    "HEAD_HUNTER = HEAD_HUNTER_all[i]"
   ]
  },
  {
   "cell_type": "code",
   "execution_count": 5,
   "id": "554d16d5-86e6-4ab2-bedc-fc98f88a9064",
   "metadata": {},
   "outputs": [
    {
     "name": "stderr",
     "output_type": "stream",
     "text": [
      "C:\\Users\\matsuno\\AppData\\Local\\Temp\\ipykernel_11364\\2491014571.py:1: DeprecationWarning: executable_path has been deprecated, please pass in a Service object\n",
      "  browser = webdriver.Chrome(executable_path = 'C:/Users/matsuno/Downloads/MyPandas/chromedriver.exe')\n"
     ]
    },
    {
     "name": "stdout",
     "output_type": "stream",
     "text": [
      "ログインページに開きました\n"
     ]
    }
   ],
   "source": [
    "browser = webdriver.Chrome(executable_path = 'C:/Users/matsuno/Downloads/MyPandas/chromedriver.exe')\n",
    "browser.implicitly_wait(5)\n",
    "browser.get(url_login)\n",
    "time.sleep(1)\n",
    "print(\"ログインページに開きました\")"
   ]
  },
  {
   "cell_type": "code",
   "execution_count": 6,
   "id": "3c663758-4ff4-4b42-b86a-410e6c2f1300",
   "metadata": {},
   "outputs": [
    {
     "name": "stderr",
     "output_type": "stream",
     "text": [
      "C:\\Users\\matsuno\\AppData\\Local\\Temp\\ipykernel_11364\\3051373296.py:1: DeprecationWarning: find_element_by_name is deprecated. Please use find_element(by=By.NAME, value=name) instead\n",
      "  element = browser.find_element_by_name('login_nm')\n",
      "C:\\Users\\matsuno\\AppData\\Local\\Temp\\ipykernel_11364\\3051373296.py:5: DeprecationWarning: find_element_by_name is deprecated. Please use find_element(by=By.NAME, value=name) instead\n",
      "  element = browser.find_element_by_name('pswd')\n",
      "C:\\Users\\matsuno\\AppData\\Local\\Temp\\ipykernel_11364\\3051373296.py:10: DeprecationWarning: find_element_by_xpath is deprecated. Please use find_element(by=By.XPATH, value=xpath) instead\n",
      "  browser_from = browser.find_element_by_xpath('/html/body/div[3]/form/table[2]/tbody/tr/td/a')\n"
     ]
    },
    {
     "name": "stdout",
     "output_type": "stream",
     "text": [
      "情報を入力しました\n",
      "情報を入力してログインボタンを押しました\n"
     ]
    }
   ],
   "source": [
    "element = browser.find_element_by_name('login_nm')\n",
    "element.clear()\n",
    "element.send_keys(HEAD_HUNTER[0])\n",
    "\n",
    "element = browser.find_element_by_name('pswd')\n",
    "element.clear()\n",
    "element.send_keys(HEAD_HUNTER[1])\n",
    "print(\"情報を入力しました\")\n",
    "\n",
    "browser_from = browser.find_element_by_xpath('/html/body/div[3]/form/table[2]/tbody/tr/td/a')\n",
    "time.sleep(1)\n",
    "browser_from.click()\n",
    "print(\"情報を入力してログインボタンを押しました\")"
   ]
  },
  {
   "cell_type": "code",
   "execution_count": 7,
   "id": "f3989e52-7333-4e53-a166-cb0e24b8d160",
   "metadata": {},
   "outputs": [
    {
     "name": "stderr",
     "output_type": "stream",
     "text": [
      "C:\\Users\\matsuno\\AppData\\Local\\Temp\\ipykernel_11364\\2345975391.py:1: DeprecationWarning: find_element_by_name is deprecated. Please use find_element(by=By.NAME, value=name) instead\n",
      "  browser.switch_to.frame(browser.find_element_by_name('upperFrame'))\n",
      "C:\\Users\\matsuno\\AppData\\Local\\Temp\\ipykernel_11364\\2345975391.py:2: DeprecationWarning: find_element_by_xpath is deprecated. Please use find_element(by=By.XPATH, value=xpath) instead\n",
      "  browser_from = browser.find_element_by_xpath('/html/body/div[1]/div[2]/ul/li[4]/a')\n"
     ]
    },
    {
     "name": "stdout",
     "output_type": "stream",
     "text": [
      "メッセージページへ移動しました\n"
     ]
    }
   ],
   "source": [
    "browser.switch_to.frame(browser.find_element_by_name('upperFrame'))\n",
    "browser_from = browser.find_element_by_xpath('/html/body/div[1]/div[2]/ul/li[4]/a')\n",
    "time.sleep(1)\n",
    "browser_from.click()\n",
    "print(\"メッセージページへ移動しました\")"
   ]
  },
  {
   "cell_type": "code",
   "execution_count": 8,
   "id": "9023d4ce-5b83-4282-805a-effefd8728c2",
   "metadata": {},
   "outputs": [],
   "source": [
    "browser.switch_to.default_content()"
   ]
  },
  {
   "cell_type": "code",
   "execution_count": 9,
   "id": "1a82359d-ffaf-470f-8256-0f811788fab1",
   "metadata": {},
   "outputs": [
    {
     "data": {
      "text/plain": [
       "'<html xmlns=\"http://www.w3.org/1999/xhtml\" xml:lang=\"ja\" lang=\"ja\"><head>\\n<meta http-equiv=\"Content-Type\" content=\"text/html; charset=Shift_JIS\">\\n<meta http-equiv=\"Content-Style-Type\" content=\"text/css\">\\n<meta http-equiv=\"Content-Script-Type\" content=\"text/javascript\">\\n<title>RAN-System</title>\\n</head>\\n\\n<frameset rows=\"90,*\" border=\"0\" frameborder=\"0\" framespacing=\"0\">\\n\\t<frame src=\"ca_s07000.jsp?tab_select_id=3&amp;__u=16671396754454648287079959384417\" name=\"upperFrame\" title=\"header\" scrolling=\"no\">\\n\\t<frame src=\"ca_s04000.jsp?__u=1667139675445403370306094404424\" name=\"lowerframe\" title=\"contents\" scrolling=\"auto\">\\n\\n\\t<noframes></noframes>\\n</frameset>\\n\\n\\n</html>'"
      ]
     },
     "execution_count": 9,
     "metadata": {},
     "output_type": "execute_result"
    }
   ],
   "source": [
    "browser.page_source"
   ]
  },
  {
   "cell_type": "code",
   "execution_count": 10,
   "id": "b603d643-4341-41d0-ae16-a540f8ef71e9",
   "metadata": {},
   "outputs": [
    {
     "name": "stderr",
     "output_type": "stream",
     "text": [
      "C:\\Users\\matsuno\\AppData\\Local\\Temp\\ipykernel_11364\\4288675496.py:1: DeprecationWarning: find_element_by_name is deprecated. Please use find_element(by=By.NAME, value=name) instead\n",
      "  browser.switch_to.frame(browser.find_element_by_name('lowerframe'))\n",
      "C:\\Users\\matsuno\\AppData\\Local\\Temp\\ipykernel_11364\\4288675496.py:2: DeprecationWarning: find_element_by_xpath is deprecated. Please use find_element(by=By.XPATH, value=xpath) instead\n",
      "  browser_from = browser.find_element_by_xpath('/html/body/div[1]/div[2]/form/ul/li[3]/a')\n"
     ]
    },
    {
     "name": "stdout",
     "output_type": "stream",
     "text": [
      "送信済み一覧ページへ移動しました\n"
     ]
    }
   ],
   "source": [
    "browser.switch_to.frame(browser.find_element_by_name('lowerframe'))\n",
    "browser_from = browser.find_element_by_xpath('/html/body/div[1]/div[2]/form/ul/li[3]/a')\n",
    "time.sleep(3)\n",
    "browser_from.click()\n",
    "print(\"送信済み一覧ページへ移動しました\")"
   ]
  },
  {
   "cell_type": "code",
   "execution_count": 11,
   "id": "257a2fac-2828-4c5f-9277-c4bf8107296b",
   "metadata": {},
   "outputs": [
    {
     "name": "stderr",
     "output_type": "stream",
     "text": [
      "C:\\Users\\matsuno\\AppData\\Local\\Temp\\ipykernel_11364\\3687096584.py:1: DeprecationWarning: find_element_by_xpath is deprecated. Please use find_element(by=By.XPATH, value=xpath) instead\n",
      "  browser_from = browser.find_element_by_xpath('/html/body/div[1]/div[2]/form/div[2]/div[2]/table[1]/tbody/tr[7]/td/input[2]')\n"
     ]
    },
    {
     "name": "stdout",
     "output_type": "stream",
     "text": [
      "期間限定ボタンをチェック\n"
     ]
    }
   ],
   "source": [
    "browser_from = browser.find_element_by_xpath('/html/body/div[1]/div[2]/form/div[2]/div[2]/table[1]/tbody/tr[7]/td/input[2]')\n",
    "browser_from.click()\n",
    "time.sleep(1)\n",
    "print(\"期間限定ボタンをチェック\")"
   ]
  },
  {
   "cell_type": "code",
   "execution_count": 12,
   "id": "37cc16f9-675f-4c90-bb1c-c45592b16690",
   "metadata": {},
   "outputs": [
    {
     "name": "stderr",
     "output_type": "stream",
     "text": [
      "C:\\Users\\matsuno\\AppData\\Local\\Temp\\ipykernel_11364\\855349734.py:1: DeprecationWarning: find_element_by_name is deprecated. Please use find_element(by=By.NAME, value=name) instead\n",
      "  element = browser.find_element_by_name('snd_dt_from')\n",
      "C:\\Users\\matsuno\\AppData\\Local\\Temp\\ipykernel_11364\\855349734.py:5: DeprecationWarning: find_element_by_name is deprecated. Please use find_element(by=By.NAME, value=name) instead\n",
      "  element = browser.find_element_by_name('snd_dt_to')\n"
     ]
    },
    {
     "name": "stdout",
     "output_type": "stream",
     "text": [
      "日付を入力しました\n"
     ]
    }
   ],
   "source": [
    "element = browser.find_element_by_name('snd_dt_from')\n",
    "element.clear()\n",
    "element.send_keys(DAY)\n",
    "\n",
    "element = browser.find_element_by_name('snd_dt_to')\n",
    "element.clear()\n",
    "element.send_keys(DAY)\n",
    "time.sleep(1)\n",
    "print(\"日付を入力しました\")"
   ]
  },
  {
   "cell_type": "code",
   "execution_count": 13,
   "id": "940457c6-1015-46dc-92e8-65ac29a21d92",
   "metadata": {},
   "outputs": [
    {
     "name": "stderr",
     "output_type": "stream",
     "text": [
      "C:\\Users\\matsuno\\AppData\\Local\\Temp\\ipykernel_11364\\2354892270.py:1: DeprecationWarning: find_element_by_xpath is deprecated. Please use find_element(by=By.XPATH, value=xpath) instead\n",
      "  browser_from = browser.find_element_by_xpath('/html/body/div[1]/div[2]/form/div[2]/div[2]/table[2]/tbody/tr/td/a/span')\n"
     ]
    },
    {
     "name": "stdout",
     "output_type": "stream",
     "text": [
      "検索しました\n"
     ]
    }
   ],
   "source": [
    "browser_from = browser.find_element_by_xpath('/html/body/div[1]/div[2]/form/div[2]/div[2]/table[2]/tbody/tr/td/a/span')\n",
    "browser_from.click()\n",
    "time.sleep(1)\n",
    "print(\"検索しました\")"
   ]
  },
  {
   "cell_type": "code",
   "execution_count": 14,
   "id": "446e515f-9a9c-40af-aa85-c3544944f42d",
   "metadata": {},
   "outputs": [
    {
     "name": "stderr",
     "output_type": "stream",
     "text": [
      "C:\\Users\\matsuno\\AppData\\Local\\Temp\\ipykernel_11364\\20908326.py:2: DeprecationWarning: find_element_by_xpath is deprecated. Please use find_element(by=By.XPATH, value=xpath) instead\n",
      "  send_all = browser.find_element_by_xpath('/html/body/div[1]/div[2]/form/div[2]/div[3]/div[2]/span[4]')\n"
     ]
    },
    {
     "name": "stdout",
     "output_type": "stream",
     "text": [
      "273\n"
     ]
    },
    {
     "name": "stderr",
     "output_type": "stream",
     "text": [
      "C:\\Users\\matsuno\\AppData\\Local\\Temp\\ipykernel_11364\\20908326.py:5: DeprecationWarning: find_element_by_xpath is deprecated. Please use find_element(by=By.XPATH, value=xpath) instead\n",
      "  send_all = browser.find_element_by_xpath('/html/body/div[1]/div[2]/form/div[2]/div[3]/div[2]/span[3]')\n"
     ]
    }
   ],
   "source": [
    "try:\n",
    "    send_all = browser.find_element_by_xpath('/html/body/div[1]/div[2]/form/div[2]/div[3]/div[2]/span[4]')\n",
    "except NoSuchElementException:\n",
    "    try:\n",
    "        send_all = browser.find_element_by_xpath('/html/body/div[1]/div[2]/form/div[2]/div[3]/div[2]/span[3]')\n",
    "    except NoSuchElementException:\n",
    "        try:\n",
    "            send_all = browser.find_element_by_xpath('/html/body/div[1]/div[2]/form/div[2]/div[3]/div[2]/span[2]')\n",
    "        except NoSuchElementException:\n",
    "            send_all = browser.find_element_by_xpath('/html/body/div[1]/div[2]/form/div[2]/table/tbody/tr/td')\n",
    "            print(send_all.text)\n",
    "            print(\"送信無し\")\n",
    "if '/' in send_all.text:\n",
    "    send_all_count = re.sub(r\"\\D\", \"\", send_all.text.split('/')[1])\n",
    "    print(send_all_count)"
   ]
  },
  {
   "cell_type": "code",
   "execution_count": 15,
   "id": "61300d10-2558-48ef-8b2f-e9420a100e41",
   "metadata": {},
   "outputs": [
    {
     "name": "stdout",
     "output_type": "stream",
     "text": [
      "273\n",
      "(2, 73)\n"
     ]
    }
   ],
   "source": [
    "page_ran = divmod(int(send_all_count),100)\n",
    "print(send_all_count)\n",
    "print(page_ran)"
   ]
  },
  {
   "cell_type": "code",
   "execution_count": 16,
   "id": "12ed1ac6-9b7d-483c-b24f-661e4dc65aaf",
   "metadata": {},
   "outputs": [],
   "source": [
    "df_count = pd.DataFrame(columns=['コンサルタント','send_tittle'])"
   ]
  },
  {
   "cell_type": "code",
   "execution_count": 17,
   "id": "6101abb2-1750-43b3-a3ab-af7864586855",
   "metadata": {},
   "outputs": [
    {
     "name": "stderr",
     "output_type": "stream",
     "text": [
      "C:\\Users\\matsuno\\AppData\\Local\\Temp\\ipykernel_11364\\599272334.py:9: DeprecationWarning: find_element_by_xpath is deprecated. Please use find_element(by=By.XPATH, value=xpath) instead\n",
      "  send_tittle = browser.find_element_by_xpath('/html/body/div[1]/div[2]/form/div[2]/table/tbody/tr[' + str(r) +  ']/td[2]/a')\n",
      "C:\\Users\\matsuno\\AppData\\Local\\Temp\\ipykernel_11364\\599272334.py:9: DeprecationWarning: find_element_by_xpath is deprecated. Please use find_element(by=By.XPATH, value=xpath) instead\n",
      "  send_tittle = browser.find_element_by_xpath('/html/body/div[1]/div[2]/form/div[2]/table/tbody/tr[' + str(r) +  ']/td[2]/a')\n"
     ]
    },
    {
     "name": "stdout",
     "output_type": "stream",
     "text": [
      "40439600052135は、「Re:オファーへの返信【リクナビＮＥＸＴ】」を送信しました1\n",
      "40439600052135は、「経理/財務「人×ICT×環境」～自社らしい働き方や環境を提案～　後藤」を送信しました2\n",
      "40439600052135は、「経理/財務「人×ICT×環境」～自社らしい働き方や環境を提案～　後藤」を送信しました3\n"
     ]
    },
    {
     "name": "stderr",
     "output_type": "stream",
     "text": [
      "C:\\Users\\matsuno\\AppData\\Local\\Temp\\ipykernel_11364\\599272334.py:9: DeprecationWarning: find_element_by_xpath is deprecated. Please use find_element(by=By.XPATH, value=xpath) instead\n",
      "  send_tittle = browser.find_element_by_xpath('/html/body/div[1]/div[2]/form/div[2]/table/tbody/tr[' + str(r) +  ']/td[2]/a')\n",
      "C:\\Users\\matsuno\\AppData\\Local\\Temp\\ipykernel_11364\\599272334.py:9: DeprecationWarning: find_element_by_xpath is deprecated. Please use find_element(by=By.XPATH, value=xpath) instead\n",
      "  send_tittle = browser.find_element_by_xpath('/html/body/div[1]/div[2]/form/div[2]/table/tbody/tr[' + str(r) +  ']/td[2]/a')\n",
      "C:\\Users\\matsuno\\AppData\\Local\\Temp\\ipykernel_11364\\599272334.py:9: DeprecationWarning: find_element_by_xpath is deprecated. Please use find_element(by=By.XPATH, value=xpath) instead\n",
      "  send_tittle = browser.find_element_by_xpath('/html/body/div[1]/div[2]/form/div[2]/table/tbody/tr[' + str(r) +  ']/td[2]/a')\n"
     ]
    },
    {
     "name": "stdout",
     "output_type": "stream",
     "text": [
      "40439600052135は、「経理/財務「人×ICT×環境」～自社らしい働き方や環境を提案～　後藤」を送信しました4\n",
      "40439600052135は、「経理/財務「人×ICT×環境」～自社らしい働き方や環境を提案～　後藤」を送信しました5\n",
      "40439600052135は、「経理/財務「人×ICT×環境」～自社らしい働き方や環境を提案～　後藤」を送信しました6\n"
     ]
    },
    {
     "name": "stderr",
     "output_type": "stream",
     "text": [
      "C:\\Users\\matsuno\\AppData\\Local\\Temp\\ipykernel_11364\\599272334.py:9: DeprecationWarning: find_element_by_xpath is deprecated. Please use find_element(by=By.XPATH, value=xpath) instead\n",
      "  send_tittle = browser.find_element_by_xpath('/html/body/div[1]/div[2]/form/div[2]/table/tbody/tr[' + str(r) +  ']/td[2]/a')\n",
      "C:\\Users\\matsuno\\AppData\\Local\\Temp\\ipykernel_11364\\599272334.py:9: DeprecationWarning: find_element_by_xpath is deprecated. Please use find_element(by=By.XPATH, value=xpath) instead\n",
      "  send_tittle = browser.find_element_by_xpath('/html/body/div[1]/div[2]/form/div[2]/table/tbody/tr[' + str(r) +  ']/td[2]/a')\n",
      "C:\\Users\\matsuno\\AppData\\Local\\Temp\\ipykernel_11364\\599272334.py:9: DeprecationWarning: find_element_by_xpath is deprecated. Please use find_element(by=By.XPATH, value=xpath) instead\n",
      "  send_tittle = browser.find_element_by_xpath('/html/body/div[1]/div[2]/form/div[2]/table/tbody/tr[' + str(r) +  ']/td[2]/a')\n"
     ]
    },
    {
     "name": "stdout",
     "output_type": "stream",
     "text": [
      "40439600052135は、「経理/財務「人×ICT×環境」～自社らしい働き方や環境を提案～　後藤」を送信しました7\n",
      "40439600052135は、「経理/財務「人×ICT×環境」～自社らしい働き方や環境を提案～　後藤」を送信しました8\n",
      "40439600052135は、「経理/財務「人×ICT×環境」～自社らしい働き方や環境を提案～　後藤」を送信しました9\n"
     ]
    },
    {
     "name": "stderr",
     "output_type": "stream",
     "text": [
      "C:\\Users\\matsuno\\AppData\\Local\\Temp\\ipykernel_11364\\599272334.py:9: DeprecationWarning: find_element_by_xpath is deprecated. Please use find_element(by=By.XPATH, value=xpath) instead\n",
      "  send_tittle = browser.find_element_by_xpath('/html/body/div[1]/div[2]/form/div[2]/table/tbody/tr[' + str(r) +  ']/td[2]/a')\n",
      "C:\\Users\\matsuno\\AppData\\Local\\Temp\\ipykernel_11364\\599272334.py:9: DeprecationWarning: find_element_by_xpath is deprecated. Please use find_element(by=By.XPATH, value=xpath) instead\n",
      "  send_tittle = browser.find_element_by_xpath('/html/body/div[1]/div[2]/form/div[2]/table/tbody/tr[' + str(r) +  ']/td[2]/a')\n",
      "C:\\Users\\matsuno\\AppData\\Local\\Temp\\ipykernel_11364\\599272334.py:9: DeprecationWarning: find_element_by_xpath is deprecated. Please use find_element(by=By.XPATH, value=xpath) instead\n",
      "  send_tittle = browser.find_element_by_xpath('/html/body/div[1]/div[2]/form/div[2]/table/tbody/tr[' + str(r) +  ']/td[2]/a')\n"
     ]
    },
    {
     "name": "stdout",
     "output_type": "stream",
     "text": [
      "40439600052135は、「経理/財務「人×ICT×環境」～自社らしい働き方や環境を提案～　後藤」を送信しました10\n",
      "40439600052135は、「経理/財務「人×ICT×環境」～自社らしい働き方や環境を提案～　後藤」を送信しました11\n",
      "40439600052135は、「経理/財務「人×ICT×環境」～自社らしい働き方や環境を提案～　後藤」を送信しました12\n"
     ]
    },
    {
     "name": "stderr",
     "output_type": "stream",
     "text": [
      "C:\\Users\\matsuno\\AppData\\Local\\Temp\\ipykernel_11364\\599272334.py:9: DeprecationWarning: find_element_by_xpath is deprecated. Please use find_element(by=By.XPATH, value=xpath) instead\n",
      "  send_tittle = browser.find_element_by_xpath('/html/body/div[1]/div[2]/form/div[2]/table/tbody/tr[' + str(r) +  ']/td[2]/a')\n",
      "C:\\Users\\matsuno\\AppData\\Local\\Temp\\ipykernel_11364\\599272334.py:9: DeprecationWarning: find_element_by_xpath is deprecated. Please use find_element(by=By.XPATH, value=xpath) instead\n",
      "  send_tittle = browser.find_element_by_xpath('/html/body/div[1]/div[2]/form/div[2]/table/tbody/tr[' + str(r) +  ']/td[2]/a')\n",
      "C:\\Users\\matsuno\\AppData\\Local\\Temp\\ipykernel_11364\\599272334.py:9: DeprecationWarning: find_element_by_xpath is deprecated. Please use find_element(by=By.XPATH, value=xpath) instead\n",
      "  send_tittle = browser.find_element_by_xpath('/html/body/div[1]/div[2]/form/div[2]/table/tbody/tr[' + str(r) +  ']/td[2]/a')\n"
     ]
    },
    {
     "name": "stdout",
     "output_type": "stream",
     "text": [
      "40439600052135は、「経理/財務「人×ICT×環境」～自社らしい働き方や環境を提案～　後藤」を送信しました13\n",
      "40439600052135は、「経理/財務「人×ICT×環境」～自社らしい働き方や環境を提案～　後藤」を送信しました14\n",
      "40439600052135は、「経理/財務「人×ICT×環境」～自社らしい働き方や環境を提案～　後藤」を送信しました15\n"
     ]
    },
    {
     "name": "stderr",
     "output_type": "stream",
     "text": [
      "C:\\Users\\matsuno\\AppData\\Local\\Temp\\ipykernel_11364\\599272334.py:9: DeprecationWarning: find_element_by_xpath is deprecated. Please use find_element(by=By.XPATH, value=xpath) instead\n",
      "  send_tittle = browser.find_element_by_xpath('/html/body/div[1]/div[2]/form/div[2]/table/tbody/tr[' + str(r) +  ']/td[2]/a')\n",
      "C:\\Users\\matsuno\\AppData\\Local\\Temp\\ipykernel_11364\\599272334.py:9: DeprecationWarning: find_element_by_xpath is deprecated. Please use find_element(by=By.XPATH, value=xpath) instead\n",
      "  send_tittle = browser.find_element_by_xpath('/html/body/div[1]/div[2]/form/div[2]/table/tbody/tr[' + str(r) +  ']/td[2]/a')\n",
      "C:\\Users\\matsuno\\AppData\\Local\\Temp\\ipykernel_11364\\599272334.py:9: DeprecationWarning: find_element_by_xpath is deprecated. Please use find_element(by=By.XPATH, value=xpath) instead\n",
      "  send_tittle = browser.find_element_by_xpath('/html/body/div[1]/div[2]/form/div[2]/table/tbody/tr[' + str(r) +  ']/td[2]/a')\n"
     ]
    },
    {
     "name": "stdout",
     "output_type": "stream",
     "text": [
      "40439600052135は、「経理/財務「人×ICT×環境」～自社らしい働き方や環境を提案～　後藤」を送信しました16\n",
      "40439600052135は、「経理/財務「人×ICT×環境」～自社らしい働き方や環境を提案～　後藤」を送信しました17\n",
      "40439600052135は、「経理/財務「人×ICT×環境」～自社らしい働き方や環境を提案～　後藤」を送信しました18\n"
     ]
    },
    {
     "name": "stderr",
     "output_type": "stream",
     "text": [
      "C:\\Users\\matsuno\\AppData\\Local\\Temp\\ipykernel_11364\\599272334.py:9: DeprecationWarning: find_element_by_xpath is deprecated. Please use find_element(by=By.XPATH, value=xpath) instead\n",
      "  send_tittle = browser.find_element_by_xpath('/html/body/div[1]/div[2]/form/div[2]/table/tbody/tr[' + str(r) +  ']/td[2]/a')\n",
      "C:\\Users\\matsuno\\AppData\\Local\\Temp\\ipykernel_11364\\599272334.py:9: DeprecationWarning: find_element_by_xpath is deprecated. Please use find_element(by=By.XPATH, value=xpath) instead\n",
      "  send_tittle = browser.find_element_by_xpath('/html/body/div[1]/div[2]/form/div[2]/table/tbody/tr[' + str(r) +  ']/td[2]/a')\n",
      "C:\\Users\\matsuno\\AppData\\Local\\Temp\\ipykernel_11364\\599272334.py:9: DeprecationWarning: find_element_by_xpath is deprecated. Please use find_element(by=By.XPATH, value=xpath) instead\n",
      "  send_tittle = browser.find_element_by_xpath('/html/body/div[1]/div[2]/form/div[2]/table/tbody/tr[' + str(r) +  ']/td[2]/a')\n"
     ]
    },
    {
     "name": "stdout",
     "output_type": "stream",
     "text": [
      "40439600052135は、「経理/財務「人×ICT×環境」～自社らしい働き方や環境を提案～　後藤」を送信しました19\n",
      "40439600052135は、「経理/財務「人×ICT×環境」～自社らしい働き方や環境を提案～　後藤」を送信しました20\n",
      "40439600052135は、「経理/財務「人×ICT×環境」～自社らしい働き方や環境を提案～　後藤」を送信しました21\n"
     ]
    },
    {
     "name": "stderr",
     "output_type": "stream",
     "text": [
      "C:\\Users\\matsuno\\AppData\\Local\\Temp\\ipykernel_11364\\599272334.py:9: DeprecationWarning: find_element_by_xpath is deprecated. Please use find_element(by=By.XPATH, value=xpath) instead\n",
      "  send_tittle = browser.find_element_by_xpath('/html/body/div[1]/div[2]/form/div[2]/table/tbody/tr[' + str(r) +  ']/td[2]/a')\n",
      "C:\\Users\\matsuno\\AppData\\Local\\Temp\\ipykernel_11364\\599272334.py:9: DeprecationWarning: find_element_by_xpath is deprecated. Please use find_element(by=By.XPATH, value=xpath) instead\n",
      "  send_tittle = browser.find_element_by_xpath('/html/body/div[1]/div[2]/form/div[2]/table/tbody/tr[' + str(r) +  ']/td[2]/a')\n",
      "C:\\Users\\matsuno\\AppData\\Local\\Temp\\ipykernel_11364\\599272334.py:9: DeprecationWarning: find_element_by_xpath is deprecated. Please use find_element(by=By.XPATH, value=xpath) instead\n",
      "  send_tittle = browser.find_element_by_xpath('/html/body/div[1]/div[2]/form/div[2]/table/tbody/tr[' + str(r) +  ']/td[2]/a')\n"
     ]
    },
    {
     "name": "stdout",
     "output_type": "stream",
     "text": [
      "40439600052135は、「経理/財務「人×ICT×環境」～自社らしい働き方や環境を提案～　後藤」を送信しました22\n",
      "40439600052135は、「経理/財務「人×ICT×環境」～自社らしい働き方や環境を提案～　後藤」を送信しました23\n",
      "40439600052135は、「経理/財務「人×ICT×環境」～自社らしい働き方や環境を提案～　後藤」を送信しました24\n"
     ]
    },
    {
     "name": "stderr",
     "output_type": "stream",
     "text": [
      "C:\\Users\\matsuno\\AppData\\Local\\Temp\\ipykernel_11364\\599272334.py:9: DeprecationWarning: find_element_by_xpath is deprecated. Please use find_element(by=By.XPATH, value=xpath) instead\n",
      "  send_tittle = browser.find_element_by_xpath('/html/body/div[1]/div[2]/form/div[2]/table/tbody/tr[' + str(r) +  ']/td[2]/a')\n",
      "C:\\Users\\matsuno\\AppData\\Local\\Temp\\ipykernel_11364\\599272334.py:9: DeprecationWarning: find_element_by_xpath is deprecated. Please use find_element(by=By.XPATH, value=xpath) instead\n",
      "  send_tittle = browser.find_element_by_xpath('/html/body/div[1]/div[2]/form/div[2]/table/tbody/tr[' + str(r) +  ']/td[2]/a')\n",
      "C:\\Users\\matsuno\\AppData\\Local\\Temp\\ipykernel_11364\\599272334.py:9: DeprecationWarning: find_element_by_xpath is deprecated. Please use find_element(by=By.XPATH, value=xpath) instead\n",
      "  send_tittle = browser.find_element_by_xpath('/html/body/div[1]/div[2]/form/div[2]/table/tbody/tr[' + str(r) +  ']/td[2]/a')\n"
     ]
    },
    {
     "name": "stdout",
     "output_type": "stream",
     "text": [
      "40439600052135は、「経理/財務「人×ICT×環境」～自社らしい働き方や環境を提案～　後藤」を送信しました25\n",
      "40439600052135は、「経理/財務「人×ICT×環境」～自社らしい働き方や環境を提案～　後藤」を送信しました26\n",
      "40439600052135は、「経理/財務「人×ICT×環境」～自社らしい働き方や環境を提案～　後藤」を送信しました27\n"
     ]
    },
    {
     "name": "stderr",
     "output_type": "stream",
     "text": [
      "C:\\Users\\matsuno\\AppData\\Local\\Temp\\ipykernel_11364\\599272334.py:9: DeprecationWarning: find_element_by_xpath is deprecated. Please use find_element(by=By.XPATH, value=xpath) instead\n",
      "  send_tittle = browser.find_element_by_xpath('/html/body/div[1]/div[2]/form/div[2]/table/tbody/tr[' + str(r) +  ']/td[2]/a')\n",
      "C:\\Users\\matsuno\\AppData\\Local\\Temp\\ipykernel_11364\\599272334.py:9: DeprecationWarning: find_element_by_xpath is deprecated. Please use find_element(by=By.XPATH, value=xpath) instead\n",
      "  send_tittle = browser.find_element_by_xpath('/html/body/div[1]/div[2]/form/div[2]/table/tbody/tr[' + str(r) +  ']/td[2]/a')\n",
      "C:\\Users\\matsuno\\AppData\\Local\\Temp\\ipykernel_11364\\599272334.py:9: DeprecationWarning: find_element_by_xpath is deprecated. Please use find_element(by=By.XPATH, value=xpath) instead\n",
      "  send_tittle = browser.find_element_by_xpath('/html/body/div[1]/div[2]/form/div[2]/table/tbody/tr[' + str(r) +  ']/td[2]/a')\n"
     ]
    },
    {
     "name": "stdout",
     "output_type": "stream",
     "text": [
      "40439600052135は、「経理/財務「人×ICT×環境」～自社らしい働き方や環境を提案～　後藤」を送信しました28\n",
      "40439600052135は、「経理/財務「人×ICT×環境」～自社らしい働き方や環境を提案～　後藤」を送信しました29\n",
      "40439600052135は、「経理/財務「人×ICT×環境」～自社らしい働き方や環境を提案～　後藤」を送信しました30\n"
     ]
    },
    {
     "name": "stderr",
     "output_type": "stream",
     "text": [
      "C:\\Users\\matsuno\\AppData\\Local\\Temp\\ipykernel_11364\\599272334.py:9: DeprecationWarning: find_element_by_xpath is deprecated. Please use find_element(by=By.XPATH, value=xpath) instead\n",
      "  send_tittle = browser.find_element_by_xpath('/html/body/div[1]/div[2]/form/div[2]/table/tbody/tr[' + str(r) +  ']/td[2]/a')\n",
      "C:\\Users\\matsuno\\AppData\\Local\\Temp\\ipykernel_11364\\599272334.py:9: DeprecationWarning: find_element_by_xpath is deprecated. Please use find_element(by=By.XPATH, value=xpath) instead\n",
      "  send_tittle = browser.find_element_by_xpath('/html/body/div[1]/div[2]/form/div[2]/table/tbody/tr[' + str(r) +  ']/td[2]/a')\n",
      "C:\\Users\\matsuno\\AppData\\Local\\Temp\\ipykernel_11364\\599272334.py:9: DeprecationWarning: find_element_by_xpath is deprecated. Please use find_element(by=By.XPATH, value=xpath) instead\n",
      "  send_tittle = browser.find_element_by_xpath('/html/body/div[1]/div[2]/form/div[2]/table/tbody/tr[' + str(r) +  ']/td[2]/a')\n"
     ]
    },
    {
     "name": "stdout",
     "output_type": "stream",
     "text": [
      "40439600052135は、「経理/財務「人×ICT×環境」～自社らしい働き方や環境を提案～　後藤」を送信しました31\n",
      "40439600052135は、「経理/財務「人×ICT×環境」～自社らしい働き方や環境を提案～　後藤」を送信しました32\n"
     ]
    },
    {
     "name": "stderr",
     "output_type": "stream",
     "text": [
      "C:\\Users\\matsuno\\AppData\\Local\\Temp\\ipykernel_11364\\599272334.py:9: DeprecationWarning: find_element_by_xpath is deprecated. Please use find_element(by=By.XPATH, value=xpath) instead\n",
      "  send_tittle = browser.find_element_by_xpath('/html/body/div[1]/div[2]/form/div[2]/table/tbody/tr[' + str(r) +  ']/td[2]/a')\n",
      "C:\\Users\\matsuno\\AppData\\Local\\Temp\\ipykernel_11364\\599272334.py:9: DeprecationWarning: find_element_by_xpath is deprecated. Please use find_element(by=By.XPATH, value=xpath) instead\n",
      "  send_tittle = browser.find_element_by_xpath('/html/body/div[1]/div[2]/form/div[2]/table/tbody/tr[' + str(r) +  ']/td[2]/a')\n",
      "C:\\Users\\matsuno\\AppData\\Local\\Temp\\ipykernel_11364\\599272334.py:9: DeprecationWarning: find_element_by_xpath is deprecated. Please use find_element(by=By.XPATH, value=xpath) instead\n",
      "  send_tittle = browser.find_element_by_xpath('/html/body/div[1]/div[2]/form/div[2]/table/tbody/tr[' + str(r) +  ']/td[2]/a')\n"
     ]
    },
    {
     "name": "stdout",
     "output_type": "stream",
     "text": [
      "40439600052135は、「経理/財務「人×ICT×環境」～自社らしい働き方や環境を提案～　後藤」を送信しました33\n",
      "40439600052135は、「経理/財務「人×ICT×環境」～自社らしい働き方や環境を提案～　後藤」を送信しました34\n",
      "40439600052135は、「経理/財務「人×ICT×環境」～自社らしい働き方や環境を提案～　後藤」を送信しました35\n",
      "40439600052135は、「経理/財務「人×ICT×環境」～自社らしい働き方や環境を提案～　後藤」を送信しました36\n",
      "40439600052135は、「経理/財務「人×ICT×環境」～自社らしい働き方や環境を提案～　後藤」を送信しました37\n"
     ]
    },
    {
     "name": "stderr",
     "output_type": "stream",
     "text": [
      "C:\\Users\\matsuno\\AppData\\Local\\Temp\\ipykernel_11364\\599272334.py:9: DeprecationWarning: find_element_by_xpath is deprecated. Please use find_element(by=By.XPATH, value=xpath) instead\n",
      "  send_tittle = browser.find_element_by_xpath('/html/body/div[1]/div[2]/form/div[2]/table/tbody/tr[' + str(r) +  ']/td[2]/a')\n",
      "C:\\Users\\matsuno\\AppData\\Local\\Temp\\ipykernel_11364\\599272334.py:9: DeprecationWarning: find_element_by_xpath is deprecated. Please use find_element(by=By.XPATH, value=xpath) instead\n",
      "  send_tittle = browser.find_element_by_xpath('/html/body/div[1]/div[2]/form/div[2]/table/tbody/tr[' + str(r) +  ']/td[2]/a')\n",
      "C:\\Users\\matsuno\\AppData\\Local\\Temp\\ipykernel_11364\\599272334.py:9: DeprecationWarning: find_element_by_xpath is deprecated. Please use find_element(by=By.XPATH, value=xpath) instead\n",
      "  send_tittle = browser.find_element_by_xpath('/html/body/div[1]/div[2]/form/div[2]/table/tbody/tr[' + str(r) +  ']/td[2]/a')\n"
     ]
    },
    {
     "name": "stdout",
     "output_type": "stream",
     "text": [
      "40439600052135は、「経理/財務「人×ICT×環境」～自社らしい働き方や環境を提案～　後藤」を送信しました38\n"
     ]
    },
    {
     "name": "stderr",
     "output_type": "stream",
     "text": [
      "C:\\Users\\matsuno\\AppData\\Local\\Temp\\ipykernel_11364\\599272334.py:9: DeprecationWarning: find_element_by_xpath is deprecated. Please use find_element(by=By.XPATH, value=xpath) instead\n",
      "  send_tittle = browser.find_element_by_xpath('/html/body/div[1]/div[2]/form/div[2]/table/tbody/tr[' + str(r) +  ']/td[2]/a')\n",
      "C:\\Users\\matsuno\\AppData\\Local\\Temp\\ipykernel_11364\\599272334.py:9: DeprecationWarning: find_element_by_xpath is deprecated. Please use find_element(by=By.XPATH, value=xpath) instead\n",
      "  send_tittle = browser.find_element_by_xpath('/html/body/div[1]/div[2]/form/div[2]/table/tbody/tr[' + str(r) +  ']/td[2]/a')\n",
      "C:\\Users\\matsuno\\AppData\\Local\\Temp\\ipykernel_11364\\599272334.py:9: DeprecationWarning: find_element_by_xpath is deprecated. Please use find_element(by=By.XPATH, value=xpath) instead\n",
      "  send_tittle = browser.find_element_by_xpath('/html/body/div[1]/div[2]/form/div[2]/table/tbody/tr[' + str(r) +  ']/td[2]/a')\n"
     ]
    },
    {
     "name": "stdout",
     "output_type": "stream",
     "text": [
      "40439600052135は、「経理/財務「人×ICT×環境」～自社らしい働き方や環境を提案～　後藤」を送信しました39\n",
      "40439600052135は、「経理/財務「人×ICT×環境」～自社らしい働き方や環境を提案～　後藤」を送信しました40\n",
      "40439600052135は、「経理/財務「人×ICT×環境」～自社らしい働き方や環境を提案～　後藤」を送信しました41\n",
      "40439600052135は、「経理/財務「人×ICT×環境」～自社らしい働き方や環境を提案～　後藤」を送信しました42\n",
      "40439600052135は、「経理/財務「人×ICT×環境」～自社らしい働き方や環境を提案～　後藤」を送信しました43\n"
     ]
    },
    {
     "name": "stderr",
     "output_type": "stream",
     "text": [
      "C:\\Users\\matsuno\\AppData\\Local\\Temp\\ipykernel_11364\\599272334.py:9: DeprecationWarning: find_element_by_xpath is deprecated. Please use find_element(by=By.XPATH, value=xpath) instead\n",
      "  send_tittle = browser.find_element_by_xpath('/html/body/div[1]/div[2]/form/div[2]/table/tbody/tr[' + str(r) +  ']/td[2]/a')\n",
      "C:\\Users\\matsuno\\AppData\\Local\\Temp\\ipykernel_11364\\599272334.py:9: DeprecationWarning: find_element_by_xpath is deprecated. Please use find_element(by=By.XPATH, value=xpath) instead\n",
      "  send_tittle = browser.find_element_by_xpath('/html/body/div[1]/div[2]/form/div[2]/table/tbody/tr[' + str(r) +  ']/td[2]/a')\n",
      "C:\\Users\\matsuno\\AppData\\Local\\Temp\\ipykernel_11364\\599272334.py:9: DeprecationWarning: find_element_by_xpath is deprecated. Please use find_element(by=By.XPATH, value=xpath) instead\n",
      "  send_tittle = browser.find_element_by_xpath('/html/body/div[1]/div[2]/form/div[2]/table/tbody/tr[' + str(r) +  ']/td[2]/a')\n"
     ]
    },
    {
     "name": "stdout",
     "output_type": "stream",
     "text": [
      "40439600052135は、「経理/財務「人×ICT×環境」～自社らしい働き方や環境を提案～　後藤」を送信しました44\n",
      "40439600052135は、「経理/財務「人×ICT×環境」～自社らしい働き方や環境を提案～　後藤」を送信しました45\n",
      "40439600052135は、「経理/財務「人×ICT×環境」～自社らしい働き方や環境を提案～　後藤」を送信しました46\n"
     ]
    },
    {
     "name": "stderr",
     "output_type": "stream",
     "text": [
      "C:\\Users\\matsuno\\AppData\\Local\\Temp\\ipykernel_11364\\599272334.py:9: DeprecationWarning: find_element_by_xpath is deprecated. Please use find_element(by=By.XPATH, value=xpath) instead\n",
      "  send_tittle = browser.find_element_by_xpath('/html/body/div[1]/div[2]/form/div[2]/table/tbody/tr[' + str(r) +  ']/td[2]/a')\n",
      "C:\\Users\\matsuno\\AppData\\Local\\Temp\\ipykernel_11364\\599272334.py:9: DeprecationWarning: find_element_by_xpath is deprecated. Please use find_element(by=By.XPATH, value=xpath) instead\n",
      "  send_tittle = browser.find_element_by_xpath('/html/body/div[1]/div[2]/form/div[2]/table/tbody/tr[' + str(r) +  ']/td[2]/a')\n",
      "C:\\Users\\matsuno\\AppData\\Local\\Temp\\ipykernel_11364\\599272334.py:9: DeprecationWarning: find_element_by_xpath is deprecated. Please use find_element(by=By.XPATH, value=xpath) instead\n",
      "  send_tittle = browser.find_element_by_xpath('/html/body/div[1]/div[2]/form/div[2]/table/tbody/tr[' + str(r) +  ']/td[2]/a')\n"
     ]
    },
    {
     "name": "stdout",
     "output_type": "stream",
     "text": [
      "40439600052135は、「経理/財務「人×ICT×環境」～自社らしい働き方や環境を提案～　後藤」を送信しました47\n",
      "40439600052135は、「経理/財務「人×ICT×環境」～自社らしい働き方や環境を提案～　後藤」を送信しました48\n"
     ]
    },
    {
     "name": "stderr",
     "output_type": "stream",
     "text": [
      "C:\\Users\\matsuno\\AppData\\Local\\Temp\\ipykernel_11364\\599272334.py:9: DeprecationWarning: find_element_by_xpath is deprecated. Please use find_element(by=By.XPATH, value=xpath) instead\n",
      "  send_tittle = browser.find_element_by_xpath('/html/body/div[1]/div[2]/form/div[2]/table/tbody/tr[' + str(r) +  ']/td[2]/a')\n",
      "C:\\Users\\matsuno\\AppData\\Local\\Temp\\ipykernel_11364\\599272334.py:9: DeprecationWarning: find_element_by_xpath is deprecated. Please use find_element(by=By.XPATH, value=xpath) instead\n",
      "  send_tittle = browser.find_element_by_xpath('/html/body/div[1]/div[2]/form/div[2]/table/tbody/tr[' + str(r) +  ']/td[2]/a')\n"
     ]
    },
    {
     "name": "stdout",
     "output_type": "stream",
     "text": [
      "40439600052135は、「経理/財務「人×ICT×環境」～自社らしい働き方や環境を提案～　後藤」を送信しました49\n",
      "40439600052135は、「経理/財務「人×ICT×環境」～自社らしい働き方や環境を提案～　後藤」を送信しました50\n",
      "40439600052135は、「経理/財務「人×ICT×環境」～自社らしい働き方や環境を提案～　後藤」を送信しました51\n"
     ]
    },
    {
     "name": "stderr",
     "output_type": "stream",
     "text": [
      "C:\\Users\\matsuno\\AppData\\Local\\Temp\\ipykernel_11364\\599272334.py:9: DeprecationWarning: find_element_by_xpath is deprecated. Please use find_element(by=By.XPATH, value=xpath) instead\n",
      "  send_tittle = browser.find_element_by_xpath('/html/body/div[1]/div[2]/form/div[2]/table/tbody/tr[' + str(r) +  ']/td[2]/a')\n",
      "C:\\Users\\matsuno\\AppData\\Local\\Temp\\ipykernel_11364\\599272334.py:9: DeprecationWarning: find_element_by_xpath is deprecated. Please use find_element(by=By.XPATH, value=xpath) instead\n",
      "  send_tittle = browser.find_element_by_xpath('/html/body/div[1]/div[2]/form/div[2]/table/tbody/tr[' + str(r) +  ']/td[2]/a')\n",
      "C:\\Users\\matsuno\\AppData\\Local\\Temp\\ipykernel_11364\\599272334.py:9: DeprecationWarning: find_element_by_xpath is deprecated. Please use find_element(by=By.XPATH, value=xpath) instead\n",
      "  send_tittle = browser.find_element_by_xpath('/html/body/div[1]/div[2]/form/div[2]/table/tbody/tr[' + str(r) +  ']/td[2]/a')\n"
     ]
    },
    {
     "name": "stdout",
     "output_type": "stream",
     "text": [
      "40439600052135は、「経理/財務「人×ICT×環境」～自社らしい働き方や環境を提案～　後藤」を送信しました52\n",
      "40439600052135は、「経理/財務「人×ICT×環境」～自社らしい働き方や環境を提案～　後藤」を送信しました53\n",
      "40439600052135は、「経理/財務「人×ICT×環境」～自社らしい働き方や環境を提案～　後藤」を送信しました54\n"
     ]
    },
    {
     "name": "stderr",
     "output_type": "stream",
     "text": [
      "C:\\Users\\matsuno\\AppData\\Local\\Temp\\ipykernel_11364\\599272334.py:9: DeprecationWarning: find_element_by_xpath is deprecated. Please use find_element(by=By.XPATH, value=xpath) instead\n",
      "  send_tittle = browser.find_element_by_xpath('/html/body/div[1]/div[2]/form/div[2]/table/tbody/tr[' + str(r) +  ']/td[2]/a')\n",
      "C:\\Users\\matsuno\\AppData\\Local\\Temp\\ipykernel_11364\\599272334.py:9: DeprecationWarning: find_element_by_xpath is deprecated. Please use find_element(by=By.XPATH, value=xpath) instead\n",
      "  send_tittle = browser.find_element_by_xpath('/html/body/div[1]/div[2]/form/div[2]/table/tbody/tr[' + str(r) +  ']/td[2]/a')\n",
      "C:\\Users\\matsuno\\AppData\\Local\\Temp\\ipykernel_11364\\599272334.py:9: DeprecationWarning: find_element_by_xpath is deprecated. Please use find_element(by=By.XPATH, value=xpath) instead\n",
      "  send_tittle = browser.find_element_by_xpath('/html/body/div[1]/div[2]/form/div[2]/table/tbody/tr[' + str(r) +  ']/td[2]/a')\n"
     ]
    },
    {
     "name": "stdout",
     "output_type": "stream",
     "text": [
      "40439600052135は、「経理/財務「人×ICT×環境」～自社らしい働き方や環境を提案～　後藤」を送信しました55\n",
      "40439600052135は、「経理/財務「人×ICT×環境」～自社らしい働き方や環境を提案～　後藤」を送信しました56\n",
      "40439600052135は、「経理/財務「人×ICT×環境」～自社らしい働き方や環境を提案～　後藤」を送信しました57\n"
     ]
    },
    {
     "name": "stderr",
     "output_type": "stream",
     "text": [
      "C:\\Users\\matsuno\\AppData\\Local\\Temp\\ipykernel_11364\\599272334.py:9: DeprecationWarning: find_element_by_xpath is deprecated. Please use find_element(by=By.XPATH, value=xpath) instead\n",
      "  send_tittle = browser.find_element_by_xpath('/html/body/div[1]/div[2]/form/div[2]/table/tbody/tr[' + str(r) +  ']/td[2]/a')\n",
      "C:\\Users\\matsuno\\AppData\\Local\\Temp\\ipykernel_11364\\599272334.py:9: DeprecationWarning: find_element_by_xpath is deprecated. Please use find_element(by=By.XPATH, value=xpath) instead\n",
      "  send_tittle = browser.find_element_by_xpath('/html/body/div[1]/div[2]/form/div[2]/table/tbody/tr[' + str(r) +  ']/td[2]/a')\n"
     ]
    },
    {
     "name": "stdout",
     "output_type": "stream",
     "text": [
      "40439600052135は、「経理/財務「人×ICT×環境」～自社らしい働き方や環境を提案～　後藤」を送信しました58\n",
      "40439600052135は、「経理/財務「人×ICT×環境」～自社らしい働き方や環境を提案～　後藤」を送信しました59\n"
     ]
    },
    {
     "name": "stderr",
     "output_type": "stream",
     "text": [
      "C:\\Users\\matsuno\\AppData\\Local\\Temp\\ipykernel_11364\\599272334.py:9: DeprecationWarning: find_element_by_xpath is deprecated. Please use find_element(by=By.XPATH, value=xpath) instead\n",
      "  send_tittle = browser.find_element_by_xpath('/html/body/div[1]/div[2]/form/div[2]/table/tbody/tr[' + str(r) +  ']/td[2]/a')\n",
      "C:\\Users\\matsuno\\AppData\\Local\\Temp\\ipykernel_11364\\599272334.py:9: DeprecationWarning: find_element_by_xpath is deprecated. Please use find_element(by=By.XPATH, value=xpath) instead\n",
      "  send_tittle = browser.find_element_by_xpath('/html/body/div[1]/div[2]/form/div[2]/table/tbody/tr[' + str(r) +  ']/td[2]/a')\n",
      "C:\\Users\\matsuno\\AppData\\Local\\Temp\\ipykernel_11364\\599272334.py:9: DeprecationWarning: find_element_by_xpath is deprecated. Please use find_element(by=By.XPATH, value=xpath) instead\n",
      "  send_tittle = browser.find_element_by_xpath('/html/body/div[1]/div[2]/form/div[2]/table/tbody/tr[' + str(r) +  ']/td[2]/a')\n"
     ]
    },
    {
     "name": "stdout",
     "output_type": "stream",
     "text": [
      "40439600052135は、「経理/財務「人×ICT×環境」～自社らしい働き方や環境を提案～　後藤」を送信しました60\n",
      "40439600052135は、「経理/財務「人×ICT×環境」～自社らしい働き方や環境を提案～　後藤」を送信しました61\n"
     ]
    },
    {
     "name": "stderr",
     "output_type": "stream",
     "text": [
      "C:\\Users\\matsuno\\AppData\\Local\\Temp\\ipykernel_11364\\599272334.py:9: DeprecationWarning: find_element_by_xpath is deprecated. Please use find_element(by=By.XPATH, value=xpath) instead\n",
      "  send_tittle = browser.find_element_by_xpath('/html/body/div[1]/div[2]/form/div[2]/table/tbody/tr[' + str(r) +  ']/td[2]/a')\n",
      "C:\\Users\\matsuno\\AppData\\Local\\Temp\\ipykernel_11364\\599272334.py:9: DeprecationWarning: find_element_by_xpath is deprecated. Please use find_element(by=By.XPATH, value=xpath) instead\n",
      "  send_tittle = browser.find_element_by_xpath('/html/body/div[1]/div[2]/form/div[2]/table/tbody/tr[' + str(r) +  ']/td[2]/a')\n"
     ]
    },
    {
     "name": "stdout",
     "output_type": "stream",
     "text": [
      "40439600052135は、「経理/財務「人×ICT×環境」～自社らしい働き方や環境を提案～　後藤」を送信しました62\n",
      "40439600052135は、「経理/財務「人×ICT×環境」～自社らしい働き方や環境を提案～　後藤」を送信しました63\n",
      "40439600052135は、「経理/財務「人×ICT×環境」～自社らしい働き方や環境を提案～　後藤」を送信しました64\n"
     ]
    },
    {
     "name": "stderr",
     "output_type": "stream",
     "text": [
      "C:\\Users\\matsuno\\AppData\\Local\\Temp\\ipykernel_11364\\599272334.py:9: DeprecationWarning: find_element_by_xpath is deprecated. Please use find_element(by=By.XPATH, value=xpath) instead\n",
      "  send_tittle = browser.find_element_by_xpath('/html/body/div[1]/div[2]/form/div[2]/table/tbody/tr[' + str(r) +  ']/td[2]/a')\n",
      "C:\\Users\\matsuno\\AppData\\Local\\Temp\\ipykernel_11364\\599272334.py:9: DeprecationWarning: find_element_by_xpath is deprecated. Please use find_element(by=By.XPATH, value=xpath) instead\n",
      "  send_tittle = browser.find_element_by_xpath('/html/body/div[1]/div[2]/form/div[2]/table/tbody/tr[' + str(r) +  ']/td[2]/a')\n",
      "C:\\Users\\matsuno\\AppData\\Local\\Temp\\ipykernel_11364\\599272334.py:9: DeprecationWarning: find_element_by_xpath is deprecated. Please use find_element(by=By.XPATH, value=xpath) instead\n",
      "  send_tittle = browser.find_element_by_xpath('/html/body/div[1]/div[2]/form/div[2]/table/tbody/tr[' + str(r) +  ']/td[2]/a')\n"
     ]
    },
    {
     "name": "stdout",
     "output_type": "stream",
     "text": [
      "40439600052135は、「経理/財務「人×ICT×環境」～自社らしい働き方や環境を提案～　後藤」を送信しました65\n",
      "40439600052135は、「経理/財務「人×ICT×環境」～自社らしい働き方や環境を提案～　後藤」を送信しました66\n"
     ]
    },
    {
     "name": "stderr",
     "output_type": "stream",
     "text": [
      "C:\\Users\\matsuno\\AppData\\Local\\Temp\\ipykernel_11364\\599272334.py:9: DeprecationWarning: find_element_by_xpath is deprecated. Please use find_element(by=By.XPATH, value=xpath) instead\n",
      "  send_tittle = browser.find_element_by_xpath('/html/body/div[1]/div[2]/form/div[2]/table/tbody/tr[' + str(r) +  ']/td[2]/a')\n",
      "C:\\Users\\matsuno\\AppData\\Local\\Temp\\ipykernel_11364\\599272334.py:9: DeprecationWarning: find_element_by_xpath is deprecated. Please use find_element(by=By.XPATH, value=xpath) instead\n",
      "  send_tittle = browser.find_element_by_xpath('/html/body/div[1]/div[2]/form/div[2]/table/tbody/tr[' + str(r) +  ']/td[2]/a')\n"
     ]
    },
    {
     "name": "stdout",
     "output_type": "stream",
     "text": [
      "40439600052135は、「経理/財務「人×ICT×環境」～自社らしい働き方や環境を提案～　後藤」を送信しました67\n",
      "40439600052135は、「経理/財務「人×ICT×環境」～自社らしい働き方や環境を提案～　後藤」を送信しました68\n",
      "40439600052135は、「経理/財務「人×ICT×環境」～自社らしい働き方や環境を提案～　後藤」を送信しました69\n"
     ]
    },
    {
     "name": "stderr",
     "output_type": "stream",
     "text": [
      "C:\\Users\\matsuno\\AppData\\Local\\Temp\\ipykernel_11364\\599272334.py:9: DeprecationWarning: find_element_by_xpath is deprecated. Please use find_element(by=By.XPATH, value=xpath) instead\n",
      "  send_tittle = browser.find_element_by_xpath('/html/body/div[1]/div[2]/form/div[2]/table/tbody/tr[' + str(r) +  ']/td[2]/a')\n",
      "C:\\Users\\matsuno\\AppData\\Local\\Temp\\ipykernel_11364\\599272334.py:9: DeprecationWarning: find_element_by_xpath is deprecated. Please use find_element(by=By.XPATH, value=xpath) instead\n",
      "  send_tittle = browser.find_element_by_xpath('/html/body/div[1]/div[2]/form/div[2]/table/tbody/tr[' + str(r) +  ']/td[2]/a')\n",
      "C:\\Users\\matsuno\\AppData\\Local\\Temp\\ipykernel_11364\\599272334.py:9: DeprecationWarning: find_element_by_xpath is deprecated. Please use find_element(by=By.XPATH, value=xpath) instead\n",
      "  send_tittle = browser.find_element_by_xpath('/html/body/div[1]/div[2]/form/div[2]/table/tbody/tr[' + str(r) +  ']/td[2]/a')\n"
     ]
    },
    {
     "name": "stdout",
     "output_type": "stream",
     "text": [
      "40439600052135は、「経理/財務「人×ICT×環境」～自社らしい働き方や環境を提案～　後藤」を送信しました70\n",
      "40439600052135は、「経理/財務「人×ICT×環境」～自社らしい働き方や環境を提案～　後藤」を送信しました71\n",
      "40439600052135は、「経理/財務「人×ICT×環境」～自社らしい働き方や環境を提案～　後藤」を送信しました72\n"
     ]
    },
    {
     "name": "stderr",
     "output_type": "stream",
     "text": [
      "C:\\Users\\matsuno\\AppData\\Local\\Temp\\ipykernel_11364\\599272334.py:9: DeprecationWarning: find_element_by_xpath is deprecated. Please use find_element(by=By.XPATH, value=xpath) instead\n",
      "  send_tittle = browser.find_element_by_xpath('/html/body/div[1]/div[2]/form/div[2]/table/tbody/tr[' + str(r) +  ']/td[2]/a')\n",
      "C:\\Users\\matsuno\\AppData\\Local\\Temp\\ipykernel_11364\\599272334.py:9: DeprecationWarning: find_element_by_xpath is deprecated. Please use find_element(by=By.XPATH, value=xpath) instead\n",
      "  send_tittle = browser.find_element_by_xpath('/html/body/div[1]/div[2]/form/div[2]/table/tbody/tr[' + str(r) +  ']/td[2]/a')\n",
      "C:\\Users\\matsuno\\AppData\\Local\\Temp\\ipykernel_11364\\599272334.py:9: DeprecationWarning: find_element_by_xpath is deprecated. Please use find_element(by=By.XPATH, value=xpath) instead\n",
      "  send_tittle = browser.find_element_by_xpath('/html/body/div[1]/div[2]/form/div[2]/table/tbody/tr[' + str(r) +  ']/td[2]/a')\n"
     ]
    },
    {
     "name": "stdout",
     "output_type": "stream",
     "text": [
      "40439600052135は、「経理/財務「人×ICT×環境」～自社らしい働き方や環境を提案～　後藤」を送信しました73\n",
      "40439600052135は、「経理/財務「人×ICT×環境」～自社らしい働き方や環境を提案～　後藤」を送信しました74\n"
     ]
    },
    {
     "name": "stderr",
     "output_type": "stream",
     "text": [
      "C:\\Users\\matsuno\\AppData\\Local\\Temp\\ipykernel_11364\\599272334.py:9: DeprecationWarning: find_element_by_xpath is deprecated. Please use find_element(by=By.XPATH, value=xpath) instead\n",
      "  send_tittle = browser.find_element_by_xpath('/html/body/div[1]/div[2]/form/div[2]/table/tbody/tr[' + str(r) +  ']/td[2]/a')\n",
      "C:\\Users\\matsuno\\AppData\\Local\\Temp\\ipykernel_11364\\599272334.py:9: DeprecationWarning: find_element_by_xpath is deprecated. Please use find_element(by=By.XPATH, value=xpath) instead\n",
      "  send_tittle = browser.find_element_by_xpath('/html/body/div[1]/div[2]/form/div[2]/table/tbody/tr[' + str(r) +  ']/td[2]/a')\n"
     ]
    },
    {
     "name": "stdout",
     "output_type": "stream",
     "text": [
      "40439600052135は、「経理/財務「人×ICT×環境」～自社らしい働き方や環境を提案～　後藤」を送信しました75\n",
      "40439600052135は、「～インテリア・ファッションのLeading Company～/マーケティング部ブランドコミュニケーション課長候補 Assemblage後藤」を送信しました76\n",
      "40439600052135は、「～インテリア・ファッションのLeading Company～/マーケティング部ブランドコミュニケーション課長候補 Assemblage後藤」を送信しました77\n"
     ]
    },
    {
     "name": "stderr",
     "output_type": "stream",
     "text": [
      "C:\\Users\\matsuno\\AppData\\Local\\Temp\\ipykernel_11364\\599272334.py:9: DeprecationWarning: find_element_by_xpath is deprecated. Please use find_element(by=By.XPATH, value=xpath) instead\n",
      "  send_tittle = browser.find_element_by_xpath('/html/body/div[1]/div[2]/form/div[2]/table/tbody/tr[' + str(r) +  ']/td[2]/a')\n",
      "C:\\Users\\matsuno\\AppData\\Local\\Temp\\ipykernel_11364\\599272334.py:9: DeprecationWarning: find_element_by_xpath is deprecated. Please use find_element(by=By.XPATH, value=xpath) instead\n",
      "  send_tittle = browser.find_element_by_xpath('/html/body/div[1]/div[2]/form/div[2]/table/tbody/tr[' + str(r) +  ']/td[2]/a')\n",
      "C:\\Users\\matsuno\\AppData\\Local\\Temp\\ipykernel_11364\\599272334.py:9: DeprecationWarning: find_element_by_xpath is deprecated. Please use find_element(by=By.XPATH, value=xpath) instead\n",
      "  send_tittle = browser.find_element_by_xpath('/html/body/div[1]/div[2]/form/div[2]/table/tbody/tr[' + str(r) +  ']/td[2]/a')\n"
     ]
    },
    {
     "name": "stdout",
     "output_type": "stream",
     "text": [
      "40439600052135は、「～インテリア・ファッションのLeading Company～/マーケティング部ブランドコミュニケーション課長候補 Assemblage後藤」を送信しました78\n",
      "40439600052135は、「～インテリア・ファッションのLeading Company～/マーケティング部ブランドコミュニケーション課長候補 Assemblage後藤」を送信しました79\n"
     ]
    },
    {
     "name": "stderr",
     "output_type": "stream",
     "text": [
      "C:\\Users\\matsuno\\AppData\\Local\\Temp\\ipykernel_11364\\599272334.py:9: DeprecationWarning: find_element_by_xpath is deprecated. Please use find_element(by=By.XPATH, value=xpath) instead\n",
      "  send_tittle = browser.find_element_by_xpath('/html/body/div[1]/div[2]/form/div[2]/table/tbody/tr[' + str(r) +  ']/td[2]/a')\n",
      "C:\\Users\\matsuno\\AppData\\Local\\Temp\\ipykernel_11364\\599272334.py:9: DeprecationWarning: find_element_by_xpath is deprecated. Please use find_element(by=By.XPATH, value=xpath) instead\n",
      "  send_tittle = browser.find_element_by_xpath('/html/body/div[1]/div[2]/form/div[2]/table/tbody/tr[' + str(r) +  ']/td[2]/a')\n"
     ]
    },
    {
     "name": "stdout",
     "output_type": "stream",
     "text": [
      "40439600052135は、「～インテリア・ファッションのLeading Company～/マーケティング部ブランドコミュニケーション課長候補 Assemblage後藤」を送信しました80\n",
      "40439600052135は、「～インテリア・ファッションのLeading Company～/マーケティング部ブランドコミュニケーション課長候補 Assemblage後藤」を送信しました81\n"
     ]
    },
    {
     "name": "stderr",
     "output_type": "stream",
     "text": [
      "C:\\Users\\matsuno\\AppData\\Local\\Temp\\ipykernel_11364\\599272334.py:9: DeprecationWarning: find_element_by_xpath is deprecated. Please use find_element(by=By.XPATH, value=xpath) instead\n",
      "  send_tittle = browser.find_element_by_xpath('/html/body/div[1]/div[2]/form/div[2]/table/tbody/tr[' + str(r) +  ']/td[2]/a')\n",
      "C:\\Users\\matsuno\\AppData\\Local\\Temp\\ipykernel_11364\\599272334.py:9: DeprecationWarning: find_element_by_xpath is deprecated. Please use find_element(by=By.XPATH, value=xpath) instead\n",
      "  send_tittle = browser.find_element_by_xpath('/html/body/div[1]/div[2]/form/div[2]/table/tbody/tr[' + str(r) +  ']/td[2]/a')\n"
     ]
    },
    {
     "name": "stdout",
     "output_type": "stream",
     "text": [
      "40439600052135は、「～インテリア・ファッションのLeading Company～/マーケティング部ブランドコミュニケーション課長候補 Assemblage後藤」を送信しました82\n",
      "40439600052135は、「～インテリア・ファッションのLeading Company～/マーケティング部ブランドコミュニケーション課長候補 Assemblage後藤」を送信しました83\n",
      "40439600052135は、「～インテリア・ファッションのLeading Company～/マーケティング部ブランドコミュニケーション課長候補 Assemblage後藤」を送信しました84\n"
     ]
    },
    {
     "name": "stderr",
     "output_type": "stream",
     "text": [
      "C:\\Users\\matsuno\\AppData\\Local\\Temp\\ipykernel_11364\\599272334.py:9: DeprecationWarning: find_element_by_xpath is deprecated. Please use find_element(by=By.XPATH, value=xpath) instead\n",
      "  send_tittle = browser.find_element_by_xpath('/html/body/div[1]/div[2]/form/div[2]/table/tbody/tr[' + str(r) +  ']/td[2]/a')\n",
      "C:\\Users\\matsuno\\AppData\\Local\\Temp\\ipykernel_11364\\599272334.py:9: DeprecationWarning: find_element_by_xpath is deprecated. Please use find_element(by=By.XPATH, value=xpath) instead\n",
      "  send_tittle = browser.find_element_by_xpath('/html/body/div[1]/div[2]/form/div[2]/table/tbody/tr[' + str(r) +  ']/td[2]/a')\n",
      "C:\\Users\\matsuno\\AppData\\Local\\Temp\\ipykernel_11364\\599272334.py:9: DeprecationWarning: find_element_by_xpath is deprecated. Please use find_element(by=By.XPATH, value=xpath) instead\n",
      "  send_tittle = browser.find_element_by_xpath('/html/body/div[1]/div[2]/form/div[2]/table/tbody/tr[' + str(r) +  ']/td[2]/a')\n"
     ]
    },
    {
     "name": "stdout",
     "output_type": "stream",
     "text": [
      "40439600052135は、「～インテリア・ファッションのLeading Company～/マーケティング部ブランドコミュニケーション課長候補 Assemblage後藤」を送信しました85\n",
      "40439600052135は、「～インテリア・ファッションのLeading Company～/マーケティング部ブランドコミュニケーション課長候補 Assemblage後藤」を送信しました86\n",
      "40439600052135は、「～インテリア・ファッションのLeading Company～/マーケティング部ブランドコミュニケーション課長候補 Assemblage後藤」を送信しました87\n"
     ]
    },
    {
     "name": "stderr",
     "output_type": "stream",
     "text": [
      "C:\\Users\\matsuno\\AppData\\Local\\Temp\\ipykernel_11364\\599272334.py:9: DeprecationWarning: find_element_by_xpath is deprecated. Please use find_element(by=By.XPATH, value=xpath) instead\n",
      "  send_tittle = browser.find_element_by_xpath('/html/body/div[1]/div[2]/form/div[2]/table/tbody/tr[' + str(r) +  ']/td[2]/a')\n",
      "C:\\Users\\matsuno\\AppData\\Local\\Temp\\ipykernel_11364\\599272334.py:9: DeprecationWarning: find_element_by_xpath is deprecated. Please use find_element(by=By.XPATH, value=xpath) instead\n",
      "  send_tittle = browser.find_element_by_xpath('/html/body/div[1]/div[2]/form/div[2]/table/tbody/tr[' + str(r) +  ']/td[2]/a')\n",
      "C:\\Users\\matsuno\\AppData\\Local\\Temp\\ipykernel_11364\\599272334.py:9: DeprecationWarning: find_element_by_xpath is deprecated. Please use find_element(by=By.XPATH, value=xpath) instead\n",
      "  send_tittle = browser.find_element_by_xpath('/html/body/div[1]/div[2]/form/div[2]/table/tbody/tr[' + str(r) +  ']/td[2]/a')\n",
      "C:\\Users\\matsuno\\AppData\\Local\\Temp\\ipykernel_11364\\599272334.py:9: DeprecationWarning: find_element_by_xpath is deprecated. Please use find_element(by=By.XPATH, value=xpath) instead\n",
      "  send_tittle = browser.find_element_by_xpath('/html/body/div[1]/div[2]/form/div[2]/table/tbody/tr[' + str(r) +  ']/td[2]/a')\n"
     ]
    },
    {
     "name": "stdout",
     "output_type": "stream",
     "text": [
      "40439600052135は、「～インテリア・ファッションのLeading Company～/マーケティング部ブランドコミュニケーション課長候補 Assemblage後藤」を送信しました88\n",
      "40439600052135は、「～インテリア・ファッションのLeading Company～/マーケティング部ブランドコミュニケーション課長候補 Assemblage後藤」を送信しました89\n"
     ]
    },
    {
     "name": "stderr",
     "output_type": "stream",
     "text": [
      "C:\\Users\\matsuno\\AppData\\Local\\Temp\\ipykernel_11364\\599272334.py:9: DeprecationWarning: find_element_by_xpath is deprecated. Please use find_element(by=By.XPATH, value=xpath) instead\n",
      "  send_tittle = browser.find_element_by_xpath('/html/body/div[1]/div[2]/form/div[2]/table/tbody/tr[' + str(r) +  ']/td[2]/a')\n",
      "C:\\Users\\matsuno\\AppData\\Local\\Temp\\ipykernel_11364\\599272334.py:9: DeprecationWarning: find_element_by_xpath is deprecated. Please use find_element(by=By.XPATH, value=xpath) instead\n",
      "  send_tittle = browser.find_element_by_xpath('/html/body/div[1]/div[2]/form/div[2]/table/tbody/tr[' + str(r) +  ']/td[2]/a')\n",
      "C:\\Users\\matsuno\\AppData\\Local\\Temp\\ipykernel_11364\\599272334.py:9: DeprecationWarning: find_element_by_xpath is deprecated. Please use find_element(by=By.XPATH, value=xpath) instead\n",
      "  send_tittle = browser.find_element_by_xpath('/html/body/div[1]/div[2]/form/div[2]/table/tbody/tr[' + str(r) +  ']/td[2]/a')\n"
     ]
    },
    {
     "name": "stdout",
     "output_type": "stream",
     "text": [
      "40439600052135は、「～インテリア・ファッションのLeading Company～/マーケティング部ブランドコミュニケーション課長候補 Assemblage後藤」を送信しました90\n",
      "40439600052135は、「～インテリア・ファッションのLeading Company～/マーケティング部ブランドコミュニケーション課長候補 Assemblage後藤」を送信しました91\n",
      "40439600052135は、「～インテリア・ファッションのLeading Company～/マーケティング部ブランドコミュニケーション課長候補 Assemblage後藤」を送信しました92\n"
     ]
    },
    {
     "name": "stderr",
     "output_type": "stream",
     "text": [
      "C:\\Users\\matsuno\\AppData\\Local\\Temp\\ipykernel_11364\\599272334.py:9: DeprecationWarning: find_element_by_xpath is deprecated. Please use find_element(by=By.XPATH, value=xpath) instead\n",
      "  send_tittle = browser.find_element_by_xpath('/html/body/div[1]/div[2]/form/div[2]/table/tbody/tr[' + str(r) +  ']/td[2]/a')\n",
      "C:\\Users\\matsuno\\AppData\\Local\\Temp\\ipykernel_11364\\599272334.py:9: DeprecationWarning: find_element_by_xpath is deprecated. Please use find_element(by=By.XPATH, value=xpath) instead\n",
      "  send_tittle = browser.find_element_by_xpath('/html/body/div[1]/div[2]/form/div[2]/table/tbody/tr[' + str(r) +  ']/td[2]/a')\n",
      "C:\\Users\\matsuno\\AppData\\Local\\Temp\\ipykernel_11364\\599272334.py:9: DeprecationWarning: find_element_by_xpath is deprecated. Please use find_element(by=By.XPATH, value=xpath) instead\n",
      "  send_tittle = browser.find_element_by_xpath('/html/body/div[1]/div[2]/form/div[2]/table/tbody/tr[' + str(r) +  ']/td[2]/a')\n"
     ]
    },
    {
     "name": "stdout",
     "output_type": "stream",
     "text": [
      "40439600052135は、「～インテリア・ファッションのLeading Company～/マーケティング部ブランドコミュニケーション課長候補 Assemblage後藤」を送信しました93\n",
      "40439600052135は、「～インテリア・ファッションのLeading Company～/マーケティング部ブランドコミュニケーション課長候補 Assemblage後藤」を送信しました94\n",
      "40439600052135は、「～インテリア・ファッションのLeading Company～/マーケティング部ブランドコミュニケーション課長候補 Assemblage後藤」を送信しました95\n"
     ]
    },
    {
     "name": "stderr",
     "output_type": "stream",
     "text": [
      "C:\\Users\\matsuno\\AppData\\Local\\Temp\\ipykernel_11364\\599272334.py:9: DeprecationWarning: find_element_by_xpath is deprecated. Please use find_element(by=By.XPATH, value=xpath) instead\n",
      "  send_tittle = browser.find_element_by_xpath('/html/body/div[1]/div[2]/form/div[2]/table/tbody/tr[' + str(r) +  ']/td[2]/a')\n",
      "C:\\Users\\matsuno\\AppData\\Local\\Temp\\ipykernel_11364\\599272334.py:9: DeprecationWarning: find_element_by_xpath is deprecated. Please use find_element(by=By.XPATH, value=xpath) instead\n",
      "  send_tittle = browser.find_element_by_xpath('/html/body/div[1]/div[2]/form/div[2]/table/tbody/tr[' + str(r) +  ']/td[2]/a')\n",
      "C:\\Users\\matsuno\\AppData\\Local\\Temp\\ipykernel_11364\\599272334.py:9: DeprecationWarning: find_element_by_xpath is deprecated. Please use find_element(by=By.XPATH, value=xpath) instead\n",
      "  send_tittle = browser.find_element_by_xpath('/html/body/div[1]/div[2]/form/div[2]/table/tbody/tr[' + str(r) +  ']/td[2]/a')\n"
     ]
    },
    {
     "name": "stdout",
     "output_type": "stream",
     "text": [
      "40439600052135は、「～インテリア・ファッションのLeading Company～/マーケティング部ブランドコミュニケーション課長候補 Assemblage後藤」を送信しました96\n",
      "40439600052135は、「～インテリア・ファッションのLeading Company～/マーケティング部ブランドコミュニケーション課長候補 Assemblage後藤」を送信しました97\n",
      "40439600052135は、「～インテリア・ファッションのLeading Company～/マーケティング部ブランドコミュニケーション課長候補 Assemblage後藤」を送信しました98\n"
     ]
    },
    {
     "name": "stderr",
     "output_type": "stream",
     "text": [
      "C:\\Users\\matsuno\\AppData\\Local\\Temp\\ipykernel_11364\\599272334.py:9: DeprecationWarning: find_element_by_xpath is deprecated. Please use find_element(by=By.XPATH, value=xpath) instead\n",
      "  send_tittle = browser.find_element_by_xpath('/html/body/div[1]/div[2]/form/div[2]/table/tbody/tr[' + str(r) +  ']/td[2]/a')\n",
      "C:\\Users\\matsuno\\AppData\\Local\\Temp\\ipykernel_11364\\599272334.py:9: DeprecationWarning: find_element_by_xpath is deprecated. Please use find_element(by=By.XPATH, value=xpath) instead\n",
      "  send_tittle = browser.find_element_by_xpath('/html/body/div[1]/div[2]/form/div[2]/table/tbody/tr[' + str(r) +  ']/td[2]/a')\n",
      "C:\\Users\\matsuno\\AppData\\Local\\Temp\\ipykernel_11364\\599272334.py:33: DeprecationWarning: find_element_by_xpath is deprecated. Please use find_element(by=By.XPATH, value=xpath) instead\n",
      "  browser_from = browser.find_element_by_xpath('/html/body/div[1]/div[2]/form/div[2]/div[3]/div[2]/a')\n"
     ]
    },
    {
     "name": "stdout",
     "output_type": "stream",
     "text": [
      "40439600052135は、「～インテリア・ファッションのLeading Company～/マーケティング部ブランドコミュニケーション課長候補 Assemblage後藤」を送信しました99\n",
      "40439600052135は、「～インテリア・ファッションのLeading Company～/マーケティング部ブランドコミュニケーション課長候補 Assemblage後藤」を送信しました100\n",
      "2ページへ移動しました\n",
      "40439600052135は、「～インテリア・ファッションのLeading Company～/マーケティング部ブランドコミュニケーション課長候補 Assemblage後藤」を送信しました1\n",
      "40439600052135は、「～インテリア・ファッションのLeading Company～/マーケティング部ブランドコミュニケーション課長候補 Assemblage後藤」を送信しました2\n"
     ]
    },
    {
     "name": "stderr",
     "output_type": "stream",
     "text": [
      "C:\\Users\\matsuno\\AppData\\Local\\Temp\\ipykernel_11364\\599272334.py:9: DeprecationWarning: find_element_by_xpath is deprecated. Please use find_element(by=By.XPATH, value=xpath) instead\n",
      "  send_tittle = browser.find_element_by_xpath('/html/body/div[1]/div[2]/form/div[2]/table/tbody/tr[' + str(r) +  ']/td[2]/a')\n",
      "C:\\Users\\matsuno\\AppData\\Local\\Temp\\ipykernel_11364\\599272334.py:9: DeprecationWarning: find_element_by_xpath is deprecated. Please use find_element(by=By.XPATH, value=xpath) instead\n",
      "  send_tittle = browser.find_element_by_xpath('/html/body/div[1]/div[2]/form/div[2]/table/tbody/tr[' + str(r) +  ']/td[2]/a')\n",
      "C:\\Users\\matsuno\\AppData\\Local\\Temp\\ipykernel_11364\\599272334.py:9: DeprecationWarning: find_element_by_xpath is deprecated. Please use find_element(by=By.XPATH, value=xpath) instead\n",
      "  send_tittle = browser.find_element_by_xpath('/html/body/div[1]/div[2]/form/div[2]/table/tbody/tr[' + str(r) +  ']/td[2]/a')\n"
     ]
    },
    {
     "name": "stdout",
     "output_type": "stream",
     "text": [
      "40439600052135は、「～インテリア・ファッションのLeading Company～/マーケティング部ブランドコミュニケーション課長候補 Assemblage後藤」を送信しました3\n",
      "40439600052135は、「～インテリア・ファッションのLeading Company～/マーケティング部ブランドコミュニケーション課長候補 Assemblage後藤」を送信しました4\n",
      "40439600052135は、「～インテリア・ファッションのLeading Company～/マーケティング部ブランドコミュニケーション課長候補 Assemblage後藤」を送信しました5\n"
     ]
    },
    {
     "name": "stderr",
     "output_type": "stream",
     "text": [
      "C:\\Users\\matsuno\\AppData\\Local\\Temp\\ipykernel_11364\\599272334.py:9: DeprecationWarning: find_element_by_xpath is deprecated. Please use find_element(by=By.XPATH, value=xpath) instead\n",
      "  send_tittle = browser.find_element_by_xpath('/html/body/div[1]/div[2]/form/div[2]/table/tbody/tr[' + str(r) +  ']/td[2]/a')\n",
      "C:\\Users\\matsuno\\AppData\\Local\\Temp\\ipykernel_11364\\599272334.py:9: DeprecationWarning: find_element_by_xpath is deprecated. Please use find_element(by=By.XPATH, value=xpath) instead\n",
      "  send_tittle = browser.find_element_by_xpath('/html/body/div[1]/div[2]/form/div[2]/table/tbody/tr[' + str(r) +  ']/td[2]/a')\n",
      "C:\\Users\\matsuno\\AppData\\Local\\Temp\\ipykernel_11364\\599272334.py:9: DeprecationWarning: find_element_by_xpath is deprecated. Please use find_element(by=By.XPATH, value=xpath) instead\n",
      "  send_tittle = browser.find_element_by_xpath('/html/body/div[1]/div[2]/form/div[2]/table/tbody/tr[' + str(r) +  ']/td[2]/a')\n"
     ]
    },
    {
     "name": "stdout",
     "output_type": "stream",
     "text": [
      "40439600052135は、「～インテリア・ファッションのLeading Company～/マーケティング部ブランドコミュニケーション課長候補 Assemblage後藤」を送信しました6\n",
      "40439600052135は、「～インテリア・ファッションのLeading Company～/マーケティング部ブランドコミュニケーション課長候補 Assemblage後藤」を送信しました7\n",
      "40439600052135は、「～インテリア・ファッションのLeading Company～/マーケティング部ブランドコミュニケーション課長候補 Assemblage後藤」を送信しました8\n"
     ]
    },
    {
     "name": "stderr",
     "output_type": "stream",
     "text": [
      "C:\\Users\\matsuno\\AppData\\Local\\Temp\\ipykernel_11364\\599272334.py:9: DeprecationWarning: find_element_by_xpath is deprecated. Please use find_element(by=By.XPATH, value=xpath) instead\n",
      "  send_tittle = browser.find_element_by_xpath('/html/body/div[1]/div[2]/form/div[2]/table/tbody/tr[' + str(r) +  ']/td[2]/a')\n",
      "C:\\Users\\matsuno\\AppData\\Local\\Temp\\ipykernel_11364\\599272334.py:9: DeprecationWarning: find_element_by_xpath is deprecated. Please use find_element(by=By.XPATH, value=xpath) instead\n",
      "  send_tittle = browser.find_element_by_xpath('/html/body/div[1]/div[2]/form/div[2]/table/tbody/tr[' + str(r) +  ']/td[2]/a')\n",
      "C:\\Users\\matsuno\\AppData\\Local\\Temp\\ipykernel_11364\\599272334.py:9: DeprecationWarning: find_element_by_xpath is deprecated. Please use find_element(by=By.XPATH, value=xpath) instead\n",
      "  send_tittle = browser.find_element_by_xpath('/html/body/div[1]/div[2]/form/div[2]/table/tbody/tr[' + str(r) +  ']/td[2]/a')\n"
     ]
    },
    {
     "name": "stdout",
     "output_type": "stream",
     "text": [
      "40439600052135は、「～インテリア・ファッションのLeading Company～/マーケティング部ブランドコミュニケーション課長候補 Assemblage後藤」を送信しました9\n",
      "40439600052135は、「～インテリア・ファッションのLeading Company～/マーケティング部ブランドコミュニケーション課長候補 Assemblage後藤」を送信しました10\n",
      "40439600052135は、「～インテリア・ファッションのLeading Company～/マーケティング部ブランドコミュニケーション課長候補 Assemblage後藤」を送信しました11\n"
     ]
    },
    {
     "name": "stderr",
     "output_type": "stream",
     "text": [
      "C:\\Users\\matsuno\\AppData\\Local\\Temp\\ipykernel_11364\\599272334.py:9: DeprecationWarning: find_element_by_xpath is deprecated. Please use find_element(by=By.XPATH, value=xpath) instead\n",
      "  send_tittle = browser.find_element_by_xpath('/html/body/div[1]/div[2]/form/div[2]/table/tbody/tr[' + str(r) +  ']/td[2]/a')\n",
      "C:\\Users\\matsuno\\AppData\\Local\\Temp\\ipykernel_11364\\599272334.py:9: DeprecationWarning: find_element_by_xpath is deprecated. Please use find_element(by=By.XPATH, value=xpath) instead\n",
      "  send_tittle = browser.find_element_by_xpath('/html/body/div[1]/div[2]/form/div[2]/table/tbody/tr[' + str(r) +  ']/td[2]/a')\n",
      "C:\\Users\\matsuno\\AppData\\Local\\Temp\\ipykernel_11364\\599272334.py:9: DeprecationWarning: find_element_by_xpath is deprecated. Please use find_element(by=By.XPATH, value=xpath) instead\n",
      "  send_tittle = browser.find_element_by_xpath('/html/body/div[1]/div[2]/form/div[2]/table/tbody/tr[' + str(r) +  ']/td[2]/a')\n"
     ]
    },
    {
     "name": "stdout",
     "output_type": "stream",
     "text": [
      "40439600052135は、「～インテリア・ファッションのLeading Company～/マーケティング部ブランドコミュニケーション課長候補 Assemblage後藤」を送信しました12\n",
      "40439600052135は、「～インテリア・ファッションのLeading Company～/マーケティング部ブランドコミュニケーション課長候補 Assemblage後藤」を送信しました13\n",
      "40439600052135は、「～インテリア・ファッションのLeading Company～/マーケティング部ブランドコミュニケーション課長候補 Assemblage後藤」を送信しました14\n"
     ]
    },
    {
     "name": "stderr",
     "output_type": "stream",
     "text": [
      "C:\\Users\\matsuno\\AppData\\Local\\Temp\\ipykernel_11364\\599272334.py:9: DeprecationWarning: find_element_by_xpath is deprecated. Please use find_element(by=By.XPATH, value=xpath) instead\n",
      "  send_tittle = browser.find_element_by_xpath('/html/body/div[1]/div[2]/form/div[2]/table/tbody/tr[' + str(r) +  ']/td[2]/a')\n",
      "C:\\Users\\matsuno\\AppData\\Local\\Temp\\ipykernel_11364\\599272334.py:9: DeprecationWarning: find_element_by_xpath is deprecated. Please use find_element(by=By.XPATH, value=xpath) instead\n",
      "  send_tittle = browser.find_element_by_xpath('/html/body/div[1]/div[2]/form/div[2]/table/tbody/tr[' + str(r) +  ']/td[2]/a')\n",
      "C:\\Users\\matsuno\\AppData\\Local\\Temp\\ipykernel_11364\\599272334.py:9: DeprecationWarning: find_element_by_xpath is deprecated. Please use find_element(by=By.XPATH, value=xpath) instead\n",
      "  send_tittle = browser.find_element_by_xpath('/html/body/div[1]/div[2]/form/div[2]/table/tbody/tr[' + str(r) +  ']/td[2]/a')\n"
     ]
    },
    {
     "name": "stdout",
     "output_type": "stream",
     "text": [
      "40439600052135は、「～インテリア・ファッションのLeading Company～/マーケティング部ブランドコミュニケーション課長候補 Assemblage後藤」を送信しました15\n",
      "40439600052135は、「～インテリア・ファッションのLeading Company～/マーケティング部ブランドコミュニケーション課長候補 Assemblage後藤」を送信しました16\n"
     ]
    },
    {
     "name": "stderr",
     "output_type": "stream",
     "text": [
      "C:\\Users\\matsuno\\AppData\\Local\\Temp\\ipykernel_11364\\599272334.py:9: DeprecationWarning: find_element_by_xpath is deprecated. Please use find_element(by=By.XPATH, value=xpath) instead\n",
      "  send_tittle = browser.find_element_by_xpath('/html/body/div[1]/div[2]/form/div[2]/table/tbody/tr[' + str(r) +  ']/td[2]/a')\n",
      "C:\\Users\\matsuno\\AppData\\Local\\Temp\\ipykernel_11364\\599272334.py:9: DeprecationWarning: find_element_by_xpath is deprecated. Please use find_element(by=By.XPATH, value=xpath) instead\n",
      "  send_tittle = browser.find_element_by_xpath('/html/body/div[1]/div[2]/form/div[2]/table/tbody/tr[' + str(r) +  ']/td[2]/a')\n",
      "C:\\Users\\matsuno\\AppData\\Local\\Temp\\ipykernel_11364\\599272334.py:9: DeprecationWarning: find_element_by_xpath is deprecated. Please use find_element(by=By.XPATH, value=xpath) instead\n",
      "  send_tittle = browser.find_element_by_xpath('/html/body/div[1]/div[2]/form/div[2]/table/tbody/tr[' + str(r) +  ']/td[2]/a')\n"
     ]
    },
    {
     "name": "stdout",
     "output_type": "stream",
     "text": [
      "40439600052135は、「～インテリア・ファッションのLeading Company～/マーケティング部ブランドコミュニケーション課長候補 Assemblage後藤」を送信しました17\n",
      "40439600052135は、「～インテリア・ファッションのLeading Company～/マーケティング部ブランドコミュニケーション課長候補 Assemblage後藤」を送信しました18\n",
      "40439600052135は、「～インテリア・ファッションのLeading Company～/マーケティング部ブランドコミュニケーション課長候補 Assemblage後藤」を送信しました19\n"
     ]
    },
    {
     "name": "stderr",
     "output_type": "stream",
     "text": [
      "C:\\Users\\matsuno\\AppData\\Local\\Temp\\ipykernel_11364\\599272334.py:9: DeprecationWarning: find_element_by_xpath is deprecated. Please use find_element(by=By.XPATH, value=xpath) instead\n",
      "  send_tittle = browser.find_element_by_xpath('/html/body/div[1]/div[2]/form/div[2]/table/tbody/tr[' + str(r) +  ']/td[2]/a')\n",
      "C:\\Users\\matsuno\\AppData\\Local\\Temp\\ipykernel_11364\\599272334.py:9: DeprecationWarning: find_element_by_xpath is deprecated. Please use find_element(by=By.XPATH, value=xpath) instead\n",
      "  send_tittle = browser.find_element_by_xpath('/html/body/div[1]/div[2]/form/div[2]/table/tbody/tr[' + str(r) +  ']/td[2]/a')\n",
      "C:\\Users\\matsuno\\AppData\\Local\\Temp\\ipykernel_11364\\599272334.py:9: DeprecationWarning: find_element_by_xpath is deprecated. Please use find_element(by=By.XPATH, value=xpath) instead\n",
      "  send_tittle = browser.find_element_by_xpath('/html/body/div[1]/div[2]/form/div[2]/table/tbody/tr[' + str(r) +  ']/td[2]/a')\n"
     ]
    },
    {
     "name": "stdout",
     "output_type": "stream",
     "text": [
      "40439600052135は、「～インテリア・ファッションのLeading Company～/マーケティング部ブランドコミュニケーション課長候補 Assemblage後藤」を送信しました20\n",
      "40439600052135は、「～インテリア・ファッションのLeading Company～/マーケティング部ブランドコミュニケーション課長候補 Assemblage後藤」を送信しました21\n",
      "40439600052135は、「～インテリア・ファッションのLeading Company～/マーケティング部ブランドコミュニケーション課長候補 Assemblage後藤」を送信しました22\n"
     ]
    },
    {
     "name": "stderr",
     "output_type": "stream",
     "text": [
      "C:\\Users\\matsuno\\AppData\\Local\\Temp\\ipykernel_11364\\599272334.py:9: DeprecationWarning: find_element_by_xpath is deprecated. Please use find_element(by=By.XPATH, value=xpath) instead\n",
      "  send_tittle = browser.find_element_by_xpath('/html/body/div[1]/div[2]/form/div[2]/table/tbody/tr[' + str(r) +  ']/td[2]/a')\n",
      "C:\\Users\\matsuno\\AppData\\Local\\Temp\\ipykernel_11364\\599272334.py:9: DeprecationWarning: find_element_by_xpath is deprecated. Please use find_element(by=By.XPATH, value=xpath) instead\n",
      "  send_tittle = browser.find_element_by_xpath('/html/body/div[1]/div[2]/form/div[2]/table/tbody/tr[' + str(r) +  ']/td[2]/a')\n"
     ]
    },
    {
     "name": "stdout",
     "output_type": "stream",
     "text": [
      "40439600052135は、「～インテリア・ファッションのLeading Company～/マーケティング部ブランドコミュニケーション課長候補 Assemblage後藤」を送信しました23\n",
      "40439600052135は、「～インテリア・ファッションのLeading Company～/マーケティング部ブランドコミュニケーション課長候補 Assemblage後藤」を送信しました24\n",
      "40439600052135は、「～インテリア・ファッションのLeading Company～/マーケティング部ブランドコミュニケーション課長候補 Assemblage後藤」を送信しました25\n"
     ]
    },
    {
     "name": "stderr",
     "output_type": "stream",
     "text": [
      "C:\\Users\\matsuno\\AppData\\Local\\Temp\\ipykernel_11364\\599272334.py:9: DeprecationWarning: find_element_by_xpath is deprecated. Please use find_element(by=By.XPATH, value=xpath) instead\n",
      "  send_tittle = browser.find_element_by_xpath('/html/body/div[1]/div[2]/form/div[2]/table/tbody/tr[' + str(r) +  ']/td[2]/a')\n",
      "C:\\Users\\matsuno\\AppData\\Local\\Temp\\ipykernel_11364\\599272334.py:9: DeprecationWarning: find_element_by_xpath is deprecated. Please use find_element(by=By.XPATH, value=xpath) instead\n",
      "  send_tittle = browser.find_element_by_xpath('/html/body/div[1]/div[2]/form/div[2]/table/tbody/tr[' + str(r) +  ']/td[2]/a')\n",
      "C:\\Users\\matsuno\\AppData\\Local\\Temp\\ipykernel_11364\\599272334.py:9: DeprecationWarning: find_element_by_xpath is deprecated. Please use find_element(by=By.XPATH, value=xpath) instead\n",
      "  send_tittle = browser.find_element_by_xpath('/html/body/div[1]/div[2]/form/div[2]/table/tbody/tr[' + str(r) +  ']/td[2]/a')\n"
     ]
    },
    {
     "name": "stdout",
     "output_type": "stream",
     "text": [
      "40439600052135は、「～インテリア・ファッションのLeading Company～/マーケティング部ブランドコミュニケーション課長候補 Assemblage後藤」を送信しました26\n",
      "40439600052135は、「～インテリア・ファッションのLeading Company～/マーケティング部ブランドコミュニケーション課長候補 Assemblage後藤」を送信しました27\n",
      "40439600052135は、「～インテリア・ファッションのLeading Company～/マーケティング部ブランドコミュニケーション課長候補 Assemblage後藤」を送信しました28\n"
     ]
    },
    {
     "name": "stderr",
     "output_type": "stream",
     "text": [
      "C:\\Users\\matsuno\\AppData\\Local\\Temp\\ipykernel_11364\\599272334.py:9: DeprecationWarning: find_element_by_xpath is deprecated. Please use find_element(by=By.XPATH, value=xpath) instead\n",
      "  send_tittle = browser.find_element_by_xpath('/html/body/div[1]/div[2]/form/div[2]/table/tbody/tr[' + str(r) +  ']/td[2]/a')\n",
      "C:\\Users\\matsuno\\AppData\\Local\\Temp\\ipykernel_11364\\599272334.py:9: DeprecationWarning: find_element_by_xpath is deprecated. Please use find_element(by=By.XPATH, value=xpath) instead\n",
      "  send_tittle = browser.find_element_by_xpath('/html/body/div[1]/div[2]/form/div[2]/table/tbody/tr[' + str(r) +  ']/td[2]/a')\n",
      "C:\\Users\\matsuno\\AppData\\Local\\Temp\\ipykernel_11364\\599272334.py:9: DeprecationWarning: find_element_by_xpath is deprecated. Please use find_element(by=By.XPATH, value=xpath) instead\n",
      "  send_tittle = browser.find_element_by_xpath('/html/body/div[1]/div[2]/form/div[2]/table/tbody/tr[' + str(r) +  ']/td[2]/a')\n"
     ]
    },
    {
     "name": "stdout",
     "output_type": "stream",
     "text": [
      "40439600052135は、「～インテリア・ファッションのLeading Company～/マーケティング部ブランドコミュニケーション課長候補 Assemblage後藤」を送信しました29\n",
      "40439600052135は、「～インテリア・ファッションのLeading Company～/マーケティング部ブランドコミュニケーション課長候補 Assemblage後藤」を送信しました30\n",
      "40439600052135は、「～インテリア・ファッションのLeading Company～/マーケティング部ブランドコミュニケーション課長候補 Assemblage後藤」を送信しました31\n"
     ]
    },
    {
     "name": "stderr",
     "output_type": "stream",
     "text": [
      "C:\\Users\\matsuno\\AppData\\Local\\Temp\\ipykernel_11364\\599272334.py:9: DeprecationWarning: find_element_by_xpath is deprecated. Please use find_element(by=By.XPATH, value=xpath) instead\n",
      "  send_tittle = browser.find_element_by_xpath('/html/body/div[1]/div[2]/form/div[2]/table/tbody/tr[' + str(r) +  ']/td[2]/a')\n",
      "C:\\Users\\matsuno\\AppData\\Local\\Temp\\ipykernel_11364\\599272334.py:9: DeprecationWarning: find_element_by_xpath is deprecated. Please use find_element(by=By.XPATH, value=xpath) instead\n",
      "  send_tittle = browser.find_element_by_xpath('/html/body/div[1]/div[2]/form/div[2]/table/tbody/tr[' + str(r) +  ']/td[2]/a')\n",
      "C:\\Users\\matsuno\\AppData\\Local\\Temp\\ipykernel_11364\\599272334.py:9: DeprecationWarning: find_element_by_xpath is deprecated. Please use find_element(by=By.XPATH, value=xpath) instead\n",
      "  send_tittle = browser.find_element_by_xpath('/html/body/div[1]/div[2]/form/div[2]/table/tbody/tr[' + str(r) +  ']/td[2]/a')\n"
     ]
    },
    {
     "name": "stdout",
     "output_type": "stream",
     "text": [
      "40439600052135は、「～インテリア・ファッションのLeading Company～/マーケティング部ブランドコミュニケーション課長候補 Assemblage後藤」を送信しました32\n",
      "40439600052135は、「～インテリア・ファッションのLeading Company～/マーケティング部ブランドコミュニケーション課長候補 Assemblage後藤」を送信しました33\n"
     ]
    },
    {
     "name": "stderr",
     "output_type": "stream",
     "text": [
      "C:\\Users\\matsuno\\AppData\\Local\\Temp\\ipykernel_11364\\599272334.py:9: DeprecationWarning: find_element_by_xpath is deprecated. Please use find_element(by=By.XPATH, value=xpath) instead\n",
      "  send_tittle = browser.find_element_by_xpath('/html/body/div[1]/div[2]/form/div[2]/table/tbody/tr[' + str(r) +  ']/td[2]/a')\n",
      "C:\\Users\\matsuno\\AppData\\Local\\Temp\\ipykernel_11364\\599272334.py:9: DeprecationWarning: find_element_by_xpath is deprecated. Please use find_element(by=By.XPATH, value=xpath) instead\n",
      "  send_tittle = browser.find_element_by_xpath('/html/body/div[1]/div[2]/form/div[2]/table/tbody/tr[' + str(r) +  ']/td[2]/a')\n"
     ]
    },
    {
     "name": "stdout",
     "output_type": "stream",
     "text": [
      "40439600052135は、「～インテリア・ファッションのLeading Company～/マーケティング部ブランドコミュニケーション課長候補 Assemblage後藤」を送信しました34\n",
      "40439600052135は、「～インテリア・ファッションのLeading Company～/マーケティング部ブランドコミュニケーション課長候補 Assemblage後藤」を送信しました35\n"
     ]
    },
    {
     "name": "stderr",
     "output_type": "stream",
     "text": [
      "C:\\Users\\matsuno\\AppData\\Local\\Temp\\ipykernel_11364\\599272334.py:9: DeprecationWarning: find_element_by_xpath is deprecated. Please use find_element(by=By.XPATH, value=xpath) instead\n",
      "  send_tittle = browser.find_element_by_xpath('/html/body/div[1]/div[2]/form/div[2]/table/tbody/tr[' + str(r) +  ']/td[2]/a')\n",
      "C:\\Users\\matsuno\\AppData\\Local\\Temp\\ipykernel_11364\\599272334.py:9: DeprecationWarning: find_element_by_xpath is deprecated. Please use find_element(by=By.XPATH, value=xpath) instead\n",
      "  send_tittle = browser.find_element_by_xpath('/html/body/div[1]/div[2]/form/div[2]/table/tbody/tr[' + str(r) +  ']/td[2]/a')\n"
     ]
    },
    {
     "name": "stdout",
     "output_type": "stream",
     "text": [
      "40439600052135は、「～インテリア・ファッションのLeading Company～/マーケティング部ブランドコミュニケーション課長候補 Assemblage後藤」を送信しました36\n",
      "40439600052135は、「～インテリア・ファッションのLeading Company～/マーケティング部ブランドコミュニケーション課長候補 Assemblage後藤」を送信しました37\n",
      "40439600052135は、「～インテリア・ファッションのLeading Company～/マーケティング部ブランドコミュニケーション課長候補 Assemblage後藤」を送信しました38\n"
     ]
    },
    {
     "name": "stderr",
     "output_type": "stream",
     "text": [
      "C:\\Users\\matsuno\\AppData\\Local\\Temp\\ipykernel_11364\\599272334.py:9: DeprecationWarning: find_element_by_xpath is deprecated. Please use find_element(by=By.XPATH, value=xpath) instead\n",
      "  send_tittle = browser.find_element_by_xpath('/html/body/div[1]/div[2]/form/div[2]/table/tbody/tr[' + str(r) +  ']/td[2]/a')\n",
      "C:\\Users\\matsuno\\AppData\\Local\\Temp\\ipykernel_11364\\599272334.py:9: DeprecationWarning: find_element_by_xpath is deprecated. Please use find_element(by=By.XPATH, value=xpath) instead\n",
      "  send_tittle = browser.find_element_by_xpath('/html/body/div[1]/div[2]/form/div[2]/table/tbody/tr[' + str(r) +  ']/td[2]/a')\n",
      "C:\\Users\\matsuno\\AppData\\Local\\Temp\\ipykernel_11364\\599272334.py:9: DeprecationWarning: find_element_by_xpath is deprecated. Please use find_element(by=By.XPATH, value=xpath) instead\n",
      "  send_tittle = browser.find_element_by_xpath('/html/body/div[1]/div[2]/form/div[2]/table/tbody/tr[' + str(r) +  ']/td[2]/a')\n",
      "C:\\Users\\matsuno\\AppData\\Local\\Temp\\ipykernel_11364\\599272334.py:9: DeprecationWarning: find_element_by_xpath is deprecated. Please use find_element(by=By.XPATH, value=xpath) instead\n",
      "  send_tittle = browser.find_element_by_xpath('/html/body/div[1]/div[2]/form/div[2]/table/tbody/tr[' + str(r) +  ']/td[2]/a')\n"
     ]
    },
    {
     "name": "stdout",
     "output_type": "stream",
     "text": [
      "40439600052135は、「～インテリア・ファッションのLeading Company～/マーケティング部ブランドコミュニケーション課長候補 Assemblage後藤」を送信しました39\n",
      "40439600052135は、「～インテリア・ファッションのLeading Company～/マーケティング部ブランドコミュニケーション課長候補 Assemblage後藤」を送信しました40\n"
     ]
    },
    {
     "name": "stderr",
     "output_type": "stream",
     "text": [
      "C:\\Users\\matsuno\\AppData\\Local\\Temp\\ipykernel_11364\\599272334.py:9: DeprecationWarning: find_element_by_xpath is deprecated. Please use find_element(by=By.XPATH, value=xpath) instead\n",
      "  send_tittle = browser.find_element_by_xpath('/html/body/div[1]/div[2]/form/div[2]/table/tbody/tr[' + str(r) +  ']/td[2]/a')\n",
      "C:\\Users\\matsuno\\AppData\\Local\\Temp\\ipykernel_11364\\599272334.py:9: DeprecationWarning: find_element_by_xpath is deprecated. Please use find_element(by=By.XPATH, value=xpath) instead\n",
      "  send_tittle = browser.find_element_by_xpath('/html/body/div[1]/div[2]/form/div[2]/table/tbody/tr[' + str(r) +  ']/td[2]/a')\n",
      "C:\\Users\\matsuno\\AppData\\Local\\Temp\\ipykernel_11364\\599272334.py:9: DeprecationWarning: find_element_by_xpath is deprecated. Please use find_element(by=By.XPATH, value=xpath) instead\n",
      "  send_tittle = browser.find_element_by_xpath('/html/body/div[1]/div[2]/form/div[2]/table/tbody/tr[' + str(r) +  ']/td[2]/a')\n"
     ]
    },
    {
     "name": "stdout",
     "output_type": "stream",
     "text": [
      "40439600052135は、「～インテリア・ファッションのLeading Company～/マーケティング部ブランドコミュニケーション課長候補 Assemblage後藤」を送信しました41\n",
      "40439600052135は、「～インテリア・ファッションのLeading Company～/マーケティング部ブランドコミュニケーション課長候補 Assemblage後藤」を送信しました42\n",
      "40439600052135は、「～インテリア・ファッションのLeading Company～/マーケティング部ブランドコミュニケーション課長候補 Assemblage後藤」を送信しました43\n"
     ]
    },
    {
     "name": "stderr",
     "output_type": "stream",
     "text": [
      "C:\\Users\\matsuno\\AppData\\Local\\Temp\\ipykernel_11364\\599272334.py:9: DeprecationWarning: find_element_by_xpath is deprecated. Please use find_element(by=By.XPATH, value=xpath) instead\n",
      "  send_tittle = browser.find_element_by_xpath('/html/body/div[1]/div[2]/form/div[2]/table/tbody/tr[' + str(r) +  ']/td[2]/a')\n",
      "C:\\Users\\matsuno\\AppData\\Local\\Temp\\ipykernel_11364\\599272334.py:9: DeprecationWarning: find_element_by_xpath is deprecated. Please use find_element(by=By.XPATH, value=xpath) instead\n",
      "  send_tittle = browser.find_element_by_xpath('/html/body/div[1]/div[2]/form/div[2]/table/tbody/tr[' + str(r) +  ']/td[2]/a')\n",
      "C:\\Users\\matsuno\\AppData\\Local\\Temp\\ipykernel_11364\\599272334.py:9: DeprecationWarning: find_element_by_xpath is deprecated. Please use find_element(by=By.XPATH, value=xpath) instead\n",
      "  send_tittle = browser.find_element_by_xpath('/html/body/div[1]/div[2]/form/div[2]/table/tbody/tr[' + str(r) +  ']/td[2]/a')\n"
     ]
    },
    {
     "name": "stdout",
     "output_type": "stream",
     "text": [
      "40439600052135は、「～インテリア・ファッションのLeading Company～/マーケティング部ブランドコミュニケーション課長候補 Assemblage後藤」を送信しました44\n",
      "40439600052135は、「～インテリア・ファッションのLeading Company～/マーケティング部ブランドコミュニケーション課長候補 Assemblage後藤」を送信しました45\n",
      "40439600052135は、「～インテリア・ファッションのLeading Company～/マーケティング部ブランドコミュニケーション課長候補 Assemblage後藤」を送信しました46\n"
     ]
    },
    {
     "name": "stderr",
     "output_type": "stream",
     "text": [
      "C:\\Users\\matsuno\\AppData\\Local\\Temp\\ipykernel_11364\\599272334.py:9: DeprecationWarning: find_element_by_xpath is deprecated. Please use find_element(by=By.XPATH, value=xpath) instead\n",
      "  send_tittle = browser.find_element_by_xpath('/html/body/div[1]/div[2]/form/div[2]/table/tbody/tr[' + str(r) +  ']/td[2]/a')\n",
      "C:\\Users\\matsuno\\AppData\\Local\\Temp\\ipykernel_11364\\599272334.py:9: DeprecationWarning: find_element_by_xpath is deprecated. Please use find_element(by=By.XPATH, value=xpath) instead\n",
      "  send_tittle = browser.find_element_by_xpath('/html/body/div[1]/div[2]/form/div[2]/table/tbody/tr[' + str(r) +  ']/td[2]/a')\n"
     ]
    },
    {
     "name": "stdout",
     "output_type": "stream",
     "text": [
      "40439600052135は、「～インテリア・ファッションのLeading Company～/マーケティング部ブランドコミュニケーション課長候補 Assemblage後藤」を送信しました47\n",
      "40439600052135は、「～インテリア・ファッションのLeading Company～/マーケティング部ブランドコミュニケーション課長候補 Assemblage後藤」を送信しました48\n"
     ]
    },
    {
     "name": "stderr",
     "output_type": "stream",
     "text": [
      "C:\\Users\\matsuno\\AppData\\Local\\Temp\\ipykernel_11364\\599272334.py:9: DeprecationWarning: find_element_by_xpath is deprecated. Please use find_element(by=By.XPATH, value=xpath) instead\n",
      "  send_tittle = browser.find_element_by_xpath('/html/body/div[1]/div[2]/form/div[2]/table/tbody/tr[' + str(r) +  ']/td[2]/a')\n"
     ]
    },
    {
     "name": "stdout",
     "output_type": "stream",
     "text": [
      "40439600052135は、「～インテリア・ファッションのLeading Company～/マーケティング部ブランドコミュニケーション課長候補 Assemblage後藤」を送信しました49\n"
     ]
    },
    {
     "name": "stderr",
     "output_type": "stream",
     "text": [
      "C:\\Users\\matsuno\\AppData\\Local\\Temp\\ipykernel_11364\\599272334.py:9: DeprecationWarning: find_element_by_xpath is deprecated. Please use find_element(by=By.XPATH, value=xpath) instead\n",
      "  send_tittle = browser.find_element_by_xpath('/html/body/div[1]/div[2]/form/div[2]/table/tbody/tr[' + str(r) +  ']/td[2]/a')\n"
     ]
    },
    {
     "name": "stdout",
     "output_type": "stream",
     "text": [
      "40439600052135は、「～インテリア・ファッションのLeading Company～/マーケティング部ブランドコミュニケーション課長候補 Assemblage後藤」を送信しました50\n",
      "40439600052135は、「～インテリア・ファッションのLeading Company～/マーケティング部ブランドコミュニケーション課長候補 Assemblage後藤」を送信しました51\n"
     ]
    },
    {
     "name": "stderr",
     "output_type": "stream",
     "text": [
      "C:\\Users\\matsuno\\AppData\\Local\\Temp\\ipykernel_11364\\599272334.py:9: DeprecationWarning: find_element_by_xpath is deprecated. Please use find_element(by=By.XPATH, value=xpath) instead\n",
      "  send_tittle = browser.find_element_by_xpath('/html/body/div[1]/div[2]/form/div[2]/table/tbody/tr[' + str(r) +  ']/td[2]/a')\n",
      "C:\\Users\\matsuno\\AppData\\Local\\Temp\\ipykernel_11364\\599272334.py:9: DeprecationWarning: find_element_by_xpath is deprecated. Please use find_element(by=By.XPATH, value=xpath) instead\n",
      "  send_tittle = browser.find_element_by_xpath('/html/body/div[1]/div[2]/form/div[2]/table/tbody/tr[' + str(r) +  ']/td[2]/a')\n"
     ]
    },
    {
     "name": "stdout",
     "output_type": "stream",
     "text": [
      "40439600052135は、「～インテリア・ファッションのLeading Company～/マーケティング部ブランドコミュニケーション課長候補 Assemblage後藤」を送信しました52\n",
      "40439600052135は、「～インテリア・ファッションのLeading Company～/マーケティング部ブランドコミュニケーション課長候補 Assemblage後藤」を送信しました53\n"
     ]
    },
    {
     "name": "stderr",
     "output_type": "stream",
     "text": [
      "C:\\Users\\matsuno\\AppData\\Local\\Temp\\ipykernel_11364\\599272334.py:9: DeprecationWarning: find_element_by_xpath is deprecated. Please use find_element(by=By.XPATH, value=xpath) instead\n",
      "  send_tittle = browser.find_element_by_xpath('/html/body/div[1]/div[2]/form/div[2]/table/tbody/tr[' + str(r) +  ']/td[2]/a')\n",
      "C:\\Users\\matsuno\\AppData\\Local\\Temp\\ipykernel_11364\\599272334.py:9: DeprecationWarning: find_element_by_xpath is deprecated. Please use find_element(by=By.XPATH, value=xpath) instead\n",
      "  send_tittle = browser.find_element_by_xpath('/html/body/div[1]/div[2]/form/div[2]/table/tbody/tr[' + str(r) +  ']/td[2]/a')\n",
      "C:\\Users\\matsuno\\AppData\\Local\\Temp\\ipykernel_11364\\599272334.py:9: DeprecationWarning: find_element_by_xpath is deprecated. Please use find_element(by=By.XPATH, value=xpath) instead\n",
      "  send_tittle = browser.find_element_by_xpath('/html/body/div[1]/div[2]/form/div[2]/table/tbody/tr[' + str(r) +  ']/td[2]/a')\n"
     ]
    },
    {
     "name": "stdout",
     "output_type": "stream",
     "text": [
      "40439600052135は、「～インテリア・ファッションのLeading Company～/マーケティング部ブランドコミュニケーション課長候補 Assemblage後藤」を送信しました54\n",
      "40439600052135は、「～インテリア・ファッションのLeading Company～/マーケティング部ブランドコミュニケーション課長候補 Assemblage後藤」を送信しました55\n"
     ]
    },
    {
     "name": "stderr",
     "output_type": "stream",
     "text": [
      "C:\\Users\\matsuno\\AppData\\Local\\Temp\\ipykernel_11364\\599272334.py:9: DeprecationWarning: find_element_by_xpath is deprecated. Please use find_element(by=By.XPATH, value=xpath) instead\n",
      "  send_tittle = browser.find_element_by_xpath('/html/body/div[1]/div[2]/form/div[2]/table/tbody/tr[' + str(r) +  ']/td[2]/a')\n",
      "C:\\Users\\matsuno\\AppData\\Local\\Temp\\ipykernel_11364\\599272334.py:9: DeprecationWarning: find_element_by_xpath is deprecated. Please use find_element(by=By.XPATH, value=xpath) instead\n",
      "  send_tittle = browser.find_element_by_xpath('/html/body/div[1]/div[2]/form/div[2]/table/tbody/tr[' + str(r) +  ']/td[2]/a')\n",
      "C:\\Users\\matsuno\\AppData\\Local\\Temp\\ipykernel_11364\\599272334.py:9: DeprecationWarning: find_element_by_xpath is deprecated. Please use find_element(by=By.XPATH, value=xpath) instead\n",
      "  send_tittle = browser.find_element_by_xpath('/html/body/div[1]/div[2]/form/div[2]/table/tbody/tr[' + str(r) +  ']/td[2]/a')\n"
     ]
    },
    {
     "name": "stdout",
     "output_type": "stream",
     "text": [
      "40439600052135は、「～インテリア・ファッションのLeading Company～/マーケティング部ブランドコミュニケーション課長候補 Assemblage後藤」を送信しました56\n",
      "40439600052135は、「～インテリア・ファッションのLeading Company～/マーケティング部ブランドコミュニケーション課長候補 Assemblage後藤」を送信しました57\n",
      "40439600052135は、「～インテリア・ファッションのLeading Company～/マーケティング部ブランドコミュニケーション課長候補 Assemblage後藤」を送信しました58\n"
     ]
    },
    {
     "name": "stderr",
     "output_type": "stream",
     "text": [
      "C:\\Users\\matsuno\\AppData\\Local\\Temp\\ipykernel_11364\\599272334.py:9: DeprecationWarning: find_element_by_xpath is deprecated. Please use find_element(by=By.XPATH, value=xpath) instead\n",
      "  send_tittle = browser.find_element_by_xpath('/html/body/div[1]/div[2]/form/div[2]/table/tbody/tr[' + str(r) +  ']/td[2]/a')\n",
      "C:\\Users\\matsuno\\AppData\\Local\\Temp\\ipykernel_11364\\599272334.py:9: DeprecationWarning: find_element_by_xpath is deprecated. Please use find_element(by=By.XPATH, value=xpath) instead\n",
      "  send_tittle = browser.find_element_by_xpath('/html/body/div[1]/div[2]/form/div[2]/table/tbody/tr[' + str(r) +  ']/td[2]/a')\n",
      "C:\\Users\\matsuno\\AppData\\Local\\Temp\\ipykernel_11364\\599272334.py:9: DeprecationWarning: find_element_by_xpath is deprecated. Please use find_element(by=By.XPATH, value=xpath) instead\n",
      "  send_tittle = browser.find_element_by_xpath('/html/body/div[1]/div[2]/form/div[2]/table/tbody/tr[' + str(r) +  ']/td[2]/a')\n"
     ]
    },
    {
     "name": "stdout",
     "output_type": "stream",
     "text": [
      "40439600052135は、「～インテリア・ファッションのLeading Company～/マーケティング部ブランドコミュニケーション課長候補 Assemblage後藤」を送信しました59\n",
      "40439600052135は、「～インテリア・ファッションのLeading Company～/マーケティング部ブランドコミュニケーション課長候補 Assemblage後藤」を送信しました60\n",
      "40439600052135は、「～インテリア・ファッションのLeading Company～/マーケティング部ブランドコミュニケーション課長候補 Assemblage後藤」を送信しました61\n"
     ]
    },
    {
     "name": "stderr",
     "output_type": "stream",
     "text": [
      "C:\\Users\\matsuno\\AppData\\Local\\Temp\\ipykernel_11364\\599272334.py:9: DeprecationWarning: find_element_by_xpath is deprecated. Please use find_element(by=By.XPATH, value=xpath) instead\n",
      "  send_tittle = browser.find_element_by_xpath('/html/body/div[1]/div[2]/form/div[2]/table/tbody/tr[' + str(r) +  ']/td[2]/a')\n",
      "C:\\Users\\matsuno\\AppData\\Local\\Temp\\ipykernel_11364\\599272334.py:9: DeprecationWarning: find_element_by_xpath is deprecated. Please use find_element(by=By.XPATH, value=xpath) instead\n",
      "  send_tittle = browser.find_element_by_xpath('/html/body/div[1]/div[2]/form/div[2]/table/tbody/tr[' + str(r) +  ']/td[2]/a')\n",
      "C:\\Users\\matsuno\\AppData\\Local\\Temp\\ipykernel_11364\\599272334.py:9: DeprecationWarning: find_element_by_xpath is deprecated. Please use find_element(by=By.XPATH, value=xpath) instead\n",
      "  send_tittle = browser.find_element_by_xpath('/html/body/div[1]/div[2]/form/div[2]/table/tbody/tr[' + str(r) +  ']/td[2]/a')\n"
     ]
    },
    {
     "name": "stdout",
     "output_type": "stream",
     "text": [
      "40439600052135は、「～インテリア・ファッションのLeading Company～/マーケティング部ブランドコミュニケーション課長候補 Assemblage後藤」を送信しました62\n",
      "40439600052135は、「～インテリア・ファッションのLeading Company～/マーケティング部ブランドコミュニケーション課長候補 Assemblage後藤」を送信しました63\n"
     ]
    },
    {
     "name": "stderr",
     "output_type": "stream",
     "text": [
      "C:\\Users\\matsuno\\AppData\\Local\\Temp\\ipykernel_11364\\599272334.py:9: DeprecationWarning: find_element_by_xpath is deprecated. Please use find_element(by=By.XPATH, value=xpath) instead\n",
      "  send_tittle = browser.find_element_by_xpath('/html/body/div[1]/div[2]/form/div[2]/table/tbody/tr[' + str(r) +  ']/td[2]/a')\n"
     ]
    },
    {
     "name": "stdout",
     "output_type": "stream",
     "text": [
      "40439600052135は、「～インテリア・ファッションのLeading Company～/マーケティング部ブランドコミュニケーション課長候補 Assemblage後藤」を送信しました64\n",
      "40439600052135は、「～インテリア・ファッションのLeading Company～/マーケティング部ブランドコミュニケーション課長候補 Assemblage後藤」を送信しました65\n"
     ]
    },
    {
     "name": "stderr",
     "output_type": "stream",
     "text": [
      "C:\\Users\\matsuno\\AppData\\Local\\Temp\\ipykernel_11364\\599272334.py:9: DeprecationWarning: find_element_by_xpath is deprecated. Please use find_element(by=By.XPATH, value=xpath) instead\n",
      "  send_tittle = browser.find_element_by_xpath('/html/body/div[1]/div[2]/form/div[2]/table/tbody/tr[' + str(r) +  ']/td[2]/a')\n",
      "C:\\Users\\matsuno\\AppData\\Local\\Temp\\ipykernel_11364\\599272334.py:9: DeprecationWarning: find_element_by_xpath is deprecated. Please use find_element(by=By.XPATH, value=xpath) instead\n",
      "  send_tittle = browser.find_element_by_xpath('/html/body/div[1]/div[2]/form/div[2]/table/tbody/tr[' + str(r) +  ']/td[2]/a')\n",
      "C:\\Users\\matsuno\\AppData\\Local\\Temp\\ipykernel_11364\\599272334.py:9: DeprecationWarning: find_element_by_xpath is deprecated. Please use find_element(by=By.XPATH, value=xpath) instead\n",
      "  send_tittle = browser.find_element_by_xpath('/html/body/div[1]/div[2]/form/div[2]/table/tbody/tr[' + str(r) +  ']/td[2]/a')\n"
     ]
    },
    {
     "name": "stdout",
     "output_type": "stream",
     "text": [
      "40439600052135は、「～インテリア・ファッションのLeading Company～/マーケティング部ブランドコミュニケーション課長候補 Assemblage後藤」を送信しました66\n",
      "40439600052135は、「～インテリア・ファッションのLeading Company～/マーケティング部ブランドコミュニケーション課長候補 Assemblage後藤」を送信しました67\n",
      "40439600052135は、「～インテリア・ファッションのLeading Company～/マーケティング部ブランドコミュニケーション課長候補 Assemblage後藤」を送信しました68\n",
      "40439600052135は、「～インテリア・ファッションのLeading Company～/マーケティング部ブランドコミュニケーション課長候補 Assemblage後藤」を送信しました69\n",
      "40439600052135は、「～インテリア・ファッションのLeading Company～/マーケティング部ブランドコミュニケーション課長候補 Assemblage後藤」を送信しました70\n"
     ]
    },
    {
     "name": "stderr",
     "output_type": "stream",
     "text": [
      "C:\\Users\\matsuno\\AppData\\Local\\Temp\\ipykernel_11364\\599272334.py:9: DeprecationWarning: find_element_by_xpath is deprecated. Please use find_element(by=By.XPATH, value=xpath) instead\n",
      "  send_tittle = browser.find_element_by_xpath('/html/body/div[1]/div[2]/form/div[2]/table/tbody/tr[' + str(r) +  ']/td[2]/a')\n",
      "C:\\Users\\matsuno\\AppData\\Local\\Temp\\ipykernel_11364\\599272334.py:9: DeprecationWarning: find_element_by_xpath is deprecated. Please use find_element(by=By.XPATH, value=xpath) instead\n",
      "  send_tittle = browser.find_element_by_xpath('/html/body/div[1]/div[2]/form/div[2]/table/tbody/tr[' + str(r) +  ']/td[2]/a')\n",
      "C:\\Users\\matsuno\\AppData\\Local\\Temp\\ipykernel_11364\\599272334.py:9: DeprecationWarning: find_element_by_xpath is deprecated. Please use find_element(by=By.XPATH, value=xpath) instead\n",
      "  send_tittle = browser.find_element_by_xpath('/html/body/div[1]/div[2]/form/div[2]/table/tbody/tr[' + str(r) +  ']/td[2]/a')\n"
     ]
    },
    {
     "name": "stdout",
     "output_type": "stream",
     "text": [
      "40439600052135は、「～インテリア・ファッションのLeading Company～/マーケティング部ブランドコミュニケーション課長候補 Assemblage後藤」を送信しました71\n"
     ]
    },
    {
     "name": "stderr",
     "output_type": "stream",
     "text": [
      "C:\\Users\\matsuno\\AppData\\Local\\Temp\\ipykernel_11364\\599272334.py:9: DeprecationWarning: find_element_by_xpath is deprecated. Please use find_element(by=By.XPATH, value=xpath) instead\n",
      "  send_tittle = browser.find_element_by_xpath('/html/body/div[1]/div[2]/form/div[2]/table/tbody/tr[' + str(r) +  ']/td[2]/a')\n",
      "C:\\Users\\matsuno\\AppData\\Local\\Temp\\ipykernel_11364\\599272334.py:9: DeprecationWarning: find_element_by_xpath is deprecated. Please use find_element(by=By.XPATH, value=xpath) instead\n",
      "  send_tittle = browser.find_element_by_xpath('/html/body/div[1]/div[2]/form/div[2]/table/tbody/tr[' + str(r) +  ']/td[2]/a')\n"
     ]
    },
    {
     "name": "stdout",
     "output_type": "stream",
     "text": [
      "40439600052135は、「～インテリア・ファッションのLeading Company～/マーケティング部ブランドコミュニケーション課長候補 Assemblage後藤」を送信しました72\n",
      "40439600052135は、「～インテリア・ファッションのLeading Company～/マーケティング部ブランドコミュニケーション課長候補 Assemblage後藤」を送信しました73\n",
      "40439600052135は、「～インテリア・ファッションのLeading Company～/マーケティング部ブランドコミュニケーション課長候補 Assemblage後藤」を送信しました74\n"
     ]
    },
    {
     "name": "stderr",
     "output_type": "stream",
     "text": [
      "C:\\Users\\matsuno\\AppData\\Local\\Temp\\ipykernel_11364\\599272334.py:9: DeprecationWarning: find_element_by_xpath is deprecated. Please use find_element(by=By.XPATH, value=xpath) instead\n",
      "  send_tittle = browser.find_element_by_xpath('/html/body/div[1]/div[2]/form/div[2]/table/tbody/tr[' + str(r) +  ']/td[2]/a')\n",
      "C:\\Users\\matsuno\\AppData\\Local\\Temp\\ipykernel_11364\\599272334.py:9: DeprecationWarning: find_element_by_xpath is deprecated. Please use find_element(by=By.XPATH, value=xpath) instead\n",
      "  send_tittle = browser.find_element_by_xpath('/html/body/div[1]/div[2]/form/div[2]/table/tbody/tr[' + str(r) +  ']/td[2]/a')\n",
      "C:\\Users\\matsuno\\AppData\\Local\\Temp\\ipykernel_11364\\599272334.py:9: DeprecationWarning: find_element_by_xpath is deprecated. Please use find_element(by=By.XPATH, value=xpath) instead\n",
      "  send_tittle = browser.find_element_by_xpath('/html/body/div[1]/div[2]/form/div[2]/table/tbody/tr[' + str(r) +  ']/td[2]/a')\n"
     ]
    },
    {
     "name": "stdout",
     "output_type": "stream",
     "text": [
      "40439600052135は、「～インテリア・ファッションのLeading Company～/マーケティング部ブランドコミュニケーション課長候補 Assemblage後藤」を送信しました75\n",
      "40439600052135は、「～インテリア・ファッションのLeading Company～/マーケティング部ブランドコミュニケーション課長候補 Assemblage後藤」を送信しました76\n",
      "40439600052135は、「～インテリア・ファッションのLeading Company～/マーケティング部ブランドコミュニケーション課長候補 Assemblage後藤」を送信しました77\n"
     ]
    },
    {
     "name": "stderr",
     "output_type": "stream",
     "text": [
      "C:\\Users\\matsuno\\AppData\\Local\\Temp\\ipykernel_11364\\599272334.py:9: DeprecationWarning: find_element_by_xpath is deprecated. Please use find_element(by=By.XPATH, value=xpath) instead\n",
      "  send_tittle = browser.find_element_by_xpath('/html/body/div[1]/div[2]/form/div[2]/table/tbody/tr[' + str(r) +  ']/td[2]/a')\n",
      "C:\\Users\\matsuno\\AppData\\Local\\Temp\\ipykernel_11364\\599272334.py:9: DeprecationWarning: find_element_by_xpath is deprecated. Please use find_element(by=By.XPATH, value=xpath) instead\n",
      "  send_tittle = browser.find_element_by_xpath('/html/body/div[1]/div[2]/form/div[2]/table/tbody/tr[' + str(r) +  ']/td[2]/a')\n",
      "C:\\Users\\matsuno\\AppData\\Local\\Temp\\ipykernel_11364\\599272334.py:9: DeprecationWarning: find_element_by_xpath is deprecated. Please use find_element(by=By.XPATH, value=xpath) instead\n",
      "  send_tittle = browser.find_element_by_xpath('/html/body/div[1]/div[2]/form/div[2]/table/tbody/tr[' + str(r) +  ']/td[2]/a')\n"
     ]
    },
    {
     "name": "stdout",
     "output_type": "stream",
     "text": [
      "40439600052135は、「～インテリア・ファッションのLeading Company～/マーケティング部ブランドコミュニケーション課長候補 Assemblage後藤」を送信しました78\n",
      "40439600052135は、「～インテリア・ファッションのLeading Company～/マーケティング部ブランドコミュニケーション課長候補 Assemblage後藤」を送信しました79\n",
      "40439600052135は、「～インテリア・ファッションのLeading Company～/マーケティング部ブランドコミュニケーション課長候補 Assemblage後藤」を送信しました80\n"
     ]
    },
    {
     "name": "stderr",
     "output_type": "stream",
     "text": [
      "C:\\Users\\matsuno\\AppData\\Local\\Temp\\ipykernel_11364\\599272334.py:9: DeprecationWarning: find_element_by_xpath is deprecated. Please use find_element(by=By.XPATH, value=xpath) instead\n",
      "  send_tittle = browser.find_element_by_xpath('/html/body/div[1]/div[2]/form/div[2]/table/tbody/tr[' + str(r) +  ']/td[2]/a')\n",
      "C:\\Users\\matsuno\\AppData\\Local\\Temp\\ipykernel_11364\\599272334.py:9: DeprecationWarning: find_element_by_xpath is deprecated. Please use find_element(by=By.XPATH, value=xpath) instead\n",
      "  send_tittle = browser.find_element_by_xpath('/html/body/div[1]/div[2]/form/div[2]/table/tbody/tr[' + str(r) +  ']/td[2]/a')\n",
      "C:\\Users\\matsuno\\AppData\\Local\\Temp\\ipykernel_11364\\599272334.py:9: DeprecationWarning: find_element_by_xpath is deprecated. Please use find_element(by=By.XPATH, value=xpath) instead\n",
      "  send_tittle = browser.find_element_by_xpath('/html/body/div[1]/div[2]/form/div[2]/table/tbody/tr[' + str(r) +  ']/td[2]/a')\n"
     ]
    },
    {
     "name": "stdout",
     "output_type": "stream",
     "text": [
      "40439600052135は、「～インテリア・ファッションのLeading Company～/マーケティング部ブランドコミュニケーション課長候補 Assemblage後藤」を送信しました81\n",
      "40439600052135は、「～インテリア・ファッションのLeading Company～/マーケティング部ブランドコミュニケーション課長候補 Assemblage後藤」を送信しました82\n"
     ]
    },
    {
     "name": "stderr",
     "output_type": "stream",
     "text": [
      "C:\\Users\\matsuno\\AppData\\Local\\Temp\\ipykernel_11364\\599272334.py:9: DeprecationWarning: find_element_by_xpath is deprecated. Please use find_element(by=By.XPATH, value=xpath) instead\n",
      "  send_tittle = browser.find_element_by_xpath('/html/body/div[1]/div[2]/form/div[2]/table/tbody/tr[' + str(r) +  ']/td[2]/a')\n",
      "C:\\Users\\matsuno\\AppData\\Local\\Temp\\ipykernel_11364\\599272334.py:9: DeprecationWarning: find_element_by_xpath is deprecated. Please use find_element(by=By.XPATH, value=xpath) instead\n",
      "  send_tittle = browser.find_element_by_xpath('/html/body/div[1]/div[2]/form/div[2]/table/tbody/tr[' + str(r) +  ']/td[2]/a')\n"
     ]
    },
    {
     "name": "stdout",
     "output_type": "stream",
     "text": [
      "40439600052135は、「～インテリア・ファッションのLeading Company～/マーケティング部ブランドコミュニケーション課長候補 Assemblage後藤」を送信しました83\n",
      "40439600052135は、「～インテリア・ファッションのLeading Company～/マーケティング部ブランドコミュニケーション課長候補 Assemblage後藤」を送信しました84\n",
      "40439600052135は、「～インテリア・ファッションのLeading Company～/マーケティング部ブランドコミュニケーション課長候補 Assemblage後藤」を送信しました85\n",
      "40439600052135は、「～インテリア・ファッションのLeading Company～/マーケティング部ブランドコミュニケーション課長候補 Assemblage後藤」を送信しました86\n"
     ]
    },
    {
     "name": "stderr",
     "output_type": "stream",
     "text": [
      "C:\\Users\\matsuno\\AppData\\Local\\Temp\\ipykernel_11364\\599272334.py:9: DeprecationWarning: find_element_by_xpath is deprecated. Please use find_element(by=By.XPATH, value=xpath) instead\n",
      "  send_tittle = browser.find_element_by_xpath('/html/body/div[1]/div[2]/form/div[2]/table/tbody/tr[' + str(r) +  ']/td[2]/a')\n",
      "C:\\Users\\matsuno\\AppData\\Local\\Temp\\ipykernel_11364\\599272334.py:9: DeprecationWarning: find_element_by_xpath is deprecated. Please use find_element(by=By.XPATH, value=xpath) instead\n",
      "  send_tittle = browser.find_element_by_xpath('/html/body/div[1]/div[2]/form/div[2]/table/tbody/tr[' + str(r) +  ']/td[2]/a')\n",
      "C:\\Users\\matsuno\\AppData\\Local\\Temp\\ipykernel_11364\\599272334.py:9: DeprecationWarning: find_element_by_xpath is deprecated. Please use find_element(by=By.XPATH, value=xpath) instead\n",
      "  send_tittle = browser.find_element_by_xpath('/html/body/div[1]/div[2]/form/div[2]/table/tbody/tr[' + str(r) +  ']/td[2]/a')\n"
     ]
    },
    {
     "name": "stdout",
     "output_type": "stream",
     "text": [
      "40439600052135は、「～インテリア・ファッションのLeading Company～/マーケティング部ブランドコミュニケーション課長候補 Assemblage後藤」を送信しました87\n",
      "40439600052135は、「～インテリア・ファッションのLeading Company～/マーケティング部ブランドコミュニケーション課長候補 Assemblage後藤」を送信しました88\n",
      "40439600052135は、「～インテリア・ファッションのLeading Company～/マーケティング部ブランドコミュニケーション課長候補 Assemblage後藤」を送信しました89\n"
     ]
    },
    {
     "name": "stderr",
     "output_type": "stream",
     "text": [
      "C:\\Users\\matsuno\\AppData\\Local\\Temp\\ipykernel_11364\\599272334.py:9: DeprecationWarning: find_element_by_xpath is deprecated. Please use find_element(by=By.XPATH, value=xpath) instead\n",
      "  send_tittle = browser.find_element_by_xpath('/html/body/div[1]/div[2]/form/div[2]/table/tbody/tr[' + str(r) +  ']/td[2]/a')\n",
      "C:\\Users\\matsuno\\AppData\\Local\\Temp\\ipykernel_11364\\599272334.py:9: DeprecationWarning: find_element_by_xpath is deprecated. Please use find_element(by=By.XPATH, value=xpath) instead\n",
      "  send_tittle = browser.find_element_by_xpath('/html/body/div[1]/div[2]/form/div[2]/table/tbody/tr[' + str(r) +  ']/td[2]/a')\n",
      "C:\\Users\\matsuno\\AppData\\Local\\Temp\\ipykernel_11364\\599272334.py:9: DeprecationWarning: find_element_by_xpath is deprecated. Please use find_element(by=By.XPATH, value=xpath) instead\n",
      "  send_tittle = browser.find_element_by_xpath('/html/body/div[1]/div[2]/form/div[2]/table/tbody/tr[' + str(r) +  ']/td[2]/a')\n"
     ]
    },
    {
     "name": "stdout",
     "output_type": "stream",
     "text": [
      "40439600052135は、「～インテリア・ファッションのLeading Company～/マーケティング部ブランドコミュニケーション課長候補 Assemblage後藤」を送信しました90\n",
      "40439600052135は、「～インテリア・ファッションのLeading Company～/マーケティング部ブランドコミュニケーション課長候補 Assemblage後藤」を送信しました91\n",
      "40439600052135は、「～インテリア・ファッションのLeading Company～/マーケティング部ブランドコミュニケーション課長候補 Assemblage後藤」を送信しました92\n"
     ]
    },
    {
     "name": "stderr",
     "output_type": "stream",
     "text": [
      "C:\\Users\\matsuno\\AppData\\Local\\Temp\\ipykernel_11364\\599272334.py:9: DeprecationWarning: find_element_by_xpath is deprecated. Please use find_element(by=By.XPATH, value=xpath) instead\n",
      "  send_tittle = browser.find_element_by_xpath('/html/body/div[1]/div[2]/form/div[2]/table/tbody/tr[' + str(r) +  ']/td[2]/a')\n",
      "C:\\Users\\matsuno\\AppData\\Local\\Temp\\ipykernel_11364\\599272334.py:9: DeprecationWarning: find_element_by_xpath is deprecated. Please use find_element(by=By.XPATH, value=xpath) instead\n",
      "  send_tittle = browser.find_element_by_xpath('/html/body/div[1]/div[2]/form/div[2]/table/tbody/tr[' + str(r) +  ']/td[2]/a')\n",
      "C:\\Users\\matsuno\\AppData\\Local\\Temp\\ipykernel_11364\\599272334.py:9: DeprecationWarning: find_element_by_xpath is deprecated. Please use find_element(by=By.XPATH, value=xpath) instead\n",
      "  send_tittle = browser.find_element_by_xpath('/html/body/div[1]/div[2]/form/div[2]/table/tbody/tr[' + str(r) +  ']/td[2]/a')\n",
      "C:\\Users\\matsuno\\AppData\\Local\\Temp\\ipykernel_11364\\599272334.py:9: DeprecationWarning: find_element_by_xpath is deprecated. Please use find_element(by=By.XPATH, value=xpath) instead\n",
      "  send_tittle = browser.find_element_by_xpath('/html/body/div[1]/div[2]/form/div[2]/table/tbody/tr[' + str(r) +  ']/td[2]/a')\n"
     ]
    },
    {
     "name": "stdout",
     "output_type": "stream",
     "text": [
      "40439600052135は、「～インテリア・ファッションのLeading Company～/マーケティング部ブランドコミュニケーション課長候補 Assemblage後藤」を送信しました93\n",
      "40439600052135は、「～インテリア・ファッションのLeading Company～/マーケティング部ブランドコミュニケーション課長候補 Assemblage後藤」を送信しました94\n",
      "40439600052135は、「～インテリア・ファッションのLeading Company～/マーケティング部ブランドコミュニケーション課長候補 Assemblage後藤」を送信しました95\n"
     ]
    },
    {
     "name": "stderr",
     "output_type": "stream",
     "text": [
      "C:\\Users\\matsuno\\AppData\\Local\\Temp\\ipykernel_11364\\599272334.py:9: DeprecationWarning: find_element_by_xpath is deprecated. Please use find_element(by=By.XPATH, value=xpath) instead\n",
      "  send_tittle = browser.find_element_by_xpath('/html/body/div[1]/div[2]/form/div[2]/table/tbody/tr[' + str(r) +  ']/td[2]/a')\n",
      "C:\\Users\\matsuno\\AppData\\Local\\Temp\\ipykernel_11364\\599272334.py:9: DeprecationWarning: find_element_by_xpath is deprecated. Please use find_element(by=By.XPATH, value=xpath) instead\n",
      "  send_tittle = browser.find_element_by_xpath('/html/body/div[1]/div[2]/form/div[2]/table/tbody/tr[' + str(r) +  ']/td[2]/a')\n",
      "C:\\Users\\matsuno\\AppData\\Local\\Temp\\ipykernel_11364\\599272334.py:9: DeprecationWarning: find_element_by_xpath is deprecated. Please use find_element(by=By.XPATH, value=xpath) instead\n",
      "  send_tittle = browser.find_element_by_xpath('/html/body/div[1]/div[2]/form/div[2]/table/tbody/tr[' + str(r) +  ']/td[2]/a')\n"
     ]
    },
    {
     "name": "stdout",
     "output_type": "stream",
     "text": [
      "40439600052135は、「～インテリア・ファッションのLeading Company～/マーケティング部ブランドコミュニケーション課長候補 Assemblage後藤」を送信しました96\n",
      "40439600052135は、「～インテリア・ファッションのLeading Company～/マーケティング部ブランドコミュニケーション課長候補 Assemblage後藤」を送信しました97\n",
      "40439600052135は、「～インテリア・ファッションのLeading Company～/マーケティング部ブランドコミュニケーション課長候補 Assemblage後藤」を送信しました98\n"
     ]
    },
    {
     "name": "stderr",
     "output_type": "stream",
     "text": [
      "C:\\Users\\matsuno\\AppData\\Local\\Temp\\ipykernel_11364\\599272334.py:9: DeprecationWarning: find_element_by_xpath is deprecated. Please use find_element(by=By.XPATH, value=xpath) instead\n",
      "  send_tittle = browser.find_element_by_xpath('/html/body/div[1]/div[2]/form/div[2]/table/tbody/tr[' + str(r) +  ']/td[2]/a')\n",
      "C:\\Users\\matsuno\\AppData\\Local\\Temp\\ipykernel_11364\\599272334.py:9: DeprecationWarning: find_element_by_xpath is deprecated. Please use find_element(by=By.XPATH, value=xpath) instead\n",
      "  send_tittle = browser.find_element_by_xpath('/html/body/div[1]/div[2]/form/div[2]/table/tbody/tr[' + str(r) +  ']/td[2]/a')\n",
      "C:\\Users\\matsuno\\AppData\\Local\\Temp\\ipykernel_11364\\599272334.py:9: DeprecationWarning: find_element_by_xpath is deprecated. Please use find_element(by=By.XPATH, value=xpath) instead\n",
      "  send_tittle = browser.find_element_by_xpath('/html/body/div[1]/div[2]/form/div[2]/table/tbody/tr[' + str(r) +  ']/td[2]/a')\n"
     ]
    },
    {
     "name": "stdout",
     "output_type": "stream",
     "text": [
      "40439600052135は、「～インテリア・ファッションのLeading Company～/マーケティング部ブランドコミュニケーション課長候補 Assemblage後藤」を送信しました99\n",
      "40439600052135は、「～インテリア・ファッションのLeading Company～/マーケティング部ブランドコミュニケーション課長候補 Assemblage後藤」を送信しました100\n"
     ]
    },
    {
     "name": "stderr",
     "output_type": "stream",
     "text": [
      "C:\\Users\\matsuno\\AppData\\Local\\Temp\\ipykernel_11364\\599272334.py:35: DeprecationWarning: find_element_by_xpath is deprecated. Please use find_element(by=By.XPATH, value=xpath) instead\n",
      "  browser_from = browser.find_element_by_xpath('/html/body/div[1]/div[2]/form/div[2]/div[3]/div[2]/a[2]')\n"
     ]
    },
    {
     "name": "stdout",
     "output_type": "stream",
     "text": [
      "3ページへ移動しました\n",
      "40439600052135は、「～インテリア・ファッションのLeading Company～/マーケティング部ブランドコミュニケーション課長候補 Assemblage後藤」を送信しました1\n",
      "40439600052135は、「～インテリア・ファッションのLeading Company～/マーケティング部ブランドコミュニケーション課長候補 Assemblage後藤」を送信しました2\n",
      "40439600052135は、「～インテリア・ファッションのLeading Company～/マーケティング部ブランドコミュニケーション課長候補 Assemblage後藤」を送信しました3\n"
     ]
    },
    {
     "name": "stderr",
     "output_type": "stream",
     "text": [
      "C:\\Users\\matsuno\\AppData\\Local\\Temp\\ipykernel_11364\\599272334.py:9: DeprecationWarning: find_element_by_xpath is deprecated. Please use find_element(by=By.XPATH, value=xpath) instead\n",
      "  send_tittle = browser.find_element_by_xpath('/html/body/div[1]/div[2]/form/div[2]/table/tbody/tr[' + str(r) +  ']/td[2]/a')\n",
      "C:\\Users\\matsuno\\AppData\\Local\\Temp\\ipykernel_11364\\599272334.py:9: DeprecationWarning: find_element_by_xpath is deprecated. Please use find_element(by=By.XPATH, value=xpath) instead\n",
      "  send_tittle = browser.find_element_by_xpath('/html/body/div[1]/div[2]/form/div[2]/table/tbody/tr[' + str(r) +  ']/td[2]/a')\n",
      "C:\\Users\\matsuno\\AppData\\Local\\Temp\\ipykernel_11364\\599272334.py:9: DeprecationWarning: find_element_by_xpath is deprecated. Please use find_element(by=By.XPATH, value=xpath) instead\n",
      "  send_tittle = browser.find_element_by_xpath('/html/body/div[1]/div[2]/form/div[2]/table/tbody/tr[' + str(r) +  ']/td[2]/a')\n",
      "C:\\Users\\matsuno\\AppData\\Local\\Temp\\ipykernel_11364\\599272334.py:9: DeprecationWarning: find_element_by_xpath is deprecated. Please use find_element(by=By.XPATH, value=xpath) instead\n",
      "  send_tittle = browser.find_element_by_xpath('/html/body/div[1]/div[2]/form/div[2]/table/tbody/tr[' + str(r) +  ']/td[2]/a')\n",
      "C:\\Users\\matsuno\\AppData\\Local\\Temp\\ipykernel_11364\\599272334.py:9: DeprecationWarning: find_element_by_xpath is deprecated. Please use find_element(by=By.XPATH, value=xpath) instead\n",
      "  send_tittle = browser.find_element_by_xpath('/html/body/div[1]/div[2]/form/div[2]/table/tbody/tr[' + str(r) +  ']/td[2]/a')\n",
      "C:\\Users\\matsuno\\AppData\\Local\\Temp\\ipykernel_11364\\599272334.py:9: DeprecationWarning: find_element_by_xpath is deprecated. Please use find_element(by=By.XPATH, value=xpath) instead\n",
      "  send_tittle = browser.find_element_by_xpath('/html/body/div[1]/div[2]/form/div[2]/table/tbody/tr[' + str(r) +  ']/td[2]/a')\n"
     ]
    },
    {
     "name": "stdout",
     "output_type": "stream",
     "text": [
      "40439600052135は、「～インテリア・ファッションのLeading Company～/マーケティング部ブランドコミュニケーション課長候補 Assemblage後藤」を送信しました4\n",
      "40439600052135は、「～インテリア・ファッションのLeading Company～/マーケティング部ブランドコミュニケーション課長候補 Assemblage後藤」を送信しました5\n",
      "40439600052135は、「～インテリア・ファッションのLeading Company～/マーケティング部ブランドコミュニケーション課長候補 Assemblage後藤」を送信しました6\n"
     ]
    },
    {
     "name": "stderr",
     "output_type": "stream",
     "text": [
      "C:\\Users\\matsuno\\AppData\\Local\\Temp\\ipykernel_11364\\599272334.py:9: DeprecationWarning: find_element_by_xpath is deprecated. Please use find_element(by=By.XPATH, value=xpath) instead\n",
      "  send_tittle = browser.find_element_by_xpath('/html/body/div[1]/div[2]/form/div[2]/table/tbody/tr[' + str(r) +  ']/td[2]/a')\n",
      "C:\\Users\\matsuno\\AppData\\Local\\Temp\\ipykernel_11364\\599272334.py:9: DeprecationWarning: find_element_by_xpath is deprecated. Please use find_element(by=By.XPATH, value=xpath) instead\n",
      "  send_tittle = browser.find_element_by_xpath('/html/body/div[1]/div[2]/form/div[2]/table/tbody/tr[' + str(r) +  ']/td[2]/a')\n"
     ]
    },
    {
     "name": "stdout",
     "output_type": "stream",
     "text": [
      "40439600052135は、「～インテリア・ファッションのLeading Company～/マーケティング部ブランドコミュニケーション課長候補 Assemblage後藤」を送信しました7\n",
      "40439600052135は、「～インテリア・ファッションのLeading Company～/マーケティング部ブランドコミュニケーション課長候補 Assemblage後藤」を送信しました8\n"
     ]
    },
    {
     "name": "stderr",
     "output_type": "stream",
     "text": [
      "C:\\Users\\matsuno\\AppData\\Local\\Temp\\ipykernel_11364\\599272334.py:9: DeprecationWarning: find_element_by_xpath is deprecated. Please use find_element(by=By.XPATH, value=xpath) instead\n",
      "  send_tittle = browser.find_element_by_xpath('/html/body/div[1]/div[2]/form/div[2]/table/tbody/tr[' + str(r) +  ']/td[2]/a')\n",
      "C:\\Users\\matsuno\\AppData\\Local\\Temp\\ipykernel_11364\\599272334.py:9: DeprecationWarning: find_element_by_xpath is deprecated. Please use find_element(by=By.XPATH, value=xpath) instead\n",
      "  send_tittle = browser.find_element_by_xpath('/html/body/div[1]/div[2]/form/div[2]/table/tbody/tr[' + str(r) +  ']/td[2]/a')\n"
     ]
    },
    {
     "name": "stdout",
     "output_type": "stream",
     "text": [
      "40439600052135は、「～インテリア・ファッションのLeading Company～/マーケティング部ブランドコミュニケーション課長候補 Assemblage後藤」を送信しました9\n",
      "40439600052135は、「～インテリア・ファッションのLeading Company～/マーケティング部ブランドコミュニケーション課長候補 Assemblage後藤」を送信しました10\n"
     ]
    },
    {
     "name": "stderr",
     "output_type": "stream",
     "text": [
      "C:\\Users\\matsuno\\AppData\\Local\\Temp\\ipykernel_11364\\599272334.py:9: DeprecationWarning: find_element_by_xpath is deprecated. Please use find_element(by=By.XPATH, value=xpath) instead\n",
      "  send_tittle = browser.find_element_by_xpath('/html/body/div[1]/div[2]/form/div[2]/table/tbody/tr[' + str(r) +  ']/td[2]/a')\n",
      "C:\\Users\\matsuno\\AppData\\Local\\Temp\\ipykernel_11364\\599272334.py:9: DeprecationWarning: find_element_by_xpath is deprecated. Please use find_element(by=By.XPATH, value=xpath) instead\n",
      "  send_tittle = browser.find_element_by_xpath('/html/body/div[1]/div[2]/form/div[2]/table/tbody/tr[' + str(r) +  ']/td[2]/a')\n"
     ]
    },
    {
     "name": "stdout",
     "output_type": "stream",
     "text": [
      "40439600052135は、「～インテリア・ファッションのLeading Company～/マーケティング部ブランドコミュニケーション課長候補 Assemblage後藤」を送信しました11\n",
      "40439600052135は、「～インテリア・ファッションのLeading Company～/マーケティング部ブランドコミュニケーション課長候補 Assemblage後藤」を送信しました12\n",
      "40439600052135は、「～インテリア・ファッションのLeading Company～/マーケティング部ブランドコミュニケーション課長候補 Assemblage後藤」を送信しました13\n"
     ]
    },
    {
     "name": "stderr",
     "output_type": "stream",
     "text": [
      "C:\\Users\\matsuno\\AppData\\Local\\Temp\\ipykernel_11364\\599272334.py:9: DeprecationWarning: find_element_by_xpath is deprecated. Please use find_element(by=By.XPATH, value=xpath) instead\n",
      "  send_tittle = browser.find_element_by_xpath('/html/body/div[1]/div[2]/form/div[2]/table/tbody/tr[' + str(r) +  ']/td[2]/a')\n",
      "C:\\Users\\matsuno\\AppData\\Local\\Temp\\ipykernel_11364\\599272334.py:9: DeprecationWarning: find_element_by_xpath is deprecated. Please use find_element(by=By.XPATH, value=xpath) instead\n",
      "  send_tittle = browser.find_element_by_xpath('/html/body/div[1]/div[2]/form/div[2]/table/tbody/tr[' + str(r) +  ']/td[2]/a')\n",
      "C:\\Users\\matsuno\\AppData\\Local\\Temp\\ipykernel_11364\\599272334.py:9: DeprecationWarning: find_element_by_xpath is deprecated. Please use find_element(by=By.XPATH, value=xpath) instead\n",
      "  send_tittle = browser.find_element_by_xpath('/html/body/div[1]/div[2]/form/div[2]/table/tbody/tr[' + str(r) +  ']/td[2]/a')\n"
     ]
    },
    {
     "name": "stdout",
     "output_type": "stream",
     "text": [
      "40439600052135は、「～インテリア・ファッションのLeading Company～/マーケティング部ブランドコミュニケーション課長候補 Assemblage後藤」を送信しました14\n",
      "40439600052135は、「～インテリア・ファッションのLeading Company～/マーケティング部ブランドコミュニケーション課長候補 Assemblage後藤」を送信しました15\n",
      "40439600052135は、「～インテリア・ファッションのLeading Company～/マーケティング部ブランドコミュニケーション課長候補 Assemblage後藤」を送信しました16\n"
     ]
    },
    {
     "name": "stderr",
     "output_type": "stream",
     "text": [
      "C:\\Users\\matsuno\\AppData\\Local\\Temp\\ipykernel_11364\\599272334.py:9: DeprecationWarning: find_element_by_xpath is deprecated. Please use find_element(by=By.XPATH, value=xpath) instead\n",
      "  send_tittle = browser.find_element_by_xpath('/html/body/div[1]/div[2]/form/div[2]/table/tbody/tr[' + str(r) +  ']/td[2]/a')\n",
      "C:\\Users\\matsuno\\AppData\\Local\\Temp\\ipykernel_11364\\599272334.py:9: DeprecationWarning: find_element_by_xpath is deprecated. Please use find_element(by=By.XPATH, value=xpath) instead\n",
      "  send_tittle = browser.find_element_by_xpath('/html/body/div[1]/div[2]/form/div[2]/table/tbody/tr[' + str(r) +  ']/td[2]/a')\n",
      "C:\\Users\\matsuno\\AppData\\Local\\Temp\\ipykernel_11364\\599272334.py:9: DeprecationWarning: find_element_by_xpath is deprecated. Please use find_element(by=By.XPATH, value=xpath) instead\n",
      "  send_tittle = browser.find_element_by_xpath('/html/body/div[1]/div[2]/form/div[2]/table/tbody/tr[' + str(r) +  ']/td[2]/a')\n"
     ]
    },
    {
     "name": "stdout",
     "output_type": "stream",
     "text": [
      "40439600052135は、「～インテリア・ファッションのLeading Company～/マーケティング部ブランドコミュニケーション課長候補 Assemblage後藤」を送信しました17\n",
      "40439600052135は、「～インテリア・ファッションのLeading Company～/マーケティング部ブランドコミュニケーション課長候補 Assemblage後藤」を送信しました18\n",
      "40439600052135は、「～インテリア・ファッションのLeading Company～/マーケティング部ブランドコミュニケーション課長候補 Assemblage後藤」を送信しました19\n"
     ]
    },
    {
     "name": "stderr",
     "output_type": "stream",
     "text": [
      "C:\\Users\\matsuno\\AppData\\Local\\Temp\\ipykernel_11364\\599272334.py:9: DeprecationWarning: find_element_by_xpath is deprecated. Please use find_element(by=By.XPATH, value=xpath) instead\n",
      "  send_tittle = browser.find_element_by_xpath('/html/body/div[1]/div[2]/form/div[2]/table/tbody/tr[' + str(r) +  ']/td[2]/a')\n",
      "C:\\Users\\matsuno\\AppData\\Local\\Temp\\ipykernel_11364\\599272334.py:9: DeprecationWarning: find_element_by_xpath is deprecated. Please use find_element(by=By.XPATH, value=xpath) instead\n",
      "  send_tittle = browser.find_element_by_xpath('/html/body/div[1]/div[2]/form/div[2]/table/tbody/tr[' + str(r) +  ']/td[2]/a')\n",
      "C:\\Users\\matsuno\\AppData\\Local\\Temp\\ipykernel_11364\\599272334.py:9: DeprecationWarning: find_element_by_xpath is deprecated. Please use find_element(by=By.XPATH, value=xpath) instead\n",
      "  send_tittle = browser.find_element_by_xpath('/html/body/div[1]/div[2]/form/div[2]/table/tbody/tr[' + str(r) +  ']/td[2]/a')\n"
     ]
    },
    {
     "name": "stdout",
     "output_type": "stream",
     "text": [
      "40439600052135は、「～インテリア・ファッションのLeading Company～/マーケティング部ブランドコミュニケーション課長候補 Assemblage後藤」を送信しました20\n",
      "40439600052135は、「～インテリア・ファッションのLeading Company～/マーケティング部ブランドコミュニケーション課長候補 Assemblage後藤」を送信しました21\n"
     ]
    },
    {
     "name": "stderr",
     "output_type": "stream",
     "text": [
      "C:\\Users\\matsuno\\AppData\\Local\\Temp\\ipykernel_11364\\599272334.py:9: DeprecationWarning: find_element_by_xpath is deprecated. Please use find_element(by=By.XPATH, value=xpath) instead\n",
      "  send_tittle = browser.find_element_by_xpath('/html/body/div[1]/div[2]/form/div[2]/table/tbody/tr[' + str(r) +  ']/td[2]/a')\n",
      "C:\\Users\\matsuno\\AppData\\Local\\Temp\\ipykernel_11364\\599272334.py:9: DeprecationWarning: find_element_by_xpath is deprecated. Please use find_element(by=By.XPATH, value=xpath) instead\n",
      "  send_tittle = browser.find_element_by_xpath('/html/body/div[1]/div[2]/form/div[2]/table/tbody/tr[' + str(r) +  ']/td[2]/a')\n"
     ]
    },
    {
     "name": "stdout",
     "output_type": "stream",
     "text": [
      "40439600052135は、「～インテリア・ファッションのLeading Company～/マーケティング部ブランドコミュニケーション課長候補 Assemblage後藤」を送信しました22\n",
      "40439600052135は、「～インテリア・ファッションのLeading Company～/マーケティング部ブランドコミュニケーション課長候補 Assemblage後藤」を送信しました23\n",
      "40439600052135は、「～インテリア・ファッションのLeading Company～/マーケティング部ブランドコミュニケーション課長候補 Assemblage後藤」を送信しました24\n"
     ]
    },
    {
     "name": "stderr",
     "output_type": "stream",
     "text": [
      "C:\\Users\\matsuno\\AppData\\Local\\Temp\\ipykernel_11364\\599272334.py:9: DeprecationWarning: find_element_by_xpath is deprecated. Please use find_element(by=By.XPATH, value=xpath) instead\n",
      "  send_tittle = browser.find_element_by_xpath('/html/body/div[1]/div[2]/form/div[2]/table/tbody/tr[' + str(r) +  ']/td[2]/a')\n",
      "C:\\Users\\matsuno\\AppData\\Local\\Temp\\ipykernel_11364\\599272334.py:9: DeprecationWarning: find_element_by_xpath is deprecated. Please use find_element(by=By.XPATH, value=xpath) instead\n",
      "  send_tittle = browser.find_element_by_xpath('/html/body/div[1]/div[2]/form/div[2]/table/tbody/tr[' + str(r) +  ']/td[2]/a')\n",
      "C:\\Users\\matsuno\\AppData\\Local\\Temp\\ipykernel_11364\\599272334.py:9: DeprecationWarning: find_element_by_xpath is deprecated. Please use find_element(by=By.XPATH, value=xpath) instead\n",
      "  send_tittle = browser.find_element_by_xpath('/html/body/div[1]/div[2]/form/div[2]/table/tbody/tr[' + str(r) +  ']/td[2]/a')\n"
     ]
    },
    {
     "name": "stdout",
     "output_type": "stream",
     "text": [
      "40439600052135は、「～インテリア・ファッションのLeading Company～/マーケティング部ブランドコミュニケーション課長候補 Assemblage後藤」を送信しました25\n",
      "40439600052135は、「～インテリア・ファッションのLeading Company～/マーケティング部ブランドコミュニケーション課長候補 Assemblage後藤」を送信しました26\n",
      "40439600052135は、「～インテリア・ファッションのLeading Company～/マーケティング部ブランドコミュニケーション課長候補 Assemblage後藤」を送信しました27\n"
     ]
    },
    {
     "name": "stderr",
     "output_type": "stream",
     "text": [
      "C:\\Users\\matsuno\\AppData\\Local\\Temp\\ipykernel_11364\\599272334.py:9: DeprecationWarning: find_element_by_xpath is deprecated. Please use find_element(by=By.XPATH, value=xpath) instead\n",
      "  send_tittle = browser.find_element_by_xpath('/html/body/div[1]/div[2]/form/div[2]/table/tbody/tr[' + str(r) +  ']/td[2]/a')\n",
      "C:\\Users\\matsuno\\AppData\\Local\\Temp\\ipykernel_11364\\599272334.py:9: DeprecationWarning: find_element_by_xpath is deprecated. Please use find_element(by=By.XPATH, value=xpath) instead\n",
      "  send_tittle = browser.find_element_by_xpath('/html/body/div[1]/div[2]/form/div[2]/table/tbody/tr[' + str(r) +  ']/td[2]/a')\n"
     ]
    },
    {
     "name": "stdout",
     "output_type": "stream",
     "text": [
      "40439600052135は、「～インテリア・ファッションのLeading Company～/マーケティング部ブランドコミュニケーション課長候補 Assemblage後藤」を送信しました28\n",
      "40439600052135は、「～インテリア・ファッションのLeading Company～/マーケティング部ブランドコミュニケーション課長候補 Assemblage後藤」を送信しました29\n"
     ]
    },
    {
     "name": "stderr",
     "output_type": "stream",
     "text": [
      "C:\\Users\\matsuno\\AppData\\Local\\Temp\\ipykernel_11364\\599272334.py:9: DeprecationWarning: find_element_by_xpath is deprecated. Please use find_element(by=By.XPATH, value=xpath) instead\n",
      "  send_tittle = browser.find_element_by_xpath('/html/body/div[1]/div[2]/form/div[2]/table/tbody/tr[' + str(r) +  ']/td[2]/a')\n",
      "C:\\Users\\matsuno\\AppData\\Local\\Temp\\ipykernel_11364\\599272334.py:9: DeprecationWarning: find_element_by_xpath is deprecated. Please use find_element(by=By.XPATH, value=xpath) instead\n",
      "  send_tittle = browser.find_element_by_xpath('/html/body/div[1]/div[2]/form/div[2]/table/tbody/tr[' + str(r) +  ']/td[2]/a')\n"
     ]
    },
    {
     "name": "stdout",
     "output_type": "stream",
     "text": [
      "40439600052135は、「～インテリア・ファッションのLeading Company～/マーケティング部ブランドコミュニケーション課長候補 Assemblage後藤」を送信しました30\n",
      "40439600052135は、「～インテリア・ファッションのLeading Company～/マーケティング部ブランドコミュニケーション課長候補 Assemblage後藤」を送信しました31\n"
     ]
    },
    {
     "name": "stderr",
     "output_type": "stream",
     "text": [
      "C:\\Users\\matsuno\\AppData\\Local\\Temp\\ipykernel_11364\\599272334.py:9: DeprecationWarning: find_element_by_xpath is deprecated. Please use find_element(by=By.XPATH, value=xpath) instead\n",
      "  send_tittle = browser.find_element_by_xpath('/html/body/div[1]/div[2]/form/div[2]/table/tbody/tr[' + str(r) +  ']/td[2]/a')\n",
      "C:\\Users\\matsuno\\AppData\\Local\\Temp\\ipykernel_11364\\599272334.py:9: DeprecationWarning: find_element_by_xpath is deprecated. Please use find_element(by=By.XPATH, value=xpath) instead\n",
      "  send_tittle = browser.find_element_by_xpath('/html/body/div[1]/div[2]/form/div[2]/table/tbody/tr[' + str(r) +  ']/td[2]/a')\n"
     ]
    },
    {
     "name": "stdout",
     "output_type": "stream",
     "text": [
      "40439600052135は、「～インテリア・ファッションのLeading Company～/マーケティング部ブランドコミュニケーション課長候補 Assemblage後藤」を送信しました32\n",
      "40439600052135は、「～インテリア・ファッションのLeading Company～/マーケティング部ブランドコミュニケーション課長候補 Assemblage後藤」を送信しました33\n",
      "40439600052135は、「～インテリア・ファッションのLeading Company～/マーケティング部ブランドコミュニケーション課長候補 Assemblage後藤」を送信しました34\n"
     ]
    },
    {
     "name": "stderr",
     "output_type": "stream",
     "text": [
      "C:\\Users\\matsuno\\AppData\\Local\\Temp\\ipykernel_11364\\599272334.py:9: DeprecationWarning: find_element_by_xpath is deprecated. Please use find_element(by=By.XPATH, value=xpath) instead\n",
      "  send_tittle = browser.find_element_by_xpath('/html/body/div[1]/div[2]/form/div[2]/table/tbody/tr[' + str(r) +  ']/td[2]/a')\n",
      "C:\\Users\\matsuno\\AppData\\Local\\Temp\\ipykernel_11364\\599272334.py:9: DeprecationWarning: find_element_by_xpath is deprecated. Please use find_element(by=By.XPATH, value=xpath) instead\n",
      "  send_tittle = browser.find_element_by_xpath('/html/body/div[1]/div[2]/form/div[2]/table/tbody/tr[' + str(r) +  ']/td[2]/a')\n",
      "C:\\Users\\matsuno\\AppData\\Local\\Temp\\ipykernel_11364\\599272334.py:9: DeprecationWarning: find_element_by_xpath is deprecated. Please use find_element(by=By.XPATH, value=xpath) instead\n",
      "  send_tittle = browser.find_element_by_xpath('/html/body/div[1]/div[2]/form/div[2]/table/tbody/tr[' + str(r) +  ']/td[2]/a')\n"
     ]
    },
    {
     "name": "stdout",
     "output_type": "stream",
     "text": [
      "40439600052135は、「～インテリア・ファッションのLeading Company～/マーケティング部ブランドコミュニケーション課長候補 Assemblage後藤」を送信しました35\n",
      "40439600052135は、「～インテリア・ファッションのLeading Company～/マーケティング部ブランドコミュニケーション課長候補 Assemblage後藤」を送信しました36\n"
     ]
    },
    {
     "name": "stderr",
     "output_type": "stream",
     "text": [
      "C:\\Users\\matsuno\\AppData\\Local\\Temp\\ipykernel_11364\\599272334.py:9: DeprecationWarning: find_element_by_xpath is deprecated. Please use find_element(by=By.XPATH, value=xpath) instead\n",
      "  send_tittle = browser.find_element_by_xpath('/html/body/div[1]/div[2]/form/div[2]/table/tbody/tr[' + str(r) +  ']/td[2]/a')\n",
      "C:\\Users\\matsuno\\AppData\\Local\\Temp\\ipykernel_11364\\599272334.py:9: DeprecationWarning: find_element_by_xpath is deprecated. Please use find_element(by=By.XPATH, value=xpath) instead\n",
      "  send_tittle = browser.find_element_by_xpath('/html/body/div[1]/div[2]/form/div[2]/table/tbody/tr[' + str(r) +  ']/td[2]/a')\n"
     ]
    },
    {
     "name": "stdout",
     "output_type": "stream",
     "text": [
      "40439600052135は、「～インテリア・ファッションのLeading Company～/マーケティング部ブランドコミュニケーション課長候補 Assemblage後藤」を送信しました37\n",
      "40439600052135は、「～インテリア・ファッションのLeading Company～/マーケティング部ブランドコミュニケーション課長候補 Assemblage後藤」を送信しました38\n",
      "40439600052135は、「～インテリア・ファッションのLeading Company～/マーケティング部ブランドコミュニケーション課長候補 Assemblage後藤」を送信しました39\n"
     ]
    },
    {
     "name": "stderr",
     "output_type": "stream",
     "text": [
      "C:\\Users\\matsuno\\AppData\\Local\\Temp\\ipykernel_11364\\599272334.py:9: DeprecationWarning: find_element_by_xpath is deprecated. Please use find_element(by=By.XPATH, value=xpath) instead\n",
      "  send_tittle = browser.find_element_by_xpath('/html/body/div[1]/div[2]/form/div[2]/table/tbody/tr[' + str(r) +  ']/td[2]/a')\n",
      "C:\\Users\\matsuno\\AppData\\Local\\Temp\\ipykernel_11364\\599272334.py:9: DeprecationWarning: find_element_by_xpath is deprecated. Please use find_element(by=By.XPATH, value=xpath) instead\n",
      "  send_tittle = browser.find_element_by_xpath('/html/body/div[1]/div[2]/form/div[2]/table/tbody/tr[' + str(r) +  ']/td[2]/a')\n",
      "C:\\Users\\matsuno\\AppData\\Local\\Temp\\ipykernel_11364\\599272334.py:9: DeprecationWarning: find_element_by_xpath is deprecated. Please use find_element(by=By.XPATH, value=xpath) instead\n",
      "  send_tittle = browser.find_element_by_xpath('/html/body/div[1]/div[2]/form/div[2]/table/tbody/tr[' + str(r) +  ']/td[2]/a')\n"
     ]
    },
    {
     "name": "stdout",
     "output_type": "stream",
     "text": [
      "40439600052135は、「～インテリア・ファッションのLeading Company～/マーケティング部ブランドコミュニケーション課長候補 Assemblage後藤」を送信しました40\n",
      "40439600052135は、「～インテリア・ファッションのLeading Company～/マーケティング部ブランドコミュニケーション課長候補 Assemblage後藤」を送信しました41\n"
     ]
    },
    {
     "name": "stderr",
     "output_type": "stream",
     "text": [
      "C:\\Users\\matsuno\\AppData\\Local\\Temp\\ipykernel_11364\\599272334.py:9: DeprecationWarning: find_element_by_xpath is deprecated. Please use find_element(by=By.XPATH, value=xpath) instead\n",
      "  send_tittle = browser.find_element_by_xpath('/html/body/div[1]/div[2]/form/div[2]/table/tbody/tr[' + str(r) +  ']/td[2]/a')\n",
      "C:\\Users\\matsuno\\AppData\\Local\\Temp\\ipykernel_11364\\599272334.py:9: DeprecationWarning: find_element_by_xpath is deprecated. Please use find_element(by=By.XPATH, value=xpath) instead\n",
      "  send_tittle = browser.find_element_by_xpath('/html/body/div[1]/div[2]/form/div[2]/table/tbody/tr[' + str(r) +  ']/td[2]/a')\n"
     ]
    },
    {
     "name": "stdout",
     "output_type": "stream",
     "text": [
      "40439600052135は、「～インテリア・ファッションのLeading Company～/マーケティング部ブランドコミュニケーション課長候補 Assemblage後藤」を送信しました42\n",
      "40439600052135は、「～インテリア・ファッションのLeading Company～/マーケティング部ブランドコミュニケーション課長候補 Assemblage後藤」を送信しました43\n"
     ]
    },
    {
     "name": "stderr",
     "output_type": "stream",
     "text": [
      "C:\\Users\\matsuno\\AppData\\Local\\Temp\\ipykernel_11364\\599272334.py:9: DeprecationWarning: find_element_by_xpath is deprecated. Please use find_element(by=By.XPATH, value=xpath) instead\n",
      "  send_tittle = browser.find_element_by_xpath('/html/body/div[1]/div[2]/form/div[2]/table/tbody/tr[' + str(r) +  ']/td[2]/a')\n",
      "C:\\Users\\matsuno\\AppData\\Local\\Temp\\ipykernel_11364\\599272334.py:9: DeprecationWarning: find_element_by_xpath is deprecated. Please use find_element(by=By.XPATH, value=xpath) instead\n",
      "  send_tittle = browser.find_element_by_xpath('/html/body/div[1]/div[2]/form/div[2]/table/tbody/tr[' + str(r) +  ']/td[2]/a')\n",
      "C:\\Users\\matsuno\\AppData\\Local\\Temp\\ipykernel_11364\\599272334.py:9: DeprecationWarning: find_element_by_xpath is deprecated. Please use find_element(by=By.XPATH, value=xpath) instead\n",
      "  send_tittle = browser.find_element_by_xpath('/html/body/div[1]/div[2]/form/div[2]/table/tbody/tr[' + str(r) +  ']/td[2]/a')\n",
      "C:\\Users\\matsuno\\AppData\\Local\\Temp\\ipykernel_11364\\599272334.py:9: DeprecationWarning: find_element_by_xpath is deprecated. Please use find_element(by=By.XPATH, value=xpath) instead\n",
      "  send_tittle = browser.find_element_by_xpath('/html/body/div[1]/div[2]/form/div[2]/table/tbody/tr[' + str(r) +  ']/td[2]/a')\n"
     ]
    },
    {
     "name": "stdout",
     "output_type": "stream",
     "text": [
      "40439600052135は、「～インテリア・ファッションのLeading Company～/マーケティング部ブランドコミュニケーション課長候補 Assemblage後藤」を送信しました44\n",
      "40439600052135は、「～インテリア・ファッションのLeading Company～/マーケティング部ブランドコミュニケーション課長候補 Assemblage後藤」を送信しました45\n",
      "40439600052135は、「～インテリア・ファッションのLeading Company～/マーケティング部ブランドコミュニケーション課長候補 Assemblage後藤」を送信しました46\n"
     ]
    },
    {
     "name": "stderr",
     "output_type": "stream",
     "text": [
      "C:\\Users\\matsuno\\AppData\\Local\\Temp\\ipykernel_11364\\599272334.py:9: DeprecationWarning: find_element_by_xpath is deprecated. Please use find_element(by=By.XPATH, value=xpath) instead\n",
      "  send_tittle = browser.find_element_by_xpath('/html/body/div[1]/div[2]/form/div[2]/table/tbody/tr[' + str(r) +  ']/td[2]/a')\n",
      "C:\\Users\\matsuno\\AppData\\Local\\Temp\\ipykernel_11364\\599272334.py:9: DeprecationWarning: find_element_by_xpath is deprecated. Please use find_element(by=By.XPATH, value=xpath) instead\n",
      "  send_tittle = browser.find_element_by_xpath('/html/body/div[1]/div[2]/form/div[2]/table/tbody/tr[' + str(r) +  ']/td[2]/a')\n"
     ]
    },
    {
     "name": "stdout",
     "output_type": "stream",
     "text": [
      "40439600052135は、「～インテリア・ファッションのLeading Company～/マーケティング部ブランドコミュニケーション課長候補 Assemblage後藤」を送信しました47\n",
      "40439600052135は、「～インテリア・ファッションのLeading Company～/マーケティング部ブランドコミュニケーション課長候補 Assemblage後藤」を送信しました48\n"
     ]
    },
    {
     "name": "stderr",
     "output_type": "stream",
     "text": [
      "C:\\Users\\matsuno\\AppData\\Local\\Temp\\ipykernel_11364\\599272334.py:9: DeprecationWarning: find_element_by_xpath is deprecated. Please use find_element(by=By.XPATH, value=xpath) instead\n",
      "  send_tittle = browser.find_element_by_xpath('/html/body/div[1]/div[2]/form/div[2]/table/tbody/tr[' + str(r) +  ']/td[2]/a')\n",
      "C:\\Users\\matsuno\\AppData\\Local\\Temp\\ipykernel_11364\\599272334.py:9: DeprecationWarning: find_element_by_xpath is deprecated. Please use find_element(by=By.XPATH, value=xpath) instead\n",
      "  send_tittle = browser.find_element_by_xpath('/html/body/div[1]/div[2]/form/div[2]/table/tbody/tr[' + str(r) +  ']/td[2]/a')\n"
     ]
    },
    {
     "name": "stdout",
     "output_type": "stream",
     "text": [
      "40439600052135は、「～インテリア・ファッションのLeading Company～/マーケティング部ブランドコミュニケーション課長候補 Assemblage後藤」を送信しました49\n",
      "40439600052135は、「～インテリア・ファッションのLeading Company～/マーケティング部ブランドコミュニケーション課長候補 Assemblage後藤」を送信しました50\n"
     ]
    },
    {
     "name": "stderr",
     "output_type": "stream",
     "text": [
      "C:\\Users\\matsuno\\AppData\\Local\\Temp\\ipykernel_11364\\599272334.py:9: DeprecationWarning: find_element_by_xpath is deprecated. Please use find_element(by=By.XPATH, value=xpath) instead\n",
      "  send_tittle = browser.find_element_by_xpath('/html/body/div[1]/div[2]/form/div[2]/table/tbody/tr[' + str(r) +  ']/td[2]/a')\n",
      "C:\\Users\\matsuno\\AppData\\Local\\Temp\\ipykernel_11364\\599272334.py:9: DeprecationWarning: find_element_by_xpath is deprecated. Please use find_element(by=By.XPATH, value=xpath) instead\n",
      "  send_tittle = browser.find_element_by_xpath('/html/body/div[1]/div[2]/form/div[2]/table/tbody/tr[' + str(r) +  ']/td[2]/a')\n",
      "C:\\Users\\matsuno\\AppData\\Local\\Temp\\ipykernel_11364\\599272334.py:9: DeprecationWarning: find_element_by_xpath is deprecated. Please use find_element(by=By.XPATH, value=xpath) instead\n",
      "  send_tittle = browser.find_element_by_xpath('/html/body/div[1]/div[2]/form/div[2]/table/tbody/tr[' + str(r) +  ']/td[2]/a')\n"
     ]
    },
    {
     "name": "stdout",
     "output_type": "stream",
     "text": [
      "40439600052135は、「～インテリア・ファッションのLeading Company～/マーケティング部ブランドコミュニケーション課長候補 Assemblage後藤」を送信しました51\n",
      "40439600052135は、「～インテリア・ファッションのLeading Company～/マーケティング部ブランドコミュニケーション課長候補 Assemblage後藤」を送信しました52\n",
      "40439600052135は、「～インテリア・ファッションのLeading Company～/マーケティング部ブランドコミュニケーション課長候補 Assemblage後藤」を送信しました53\n"
     ]
    },
    {
     "name": "stderr",
     "output_type": "stream",
     "text": [
      "C:\\Users\\matsuno\\AppData\\Local\\Temp\\ipykernel_11364\\599272334.py:9: DeprecationWarning: find_element_by_xpath is deprecated. Please use find_element(by=By.XPATH, value=xpath) instead\n",
      "  send_tittle = browser.find_element_by_xpath('/html/body/div[1]/div[2]/form/div[2]/table/tbody/tr[' + str(r) +  ']/td[2]/a')\n",
      "C:\\Users\\matsuno\\AppData\\Local\\Temp\\ipykernel_11364\\599272334.py:9: DeprecationWarning: find_element_by_xpath is deprecated. Please use find_element(by=By.XPATH, value=xpath) instead\n",
      "  send_tittle = browser.find_element_by_xpath('/html/body/div[1]/div[2]/form/div[2]/table/tbody/tr[' + str(r) +  ']/td[2]/a')\n",
      "C:\\Users\\matsuno\\AppData\\Local\\Temp\\ipykernel_11364\\599272334.py:9: DeprecationWarning: find_element_by_xpath is deprecated. Please use find_element(by=By.XPATH, value=xpath) instead\n",
      "  send_tittle = browser.find_element_by_xpath('/html/body/div[1]/div[2]/form/div[2]/table/tbody/tr[' + str(r) +  ']/td[2]/a')\n"
     ]
    },
    {
     "name": "stdout",
     "output_type": "stream",
     "text": [
      "40439600052135は、「～インテリア・ファッションのLeading Company～/マーケティング部ブランドコミュニケーション課長候補 Assemblage後藤」を送信しました54\n",
      "40439600052135は、「～インテリア・ファッションのLeading Company～/マーケティング部ブランドコミュニケーション課長候補 Assemblage後藤」を送信しました55\n",
      "40439600052135は、「～インテリア・ファッションのLeading Company～/マーケティング部ブランドコミュニケーション課長候補 Assemblage後藤」を送信しました56\n",
      "40439600052135は、「～インテリア・ファッションのLeading Company～/マーケティング部ブランドコミュニケーション課長候補 Assemblage後藤」を送信しました57\n",
      "40439600052135は、「～インテリア・ファッションのLeading Company～/マーケティング部ブランドコミュニケーション課長候補 Assemblage後藤」を送信しました58\n"
     ]
    },
    {
     "name": "stderr",
     "output_type": "stream",
     "text": [
      "C:\\Users\\matsuno\\AppData\\Local\\Temp\\ipykernel_11364\\599272334.py:9: DeprecationWarning: find_element_by_xpath is deprecated. Please use find_element(by=By.XPATH, value=xpath) instead\n",
      "  send_tittle = browser.find_element_by_xpath('/html/body/div[1]/div[2]/form/div[2]/table/tbody/tr[' + str(r) +  ']/td[2]/a')\n",
      "C:\\Users\\matsuno\\AppData\\Local\\Temp\\ipykernel_11364\\599272334.py:9: DeprecationWarning: find_element_by_xpath is deprecated. Please use find_element(by=By.XPATH, value=xpath) instead\n",
      "  send_tittle = browser.find_element_by_xpath('/html/body/div[1]/div[2]/form/div[2]/table/tbody/tr[' + str(r) +  ']/td[2]/a')\n",
      "C:\\Users\\matsuno\\AppData\\Local\\Temp\\ipykernel_11364\\599272334.py:9: DeprecationWarning: find_element_by_xpath is deprecated. Please use find_element(by=By.XPATH, value=xpath) instead\n",
      "  send_tittle = browser.find_element_by_xpath('/html/body/div[1]/div[2]/form/div[2]/table/tbody/tr[' + str(r) +  ']/td[2]/a')\n"
     ]
    },
    {
     "name": "stdout",
     "output_type": "stream",
     "text": [
      "40439600052135は、「～インテリア・ファッションのLeading Company～/マーケティング部ブランドコミュニケーション課長候補 Assemblage後藤」を送信しました59\n",
      "40439600052135は、「～インテリア・ファッションのLeading Company～/マーケティング部ブランドコミュニケーション課長候補 Assemblage後藤」を送信しました60\n",
      "40439600052135は、「～インテリア・ファッションのLeading Company～/マーケティング部ブランドコミュニケーション課長候補 Assemblage後藤」を送信しました61\n"
     ]
    },
    {
     "name": "stderr",
     "output_type": "stream",
     "text": [
      "C:\\Users\\matsuno\\AppData\\Local\\Temp\\ipykernel_11364\\599272334.py:9: DeprecationWarning: find_element_by_xpath is deprecated. Please use find_element(by=By.XPATH, value=xpath) instead\n",
      "  send_tittle = browser.find_element_by_xpath('/html/body/div[1]/div[2]/form/div[2]/table/tbody/tr[' + str(r) +  ']/td[2]/a')\n",
      "C:\\Users\\matsuno\\AppData\\Local\\Temp\\ipykernel_11364\\599272334.py:9: DeprecationWarning: find_element_by_xpath is deprecated. Please use find_element(by=By.XPATH, value=xpath) instead\n",
      "  send_tittle = browser.find_element_by_xpath('/html/body/div[1]/div[2]/form/div[2]/table/tbody/tr[' + str(r) +  ']/td[2]/a')\n",
      "C:\\Users\\matsuno\\AppData\\Local\\Temp\\ipykernel_11364\\599272334.py:9: DeprecationWarning: find_element_by_xpath is deprecated. Please use find_element(by=By.XPATH, value=xpath) instead\n",
      "  send_tittle = browser.find_element_by_xpath('/html/body/div[1]/div[2]/form/div[2]/table/tbody/tr[' + str(r) +  ']/td[2]/a')\n"
     ]
    },
    {
     "name": "stdout",
     "output_type": "stream",
     "text": [
      "40439600052135は、「～インテリア・ファッションのLeading Company～/マーケティング部ブランドコミュニケーション課長候補 Assemblage後藤」を送信しました62\n",
      "40439600052135は、「～インテリア・ファッションのLeading Company～/マーケティング部ブランドコミュニケーション課長候補 Assemblage後藤」を送信しました63\n",
      "40439600052135は、「～インテリア・ファッションのLeading Company～/マーケティング部ブランドコミュニケーション課長候補 Assemblage後藤」を送信しました64\n"
     ]
    },
    {
     "name": "stderr",
     "output_type": "stream",
     "text": [
      "C:\\Users\\matsuno\\AppData\\Local\\Temp\\ipykernel_11364\\599272334.py:9: DeprecationWarning: find_element_by_xpath is deprecated. Please use find_element(by=By.XPATH, value=xpath) instead\n",
      "  send_tittle = browser.find_element_by_xpath('/html/body/div[1]/div[2]/form/div[2]/table/tbody/tr[' + str(r) +  ']/td[2]/a')\n",
      "C:\\Users\\matsuno\\AppData\\Local\\Temp\\ipykernel_11364\\599272334.py:9: DeprecationWarning: find_element_by_xpath is deprecated. Please use find_element(by=By.XPATH, value=xpath) instead\n",
      "  send_tittle = browser.find_element_by_xpath('/html/body/div[1]/div[2]/form/div[2]/table/tbody/tr[' + str(r) +  ']/td[2]/a')\n",
      "C:\\Users\\matsuno\\AppData\\Local\\Temp\\ipykernel_11364\\599272334.py:9: DeprecationWarning: find_element_by_xpath is deprecated. Please use find_element(by=By.XPATH, value=xpath) instead\n",
      "  send_tittle = browser.find_element_by_xpath('/html/body/div[1]/div[2]/form/div[2]/table/tbody/tr[' + str(r) +  ']/td[2]/a')\n"
     ]
    },
    {
     "name": "stdout",
     "output_type": "stream",
     "text": [
      "40439600052135は、「～インテリア・ファッションのLeading Company～/マーケティング部ブランドコミュニケーション課長候補 Assemblage後藤」を送信しました65\n",
      "40439600052135は、「～インテリア・ファッションのLeading Company～/マーケティング部ブランドコミュニケーション課長候補 Assemblage後藤」を送信しました66\n"
     ]
    },
    {
     "name": "stderr",
     "output_type": "stream",
     "text": [
      "C:\\Users\\matsuno\\AppData\\Local\\Temp\\ipykernel_11364\\599272334.py:9: DeprecationWarning: find_element_by_xpath is deprecated. Please use find_element(by=By.XPATH, value=xpath) instead\n",
      "  send_tittle = browser.find_element_by_xpath('/html/body/div[1]/div[2]/form/div[2]/table/tbody/tr[' + str(r) +  ']/td[2]/a')\n",
      "C:\\Users\\matsuno\\AppData\\Local\\Temp\\ipykernel_11364\\599272334.py:9: DeprecationWarning: find_element_by_xpath is deprecated. Please use find_element(by=By.XPATH, value=xpath) instead\n",
      "  send_tittle = browser.find_element_by_xpath('/html/body/div[1]/div[2]/form/div[2]/table/tbody/tr[' + str(r) +  ']/td[2]/a')\n",
      "C:\\Users\\matsuno\\AppData\\Local\\Temp\\ipykernel_11364\\599272334.py:9: DeprecationWarning: find_element_by_xpath is deprecated. Please use find_element(by=By.XPATH, value=xpath) instead\n",
      "  send_tittle = browser.find_element_by_xpath('/html/body/div[1]/div[2]/form/div[2]/table/tbody/tr[' + str(r) +  ']/td[2]/a')\n"
     ]
    },
    {
     "name": "stdout",
     "output_type": "stream",
     "text": [
      "40439600052135は、「～インテリア・ファッションのLeading Company～/マーケティング部ブランドコミュニケーション課長候補 Assemblage後藤」を送信しました67\n",
      "40439600052135は、「～インテリア・ファッションのLeading Company～/マーケティング部ブランドコミュニケーション課長候補 Assemblage後藤」を送信しました68\n",
      "40439600052135は、「～インテリア・ファッションのLeading Company～/マーケティング部ブランドコミュニケーション課長候補 Assemblage後藤」を送信しました69\n"
     ]
    },
    {
     "name": "stderr",
     "output_type": "stream",
     "text": [
      "C:\\Users\\matsuno\\AppData\\Local\\Temp\\ipykernel_11364\\599272334.py:9: DeprecationWarning: find_element_by_xpath is deprecated. Please use find_element(by=By.XPATH, value=xpath) instead\n",
      "  send_tittle = browser.find_element_by_xpath('/html/body/div[1]/div[2]/form/div[2]/table/tbody/tr[' + str(r) +  ']/td[2]/a')\n",
      "C:\\Users\\matsuno\\AppData\\Local\\Temp\\ipykernel_11364\\599272334.py:9: DeprecationWarning: find_element_by_xpath is deprecated. Please use find_element(by=By.XPATH, value=xpath) instead\n",
      "  send_tittle = browser.find_element_by_xpath('/html/body/div[1]/div[2]/form/div[2]/table/tbody/tr[' + str(r) +  ']/td[2]/a')\n",
      "C:\\Users\\matsuno\\AppData\\Local\\Temp\\ipykernel_11364\\599272334.py:9: DeprecationWarning: find_element_by_xpath is deprecated. Please use find_element(by=By.XPATH, value=xpath) instead\n",
      "  send_tittle = browser.find_element_by_xpath('/html/body/div[1]/div[2]/form/div[2]/table/tbody/tr[' + str(r) +  ']/td[2]/a')\n"
     ]
    },
    {
     "name": "stdout",
     "output_type": "stream",
     "text": [
      "40439600052135は、「～インテリア・ファッションのLeading Company～/マーケティング部ブランドコミュニケーション課長候補 Assemblage後藤」を送信しました70\n",
      "40439600052135は、「～インテリア・ファッションのLeading Company～/マーケティング部ブランドコミュニケーション課長候補 Assemblage後藤」を送信しました71\n",
      "40439600052135は、「～インテリア・ファッションのLeading Company～/マーケティング部ブランドコミュニケーション課長候補 Assemblage後藤」を送信しました72\n",
      "40439600052135は、「～インテリア・ファッションのLeading Company～/マーケティング部ブランドコミュニケーション課長候補 Assemblage後藤」を送信しました73\n",
      "最終ページ\n"
     ]
    },
    {
     "name": "stderr",
     "output_type": "stream",
     "text": [
      "C:\\Users\\matsuno\\AppData\\Local\\Temp\\ipykernel_11364\\599272334.py:9: DeprecationWarning: find_element_by_xpath is deprecated. Please use find_element(by=By.XPATH, value=xpath) instead\n",
      "  send_tittle = browser.find_element_by_xpath('/html/body/div[1]/div[2]/form/div[2]/table/tbody/tr[' + str(r) +  ']/td[2]/a')\n",
      "C:\\Users\\matsuno\\AppData\\Local\\Temp\\ipykernel_11364\\599272334.py:9: DeprecationWarning: find_element_by_xpath is deprecated. Please use find_element(by=By.XPATH, value=xpath) instead\n",
      "  send_tittle = browser.find_element_by_xpath('/html/body/div[1]/div[2]/form/div[2]/table/tbody/tr[' + str(r) +  ']/td[2]/a')\n"
     ]
    }
   ],
   "source": [
    "for q in range(0 , page_ran[0] + 1):\n",
    "    \n",
    "    end_tittle = 102\n",
    "    \n",
    "    if q == page_ran[0]:\n",
    "        end_tittle = page_ran[1] + 2\n",
    "    \n",
    "    for r in range(2,end_tittle):\n",
    "        send_tittle = browser.find_element_by_xpath('/html/body/div[1]/div[2]/form/div[2]/table/tbody/tr[' + str(r) +  ']/td[2]/a')\n",
    "\n",
    "        print(HEAD_HUNTER[0] + \"は、「\" + send_tittle.text + \"」を送信しました\" + str(r - 1))\n",
    "        \n",
    "        if \"ご面談の御願い\" in send_tittle.text:\n",
    "            send_tittle = \"ご面談の御願い\"\n",
    "        elif \"ソフトバンク\" in send_tittle.text:\n",
    "            send_tittle = \"ソフトバンク\"\n",
    "        elif \"Re:\" in send_tittle.text:\n",
    "            send_tittle = \"Re:\"\n",
    "        else:\n",
    "            send_tittle = send_tittle.text\n",
    "\n",
    "        df = pd.DataFrame([[HEAD_HUNTER[0],send_tittle]],columns=['コンサルタント','send_tittle'])\n",
    "        df_count = pd.concat([df_count,df],join='outer',ignore_index=True)\n",
    "    \n",
    "    if page_ran[1] == 0:\n",
    "        if page_ran[0] == q:\n",
    "            print(\"最終ページ\")\n",
    "            break\n",
    "        \n",
    "    if page_ran[0] == 0:\n",
    "        break\n",
    "    elif q == 0:\n",
    "        browser_from = browser.find_element_by_xpath('/html/body/div[1]/div[2]/form/div[2]/div[3]/div[2]/a')\n",
    "    elif q != page_ran[0]:\n",
    "        browser_from = browser.find_element_by_xpath('/html/body/div[1]/div[2]/form/div[2]/div[3]/div[2]/a[2]')\n",
    "    else:\n",
    "        print(\"最終ページ\")\n",
    "        break\n",
    "\n",
    "    browser_from.click()\n",
    "    time.sleep(1)\n",
    "    print(str(q + 2) + \"ページへ移動しました\")"
   ]
  },
  {
   "cell_type": "code",
   "execution_count": 18,
   "id": "90b379dd-dc69-4930-8176-ca67d04bba7b",
   "metadata": {},
   "outputs": [
    {
     "data": {
      "text/plain": [
       "～インテリア・ファッションのLeading Company～/マーケティング部ブランドコミュニケーション課長候補 Assemblage後藤    198\n",
       "経理/財務「人×ICT×環境」～自社らしい働き方や環境を提案～　後藤                                        74\n",
       "Re:                                                                        1\n",
       "Name: send_tittle, dtype: int64"
      ]
     },
     "execution_count": 18,
     "metadata": {},
     "output_type": "execute_result"
    }
   ],
   "source": [
    "df_count_all = df_count['send_tittle']\n",
    "df_count_all .value_counts()"
   ]
  },
  {
   "cell_type": "code",
   "execution_count": 19,
   "id": "fadbe1d7-7e5b-4bca-9ae7-503b37c98a27",
   "metadata": {},
   "outputs": [
    {
     "name": "stdout",
     "output_type": "stream",
     "text": [
      "273\n"
     ]
    }
   ],
   "source": [
    "print(send_all_count)"
   ]
  },
  {
   "cell_type": "code",
   "execution_count": 20,
   "id": "93e16e52-4708-40a8-9559-ee0fb4862de0",
   "metadata": {},
   "outputs": [
    {
     "name": "stdout",
     "output_type": "stream",
     "text": [
      "273\n"
     ]
    }
   ],
   "source": [
    "print(len(df_count_all))"
   ]
  },
  {
   "cell_type": "code",
   "execution_count": null,
   "id": "3901e3bc-0a4c-4062-b3c7-843de5829fa3",
   "metadata": {},
   "outputs": [],
   "source": []
  },
  {
   "cell_type": "code",
   "execution_count": null,
   "id": "7f4cfa94-9d65-4e3f-8b3a-1e53bcaeda7c",
   "metadata": {},
   "outputs": [],
   "source": []
  },
  {
   "cell_type": "code",
   "execution_count": null,
   "id": "80fa81b3-e929-494d-90d0-1a2ed7fc2f3c",
   "metadata": {},
   "outputs": [],
   "source": []
  },
  {
   "cell_type": "code",
   "execution_count": null,
   "id": "e01493e1-339c-49e9-a52e-2ba235bf9af9",
   "metadata": {},
   "outputs": [],
   "source": []
  }
 ],
 "metadata": {
  "kernelspec": {
   "display_name": "Python 3 (ipykernel)",
   "language": "python",
   "name": "python3"
  },
  "language_info": {
   "codemirror_mode": {
    "name": "ipython",
    "version": 3
   },
   "file_extension": ".py",
   "mimetype": "text/x-python",
   "name": "python",
   "nbconvert_exporter": "python",
   "pygments_lexer": "ipython3",
   "version": "3.9.12"
  }
 },
 "nbformat": 4,
 "nbformat_minor": 5
}
