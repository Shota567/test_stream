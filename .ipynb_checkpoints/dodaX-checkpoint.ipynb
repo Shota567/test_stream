{
 "cells": [
  {
   "cell_type": "code",
   "execution_count": 1,
   "id": "78348cd4-71e3-44fb-9f92-c7323e3c0bb0",
   "metadata": {},
   "outputs": [
    {
     "name": "stdout",
     "output_type": "stream",
     "text": [
      "Requirement already satisfied: selenium in c:\\users\\matsuno\\anaconda3\\lib\\site-packages (4.2.0)\n",
      "Requirement already satisfied: trio-websocket~=0.9 in c:\\users\\matsuno\\anaconda3\\lib\\site-packages (from selenium) (0.9.2)\n",
      "Requirement already satisfied: trio~=0.17 in c:\\users\\matsuno\\anaconda3\\lib\\site-packages (from selenium) (0.20.0)\n",
      "Requirement already satisfied: urllib3[secure,socks]~=1.26 in c:\\users\\matsuno\\anaconda3\\lib\\site-packages (from selenium) (1.26.9)\n",
      "Requirement already satisfied: idna in c:\\users\\matsuno\\anaconda3\\lib\\site-packages (from trio~=0.17->selenium) (3.3)\n",
      "Requirement already satisfied: cffi>=1.14 in c:\\users\\matsuno\\anaconda3\\lib\\site-packages (from trio~=0.17->selenium) (1.15.0)\n",
      "Requirement already satisfied: outcome in c:\\users\\matsuno\\anaconda3\\lib\\site-packages (from trio~=0.17->selenium) (1.1.0)\n",
      "Requirement already satisfied: attrs>=19.2.0 in c:\\users\\matsuno\\anaconda3\\lib\\site-packages (from trio~=0.17->selenium) (21.4.0)\n",
      "Requirement already satisfied: sniffio in c:\\users\\matsuno\\anaconda3\\lib\\site-packages (from trio~=0.17->selenium) (1.2.0)\n",
      "Requirement already satisfied: async-generator>=1.9 in c:\\users\\matsuno\\anaconda3\\lib\\site-packages (from trio~=0.17->selenium) (1.10)\n",
      "Requirement already satisfied: sortedcontainers in c:\\users\\matsuno\\anaconda3\\lib\\site-packages (from trio~=0.17->selenium) (2.4.0)\n",
      "Requirement already satisfied: pycparser in c:\\users\\matsuno\\anaconda3\\lib\\site-packages (from cffi>=1.14->trio~=0.17->selenium) (2.21)\n",
      "Requirement already satisfied: wsproto>=0.14 in c:\\users\\matsuno\\anaconda3\\lib\\site-packages (from trio-websocket~=0.9->selenium) (1.1.0)\n",
      "Requirement already satisfied: pyOpenSSL>=0.14 in c:\\users\\matsuno\\anaconda3\\lib\\site-packages (from urllib3[secure,socks]~=1.26->selenium) (21.0.0)\n",
      "Requirement already satisfied: cryptography>=1.3.4 in c:\\users\\matsuno\\anaconda3\\lib\\site-packages (from urllib3[secure,socks]~=1.26->selenium) (3.4.7)\n",
      "Requirement already satisfied: certifi in c:\\users\\matsuno\\anaconda3\\lib\\site-packages (from urllib3[secure,socks]~=1.26->selenium) (2021.10.8)\n",
      "Requirement already satisfied: PySocks!=1.5.7,<2.0,>=1.5.6 in c:\\users\\matsuno\\anaconda3\\lib\\site-packages (from urllib3[secure,socks]~=1.26->selenium) (1.7.1)\n",
      "Requirement already satisfied: six>=1.5.2 in c:\\users\\matsuno\\anaconda3\\lib\\site-packages (from pyOpenSSL>=0.14->urllib3[secure,socks]~=1.26->selenium) (1.16.0)\n",
      "Requirement already satisfied: h11<1,>=0.9.0 in c:\\users\\matsuno\\anaconda3\\lib\\site-packages (from wsproto>=0.14->trio-websocket~=0.9->selenium) (0.13.0)\n"
     ]
    }
   ],
   "source": [
    "!pip install selenium"
   ]
  },
  {
   "cell_type": "code",
   "execution_count": 2,
   "id": "05289298-44f3-4671-ba45-6dd20ff6d283",
   "metadata": {},
   "outputs": [],
   "source": [
    "from selenium import webdriver\n",
    "\n",
    "import time\n",
    "\n",
    "import pandas as pd\n",
    "\n",
    "from selenium.webdriver.common.action_chains import ActionChains\n",
    "from selenium.webdriver.common.keys import Keys\n",
    "\n",
    "from selenium.common.exceptions import NoSuchElementException\n",
    "\n",
    "from bs4 import BeautifulSoup\n",
    "import requests\n",
    "\n",
    "import re\n",
    "\n",
    "import numpy as np\n",
    "\n",
    "import datetime"
   ]
  },
  {
   "cell_type": "code",
   "execution_count": 3,
   "id": "157c83b2-77df-4535-93ad-0778b51bd518",
   "metadata": {},
   "outputs": [],
   "source": [
    "GOTO = ['goto@assemblage.asia' , 'GOto1023']\n",
    "#OKAMOTO = ['y-okamoto@pmc-g.jp' , 'Okamoto-581214']\n",
    "IIDA = ['iida@assemblage.asia' , 'iidA0615']\n",
    "TAMURA = ['tamura@assemblage.asia' , 'Tamura0829']\n",
    "KAWATSURA = ['kawatsura@assemblage.asia' , 'Kouititp3']\n",
    "SUZUKI = ['suzuki_a@assemblage.co.jp' , 'Yurakutyo2022']\n",
    "NOBUSHIMA = ['nobushima@assemblage.co.jp' , 'Yurakutyo2022']\n",
    "\n",
    "HEAD_HUNTER_all = [GOTO]\n",
    "\n",
    "url_login = 'https://search.ix-tenshoku.jp/login/'"
   ]
  },
  {
   "cell_type": "code",
   "execution_count": 4,
   "id": "2d98b545-3f38-4162-851c-0d4d75c8b574",
   "metadata": {},
   "outputs": [
    {
     "name": "stderr",
     "output_type": "stream",
     "text": [
      "C:\\Users\\matsuno\\AppData\\Local\\Temp\\ipykernel_10528\\3312760469.py:7: DeprecationWarning: executable_path has been deprecated, please pass in a Service object\n",
      "  browser = webdriver.Chrome(executable_path = 'C:/Users/matsuno/Downloads/MyPandas/chromedriver.exe')\n"
     ]
    },
    {
     "name": "stdout",
     "output_type": "stream",
     "text": [
      "ログインページにアクセスしました\n"
     ]
    },
    {
     "name": "stderr",
     "output_type": "stream",
     "text": [
      "C:\\Users\\matsuno\\AppData\\Local\\Temp\\ipykernel_10528\\3312760469.py:14: DeprecationWarning: find_element_by_xpath is deprecated. Please use find_element(by=By.XPATH, value=xpath) instead\n",
      "  element = browser.find_element_by_xpath('/html/body/main/div/main/div[1]/section/div[2]/div[1]/p/input')\n",
      "C:\\Users\\matsuno\\AppData\\Local\\Temp\\ipykernel_10528\\3312760469.py:18: DeprecationWarning: find_element_by_xpath is deprecated. Please use find_element(by=By.XPATH, value=xpath) instead\n",
      "  element = browser.find_element_by_xpath('/html/body/main/div/main/div[1]/section/div[2]/div[2]/p/input')\n"
     ]
    },
    {
     "name": "stdout",
     "output_type": "stream",
     "text": [
      "情報を入力\n"
     ]
    },
    {
     "name": "stderr",
     "output_type": "stream",
     "text": [
      "C:\\Users\\matsuno\\AppData\\Local\\Temp\\ipykernel_10528\\3312760469.py:23: DeprecationWarning: find_element_by_xpath is deprecated. Please use find_element(by=By.XPATH, value=xpath) instead\n",
      "  browser_from = browser.find_element_by_xpath('/html/body/main/div/main/div[1]/section/div[2]/p[2]/button')\n"
     ]
    },
    {
     "name": "stdout",
     "output_type": "stream",
     "text": [
      "ログインボタンを押しました\n",
      "送信一覧に移動\n",
      "02/06 (月)\n",
      "02/06\n",
      "Re:再送：【管理職採用】福祉法人のブロックMGR候補の募集■ Assemblage後藤\n",
      "1番目 02/06 (月)\n",
      "1ページ目 1番目 終了\n"
     ]
    },
    {
     "name": "stderr",
     "output_type": "stream",
     "text": [
      "C:\\Users\\matsuno\\AppData\\Local\\Temp\\ipykernel_10528\\3312760469.py:61: DeprecationWarning: find_element_by_xpath is deprecated. Please use find_element(by=By.XPATH, value=xpath) instead\n",
      "  scout_day = browser.find_element_by_xpath('/html/body/main/div/div[1]/section/div/div[1]/div[2]/div[2]/div/ul/li[' + str(i) + ']/div/div/p')\n",
      "C:\\Users\\matsuno\\AppData\\Local\\Temp\\ipykernel_10528\\3312760469.py:69: DeprecationWarning: find_element_by_xpath is deprecated. Please use find_element(by=By.XPATH, value=xpath) instead\n",
      "  scout_title = browser.find_element_by_xpath('/html/body/main/div/div[1]/section/div/div[1]/div[2]/div[2]/div/ul/li[' + str(i) + ']/div/dl/dt/span[2]')\n"
     ]
    }
   ],
   "source": [
    "DAY = '02/07'\n",
    "df_count = pd.DataFrame(columns=['HEAD_HUNTER','send_tittle','send_day'])\n",
    "\n",
    "for i in range(0,1):\n",
    "    HEAD_HUNTER = HEAD_HUNTER_all[i]\n",
    "\n",
    "    browser = webdriver.Chrome(executable_path = 'C:/Users/matsuno/Downloads/MyPandas/chromedriver.exe')\n",
    "    browser.implicitly_wait(10)\n",
    "\n",
    "    browser.get(url_login)\n",
    "    time.sleep(1)\n",
    "    print(\"ログインページにアクセスしました\")\n",
    "\n",
    "    element = browser.find_element_by_xpath('/html/body/main/div/main/div[1]/section/div[2]/div[1]/p/input')\n",
    "    element.clear()\n",
    "    element.send_keys(HEAD_HUNTER[0])\n",
    "\n",
    "    element = browser.find_element_by_xpath('/html/body/main/div/main/div[1]/section/div[2]/div[2]/p/input')\n",
    "    element.clear()\n",
    "    element.send_keys(HEAD_HUNTER[1])\n",
    "    print(\"情報を入力\")\n",
    "\n",
    "    browser_from = browser.find_element_by_xpath('/html/body/main/div/main/div[1]/section/div[2]/p[2]/button')\n",
    "    browser_from.click()\n",
    "    time.sleep(1)\n",
    "    print(\"ログインボタンを押しました\")\n",
    "\n",
    "    #if HEAD_HUNTER[0] == 'y-okamoto@pmc-g.jp':\n",
    "        #browser_from = browser.find_element_by_xpath('/html/body/main/div/main/div/section/div/div/div[2]/div[2]/ul/li[1]/p')\n",
    "        #browser_from = browser.find_element_by_xpath('/html/body/main/div/main/div/section/div/div/div[2]/div[2]/ul/li[2]/p')\n",
    "        \n",
    "        #browser_from = browser.find_element_by_xpath('/html/body/main/div/main/div/section/div/div/div[2]/div[2]/ul/li/p')\n",
    "        \n",
    "        #browser_from.click()\n",
    "        #time.sleep(1)\n",
    "        #print(\"岡本を押しました\")\n",
    "\n",
    "    if HEAD_HUNTER[0] == 'iida@assemblage.asia':\n",
    "        time.sleep(3)\n",
    "        browser_from = browser.find_element_by_xpath('/html/body/main/div/div/div/div/p/i')\n",
    "        browser_from.click()\n",
    "        time.sleep(1)\n",
    "        print(\"×を押しました\")\n",
    "\n",
    "    time.sleep(5)\n",
    "    browser.get('https://search.ix-tenshoku.jp/message/sent/')\n",
    "    time.sleep(1)\n",
    "    print(\"送信一覧に移動\")\n",
    "\n",
    "    tdatetime_yesterday = datetime.datetime.strptime(DAY, '%m/%d')\n",
    "\n",
    "    k = 1\n",
    "    loop_end = 0\n",
    "    \n",
    "    \n",
    "\n",
    "    while True:\n",
    "\n",
    "        for i in range(1,31):\n",
    "\n",
    "            scout_day = browser.find_element_by_xpath('/html/body/main/div/div[1]/section/div/div[1]/div[2]/div[2]/div/ul/li[' + str(i) + ']/div/div/p')\n",
    "            print(scout_day.text)\n",
    "\n",
    "            if not \":\" in  scout_day.text:\n",
    "                scout_day_only = scout_day.text.split(' (')[0]\n",
    "                tdatetime = datetime.datetime.strptime(scout_day_only, '%m/%d')\n",
    "                print(scout_day_only)\n",
    "\n",
    "            scout_title = browser.find_element_by_xpath('/html/body/main/div/div[1]/section/div/div[1]/div[2]/div[2]/div/ul/li[' + str(i) + ']/div/dl/dt/span[2]')\n",
    "            print(scout_title.text)\n",
    "\n",
    "            if \":\" in  scout_day.text:\n",
    "                print(str(k) + \"ページ目 \" + str(i) + \"番目\" + \"当日\")\n",
    "            elif tdatetime_yesterday > tdatetime:\n",
    "                print(str(i) + \"番目 \" + scout_day.text)\n",
    "                loop_end = 1\n",
    "                print(str(k) + \"ページ目 \" + str(i) + \"番目 終了\")\n",
    "                #browser_from = browser.find_element_by_xpath('/html/body/header/div/div[2]/div/div/p/span[2]')\n",
    "                #browser_from.click()\n",
    "                #time.sleep(1)\n",
    "                #browser_from = browser.find_element_by_xpath('/html/body/header/div/div[2]/div/div/div/div[2]/form/a')\n",
    "                #browser_from.click()\n",
    "                browser.close()\n",
    "                break\n",
    "            elif \"再送\" in  scout_title.text:    \n",
    "                print(str(k) + \"ページ目 \" + str(i) + \"番目\" + \"再送\")\n",
    "            elif \"Re:\" in  scout_title.text:    \n",
    "                print(str(k) + \"ページ目 \" + str(i) + \"番目\" + \"Re:\")\n",
    "            elif DAY in scout_day.text:\n",
    "                print(str(k) + \"ページ目 \" + str(i) + \"番目\" + \"収集\")\n",
    "                df = pd.DataFrame([[HEAD_HUNTER[0],scout_title.text,scout_day.text]],columns=['HEAD_HUNTER','send_tittle','send_day'])\n",
    "                df_count = pd.concat([df_count,df],join='outer',ignore_index=True)\n",
    "\n",
    "        if loop_end == 0:\n",
    "            k += 1\n",
    "            if k <= 5:\n",
    "                browser_from = browser.find_element_by_xpath('/html/body/main/div/div[1]/section/div/div[2]/ul/li[' + str(k) + ']/a')\n",
    "            else:\n",
    "                browser_from = browser.find_element_by_xpath('/html/body/main/div/div[1]/section/div/div[2]/ul/li[6]/a')\n",
    "\n",
    "            browser_from.click()\n",
    "            time.sleep(1)\n",
    "            print(str(k) + \"ページに移動\")\n",
    "            \n",
    "            if k <= 4:\n",
    "                element = browser.find_element_by_xpath('/html/body/main/div/div[1]/section/div/div[2]/ul/li[' + str(k) + ']')\n",
    "            else:\n",
    "                element = browser.find_element_by_xpath('/html/body/main/div/div[1]/section/div/div[2]/ul/li[5]')\n",
    "            \n",
    "            if element.text == str(k):\n",
    "                print(element.text + \"合致の確認\")\n",
    "            else:\n",
    "                print(element.text + \"合致しない\")\n",
    "        else:\n",
    "            break"
   ]
  },
  {
   "cell_type": "code",
   "execution_count": 5,
   "id": "0baf8e80-d5b8-4310-b06d-710dd3860a2f",
   "metadata": {},
   "outputs": [
    {
     "name": "stdout",
     "output_type": "stream",
     "text": [
      "Empty DataFrame\n",
      "Columns: [HEAD_HUNTER, send_tittle, send_day]\n",
      "Index: []\n",
      "Empty DataFrame\n",
      "Columns: [HEAD_HUNTER, send_tittle]\n",
      "Index: []\n"
     ]
    }
   ],
   "source": [
    "print(df_count)\n",
    "df_drop = df_count.drop('send_day', axis=1)\n",
    "print(df_drop)"
   ]
  },
  {
   "cell_type": "code",
   "execution_count": null,
   "id": "96399a8d-fa81-4c10-aea8-e4791562aeda",
   "metadata": {},
   "outputs": [],
   "source": []
  },
  {
   "cell_type": "code",
   "execution_count": 6,
   "id": "bc17717a-06b7-45d7-8571-0cbfe6b1fd63",
   "metadata": {},
   "outputs": [
    {
     "name": "stdout",
     "output_type": "stream",
     "text": [
      "0\n",
      "Series([], dtype: int64)\n"
     ]
    },
    {
     "data": {
      "text/html": [
       "<div>\n",
       "<style scoped>\n",
       "    .dataframe tbody tr th:only-of-type {\n",
       "        vertical-align: middle;\n",
       "    }\n",
       "\n",
       "    .dataframe tbody tr th {\n",
       "        vertical-align: top;\n",
       "    }\n",
       "\n",
       "    .dataframe thead th {\n",
       "        text-align: right;\n",
       "    }\n",
       "</style>\n",
       "<table border=\"1\" class=\"dataframe\">\n",
       "  <thead>\n",
       "    <tr style=\"text-align: right;\">\n",
       "      <th></th>\n",
       "      <th>HEAD_HUNTER</th>\n",
       "      <th>send_tittle</th>\n",
       "    </tr>\n",
       "  </thead>\n",
       "  <tbody>\n",
       "  </tbody>\n",
       "</table>\n",
       "</div>"
      ],
      "text/plain": [
       "Empty DataFrame\n",
       "Columns: [HEAD_HUNTER, send_tittle]\n",
       "Index: []"
      ]
     },
     "metadata": {},
     "output_type": "display_data"
    }
   ],
   "source": [
    "for j in range(0,1):\n",
    "    df_total = df_drop[df_drop['HEAD_HUNTER'] == HEAD_HUNTER_all[j][0]]\n",
    "    print(len(df_total))\n",
    "    print(df_total.value_counts())\n",
    "    display(df_total)"
   ]
  },
  {
   "cell_type": "code",
   "execution_count": null,
   "id": "91c2f100-adde-4f97-b126-1e75c6f8eaf3",
   "metadata": {},
   "outputs": [],
   "source": []
  },
  {
   "cell_type": "markdown",
   "id": "89633faf-0465-41d8-949d-1a152676beb0",
   "metadata": {},
   "source": []
  }
 ],
 "metadata": {
  "kernelspec": {
   "display_name": "Python 3 (ipykernel)",
   "language": "python",
   "name": "python3"
  },
  "language_info": {
   "codemirror_mode": {
    "name": "ipython",
    "version": 3
   },
   "file_extension": ".py",
   "mimetype": "text/x-python",
   "name": "python",
   "nbconvert_exporter": "python",
   "pygments_lexer": "ipython3",
   "version": "3.9.12"
  }
 },
 "nbformat": 4,
 "nbformat_minor": 5
}
