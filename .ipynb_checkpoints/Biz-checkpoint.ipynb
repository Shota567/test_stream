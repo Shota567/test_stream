{
 "cells": [
  {
   "cell_type": "code",
   "execution_count": 25,
   "id": "78348cd4-71e3-44fb-9f92-c7323e3c0bb0",
   "metadata": {},
   "outputs": [
    {
     "name": "stdout",
     "output_type": "stream",
     "text": [
      "Requirement already satisfied: selenium in c:\\users\\matsuno\\anaconda3\\lib\\site-packages (4.2.0)\n",
      "Requirement already satisfied: trio~=0.17 in c:\\users\\matsuno\\anaconda3\\lib\\site-packages (from selenium) (0.20.0)\n",
      "Requirement already satisfied: urllib3[secure,socks]~=1.26 in c:\\users\\matsuno\\anaconda3\\lib\\site-packages (from selenium) (1.26.9)\n",
      "Requirement already satisfied: trio-websocket~=0.9 in c:\\users\\matsuno\\anaconda3\\lib\\site-packages (from selenium) (0.9.2)\n",
      "Requirement already satisfied: outcome in c:\\users\\matsuno\\anaconda3\\lib\\site-packages (from trio~=0.17->selenium) (1.1.0)\n",
      "Requirement already satisfied: idna in c:\\users\\matsuno\\anaconda3\\lib\\site-packages (from trio~=0.17->selenium) (3.3)\n",
      "Requirement already satisfied: sniffio in c:\\users\\matsuno\\anaconda3\\lib\\site-packages (from trio~=0.17->selenium) (1.2.0)\n",
      "Requirement already satisfied: async-generator>=1.9 in c:\\users\\matsuno\\anaconda3\\lib\\site-packages (from trio~=0.17->selenium) (1.10)\n",
      "Requirement already satisfied: cffi>=1.14 in c:\\users\\matsuno\\anaconda3\\lib\\site-packages (from trio~=0.17->selenium) (1.15.0)\n",
      "Requirement already satisfied: sortedcontainers in c:\\users\\matsuno\\anaconda3\\lib\\site-packages (from trio~=0.17->selenium) (2.4.0)\n",
      "Requirement already satisfied: attrs>=19.2.0 in c:\\users\\matsuno\\anaconda3\\lib\\site-packages (from trio~=0.17->selenium) (21.4.0)\n",
      "Requirement already satisfied: pycparser in c:\\users\\matsuno\\anaconda3\\lib\\site-packages (from cffi>=1.14->trio~=0.17->selenium) (2.21)\n",
      "Requirement already satisfied: wsproto>=0.14 in c:\\users\\matsuno\\anaconda3\\lib\\site-packages (from trio-websocket~=0.9->selenium) (1.1.0)\n",
      "Requirement already satisfied: pyOpenSSL>=0.14 in c:\\users\\matsuno\\anaconda3\\lib\\site-packages (from urllib3[secure,socks]~=1.26->selenium) (21.0.0)\n",
      "Requirement already satisfied: cryptography>=1.3.4 in c:\\users\\matsuno\\anaconda3\\lib\\site-packages (from urllib3[secure,socks]~=1.26->selenium) (3.4.7)\n",
      "Requirement already satisfied: certifi in c:\\users\\matsuno\\anaconda3\\lib\\site-packages (from urllib3[secure,socks]~=1.26->selenium) (2021.10.8)\n",
      "Requirement already satisfied: PySocks!=1.5.7,<2.0,>=1.5.6 in c:\\users\\matsuno\\anaconda3\\lib\\site-packages (from urllib3[secure,socks]~=1.26->selenium) (1.7.1)\n",
      "Requirement already satisfied: six>=1.5.2 in c:\\users\\matsuno\\anaconda3\\lib\\site-packages (from pyOpenSSL>=0.14->urllib3[secure,socks]~=1.26->selenium) (1.16.0)\n",
      "Requirement already satisfied: h11<1,>=0.9.0 in c:\\users\\matsuno\\anaconda3\\lib\\site-packages (from wsproto>=0.14->trio-websocket~=0.9->selenium) (0.13.0)\n"
     ]
    }
   ],
   "source": [
    "!pip install selenium"
   ]
  },
  {
   "cell_type": "code",
   "execution_count": 26,
   "id": "05289298-44f3-4671-ba45-6dd20ff6d283",
   "metadata": {},
   "outputs": [],
   "source": [
    "from selenium import webdriver\n",
    "\n",
    "import time\n",
    "\n",
    "import pandas as pd\n",
    "\n",
    "from selenium.webdriver.common.action_chains import ActionChains\n",
    "from selenium.webdriver.common.keys import Keys\n",
    "\n",
    "from selenium.common.exceptions import NoSuchElementException\n",
    "\n",
    "from bs4 import BeautifulSoup\n",
    "import requests\n",
    "\n",
    "import re\n",
    "\n",
    "import numpy as np\n",
    "\n",
    "import datetime"
   ]
  },
  {
   "cell_type": "code",
   "execution_count": 27,
   "id": "157c83b2-77df-4535-93ad-0778b51bd518",
   "metadata": {},
   "outputs": [],
   "source": [
    "GOTO = ['goto@assemblage.asia' , 'GGoto1023!']\n",
    "#OKAMOTO = ['y-okamoto@pmc-g.jp' , 'Okamoto-581214']\n",
    "IIDA = ['iida@assemblage.asia' , 'iidA0615']\n",
    "TAMURA = ['tamura@assemblage.asia' , 'Tamura0829']\n",
    "KAWATSURA = ['kawatsura@assemblage.asia' , 'Kouititp3']\n",
    "SUZUKI = ['suzuki_a@assemblage.co.jp' , 'Yurakutyo2022']\n",
    "\n",
    "HEAD_HUNTER_all = [GOTO]\n",
    "\n",
    "url_login = 'https://es-support.jp/v1/login'"
   ]
  },
  {
   "cell_type": "code",
   "execution_count": 28,
   "id": "bc4ec5b7-6a8c-47fa-bf96-a6996b67b8df",
   "metadata": {},
   "outputs": [],
   "source": [
    "DAY = '2022/10/17'\n",
    "df_count = pd.DataFrame(columns=['HEAD_HUNTER','send_tittle','send_day'])"
   ]
  },
  {
   "cell_type": "code",
   "execution_count": 29,
   "id": "cfafe47a-9eff-4fab-8180-44de649804cc",
   "metadata": {},
   "outputs": [
    {
     "name": "stderr",
     "output_type": "stream",
     "text": [
      "C:\\Users\\matsuno\\AppData\\Local\\Temp\\ipykernel_12448\\682411137.py:2: DeprecationWarning: executable_path has been deprecated, please pass in a Service object\n",
      "  browser = webdriver.Chrome(executable_path = 'C:/Users/matsuno/Downloads/MyPandas/chromedriver.exe')\n"
     ]
    }
   ],
   "source": [
    "HEAD_HUNTER = HEAD_HUNTER_all[0]\n",
    "browser = webdriver.Chrome(executable_path = 'C:/Users/matsuno/Downloads/MyPandas/chromedriver.exe')\n",
    "browser.implicitly_wait(10)"
   ]
  },
  {
   "cell_type": "code",
   "execution_count": 30,
   "id": "c1b9b7cf-57c8-4305-a4a1-fc04176ed83d",
   "metadata": {},
   "outputs": [
    {
     "name": "stdout",
     "output_type": "stream",
     "text": [
      "ログインページにアクセスしました\n"
     ]
    }
   ],
   "source": [
    "browser.get(url_login)\n",
    "time.sleep(1)\n",
    "print(\"ログインページにアクセスしました\")"
   ]
  },
  {
   "cell_type": "code",
   "execution_count": 31,
   "id": "8c3d7dd1-9b52-4cac-aa20-a1a4ef5ec74c",
   "metadata": {},
   "outputs": [
    {
     "name": "stderr",
     "output_type": "stream",
     "text": [
      "C:\\Users\\matsuno\\AppData\\Local\\Temp\\ipykernel_12448\\2437237099.py:1: DeprecationWarning: find_element_by_xpath is deprecated. Please use find_element(by=By.XPATH, value=xpath) instead\n",
      "  element = browser.find_element_by_xpath('/html/body/ess-root/b-ui-app-layout/ess-login-page/ess-login-page-layout/b-ui-full-page-layout/main/div[2]/div[1]/ess-login-page-content/b-ui-login-form/form/b-ui-form/b-ui-form-item[1]/input')\n",
      "C:\\Users\\matsuno\\AppData\\Local\\Temp\\ipykernel_12448\\2437237099.py:5: DeprecationWarning: find_element_by_xpath is deprecated. Please use find_element(by=By.XPATH, value=xpath) instead\n",
      "  element = browser.find_element_by_xpath('/html/body/ess-root/b-ui-app-layout/ess-login-page/ess-login-page-layout/b-ui-full-page-layout/main/div[2]/div[1]/ess-login-page-content/b-ui-login-form/form/b-ui-form/b-ui-form-item[2]/input')\n"
     ]
    },
    {
     "name": "stdout",
     "output_type": "stream",
     "text": [
      "情報を入力\n"
     ]
    }
   ],
   "source": [
    "element = browser.find_element_by_xpath('/html/body/ess-root/b-ui-app-layout/ess-login-page/ess-login-page-layout/b-ui-full-page-layout/main/div[2]/div[1]/ess-login-page-content/b-ui-login-form/form/b-ui-form/b-ui-form-item[1]/input')\n",
    "element.clear()\n",
    "element.send_keys(HEAD_HUNTER[0])\n",
    "\n",
    "element = browser.find_element_by_xpath('/html/body/ess-root/b-ui-app-layout/ess-login-page/ess-login-page-layout/b-ui-full-page-layout/main/div[2]/div[1]/ess-login-page-content/b-ui-login-form/form/b-ui-form/b-ui-form-item[2]/input')\n",
    "element.clear()\n",
    "element.send_keys(HEAD_HUNTER[1])\n",
    "print(\"情報を入力\")"
   ]
  },
  {
   "cell_type": "code",
   "execution_count": 32,
   "id": "d8033745-dcb4-4086-87ac-321acd4edab8",
   "metadata": {},
   "outputs": [
    {
     "name": "stderr",
     "output_type": "stream",
     "text": [
      "C:\\Users\\matsuno\\AppData\\Local\\Temp\\ipykernel_12448\\991258516.py:1: DeprecationWarning: find_element_by_xpath is deprecated. Please use find_element(by=By.XPATH, value=xpath) instead\n",
      "  browser_from = browser.find_element_by_xpath('/html/body/ess-root/b-ui-app-layout/ess-login-page/ess-login-page-layout/b-ui-full-page-layout/main/div[2]/div[1]/ess-login-page-content/b-ui-login-form/form/b-ui-form-actions/b-ui-button/button/span')\n"
     ]
    },
    {
     "name": "stdout",
     "output_type": "stream",
     "text": [
      "ログインボタンを押しました\n"
     ]
    }
   ],
   "source": [
    "browser_from = browser.find_element_by_xpath('/html/body/ess-root/b-ui-app-layout/ess-login-page/ess-login-page-layout/b-ui-full-page-layout/main/div[2]/div[1]/ess-login-page-content/b-ui-login-form/form/b-ui-form-actions/b-ui-button/button/span')\n",
    "browser_from.click()\n",
    "time.sleep(1)\n",
    "print(\"ログインボタンを押しました\")"
   ]
  },
  {
   "cell_type": "code",
   "execution_count": 33,
   "id": "cc8a786a-990a-4f52-90e8-d0f57743089a",
   "metadata": {},
   "outputs": [
    {
     "name": "stderr",
     "output_type": "stream",
     "text": [
      "C:\\Users\\matsuno\\AppData\\Local\\Temp\\ipykernel_12448\\3743115498.py:1: DeprecationWarning: find_element_by_xpath is deprecated. Please use find_element(by=By.XPATH, value=xpath) instead\n",
      "  browser_from = browser.find_element_by_xpath('/html/body/div[2]/div[2]/div/b-ui-dialog/div[2]/b-ui-button/button/span')\n"
     ]
    },
    {
     "name": "stdout",
     "output_type": "stream",
     "text": [
      "注意事項ボタンを押しました\n"
     ]
    }
   ],
   "source": [
    "browser_from = browser.find_element_by_xpath('/html/body/div[2]/div[2]/div/b-ui-dialog/div[2]/b-ui-button/button/span')\n",
    "browser_from.click()\n",
    "time.sleep(1)\n",
    "print(\"注意事項ボタンを押しました\")"
   ]
  },
  {
   "cell_type": "code",
   "execution_count": 34,
   "id": "05df4738-fb7b-4f42-947f-894a6abc8659",
   "metadata": {},
   "outputs": [
    {
     "name": "stderr",
     "output_type": "stream",
     "text": [
      "C:\\Users\\matsuno\\AppData\\Local\\Temp\\ipykernel_12448\\294474016.py:1: DeprecationWarning: find_element_by_xpath is deprecated. Please use find_element(by=By.XPATH, value=xpath) instead\n",
      "  browser_from = browser.find_element_by_xpath('/html/body/ess-root/b-ui-app-layout/ess-dashboard/b-ui-navigation-layout/ess-app-sidenav/b-ui-sidenav/nav/perfect-scrollbar/div/div[1]/b-ui-sidenav-items/b-ui-sidenav-item[8]/ul/li[5]/b-ui-sidenav-item/a/span')\n"
     ]
    },
    {
     "name": "stdout",
     "output_type": "stream",
     "text": [
      "スカウト履歴ボタンを押しました\n"
     ]
    }
   ],
   "source": [
    "browser_from = browser.find_element_by_xpath('/html/body/ess-root/b-ui-app-layout/ess-dashboard/b-ui-navigation-layout/ess-app-sidenav/b-ui-sidenav/nav/perfect-scrollbar/div/div[1]/b-ui-sidenav-items/b-ui-sidenav-item[8]/ul/li[5]/b-ui-sidenav-item/a/span')\n",
    "browser_from.click()\n",
    "time.sleep(1)\n",
    "print(\"スカウト履歴ボタンを押しました\")"
   ]
  },
  {
   "cell_type": "code",
   "execution_count": 35,
   "id": "f937e557-86b8-4230-be20-de55bfa86654",
   "metadata": {},
   "outputs": [
    {
     "name": "stdout",
     "output_type": "stream",
     "text": [
      "開始日を入力\n"
     ]
    },
    {
     "name": "stderr",
     "output_type": "stream",
     "text": [
      "C:\\Users\\matsuno\\AppData\\Local\\Temp\\ipykernel_12448\\149010447.py:1: DeprecationWarning: find_element_by_xpath is deprecated. Please use find_element(by=By.XPATH, value=xpath) instead\n",
      "  element = browser.find_element_by_xpath('/html/body/ess-root/b-ui-app-layout/ess-scout-history/b-ui-navigation-layout/div/ess-scout-history-page/b-ui-page-layout/main/b-ui-pane/div/b-ui-pane-content/div/ess-complete-scout-history-list/ess-scout-history-search-form/form/b-ui-filter-form/b-ui-filter-form-item[1]/b-ui-filter-form-item-input/ess-date-range-form-input/b-ui-date-picker[1]/b-ui-dropdown/div/div/input')\n",
      "C:\\Users\\matsuno\\AppData\\Local\\Temp\\ipykernel_12448\\149010447.py:6: DeprecationWarning: find_element_by_xpath is deprecated. Please use find_element(by=By.XPATH, value=xpath) instead\n",
      "  element = browser.find_element_by_xpath('/html/body/ess-root/b-ui-app-layout/ess-scout-history/b-ui-navigation-layout/div/ess-scout-history-page/b-ui-page-layout/main/b-ui-pane/div/b-ui-pane-content/div/ess-complete-scout-history-list/ess-scout-history-search-form/form/b-ui-filter-form/b-ui-filter-form-item[1]/b-ui-filter-form-item-input/ess-date-range-form-input/b-ui-date-picker[2]/b-ui-dropdown/div/div/input')\n"
     ]
    },
    {
     "name": "stdout",
     "output_type": "stream",
     "text": [
      "終了日を入力\n"
     ]
    }
   ],
   "source": [
    "element = browser.find_element_by_xpath('/html/body/ess-root/b-ui-app-layout/ess-scout-history/b-ui-navigation-layout/div/ess-scout-history-page/b-ui-page-layout/main/b-ui-pane/div/b-ui-pane-content/div/ess-complete-scout-history-list/ess-scout-history-search-form/form/b-ui-filter-form/b-ui-filter-form-item[1]/b-ui-filter-form-item-input/ess-date-range-form-input/b-ui-date-picker[1]/b-ui-dropdown/div/div/input')\n",
    "element.clear()\n",
    "element.send_keys(DAY)\n",
    "print(\"開始日を入力\")\n",
    "\n",
    "element = browser.find_element_by_xpath('/html/body/ess-root/b-ui-app-layout/ess-scout-history/b-ui-navigation-layout/div/ess-scout-history-page/b-ui-page-layout/main/b-ui-pane/div/b-ui-pane-content/div/ess-complete-scout-history-list/ess-scout-history-search-form/form/b-ui-filter-form/b-ui-filter-form-item[1]/b-ui-filter-form-item-input/ess-date-range-form-input/b-ui-date-picker[2]/b-ui-dropdown/div/div/input')\n",
    "element.clear()\n",
    "element.send_keys(DAY)\n",
    "print(\"終了日を入力\")\n",
    "\n",
    "time.sleep(1)"
   ]
  },
  {
   "cell_type": "code",
   "execution_count": 40,
   "id": "d74cef40-4ddc-420f-9b47-17ae9fcaf114",
   "metadata": {},
   "outputs": [
    {
     "name": "stdout",
     "output_type": "stream",
     "text": [
      "【マネジメント経験を活かし経営改善】医療法人の運営マネージャー・経営コンサルタント　 ■東証1部上場グループ／年休122日／リモートあり\n",
      "【医療・介護施設の施設長】～東証1部上場グループ～/Assmblage株式会社 後藤\n",
      "【マネジメント経験を活かし経営改善】医療法人の運営マネージャー・経営コンサルタント　 ■東証1部上場グループ／年休122日／リモートあり\n",
      "【医療・介護施設の施設長】～東証1部上場グループ～/Assmblage株式会社 後藤\n",
      "【マネジメント経験を活かし経営改善】医療法人の運営マネージャー・経営コンサルタント　 ■東証1部上場グループ／年休122日／リモートあり\n",
      "【マネジメント経験を活かし経営改善】医療法人の運営マネージャー・経営コンサルタント　 ■東証1部上場グループ／年休122日／リモートあり\n"
     ]
    },
    {
     "name": "stderr",
     "output_type": "stream",
     "text": [
      "C:\\Users\\matsuno\\AppData\\Local\\Temp\\ipykernel_12448\\4246621044.py:1: DeprecationWarning: find_element_by_xpath is deprecated. Please use find_element(by=By.XPATH, value=xpath) instead\n",
      "  scout_title = browser.find_element_by_xpath('/html/body/ess-root/b-ui-app-layout/ess-scout-history/b-ui-navigation-layout/div/ess-scout-history-page/b-ui-page-layout/main/b-ui-pane/div/b-ui-pane-content/div/ess-complete-scout-history-list/ess-scout-history-table/b-ui-table/div[2]/cdk-virtual-scroll-viewport/div[1]/table/tbody/tr[1]/td[3]')\n",
      "C:\\Users\\matsuno\\AppData\\Local\\Temp\\ipykernel_12448\\4246621044.py:3: DeprecationWarning: find_element_by_xpath is deprecated. Please use find_element(by=By.XPATH, value=xpath) instead\n",
      "  scout_title = browser.find_element_by_xpath('/html/body/ess-root/b-ui-app-layout/ess-scout-history/b-ui-navigation-layout/div/ess-scout-history-page/b-ui-page-layout/main/b-ui-pane/div/b-ui-pane-content/div/ess-complete-scout-history-list/ess-scout-history-table/b-ui-table/div[2]/cdk-virtual-scroll-viewport/div[1]/table/tbody/tr[2]/td[3]')\n",
      "C:\\Users\\matsuno\\AppData\\Local\\Temp\\ipykernel_12448\\4246621044.py:5: DeprecationWarning: find_element_by_xpath is deprecated. Please use find_element(by=By.XPATH, value=xpath) instead\n",
      "  scout_title = browser.find_element_by_xpath('/html/body/ess-root/b-ui-app-layout/ess-scout-history/b-ui-navigation-layout/div/ess-scout-history-page/b-ui-page-layout/main/b-ui-pane/div/b-ui-pane-content/div/ess-complete-scout-history-list/ess-scout-history-table/b-ui-table/div[2]/cdk-virtual-scroll-viewport/div[1]/table/tbody/tr[3]/td[3]')\n",
      "C:\\Users\\matsuno\\AppData\\Local\\Temp\\ipykernel_12448\\4246621044.py:7: DeprecationWarning: find_element_by_xpath is deprecated. Please use find_element(by=By.XPATH, value=xpath) instead\n",
      "  scout_title = browser.find_element_by_xpath('/html/body/ess-root/b-ui-app-layout/ess-scout-history/b-ui-navigation-layout/div/ess-scout-history-page/b-ui-page-layout/main/b-ui-pane/div/b-ui-pane-content/div/ess-complete-scout-history-list/ess-scout-history-table/b-ui-table/div[2]/cdk-virtual-scroll-viewport/div[1]/table/tbody/tr[4]/td[3]')\n",
      "C:\\Users\\matsuno\\AppData\\Local\\Temp\\ipykernel_12448\\4246621044.py:9: DeprecationWarning: find_element_by_xpath is deprecated. Please use find_element(by=By.XPATH, value=xpath) instead\n",
      "  scout_title = browser.find_element_by_xpath('/html/body/ess-root/b-ui-app-layout/ess-scout-history/b-ui-navigation-layout/div/ess-scout-history-page/b-ui-page-layout/main/b-ui-pane/div/b-ui-pane-content/div/ess-complete-scout-history-list/ess-scout-history-table/b-ui-table/div[2]/cdk-virtual-scroll-viewport/div[1]/table/tbody/tr[5]/td[3]')\n",
      "C:\\Users\\matsuno\\AppData\\Local\\Temp\\ipykernel_12448\\4246621044.py:11: DeprecationWarning: find_element_by_xpath is deprecated. Please use find_element(by=By.XPATH, value=xpath) instead\n",
      "  scout_title = browser.find_element_by_xpath('/html/body/ess-root/b-ui-app-layout/ess-scout-history/b-ui-navigation-layout/div/ess-scout-history-page/b-ui-page-layout/main/b-ui-pane/div/b-ui-pane-content/div/ess-complete-scout-history-list/ess-scout-history-table/b-ui-table/div[2]/cdk-virtual-scroll-viewport/div[1]/table/tbody/tr[6]/td[3]')\n"
     ]
    }
   ],
   "source": [
    "scout_title = browser.find_element_by_xpath('/html/body/ess-root/b-ui-app-layout/ess-scout-history/b-ui-navigation-layout/div/ess-scout-history-page/b-ui-page-layout/main/b-ui-pane/div/b-ui-pane-content/div/ess-complete-scout-history-list/ess-scout-history-table/b-ui-table/div[2]/cdk-virtual-scroll-viewport/div[1]/table/tbody/tr[1]/td[3]')\n",
    "print(scout_title.text)\n",
    "scout_title = browser.find_element_by_xpath('/html/body/ess-root/b-ui-app-layout/ess-scout-history/b-ui-navigation-layout/div/ess-scout-history-page/b-ui-page-layout/main/b-ui-pane/div/b-ui-pane-content/div/ess-complete-scout-history-list/ess-scout-history-table/b-ui-table/div[2]/cdk-virtual-scroll-viewport/div[1]/table/tbody/tr[2]/td[3]')\n",
    "print(scout_title.text)\n",
    "scout_title = browser.find_element_by_xpath('/html/body/ess-root/b-ui-app-layout/ess-scout-history/b-ui-navigation-layout/div/ess-scout-history-page/b-ui-page-layout/main/b-ui-pane/div/b-ui-pane-content/div/ess-complete-scout-history-list/ess-scout-history-table/b-ui-table/div[2]/cdk-virtual-scroll-viewport/div[1]/table/tbody/tr[3]/td[3]')\n",
    "print(scout_title.text)\n",
    "scout_title = browser.find_element_by_xpath('/html/body/ess-root/b-ui-app-layout/ess-scout-history/b-ui-navigation-layout/div/ess-scout-history-page/b-ui-page-layout/main/b-ui-pane/div/b-ui-pane-content/div/ess-complete-scout-history-list/ess-scout-history-table/b-ui-table/div[2]/cdk-virtual-scroll-viewport/div[1]/table/tbody/tr[4]/td[3]')\n",
    "print(scout_title.text)\n",
    "scout_title = browser.find_element_by_xpath('/html/body/ess-root/b-ui-app-layout/ess-scout-history/b-ui-navigation-layout/div/ess-scout-history-page/b-ui-page-layout/main/b-ui-pane/div/b-ui-pane-content/div/ess-complete-scout-history-list/ess-scout-history-table/b-ui-table/div[2]/cdk-virtual-scroll-viewport/div[1]/table/tbody/tr[5]/td[3]')\n",
    "print(scout_title.text)\n",
    "scout_title = browser.find_element_by_xpath('/html/body/ess-root/b-ui-app-layout/ess-scout-history/b-ui-navigation-layout/div/ess-scout-history-page/b-ui-page-layout/main/b-ui-pane/div/b-ui-pane-content/div/ess-complete-scout-history-list/ess-scout-history-table/b-ui-table/div[2]/cdk-virtual-scroll-viewport/div[1]/table/tbody/tr[6]/td[3]')\n",
    "print(scout_title.text)"
   ]
  },
  {
   "cell_type": "code",
   "execution_count": 39,
   "id": "0d669172-a16d-4b32-ad81-c4999451009c",
   "metadata": {},
   "outputs": [
    {
     "name": "stderr",
     "output_type": "stream",
     "text": [
      "C:\\Users\\matsuno\\AppData\\Local\\Temp\\ipykernel_12448\\3306463524.py:1: DeprecationWarning: find_element_by_xpath is deprecated. Please use find_element(by=By.XPATH, value=xpath) instead\n",
      "  scout_title = browser.find_element_by_xpath('/html/body/ess-root/b-ui-app-layout/ess-scout-history/b-ui-navigation-layout/div/ess-scout-history-page/b-ui-page-layout/main/b-ui-pane/div/b-ui-pane-content/div/ess-complete-scout-history-list/ess-scout-history-table/b-ui-table/div[2]/cdk-virtual-scroll-viewport/div[1]/table/tbody/tr[7]/td[3]')\n"
     ]
    },
    {
     "ename": "NoSuchElementException",
     "evalue": "Message: no such element: Unable to locate element: {\"method\":\"xpath\",\"selector\":\"/html/body/ess-root/b-ui-app-layout/ess-scout-history/b-ui-navigation-layout/div/ess-scout-history-page/b-ui-page-layout/main/b-ui-pane/div/b-ui-pane-content/div/ess-complete-scout-history-list/ess-scout-history-table/b-ui-table/div[2]/cdk-virtual-scroll-viewport/div[1]/table/tbody/tr[7]/td[3]\"}\n  (Session info: chrome=106.0.5249.119)\nStacktrace:\nBacktrace:\n\tOrdinal0 [0x005B1ED3+2236115]\n\tOrdinal0 [0x005492F1+1807089]\n\tOrdinal0 [0x004566FD+812797]\n\tOrdinal0 [0x004855DF+1005023]\n\tOrdinal0 [0x004857CB+1005515]\n\tOrdinal0 [0x004B7632+1209906]\n\tOrdinal0 [0x004A1AD4+1120980]\n\tOrdinal0 [0x004B59E2+1202658]\n\tOrdinal0 [0x004A18A6+1120422]\n\tOrdinal0 [0x0047A73D+960317]\n\tOrdinal0 [0x0047B71F+964383]\n\tGetHandleVerifier [0x0085E7E2+2743074]\n\tGetHandleVerifier [0x008508D4+2685972]\n\tGetHandleVerifier [0x00642BAA+532202]\n\tGetHandleVerifier [0x00641990+527568]\n\tOrdinal0 [0x0055080C+1837068]\n\tOrdinal0 [0x00554CD8+1854680]\n\tOrdinal0 [0x00554DC5+1854917]\n\tOrdinal0 [0x0055ED64+1895780]\n\tBaseThreadInitThunk [0x76D66739+25]\n\tRtlGetFullPathName_UEx [0x77C78FD2+1218]\n\tRtlGetFullPathName_UEx [0x77C78F9D+1165]\n",
     "output_type": "error",
     "traceback": [
      "\u001b[1;31m---------------------------------------------------------------------------\u001b[0m",
      "\u001b[1;31mNoSuchElementException\u001b[0m                    Traceback (most recent call last)",
      "Input \u001b[1;32mIn [39]\u001b[0m, in \u001b[0;36m<cell line: 1>\u001b[1;34m()\u001b[0m\n\u001b[1;32m----> 1\u001b[0m scout_title \u001b[38;5;241m=\u001b[39m \u001b[43mbrowser\u001b[49m\u001b[38;5;241;43m.\u001b[39;49m\u001b[43mfind_element_by_xpath\u001b[49m\u001b[43m(\u001b[49m\u001b[38;5;124;43m'\u001b[39;49m\u001b[38;5;124;43m/html/body/ess-root/b-ui-app-layout/ess-scout-history/b-ui-navigation-layout/div/ess-scout-history-page/b-ui-page-layout/main/b-ui-pane/div/b-ui-pane-content/div/ess-complete-scout-history-list/ess-scout-history-table/b-ui-table/div[2]/cdk-virtual-scroll-viewport/div[1]/table/tbody/tr[7]/td[3]\u001b[39;49m\u001b[38;5;124;43m'\u001b[39;49m\u001b[43m)\u001b[49m\n\u001b[0;32m      2\u001b[0m \u001b[38;5;28mprint\u001b[39m(scout_title\u001b[38;5;241m.\u001b[39mtext)\n",
      "File \u001b[1;32m~\\anaconda3\\lib\\site-packages\\selenium\\webdriver\\remote\\webdriver.py:526\u001b[0m, in \u001b[0;36mWebDriver.find_element_by_xpath\u001b[1;34m(self, xpath)\u001b[0m\n\u001b[0;32m    504\u001b[0m \u001b[38;5;124;03m\"\"\"\u001b[39;00m\n\u001b[0;32m    505\u001b[0m \u001b[38;5;124;03mFinds an element by xpath.\u001b[39;00m\n\u001b[0;32m    506\u001b[0m \n\u001b[1;32m   (...)\u001b[0m\n\u001b[0;32m    519\u001b[0m \u001b[38;5;124;03m        element = driver.find_element_by_xpath('//div/td[1]')\u001b[39;00m\n\u001b[0;32m    520\u001b[0m \u001b[38;5;124;03m\"\"\"\u001b[39;00m\n\u001b[0;32m    521\u001b[0m warnings\u001b[38;5;241m.\u001b[39mwarn(\n\u001b[0;32m    522\u001b[0m     \u001b[38;5;124m\"\u001b[39m\u001b[38;5;124mfind_element_by_xpath is deprecated. Please use find_element(by=By.XPATH, value=xpath) instead\u001b[39m\u001b[38;5;124m\"\u001b[39m,\n\u001b[0;32m    523\u001b[0m     \u001b[38;5;167;01mDeprecationWarning\u001b[39;00m,\n\u001b[0;32m    524\u001b[0m     stacklevel\u001b[38;5;241m=\u001b[39m\u001b[38;5;241m2\u001b[39m,\n\u001b[0;32m    525\u001b[0m )\n\u001b[1;32m--> 526\u001b[0m \u001b[38;5;28;01mreturn\u001b[39;00m \u001b[38;5;28;43mself\u001b[39;49m\u001b[38;5;241;43m.\u001b[39;49m\u001b[43mfind_element\u001b[49m\u001b[43m(\u001b[49m\u001b[43mby\u001b[49m\u001b[38;5;241;43m=\u001b[39;49m\u001b[43mBy\u001b[49m\u001b[38;5;241;43m.\u001b[39;49m\u001b[43mXPATH\u001b[49m\u001b[43m,\u001b[49m\u001b[43m \u001b[49m\u001b[43mvalue\u001b[49m\u001b[38;5;241;43m=\u001b[39;49m\u001b[43mxpath\u001b[49m\u001b[43m)\u001b[49m\n",
      "File \u001b[1;32m~\\anaconda3\\lib\\site-packages\\selenium\\webdriver\\remote\\webdriver.py:1251\u001b[0m, in \u001b[0;36mWebDriver.find_element\u001b[1;34m(self, by, value)\u001b[0m\n\u001b[0;32m   1248\u001b[0m     by \u001b[38;5;241m=\u001b[39m By\u001b[38;5;241m.\u001b[39mCSS_SELECTOR\n\u001b[0;32m   1249\u001b[0m     value \u001b[38;5;241m=\u001b[39m \u001b[38;5;124m'\u001b[39m\u001b[38;5;124m[name=\u001b[39m\u001b[38;5;124m\"\u001b[39m\u001b[38;5;132;01m%s\u001b[39;00m\u001b[38;5;124m\"\u001b[39m\u001b[38;5;124m]\u001b[39m\u001b[38;5;124m'\u001b[39m \u001b[38;5;241m%\u001b[39m value\n\u001b[1;32m-> 1251\u001b[0m \u001b[38;5;28;01mreturn\u001b[39;00m \u001b[38;5;28;43mself\u001b[39;49m\u001b[38;5;241;43m.\u001b[39;49m\u001b[43mexecute\u001b[49m\u001b[43m(\u001b[49m\u001b[43mCommand\u001b[49m\u001b[38;5;241;43m.\u001b[39;49m\u001b[43mFIND_ELEMENT\u001b[49m\u001b[43m,\u001b[49m\u001b[43m \u001b[49m\u001b[43m{\u001b[49m\n\u001b[0;32m   1252\u001b[0m \u001b[43m    \u001b[49m\u001b[38;5;124;43m'\u001b[39;49m\u001b[38;5;124;43musing\u001b[39;49m\u001b[38;5;124;43m'\u001b[39;49m\u001b[43m:\u001b[49m\u001b[43m \u001b[49m\u001b[43mby\u001b[49m\u001b[43m,\u001b[49m\n\u001b[0;32m   1253\u001b[0m \u001b[43m    \u001b[49m\u001b[38;5;124;43m'\u001b[39;49m\u001b[38;5;124;43mvalue\u001b[39;49m\u001b[38;5;124;43m'\u001b[39;49m\u001b[43m:\u001b[49m\u001b[43m \u001b[49m\u001b[43mvalue\u001b[49m\u001b[43m}\u001b[49m\u001b[43m)\u001b[49m[\u001b[38;5;124m'\u001b[39m\u001b[38;5;124mvalue\u001b[39m\u001b[38;5;124m'\u001b[39m]\n",
      "File \u001b[1;32m~\\anaconda3\\lib\\site-packages\\selenium\\webdriver\\remote\\webdriver.py:430\u001b[0m, in \u001b[0;36mWebDriver.execute\u001b[1;34m(self, driver_command, params)\u001b[0m\n\u001b[0;32m    428\u001b[0m response \u001b[38;5;241m=\u001b[39m \u001b[38;5;28mself\u001b[39m\u001b[38;5;241m.\u001b[39mcommand_executor\u001b[38;5;241m.\u001b[39mexecute(driver_command, params)\n\u001b[0;32m    429\u001b[0m \u001b[38;5;28;01mif\u001b[39;00m response:\n\u001b[1;32m--> 430\u001b[0m     \u001b[38;5;28;43mself\u001b[39;49m\u001b[38;5;241;43m.\u001b[39;49m\u001b[43merror_handler\u001b[49m\u001b[38;5;241;43m.\u001b[39;49m\u001b[43mcheck_response\u001b[49m\u001b[43m(\u001b[49m\u001b[43mresponse\u001b[49m\u001b[43m)\u001b[49m\n\u001b[0;32m    431\u001b[0m     response[\u001b[38;5;124m'\u001b[39m\u001b[38;5;124mvalue\u001b[39m\u001b[38;5;124m'\u001b[39m] \u001b[38;5;241m=\u001b[39m \u001b[38;5;28mself\u001b[39m\u001b[38;5;241m.\u001b[39m_unwrap_value(\n\u001b[0;32m    432\u001b[0m         response\u001b[38;5;241m.\u001b[39mget(\u001b[38;5;124m'\u001b[39m\u001b[38;5;124mvalue\u001b[39m\u001b[38;5;124m'\u001b[39m, \u001b[38;5;28;01mNone\u001b[39;00m))\n\u001b[0;32m    433\u001b[0m     \u001b[38;5;28;01mreturn\u001b[39;00m response\n",
      "File \u001b[1;32m~\\anaconda3\\lib\\site-packages\\selenium\\webdriver\\remote\\errorhandler.py:247\u001b[0m, in \u001b[0;36mErrorHandler.check_response\u001b[1;34m(self, response)\u001b[0m\n\u001b[0;32m    245\u001b[0m         alert_text \u001b[38;5;241m=\u001b[39m value[\u001b[38;5;124m'\u001b[39m\u001b[38;5;124malert\u001b[39m\u001b[38;5;124m'\u001b[39m]\u001b[38;5;241m.\u001b[39mget(\u001b[38;5;124m'\u001b[39m\u001b[38;5;124mtext\u001b[39m\u001b[38;5;124m'\u001b[39m)\n\u001b[0;32m    246\u001b[0m     \u001b[38;5;28;01mraise\u001b[39;00m exception_class(message, screen, stacktrace, alert_text)  \u001b[38;5;66;03m# type: ignore[call-arg]  # mypy is not smart enough here\u001b[39;00m\n\u001b[1;32m--> 247\u001b[0m \u001b[38;5;28;01mraise\u001b[39;00m exception_class(message, screen, stacktrace)\n",
      "\u001b[1;31mNoSuchElementException\u001b[0m: Message: no such element: Unable to locate element: {\"method\":\"xpath\",\"selector\":\"/html/body/ess-root/b-ui-app-layout/ess-scout-history/b-ui-navigation-layout/div/ess-scout-history-page/b-ui-page-layout/main/b-ui-pane/div/b-ui-pane-content/div/ess-complete-scout-history-list/ess-scout-history-table/b-ui-table/div[2]/cdk-virtual-scroll-viewport/div[1]/table/tbody/tr[7]/td[3]\"}\n  (Session info: chrome=106.0.5249.119)\nStacktrace:\nBacktrace:\n\tOrdinal0 [0x005B1ED3+2236115]\n\tOrdinal0 [0x005492F1+1807089]\n\tOrdinal0 [0x004566FD+812797]\n\tOrdinal0 [0x004855DF+1005023]\n\tOrdinal0 [0x004857CB+1005515]\n\tOrdinal0 [0x004B7632+1209906]\n\tOrdinal0 [0x004A1AD4+1120980]\n\tOrdinal0 [0x004B59E2+1202658]\n\tOrdinal0 [0x004A18A6+1120422]\n\tOrdinal0 [0x0047A73D+960317]\n\tOrdinal0 [0x0047B71F+964383]\n\tGetHandleVerifier [0x0085E7E2+2743074]\n\tGetHandleVerifier [0x008508D4+2685972]\n\tGetHandleVerifier [0x00642BAA+532202]\n\tGetHandleVerifier [0x00641990+527568]\n\tOrdinal0 [0x0055080C+1837068]\n\tOrdinal0 [0x00554CD8+1854680]\n\tOrdinal0 [0x00554DC5+1854917]\n\tOrdinal0 [0x0055ED64+1895780]\n\tBaseThreadInitThunk [0x76D66739+25]\n\tRtlGetFullPathName_UEx [0x77C78FD2+1218]\n\tRtlGetFullPathName_UEx [0x77C78F9D+1165]\n"
     ]
    }
   ],
   "source": [
    "scout_title = browser.find_element_by_xpath('/html/body/ess-root/b-ui-app-layout/ess-scout-history/b-ui-navigation-layout/div/ess-scout-history-page/b-ui-page-layout/main/b-ui-pane/div/b-ui-pane-content/div/ess-complete-scout-history-list/ess-scout-history-table/b-ui-table/div[2]/cdk-virtual-scroll-viewport/div[1]/table/tbody/tr[7]/td[3]')\n",
    "print(scout_title.text)"
   ]
  },
  {
   "cell_type": "code",
   "execution_count": null,
   "id": "0e0093d9-77c5-41ef-88a6-42be51748606",
   "metadata": {},
   "outputs": [],
   "source": []
  },
  {
   "cell_type": "code",
   "execution_count": null,
   "id": "9dea1ec8-4b78-4958-8c37-9e576c3e4d59",
   "metadata": {},
   "outputs": [],
   "source": []
  },
  {
   "cell_type": "code",
   "execution_count": null,
   "id": "10567998-cbdc-4dfa-8b8e-7e9e33dd00a0",
   "metadata": {},
   "outputs": [],
   "source": []
  },
  {
   "cell_type": "code",
   "execution_count": 21,
   "id": "d18fb336-ce4c-4e10-b858-268a4b1afb16",
   "metadata": {},
   "outputs": [
    {
     "ename": "WebDriverException",
     "evalue": "Message: unknown error: failed to change window state to 'normal', current state is 'maximized'\n  (Session info: chrome=106.0.5249.119)\nStacktrace:\nBacktrace:\n\tOrdinal0 [0x005B1ED3+2236115]\n\tOrdinal0 [0x005492F1+1807089]\n\tOrdinal0 [0x004566FD+812797]\n\tOrdinal0 [0x00441801+727041]\n\tOrdinal0 [0x00440654+722516]\n\tOrdinal0 [0x0043F4D9+718041]\n\tOrdinal0 [0x004C608F+1269903]\n\tOrdinal0 [0x004A1A8C+1120908]\n\tOrdinal0 [0x004B59E2+1202658]\n\tOrdinal0 [0x004A18A6+1120422]\n\tOrdinal0 [0x0047A73D+960317]\n\tOrdinal0 [0x0047B71F+964383]\n\tGetHandleVerifier [0x0085E7E2+2743074]\n\tGetHandleVerifier [0x008508D4+2685972]\n\tGetHandleVerifier [0x00642BAA+532202]\n\tGetHandleVerifier [0x00641990+527568]\n\tOrdinal0 [0x0055080C+1837068]\n\tOrdinal0 [0x00554CD8+1854680]\n\tOrdinal0 [0x00554DC5+1854917]\n\tOrdinal0 [0x0055ED64+1895780]\n\tBaseThreadInitThunk [0x76D66739+25]\n\tRtlGetFullPathName_UEx [0x77C78FD2+1218]\n\tRtlGetFullPathName_UEx [0x77C78F9D+1165]\n",
     "output_type": "error",
     "traceback": [
      "\u001b[1;31m---------------------------------------------------------------------------\u001b[0m",
      "\u001b[1;31mWebDriverException\u001b[0m                        Traceback (most recent call last)",
      "Input \u001b[1;32mIn [21]\u001b[0m, in \u001b[0;36m<cell line: 1>\u001b[1;34m()\u001b[0m\n\u001b[1;32m----> 1\u001b[0m \u001b[43mbrowser\u001b[49m\u001b[38;5;241;43m.\u001b[39;49m\u001b[43mmaximize_window\u001b[49m\u001b[43m(\u001b[49m\u001b[43m)\u001b[49m\n\u001b[0;32m      2\u001b[0m browser\u001b[38;5;241m.\u001b[39mexecute_script(\u001b[38;5;124m\"\u001b[39m\u001b[38;5;124mwindow.scrollBy(0, document.body.scrollHeight);\u001b[39m\u001b[38;5;124m\"\u001b[39m)\n",
      "File \u001b[1;32m~\\anaconda3\\lib\\site-packages\\selenium\\webdriver\\remote\\webdriver.py:990\u001b[0m, in \u001b[0;36mWebDriver.maximize_window\u001b[1;34m(self)\u001b[0m\n\u001b[0;32m    988\u001b[0m params \u001b[38;5;241m=\u001b[39m \u001b[38;5;28;01mNone\u001b[39;00m\n\u001b[0;32m    989\u001b[0m command \u001b[38;5;241m=\u001b[39m Command\u001b[38;5;241m.\u001b[39mW3C_MAXIMIZE_WINDOW\n\u001b[1;32m--> 990\u001b[0m \u001b[38;5;28;43mself\u001b[39;49m\u001b[38;5;241;43m.\u001b[39;49m\u001b[43mexecute\u001b[49m\u001b[43m(\u001b[49m\u001b[43mcommand\u001b[49m\u001b[43m,\u001b[49m\u001b[43m \u001b[49m\u001b[43mparams\u001b[49m\u001b[43m)\u001b[49m\n",
      "File \u001b[1;32m~\\anaconda3\\lib\\site-packages\\selenium\\webdriver\\remote\\webdriver.py:430\u001b[0m, in \u001b[0;36mWebDriver.execute\u001b[1;34m(self, driver_command, params)\u001b[0m\n\u001b[0;32m    428\u001b[0m response \u001b[38;5;241m=\u001b[39m \u001b[38;5;28mself\u001b[39m\u001b[38;5;241m.\u001b[39mcommand_executor\u001b[38;5;241m.\u001b[39mexecute(driver_command, params)\n\u001b[0;32m    429\u001b[0m \u001b[38;5;28;01mif\u001b[39;00m response:\n\u001b[1;32m--> 430\u001b[0m     \u001b[38;5;28;43mself\u001b[39;49m\u001b[38;5;241;43m.\u001b[39;49m\u001b[43merror_handler\u001b[49m\u001b[38;5;241;43m.\u001b[39;49m\u001b[43mcheck_response\u001b[49m\u001b[43m(\u001b[49m\u001b[43mresponse\u001b[49m\u001b[43m)\u001b[49m\n\u001b[0;32m    431\u001b[0m     response[\u001b[38;5;124m'\u001b[39m\u001b[38;5;124mvalue\u001b[39m\u001b[38;5;124m'\u001b[39m] \u001b[38;5;241m=\u001b[39m \u001b[38;5;28mself\u001b[39m\u001b[38;5;241m.\u001b[39m_unwrap_value(\n\u001b[0;32m    432\u001b[0m         response\u001b[38;5;241m.\u001b[39mget(\u001b[38;5;124m'\u001b[39m\u001b[38;5;124mvalue\u001b[39m\u001b[38;5;124m'\u001b[39m, \u001b[38;5;28;01mNone\u001b[39;00m))\n\u001b[0;32m    433\u001b[0m     \u001b[38;5;28;01mreturn\u001b[39;00m response\n",
      "File \u001b[1;32m~\\anaconda3\\lib\\site-packages\\selenium\\webdriver\\remote\\errorhandler.py:247\u001b[0m, in \u001b[0;36mErrorHandler.check_response\u001b[1;34m(self, response)\u001b[0m\n\u001b[0;32m    245\u001b[0m         alert_text \u001b[38;5;241m=\u001b[39m value[\u001b[38;5;124m'\u001b[39m\u001b[38;5;124malert\u001b[39m\u001b[38;5;124m'\u001b[39m]\u001b[38;5;241m.\u001b[39mget(\u001b[38;5;124m'\u001b[39m\u001b[38;5;124mtext\u001b[39m\u001b[38;5;124m'\u001b[39m)\n\u001b[0;32m    246\u001b[0m     \u001b[38;5;28;01mraise\u001b[39;00m exception_class(message, screen, stacktrace, alert_text)  \u001b[38;5;66;03m# type: ignore[call-arg]  # mypy is not smart enough here\u001b[39;00m\n\u001b[1;32m--> 247\u001b[0m \u001b[38;5;28;01mraise\u001b[39;00m exception_class(message, screen, stacktrace)\n",
      "\u001b[1;31mWebDriverException\u001b[0m: Message: unknown error: failed to change window state to 'normal', current state is 'maximized'\n  (Session info: chrome=106.0.5249.119)\nStacktrace:\nBacktrace:\n\tOrdinal0 [0x005B1ED3+2236115]\n\tOrdinal0 [0x005492F1+1807089]\n\tOrdinal0 [0x004566FD+812797]\n\tOrdinal0 [0x00441801+727041]\n\tOrdinal0 [0x00440654+722516]\n\tOrdinal0 [0x0043F4D9+718041]\n\tOrdinal0 [0x004C608F+1269903]\n\tOrdinal0 [0x004A1A8C+1120908]\n\tOrdinal0 [0x004B59E2+1202658]\n\tOrdinal0 [0x004A18A6+1120422]\n\tOrdinal0 [0x0047A73D+960317]\n\tOrdinal0 [0x0047B71F+964383]\n\tGetHandleVerifier [0x0085E7E2+2743074]\n\tGetHandleVerifier [0x008508D4+2685972]\n\tGetHandleVerifier [0x00642BAA+532202]\n\tGetHandleVerifier [0x00641990+527568]\n\tOrdinal0 [0x0055080C+1837068]\n\tOrdinal0 [0x00554CD8+1854680]\n\tOrdinal0 [0x00554DC5+1854917]\n\tOrdinal0 [0x0055ED64+1895780]\n\tBaseThreadInitThunk [0x76D66739+25]\n\tRtlGetFullPathName_UEx [0x77C78FD2+1218]\n\tRtlGetFullPathName_UEx [0x77C78F9D+1165]\n"
     ]
    }
   ],
   "source": [
    "browser.maximize_window()\n",
    "browser.execute_script(\"window.scrollBy(0, document.body.scrollHeight);\")"
   ]
  },
  {
   "cell_type": "code",
   "execution_count": null,
   "id": "97a01480-b071-4b2d-9397-9047603e5385",
   "metadata": {},
   "outputs": [],
   "source": []
  },
  {
   "cell_type": "code",
   "execution_count": null,
   "id": "ffd0d18f-8b74-4b01-b082-c16c77d2de35",
   "metadata": {},
   "outputs": [],
   "source": []
  },
  {
   "cell_type": "code",
   "execution_count": null,
   "id": "7b767915-aad8-413a-996e-0b5eb04c7c24",
   "metadata": {},
   "outputs": [],
   "source": []
  },
  {
   "cell_type": "code",
   "execution_count": null,
   "id": "06de393a-b86e-45da-8dc1-f21d8bccdee0",
   "metadata": {},
   "outputs": [],
   "source": [
    "\n",
    "\n"
   ]
  },
  {
   "cell_type": "code",
   "execution_count": 4,
   "id": "2d98b545-3f38-4162-851c-0d4d75c8b574",
   "metadata": {},
   "outputs": [
    {
     "name": "stderr",
     "output_type": "stream",
     "text": [
      "C:\\Users\\matsuno\\AppData\\Local\\Temp\\ipykernel_9372\\2557249400.py:7: DeprecationWarning: executable_path has been deprecated, please pass in a Service object\n",
      "  browser = webdriver.Chrome(executable_path = 'C:/Users/matsuno/Downloads/MyPandas/chromedriver.exe')\n"
     ]
    },
    {
     "name": "stdout",
     "output_type": "stream",
     "text": [
      "ログインページにアクセスしました\n"
     ]
    },
    {
     "name": "stderr",
     "output_type": "stream",
     "text": [
      "C:\\Users\\matsuno\\AppData\\Local\\Temp\\ipykernel_9372\\2557249400.py:14: DeprecationWarning: find_element_by_xpath is deprecated. Please use find_element(by=By.XPATH, value=xpath) instead\n",
      "  element = browser.find_element_by_xpath('/html/body/main/div/main/div[1]/section/div[2]/div[1]/p/input')\n",
      "C:\\Users\\matsuno\\AppData\\Local\\Temp\\ipykernel_9372\\2557249400.py:18: DeprecationWarning: find_element_by_xpath is deprecated. Please use find_element(by=By.XPATH, value=xpath) instead\n",
      "  element = browser.find_element_by_xpath('/html/body/main/div/main/div[1]/section/div[2]/div[2]/p/input')\n",
      "C:\\Users\\matsuno\\AppData\\Local\\Temp\\ipykernel_9372\\2557249400.py:23: DeprecationWarning: find_element_by_xpath is deprecated. Please use find_element(by=By.XPATH, value=xpath) instead\n",
      "  browser_from = browser.find_element_by_xpath('/html/body/main/div/main/div[1]/section/div[2]/p[2]/button')\n"
     ]
    },
    {
     "name": "stdout",
     "output_type": "stream",
     "text": [
      "情報を入力\n",
      "ログインボタンを押しました\n",
      "送信一覧に移動\n"
     ]
    },
    {
     "name": "stderr",
     "output_type": "stream",
     "text": [
      "C:\\Users\\matsuno\\AppData\\Local\\Temp\\ipykernel_9372\\2557249400.py:60: DeprecationWarning: find_element_by_xpath is deprecated. Please use find_element(by=By.XPATH, value=xpath) instead\n",
      "  scout_day = browser.find_element_by_xpath('/html/body/main/div/div[1]/section/div/div[1]/div[2]/div[2]/div/ul/li[' + str(i) + ']/div/div/p')\n"
     ]
    },
    {
     "name": "stdout",
     "output_type": "stream",
     "text": [
      "10/17 (月)\n",
      "10/17\n",
      "Re:【医療・介護施設の施設長】～東証1部上場グループ～/Assmblage株式会社 田村\n",
      "1ページ目 1番目Re:\n",
      "10/17 (月)\n",
      "10/17\n"
     ]
    },
    {
     "name": "stderr",
     "output_type": "stream",
     "text": [
      "C:\\Users\\matsuno\\AppData\\Local\\Temp\\ipykernel_9372\\2557249400.py:68: DeprecationWarning: find_element_by_xpath is deprecated. Please use find_element(by=By.XPATH, value=xpath) instead\n",
      "  scout_title = browser.find_element_by_xpath('/html/body/main/div/div[1]/section/div/div[1]/div[2]/div[2]/div/ul/li[' + str(i) + ']/div/dl/dt/span[2]')\n"
     ]
    },
    {
     "name": "stdout",
     "output_type": "stream",
     "text": [
      "Re:【管理職候補/医療法人の運営マネージャー】～東証1部上場グループ～/Assmblage株式会社 田村\n",
      "1ページ目 2番目Re:\n",
      "10/17 (月)\n",
      "10/17\n",
      "【医療・介護施設の施設長】～東証1部上場グループ～/Assmblage株式会社 田村\n",
      "1ページ目 3番目収集\n",
      "10/17 (月)\n",
      "10/17\n",
      "【医療・介護施設の施設長】～東証1部上場グループ～/Assmblage株式会社 田村\n",
      "1ページ目 4番目収集\n"
     ]
    },
    {
     "name": "stderr",
     "output_type": "stream",
     "text": [
      "C:\\Users\\matsuno\\AppData\\Local\\Temp\\ipykernel_9372\\2557249400.py:60: DeprecationWarning: find_element_by_xpath is deprecated. Please use find_element(by=By.XPATH, value=xpath) instead\n",
      "  scout_day = browser.find_element_by_xpath('/html/body/main/div/div[1]/section/div/div[1]/div[2]/div[2]/div/ul/li[' + str(i) + ']/div/div/p')\n",
      "C:\\Users\\matsuno\\AppData\\Local\\Temp\\ipykernel_9372\\2557249400.py:68: DeprecationWarning: find_element_by_xpath is deprecated. Please use find_element(by=By.XPATH, value=xpath) instead\n",
      "  scout_title = browser.find_element_by_xpath('/html/body/main/div/div[1]/section/div/div[1]/div[2]/div[2]/div/ul/li[' + str(i) + ']/div/dl/dt/span[2]')\n",
      "C:\\Users\\matsuno\\AppData\\Local\\Temp\\ipykernel_9372\\2557249400.py:60: DeprecationWarning: find_element_by_xpath is deprecated. Please use find_element(by=By.XPATH, value=xpath) instead\n",
      "  scout_day = browser.find_element_by_xpath('/html/body/main/div/div[1]/section/div/div[1]/div[2]/div[2]/div/ul/li[' + str(i) + ']/div/div/p')\n",
      "C:\\Users\\matsuno\\AppData\\Local\\Temp\\ipykernel_9372\\2557249400.py:68: DeprecationWarning: find_element_by_xpath is deprecated. Please use find_element(by=By.XPATH, value=xpath) instead\n",
      "  scout_title = browser.find_element_by_xpath('/html/body/main/div/div[1]/section/div/div[1]/div[2]/div[2]/div/ul/li[' + str(i) + ']/div/dl/dt/span[2]')\n",
      "C:\\Users\\matsuno\\AppData\\Local\\Temp\\ipykernel_9372\\2557249400.py:60: DeprecationWarning: find_element_by_xpath is deprecated. Please use find_element(by=By.XPATH, value=xpath) instead\n",
      "  scout_day = browser.find_element_by_xpath('/html/body/main/div/div[1]/section/div/div[1]/div[2]/div[2]/div/ul/li[' + str(i) + ']/div/div/p')\n"
     ]
    },
    {
     "name": "stdout",
     "output_type": "stream",
     "text": [
      "10/17 (月)\n",
      "10/17\n",
      "【医療・介護施設の施設長】～東証1部上場グループ～/Assmblage株式会社 田村\n",
      "1ページ目 5番目収集\n",
      "10/17 (月)\n",
      "10/17\n"
     ]
    },
    {
     "name": "stderr",
     "output_type": "stream",
     "text": [
      "C:\\Users\\matsuno\\AppData\\Local\\Temp\\ipykernel_9372\\2557249400.py:68: DeprecationWarning: find_element_by_xpath is deprecated. Please use find_element(by=By.XPATH, value=xpath) instead\n",
      "  scout_title = browser.find_element_by_xpath('/html/body/main/div/div[1]/section/div/div[1]/div[2]/div[2]/div/ul/li[' + str(i) + ']/div/dl/dt/span[2]')\n",
      "C:\\Users\\matsuno\\AppData\\Local\\Temp\\ipykernel_9372\\2557249400.py:60: DeprecationWarning: find_element_by_xpath is deprecated. Please use find_element(by=By.XPATH, value=xpath) instead\n",
      "  scout_day = browser.find_element_by_xpath('/html/body/main/div/div[1]/section/div/div[1]/div[2]/div[2]/div/ul/li[' + str(i) + ']/div/div/p')\n",
      "C:\\Users\\matsuno\\AppData\\Local\\Temp\\ipykernel_9372\\2557249400.py:68: DeprecationWarning: find_element_by_xpath is deprecated. Please use find_element(by=By.XPATH, value=xpath) instead\n",
      "  scout_title = browser.find_element_by_xpath('/html/body/main/div/div[1]/section/div/div[1]/div[2]/div[2]/div/ul/li[' + str(i) + ']/div/dl/dt/span[2]')\n"
     ]
    },
    {
     "name": "stdout",
     "output_type": "stream",
     "text": [
      "【管理職候補/医療法人の運営マネージャー】～東証1部上場グループ～/Assmblage株式会社 田村\n",
      "1ページ目 6番目収集\n",
      "10/17 (月)\n",
      "10/17\n",
      "【管理職候補/医療法人の運営マネージャー】～東証1部上場グループ～/Assmblage株式会社 田村\n",
      "1ページ目 7番目収集\n"
     ]
    },
    {
     "name": "stderr",
     "output_type": "stream",
     "text": [
      "C:\\Users\\matsuno\\AppData\\Local\\Temp\\ipykernel_9372\\2557249400.py:60: DeprecationWarning: find_element_by_xpath is deprecated. Please use find_element(by=By.XPATH, value=xpath) instead\n",
      "  scout_day = browser.find_element_by_xpath('/html/body/main/div/div[1]/section/div/div[1]/div[2]/div[2]/div/ul/li[' + str(i) + ']/div/div/p')\n",
      "C:\\Users\\matsuno\\AppData\\Local\\Temp\\ipykernel_9372\\2557249400.py:68: DeprecationWarning: find_element_by_xpath is deprecated. Please use find_element(by=By.XPATH, value=xpath) instead\n",
      "  scout_title = browser.find_element_by_xpath('/html/body/main/div/div[1]/section/div/div[1]/div[2]/div[2]/div/ul/li[' + str(i) + ']/div/dl/dt/span[2]')\n"
     ]
    },
    {
     "name": "stdout",
     "output_type": "stream",
     "text": [
      "10/17 (月)\n",
      "10/17\n",
      "【管理職候補/医療法人の運営マネージャー】～東証1部上場グループ～/Assmblage株式会社 田村\n",
      "1ページ目 8番目収集\n",
      "10/17 (月)\n",
      "10/17\n"
     ]
    },
    {
     "name": "stderr",
     "output_type": "stream",
     "text": [
      "C:\\Users\\matsuno\\AppData\\Local\\Temp\\ipykernel_9372\\2557249400.py:60: DeprecationWarning: find_element_by_xpath is deprecated. Please use find_element(by=By.XPATH, value=xpath) instead\n",
      "  scout_day = browser.find_element_by_xpath('/html/body/main/div/div[1]/section/div/div[1]/div[2]/div[2]/div/ul/li[' + str(i) + ']/div/div/p')\n",
      "C:\\Users\\matsuno\\AppData\\Local\\Temp\\ipykernel_9372\\2557249400.py:68: DeprecationWarning: find_element_by_xpath is deprecated. Please use find_element(by=By.XPATH, value=xpath) instead\n",
      "  scout_title = browser.find_element_by_xpath('/html/body/main/div/div[1]/section/div/div[1]/div[2]/div[2]/div/ul/li[' + str(i) + ']/div/dl/dt/span[2]')\n",
      "C:\\Users\\matsuno\\AppData\\Local\\Temp\\ipykernel_9372\\2557249400.py:60: DeprecationWarning: find_element_by_xpath is deprecated. Please use find_element(by=By.XPATH, value=xpath) instead\n",
      "  scout_day = browser.find_element_by_xpath('/html/body/main/div/div[1]/section/div/div[1]/div[2]/div[2]/div/ul/li[' + str(i) + ']/div/div/p')\n"
     ]
    },
    {
     "name": "stdout",
     "output_type": "stream",
     "text": [
      "医療法人の運営マネージャー・経営コンサルタント■東証1部上場グループ／年休122日／リモート環境あり\n",
      "1ページ目 9番目収集\n",
      "10/17 (月)\n",
      "10/17\n",
      "医療法人の運営マネージャー・経営コンサルタント■東証1部上場グループ／年休122日／リモート環境あり\n"
     ]
    },
    {
     "name": "stderr",
     "output_type": "stream",
     "text": [
      "C:\\Users\\matsuno\\AppData\\Local\\Temp\\ipykernel_9372\\2557249400.py:68: DeprecationWarning: find_element_by_xpath is deprecated. Please use find_element(by=By.XPATH, value=xpath) instead\n",
      "  scout_title = browser.find_element_by_xpath('/html/body/main/div/div[1]/section/div/div[1]/div[2]/div[2]/div/ul/li[' + str(i) + ']/div/dl/dt/span[2]')\n",
      "C:\\Users\\matsuno\\AppData\\Local\\Temp\\ipykernel_9372\\2557249400.py:60: DeprecationWarning: find_element_by_xpath is deprecated. Please use find_element(by=By.XPATH, value=xpath) instead\n",
      "  scout_day = browser.find_element_by_xpath('/html/body/main/div/div[1]/section/div/div[1]/div[2]/div[2]/div/ul/li[' + str(i) + ']/div/div/p')\n",
      "C:\\Users\\matsuno\\AppData\\Local\\Temp\\ipykernel_9372\\2557249400.py:68: DeprecationWarning: find_element_by_xpath is deprecated. Please use find_element(by=By.XPATH, value=xpath) instead\n",
      "  scout_title = browser.find_element_by_xpath('/html/body/main/div/div[1]/section/div/div[1]/div[2]/div[2]/div/ul/li[' + str(i) + ']/div/dl/dt/span[2]')\n"
     ]
    },
    {
     "name": "stdout",
     "output_type": "stream",
     "text": [
      "1ページ目 10番目収集\n",
      "10/17 (月)\n",
      "10/17\n",
      "医療法人の運営マネージャー・経営コンサルタント■東証1部上場グループ／年休122日／リモート環境あり\n",
      "1ページ目 11番目収集\n"
     ]
    },
    {
     "name": "stderr",
     "output_type": "stream",
     "text": [
      "C:\\Users\\matsuno\\AppData\\Local\\Temp\\ipykernel_9372\\2557249400.py:60: DeprecationWarning: find_element_by_xpath is deprecated. Please use find_element(by=By.XPATH, value=xpath) instead\n",
      "  scout_day = browser.find_element_by_xpath('/html/body/main/div/div[1]/section/div/div[1]/div[2]/div[2]/div/ul/li[' + str(i) + ']/div/div/p')\n",
      "C:\\Users\\matsuno\\AppData\\Local\\Temp\\ipykernel_9372\\2557249400.py:68: DeprecationWarning: find_element_by_xpath is deprecated. Please use find_element(by=By.XPATH, value=xpath) instead\n",
      "  scout_title = browser.find_element_by_xpath('/html/body/main/div/div[1]/section/div/div[1]/div[2]/div[2]/div/ul/li[' + str(i) + ']/div/dl/dt/span[2]')\n",
      "C:\\Users\\matsuno\\AppData\\Local\\Temp\\ipykernel_9372\\2557249400.py:60: DeprecationWarning: find_element_by_xpath is deprecated. Please use find_element(by=By.XPATH, value=xpath) instead\n",
      "  scout_day = browser.find_element_by_xpath('/html/body/main/div/div[1]/section/div/div[1]/div[2]/div[2]/div/ul/li[' + str(i) + ']/div/div/p')\n",
      "C:\\Users\\matsuno\\AppData\\Local\\Temp\\ipykernel_9372\\2557249400.py:68: DeprecationWarning: find_element_by_xpath is deprecated. Please use find_element(by=By.XPATH, value=xpath) instead\n",
      "  scout_title = browser.find_element_by_xpath('/html/body/main/div/div[1]/section/div/div[1]/div[2]/div[2]/div/ul/li[' + str(i) + ']/div/dl/dt/span[2]')\n"
     ]
    },
    {
     "name": "stdout",
     "output_type": "stream",
     "text": [
      "10/17 (月)\n",
      "10/17\n",
      "医療法人の運営マネージャー・経営コンサルタント■東証1部上場グループ／年休122日／リモート環境あり\n",
      "1ページ目 12番目収集\n",
      "10/17 (月)\n",
      "10/17\n",
      "再送：医療法人の運営マネージャー・経営コンサルタント■東証1部上場グループ／年休122日／リモート環境あり\n",
      "1ページ目 13番目再送\n",
      "10/17 (月)\n",
      "10/17\n",
      "再送：医療法人の運営マネージャー・経営コンサルタント■東証1部上場グループ／年休122日／リモート環境あり\n",
      "1ページ目 14番目再送\n",
      "10/17 (月)\n",
      "10/17\n",
      "再送：医療法人の運営マネージャー・経営コンサルタント■東証1部上場グループ／年休122日／リモート環境あり\n",
      "1ページ目 15番目再送\n",
      "10/17 (月)\n",
      "10/17\n",
      "再送：【管理職候補/医療法人の運営マネージャー】～東証1部上場グループ～/Assmblage株式会社 田村\n",
      "1ページ目 16番目再送\n",
      "10/17 (月)\n",
      "10/17\n",
      "再送：【医療・介護施設の施設長】～東証1部上場グループ～/Assmblage株式会社 田村\n",
      "1ページ目 17番目再送\n",
      "10/17 (月)\n",
      "10/17\n",
      "再送：【医療・介護施設の施設長】～東証1部上場グループ～/Assmblage株式会社 田村\n",
      "1ページ目 18番目再送\n",
      "10/17 (月)\n",
      "10/17\n",
      "再送：【医療・介護施設の施設長】～東証1部上場グループ～/Assmblage株式会社 田村\n",
      "1ページ目 19番目再送\n",
      "10/17 (月)\n",
      "10/17\n",
      "再送：【医療・介護施設の施設長】～東証1部上場グループ～/Assmblage株式会社 田村\n",
      "1ページ目 20番目再送\n",
      "10/17 (月)\n",
      "10/17\n",
      "再送：医療法人の運営マネージャー・経営コンサルタント■東証1部上場グループ／年休122日／リモート環境あり\n",
      "1ページ目 21番目再送\n",
      "10/17 (月)\n",
      "10/17\n",
      "再送：医療法人の運営マネージャー・経営コンサルタント■東証1部上場グループ／年休122日／リモート環境あり\n",
      "1ページ目 22番目再送\n",
      "10/17 (月)\n",
      "10/17\n",
      "再送：医療法人の運営マネージャー・経営コンサルタント■東証1部上場グループ／年休122日／リモート環境あり\n",
      "1ページ目 23番目再送\n",
      "10/17 (月)\n",
      "10/17\n",
      "再送：医療法人の運営マネージャー・経営コンサルタント■東証1部上場グループ／年休122日／リモート環境あり\n",
      "1ページ目 24番目再送\n",
      "10/17 (月)\n",
      "10/17\n",
      "再送：医療法人の運営マネージャー・経営コンサルタント■東証1部上場グループ／年休122日／リモート環境あり\n",
      "1ページ目 25番目再送\n",
      "10/17 (月)\n",
      "10/17\n",
      "再送：【医療・介護施設の施設長】～東証1部上場グループ～/Assmblage株式会社 田村\n",
      "1ページ目 26番目再送\n",
      "10/17 (月)\n",
      "10/17\n",
      "Re:再送：【医療・介護施設の施設長】～東証1部上場グループ～/Assmblage株式会社 田村\n",
      "1ページ目 27番目再送\n",
      "10/17 (月)\n",
      "10/17\n",
      "Re:再送：医療法人の運営マネージャー・経営コンサルタント■東証1部上場グループ／年休122日／リモート環境あり\n",
      "1ページ目 28番目再送\n",
      "10/16 (日)\n",
      "10/16\n",
      "再送：【医療・介護施設の施設長】～東証1部上場グループ～/Assmblage株式会社 田村\n",
      "29番目 10/16 (日)\n",
      "1ページ目 29番目 終了\n"
     ]
    },
    {
     "name": "stderr",
     "output_type": "stream",
     "text": [
      "C:\\Users\\matsuno\\AppData\\Local\\Temp\\ipykernel_9372\\2557249400.py:7: DeprecationWarning: executable_path has been deprecated, please pass in a Service object\n",
      "  browser = webdriver.Chrome(executable_path = 'C:/Users/matsuno/Downloads/MyPandas/chromedriver.exe')\n"
     ]
    },
    {
     "name": "stdout",
     "output_type": "stream",
     "text": [
      "ログインページにアクセスしました\n"
     ]
    },
    {
     "name": "stderr",
     "output_type": "stream",
     "text": [
      "C:\\Users\\matsuno\\AppData\\Local\\Temp\\ipykernel_9372\\2557249400.py:14: DeprecationWarning: find_element_by_xpath is deprecated. Please use find_element(by=By.XPATH, value=xpath) instead\n",
      "  element = browser.find_element_by_xpath('/html/body/main/div/main/div[1]/section/div[2]/div[1]/p/input')\n",
      "C:\\Users\\matsuno\\AppData\\Local\\Temp\\ipykernel_9372\\2557249400.py:18: DeprecationWarning: find_element_by_xpath is deprecated. Please use find_element(by=By.XPATH, value=xpath) instead\n",
      "  element = browser.find_element_by_xpath('/html/body/main/div/main/div[1]/section/div[2]/div[2]/p/input')\n",
      "C:\\Users\\matsuno\\AppData\\Local\\Temp\\ipykernel_9372\\2557249400.py:23: DeprecationWarning: find_element_by_xpath is deprecated. Please use find_element(by=By.XPATH, value=xpath) instead\n",
      "  browser_from = browser.find_element_by_xpath('/html/body/main/div/main/div[1]/section/div[2]/p[2]/button')\n"
     ]
    },
    {
     "name": "stdout",
     "output_type": "stream",
     "text": [
      "情報を入力\n",
      "ログインボタンを押しました\n",
      "送信一覧に移動\n",
      "10/17 (月)\n",
      "10/17\n",
      "Re:社内ITサポート業務/MGR候補　Assemblage：鈴木\n",
      "1ページ目 1番目Re:\n",
      "10/16 (日)\n",
      "10/16\n",
      "再送：社内ITサポート業務/MGR候補　Assemblage：鈴木\n",
      "2番目 10/16 (日)\n",
      "1ページ目 2番目 終了\n"
     ]
    }
   ],
   "source": [
    "DAY = '10/17'\n",
    "df_count = pd.DataFrame(columns=['HEAD_HUNTER','send_tittle','send_day'])\n",
    "\n",
    "for i in range(1,3):\n",
    "    HEAD_HUNTER = HEAD_HUNTER_all[i]\n",
    "\n",
    "    browser = webdriver.Chrome(executable_path = 'C:/Users/matsuno/Downloads/MyPandas/chromedriver.exe')\n",
    "    browser.implicitly_wait(10)\n",
    "\n",
    "    browser.get(url_login)\n",
    "    time.sleep(1)\n",
    "    print(\"ログインページにアクセスしました\")\n",
    "\n",
    "    element = browser.find_element_by_xpath('/html/body/main/div/main/div[1]/section/div[2]/div[1]/p/input')\n",
    "    element.clear()\n",
    "    element.send_keys(HEAD_HUNTER[0])\n",
    "\n",
    "    element = browser.find_element_by_xpath('/html/body/main/div/main/div[1]/section/div[2]/div[2]/p/input')\n",
    "    element.clear()\n",
    "    element.send_keys(HEAD_HUNTER[1])\n",
    "    print(\"情報を入力\")\n",
    "\n",
    "    browser_from = browser.find_element_by_xpath('/html/body/main/div/main/div[1]/section/div[2]/p[2]/button')\n",
    "    browser_from.click()\n",
    "    time.sleep(1)\n",
    "    print(\"ログインボタンを押しました\")\n",
    "\n",
    "    #if HEAD_HUNTER[0] == 'y-okamoto@pmc-g.jp':\n",
    "        #browser_from = browser.find_element_by_xpath('/html/body/main/div/main/div/section/div/div/div[2]/div[2]/ul/li[1]/p')\n",
    "        #browser_from = browser.find_element_by_xpath('/html/body/main/div/main/div/section/div/div/div[2]/div[2]/ul/li[2]/p')\n",
    "        \n",
    "        #browser_from = browser.find_element_by_xpath('/html/body/main/div/main/div/section/div/div/div[2]/div[2]/ul/li/p')\n",
    "        \n",
    "        #browser_from.click()\n",
    "        #time.sleep(1)\n",
    "        #print(\"岡本を押しました\")\n",
    "\n",
    "    if HEAD_HUNTER[0] == 'iida@assemblage.asia':\n",
    "        time.sleep(3)\n",
    "        browser_from = browser.find_element_by_xpath('/html/body/main/div/div/div/div/p/i')\n",
    "        browser_from.click()\n",
    "        time.sleep(1)\n",
    "        print(\"×を押しました\")\n",
    "\n",
    "    browser.get('https://search.ix-tenshoku.jp/message/sent/')\n",
    "    time.sleep(1)\n",
    "    print(\"送信一覧に移動\")\n",
    "\n",
    "    tdatetime_yesterday = datetime.datetime.strptime(DAY, '%m/%d')\n",
    "\n",
    "    k = 1\n",
    "    loop_end = 0\n",
    "    \n",
    "    \n",
    "\n",
    "    while True:\n",
    "\n",
    "        for i in range(1,31):\n",
    "\n",
    "            scout_day = browser.find_element_by_xpath('/html/body/main/div/div[1]/section/div/div[1]/div[2]/div[2]/div/ul/li[' + str(i) + ']/div/div/p')\n",
    "            print(scout_day.text)\n",
    "\n",
    "            if not \":\" in  scout_day.text:\n",
    "                scout_day_only = scout_day.text.split(' (')[0]\n",
    "                tdatetime = datetime.datetime.strptime(scout_day_only, '%m/%d')\n",
    "                print(scout_day_only)\n",
    "\n",
    "            scout_title = browser.find_element_by_xpath('/html/body/main/div/div[1]/section/div/div[1]/div[2]/div[2]/div/ul/li[' + str(i) + ']/div/dl/dt/span[2]')\n",
    "            print(scout_title.text)\n",
    "\n",
    "            if \":\" in  scout_day.text:\n",
    "                print(str(k) + \"ページ目 \" + str(i) + \"番目\" + \"当日\")\n",
    "            elif tdatetime_yesterday > tdatetime:\n",
    "                print(str(i) + \"番目 \" + scout_day.text)\n",
    "                loop_end = 1\n",
    "                print(str(k) + \"ページ目 \" + str(i) + \"番目 終了\")\n",
    "                #browser_from = browser.find_element_by_xpath('/html/body/header/div/div[2]/div/div/p/span[2]')\n",
    "                #browser_from.click()\n",
    "                #time.sleep(1)\n",
    "                #browser_from = browser.find_element_by_xpath('/html/body/header/div/div[2]/div/div/div/div[2]/form/a')\n",
    "                #browser_from.click()\n",
    "                browser.close()\n",
    "                break\n",
    "            elif \"再送\" in  scout_title.text:    \n",
    "                print(str(k) + \"ページ目 \" + str(i) + \"番目\" + \"再送\")\n",
    "            elif \"Re:\" in  scout_title.text:    \n",
    "                print(str(k) + \"ページ目 \" + str(i) + \"番目\" + \"Re:\")\n",
    "            elif DAY in scout_day.text:\n",
    "                print(str(k) + \"ページ目 \" + str(i) + \"番目\" + \"収集\")\n",
    "                df = pd.DataFrame([[HEAD_HUNTER[0],scout_title.text,scout_day.text]],columns=['HEAD_HUNTER','send_tittle','send_day'])\n",
    "                df_count = pd.concat([df_count,df],join='outer',ignore_index=True)\n",
    "\n",
    "        if loop_end == 0:\n",
    "            k += 1\n",
    "            if k <= 5:\n",
    "                browser_from = browser.find_element_by_xpath('/html/body/main/div/div[1]/section/div/div[2]/ul/li[' + str(k) + ']/a')\n",
    "            else:\n",
    "                browser_from = browser.find_element_by_xpath('/html/body/main/div/div[1]/section/div/div[2]/ul/li[6]/a')\n",
    "\n",
    "            browser_from.click()\n",
    "            time.sleep(1)\n",
    "            print(str(k) + \"ページに移動\")\n",
    "            \n",
    "            if k <= 4:\n",
    "                element = browser.find_element_by_xpath('/html/body/main/div/div[1]/section/div/div[2]/ul/li[' + str(k) + ']')\n",
    "            else:\n",
    "                element = browser.find_element_by_xpath('/html/body/main/div/div[1]/section/div/div[2]/ul/li[5]')\n",
    "            \n",
    "            if element.text == str(k):\n",
    "                print(element.text + \"合致の確認\")\n",
    "            else:\n",
    "                print(element.text + \"合致しない\")\n",
    "        else:\n",
    "            break"
   ]
  },
  {
   "cell_type": "code",
   "execution_count": 5,
   "id": "0baf8e80-d5b8-4310-b06d-710dd3860a2f",
   "metadata": {},
   "outputs": [
    {
     "name": "stdout",
     "output_type": "stream",
     "text": [
      "              HEAD_HUNTER                                        send_tittle  \\\n",
      "0  tamura@assemblage.asia         【医療・介護施設の施設長】～東証1部上場グループ～/Assmblage株式会社 田村   \n",
      "1  tamura@assemblage.asia         【医療・介護施設の施設長】～東証1部上場グループ～/Assmblage株式会社 田村   \n",
      "2  tamura@assemblage.asia         【医療・介護施設の施設長】～東証1部上場グループ～/Assmblage株式会社 田村   \n",
      "3  tamura@assemblage.asia  【管理職候補/医療法人の運営マネージャー】～東証1部上場グループ～/Assmblage株式会...   \n",
      "4  tamura@assemblage.asia  【管理職候補/医療法人の運営マネージャー】～東証1部上場グループ～/Assmblage株式会...   \n",
      "5  tamura@assemblage.asia  【管理職候補/医療法人の運営マネージャー】～東証1部上場グループ～/Assmblage株式会...   \n",
      "6  tamura@assemblage.asia  医療法人の運営マネージャー・経営コンサルタント■東証1部上場グループ／年休122日／リモート...   \n",
      "7  tamura@assemblage.asia  医療法人の運営マネージャー・経営コンサルタント■東証1部上場グループ／年休122日／リモート...   \n",
      "8  tamura@assemblage.asia  医療法人の運営マネージャー・経営コンサルタント■東証1部上場グループ／年休122日／リモート...   \n",
      "9  tamura@assemblage.asia  医療法人の運営マネージャー・経営コンサルタント■東証1部上場グループ／年休122日／リモート...   \n",
      "\n",
      "    send_day  \n",
      "0  10/17 (月)  \n",
      "1  10/17 (月)  \n",
      "2  10/17 (月)  \n",
      "3  10/17 (月)  \n",
      "4  10/17 (月)  \n",
      "5  10/17 (月)  \n",
      "6  10/17 (月)  \n",
      "7  10/17 (月)  \n",
      "8  10/17 (月)  \n",
      "9  10/17 (月)  \n",
      "              HEAD_HUNTER                                        send_tittle\n",
      "0  tamura@assemblage.asia         【医療・介護施設の施設長】～東証1部上場グループ～/Assmblage株式会社 田村\n",
      "1  tamura@assemblage.asia         【医療・介護施設の施設長】～東証1部上場グループ～/Assmblage株式会社 田村\n",
      "2  tamura@assemblage.asia         【医療・介護施設の施設長】～東証1部上場グループ～/Assmblage株式会社 田村\n",
      "3  tamura@assemblage.asia  【管理職候補/医療法人の運営マネージャー】～東証1部上場グループ～/Assmblage株式会...\n",
      "4  tamura@assemblage.asia  【管理職候補/医療法人の運営マネージャー】～東証1部上場グループ～/Assmblage株式会...\n",
      "5  tamura@assemblage.asia  【管理職候補/医療法人の運営マネージャー】～東証1部上場グループ～/Assmblage株式会...\n",
      "6  tamura@assemblage.asia  医療法人の運営マネージャー・経営コンサルタント■東証1部上場グループ／年休122日／リモート...\n",
      "7  tamura@assemblage.asia  医療法人の運営マネージャー・経営コンサルタント■東証1部上場グループ／年休122日／リモート...\n",
      "8  tamura@assemblage.asia  医療法人の運営マネージャー・経営コンサルタント■東証1部上場グループ／年休122日／リモート...\n",
      "9  tamura@assemblage.asia  医療法人の運営マネージャー・経営コンサルタント■東証1部上場グループ／年休122日／リモート...\n"
     ]
    }
   ],
   "source": [
    "print(df_count)\n",
    "df_drop = df_count.drop('send_day', axis=1)\n",
    "print(df_drop)"
   ]
  },
  {
   "cell_type": "code",
   "execution_count": 6,
   "id": "bc17717a-06b7-45d7-8571-0cbfe6b1fd63",
   "metadata": {},
   "outputs": [
    {
     "name": "stdout",
     "output_type": "stream",
     "text": [
      "0\n",
      "Series([], dtype: int64)\n"
     ]
    },
    {
     "data": {
      "text/html": [
       "<div>\n",
       "<style scoped>\n",
       "    .dataframe tbody tr th:only-of-type {\n",
       "        vertical-align: middle;\n",
       "    }\n",
       "\n",
       "    .dataframe tbody tr th {\n",
       "        vertical-align: top;\n",
       "    }\n",
       "\n",
       "    .dataframe thead th {\n",
       "        text-align: right;\n",
       "    }\n",
       "</style>\n",
       "<table border=\"1\" class=\"dataframe\">\n",
       "  <thead>\n",
       "    <tr style=\"text-align: right;\">\n",
       "      <th></th>\n",
       "      <th>HEAD_HUNTER</th>\n",
       "      <th>send_tittle</th>\n",
       "    </tr>\n",
       "  </thead>\n",
       "  <tbody>\n",
       "  </tbody>\n",
       "</table>\n",
       "</div>"
      ],
      "text/plain": [
       "Empty DataFrame\n",
       "Columns: [HEAD_HUNTER, send_tittle]\n",
       "Index: []"
      ]
     },
     "metadata": {},
     "output_type": "display_data"
    },
    {
     "name": "stdout",
     "output_type": "stream",
     "text": [
      "10\n",
      "HEAD_HUNTER             send_tittle                                       \n",
      "tamura@assemblage.asia  医療法人の運営マネージャー・経営コンサルタント■東証1部上場グループ／年休122日／リモート環境あり    4\n",
      "                        【医療・介護施設の施設長】～東証1部上場グループ～/Assmblage株式会社 田村            3\n",
      "                        【管理職候補/医療法人の運営マネージャー】～東証1部上場グループ～/Assmblage株式会社 田村    3\n",
      "dtype: int64\n"
     ]
    },
    {
     "data": {
      "text/html": [
       "<div>\n",
       "<style scoped>\n",
       "    .dataframe tbody tr th:only-of-type {\n",
       "        vertical-align: middle;\n",
       "    }\n",
       "\n",
       "    .dataframe tbody tr th {\n",
       "        vertical-align: top;\n",
       "    }\n",
       "\n",
       "    .dataframe thead th {\n",
       "        text-align: right;\n",
       "    }\n",
       "</style>\n",
       "<table border=\"1\" class=\"dataframe\">\n",
       "  <thead>\n",
       "    <tr style=\"text-align: right;\">\n",
       "      <th></th>\n",
       "      <th>HEAD_HUNTER</th>\n",
       "      <th>send_tittle</th>\n",
       "    </tr>\n",
       "  </thead>\n",
       "  <tbody>\n",
       "    <tr>\n",
       "      <th>0</th>\n",
       "      <td>tamura@assemblage.asia</td>\n",
       "      <td>【医療・介護施設の施設長】～東証1部上場グループ～/Assmblage株式会社 田村</td>\n",
       "    </tr>\n",
       "    <tr>\n",
       "      <th>1</th>\n",
       "      <td>tamura@assemblage.asia</td>\n",
       "      <td>【医療・介護施設の施設長】～東証1部上場グループ～/Assmblage株式会社 田村</td>\n",
       "    </tr>\n",
       "    <tr>\n",
       "      <th>2</th>\n",
       "      <td>tamura@assemblage.asia</td>\n",
       "      <td>【医療・介護施設の施設長】～東証1部上場グループ～/Assmblage株式会社 田村</td>\n",
       "    </tr>\n",
       "    <tr>\n",
       "      <th>3</th>\n",
       "      <td>tamura@assemblage.asia</td>\n",
       "      <td>【管理職候補/医療法人の運営マネージャー】～東証1部上場グループ～/Assmblage株式会...</td>\n",
       "    </tr>\n",
       "    <tr>\n",
       "      <th>4</th>\n",
       "      <td>tamura@assemblage.asia</td>\n",
       "      <td>【管理職候補/医療法人の運営マネージャー】～東証1部上場グループ～/Assmblage株式会...</td>\n",
       "    </tr>\n",
       "    <tr>\n",
       "      <th>5</th>\n",
       "      <td>tamura@assemblage.asia</td>\n",
       "      <td>【管理職候補/医療法人の運営マネージャー】～東証1部上場グループ～/Assmblage株式会...</td>\n",
       "    </tr>\n",
       "    <tr>\n",
       "      <th>6</th>\n",
       "      <td>tamura@assemblage.asia</td>\n",
       "      <td>医療法人の運営マネージャー・経営コンサルタント■東証1部上場グループ／年休122日／リモート...</td>\n",
       "    </tr>\n",
       "    <tr>\n",
       "      <th>7</th>\n",
       "      <td>tamura@assemblage.asia</td>\n",
       "      <td>医療法人の運営マネージャー・経営コンサルタント■東証1部上場グループ／年休122日／リモート...</td>\n",
       "    </tr>\n",
       "    <tr>\n",
       "      <th>8</th>\n",
       "      <td>tamura@assemblage.asia</td>\n",
       "      <td>医療法人の運営マネージャー・経営コンサルタント■東証1部上場グループ／年休122日／リモート...</td>\n",
       "    </tr>\n",
       "    <tr>\n",
       "      <th>9</th>\n",
       "      <td>tamura@assemblage.asia</td>\n",
       "      <td>医療法人の運営マネージャー・経営コンサルタント■東証1部上場グループ／年休122日／リモート...</td>\n",
       "    </tr>\n",
       "  </tbody>\n",
       "</table>\n",
       "</div>"
      ],
      "text/plain": [
       "              HEAD_HUNTER                                        send_tittle\n",
       "0  tamura@assemblage.asia         【医療・介護施設の施設長】～東証1部上場グループ～/Assmblage株式会社 田村\n",
       "1  tamura@assemblage.asia         【医療・介護施設の施設長】～東証1部上場グループ～/Assmblage株式会社 田村\n",
       "2  tamura@assemblage.asia         【医療・介護施設の施設長】～東証1部上場グループ～/Assmblage株式会社 田村\n",
       "3  tamura@assemblage.asia  【管理職候補/医療法人の運営マネージャー】～東証1部上場グループ～/Assmblage株式会...\n",
       "4  tamura@assemblage.asia  【管理職候補/医療法人の運営マネージャー】～東証1部上場グループ～/Assmblage株式会...\n",
       "5  tamura@assemblage.asia  【管理職候補/医療法人の運営マネージャー】～東証1部上場グループ～/Assmblage株式会...\n",
       "6  tamura@assemblage.asia  医療法人の運営マネージャー・経営コンサルタント■東証1部上場グループ／年休122日／リモート...\n",
       "7  tamura@assemblage.asia  医療法人の運営マネージャー・経営コンサルタント■東証1部上場グループ／年休122日／リモート...\n",
       "8  tamura@assemblage.asia  医療法人の運営マネージャー・経営コンサルタント■東証1部上場グループ／年休122日／リモート...\n",
       "9  tamura@assemblage.asia  医療法人の運営マネージャー・経営コンサルタント■東証1部上場グループ／年休122日／リモート..."
      ]
     },
     "metadata": {},
     "output_type": "display_data"
    }
   ],
   "source": [
    "for j in range(0,2):\n",
    "    df_total = df_drop[df_drop['HEAD_HUNTER'] == HEAD_HUNTER_all[j][0]]\n",
    "    print(len(df_total))\n",
    "    print(df_total.value_counts())\n",
    "    display(df_total)"
   ]
  },
  {
   "cell_type": "markdown",
   "id": "89633faf-0465-41d8-949d-1a152676beb0",
   "metadata": {},
   "source": []
  }
 ],
 "metadata": {
  "kernelspec": {
   "display_name": "Python 3 (ipykernel)",
   "language": "python",
   "name": "python3"
  },
  "language_info": {
   "codemirror_mode": {
    "name": "ipython",
    "version": 3
   },
   "file_extension": ".py",
   "mimetype": "text/x-python",
   "name": "python",
   "nbconvert_exporter": "python",
   "pygments_lexer": "ipython3",
   "version": "3.9.12"
  }
 },
 "nbformat": 4,
 "nbformat_minor": 5
}
