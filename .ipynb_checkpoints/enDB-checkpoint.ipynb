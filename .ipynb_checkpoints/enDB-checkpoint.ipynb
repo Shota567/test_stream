{
 "cells": [
  {
   "cell_type": "code",
   "execution_count": 1,
   "id": "8d596df0-c97c-49c4-aad3-30bc4e01e065",
   "metadata": {},
   "outputs": [
    {
     "name": "stdout",
     "output_type": "stream",
     "text": [
      "Requirement already satisfied: selenium in c:\\users\\matsuno\\anaconda3\\lib\\site-packages (4.2.0)\n",
      "Requirement already satisfied: trio-websocket~=0.9 in c:\\users\\matsuno\\anaconda3\\lib\\site-packages (from selenium) (0.9.2)\n",
      "Requirement already satisfied: trio~=0.17 in c:\\users\\matsuno\\anaconda3\\lib\\site-packages (from selenium) (0.20.0)\n",
      "Requirement already satisfied: urllib3[secure,socks]~=1.26 in c:\\users\\matsuno\\anaconda3\\lib\\site-packages (from selenium) (1.26.9)\n",
      "Requirement already satisfied: idna in c:\\users\\matsuno\\anaconda3\\lib\\site-packages (from trio~=0.17->selenium) (3.3)\n",
      "Requirement already satisfied: cffi>=1.14 in c:\\users\\matsuno\\anaconda3\\lib\\site-packages (from trio~=0.17->selenium) (1.15.0)\n",
      "Requirement already satisfied: async-generator>=1.9 in c:\\users\\matsuno\\anaconda3\\lib\\site-packages (from trio~=0.17->selenium) (1.10)\n",
      "Requirement already satisfied: attrs>=19.2.0 in c:\\users\\matsuno\\anaconda3\\lib\\site-packages (from trio~=0.17->selenium) (21.4.0)\n",
      "Requirement already satisfied: sniffio in c:\\users\\matsuno\\anaconda3\\lib\\site-packages (from trio~=0.17->selenium) (1.2.0)\n",
      "Requirement already satisfied: sortedcontainers in c:\\users\\matsuno\\anaconda3\\lib\\site-packages (from trio~=0.17->selenium) (2.4.0)\n",
      "Requirement already satisfied: outcome in c:\\users\\matsuno\\anaconda3\\lib\\site-packages (from trio~=0.17->selenium) (1.1.0)\n",
      "Requirement already satisfied: pycparser in c:\\users\\matsuno\\anaconda3\\lib\\site-packages (from cffi>=1.14->trio~=0.17->selenium) (2.21)\n",
      "Requirement already satisfied: wsproto>=0.14 in c:\\users\\matsuno\\anaconda3\\lib\\site-packages (from trio-websocket~=0.9->selenium) (1.1.0)\n",
      "Requirement already satisfied: PySocks!=1.5.7,<2.0,>=1.5.6 in c:\\users\\matsuno\\anaconda3\\lib\\site-packages (from urllib3[secure,socks]~=1.26->selenium) (1.7.1)\n",
      "Requirement already satisfied: cryptography>=1.3.4 in c:\\users\\matsuno\\anaconda3\\lib\\site-packages (from urllib3[secure,socks]~=1.26->selenium) (3.4.7)\n",
      "Requirement already satisfied: certifi in c:\\users\\matsuno\\anaconda3\\lib\\site-packages (from urllib3[secure,socks]~=1.26->selenium) (2021.10.8)\n",
      "Requirement already satisfied: pyOpenSSL>=0.14 in c:\\users\\matsuno\\anaconda3\\lib\\site-packages (from urllib3[secure,socks]~=1.26->selenium) (21.0.0)\n",
      "Requirement already satisfied: six>=1.5.2 in c:\\users\\matsuno\\anaconda3\\lib\\site-packages (from pyOpenSSL>=0.14->urllib3[secure,socks]~=1.26->selenium) (1.16.0)\n",
      "Requirement already satisfied: h11<1,>=0.9.0 in c:\\users\\matsuno\\anaconda3\\lib\\site-packages (from wsproto>=0.14->trio-websocket~=0.9->selenium) (0.13.0)\n"
     ]
    }
   ],
   "source": [
    "!pip install selenium"
   ]
  },
  {
   "cell_type": "code",
   "execution_count": 2,
   "id": "c62caeb7-5b6d-4a81-9a82-186a71d42dd2",
   "metadata": {},
   "outputs": [],
   "source": [
    "from selenium import webdriver\n",
    "\n",
    "import time\n",
    "\n",
    "import pandas as pd\n",
    "\n",
    "from selenium.webdriver.common.action_chains import ActionChains\n",
    "from selenium.webdriver.common.keys import Keys\n",
    "from selenium.common.exceptions import NoSuchElementException\n",
    "\n",
    "import re\n",
    "\n",
    "import numpy as np\n",
    "import datetime\n",
    "\n"
   ]
  },
  {
   "cell_type": "code",
   "execution_count": 3,
   "id": "a52ec4cc-200b-4cea-b45e-7bae1b82fff6",
   "metadata": {},
   "outputs": [],
   "source": [
    "OKAMOTO = ['PMC002' , 'yutaka581214']\n",
    "IIDA = ['PMC010' , 'PPP0224']\n",
    "MASUDA = ['PMC012' , 'Chinami10']\n",
    "\n",
    "HEAD_HUNTER_all = [OKAMOTO , IIDA , MASUDA]\n",
    "\n",
    "url_login = 'https://mid-tenshoku.com/company_login/login/?PK=DB1298'"
   ]
  },
  {
   "cell_type": "code",
   "execution_count": 4,
   "id": "cc8983c0-efcf-4d01-86df-782107186c5b",
   "metadata": {},
   "outputs": [],
   "source": [
    "DAY = \"2022/05/01\"\n",
    "i = 2\n",
    "HEAD_HUNTER = HEAD_HUNTER_all[i]"
   ]
  },
  {
   "cell_type": "code",
   "execution_count": 6,
   "id": "11520a60-54d7-4f6b-be0b-dc6fc8cc3145",
   "metadata": {},
   "outputs": [
    {
     "name": "stderr",
     "output_type": "stream",
     "text": [
      "C:\\Users\\matsuno\\AppData\\Local\\Temp\\ipykernel_8048\\3325898327.py:1: DeprecationWarning: executable_path has been deprecated, please pass in a Service object\n",
      "  browser = webdriver.Chrome(executable_path = 'C:/Users/matsuno/Downloads/MyPandas/chromedriver.exe')\n"
     ]
    },
    {
     "name": "stdout",
     "output_type": "stream",
     "text": [
      "ログインページに開きました\n"
     ]
    }
   ],
   "source": [
    "browser = webdriver.Chrome(executable_path = 'C:/Users/matsuno/Downloads/MyPandas/chromedriver.exe')\n",
    "browser.implicitly_wait(10)\n",
    "browser.get(url_login)\n",
    "time.sleep(1)\n",
    "print(\"ログインページに開きました\")"
   ]
  },
  {
   "cell_type": "code",
   "execution_count": 7,
   "id": "44c56844-4654-4bfd-be22-479b93acd244",
   "metadata": {},
   "outputs": [
    {
     "name": "stderr",
     "output_type": "stream",
     "text": [
      "C:\\Users\\matsuno\\AppData\\Local\\Temp\\ipykernel_8048\\839271715.py:1: DeprecationWarning: find_element_by_name is deprecated. Please use find_element(by=By.NAME, value=name) instead\n",
      "  element = browser.find_element_by_name('accLoginID')\n",
      "C:\\Users\\matsuno\\AppData\\Local\\Temp\\ipykernel_8048\\839271715.py:5: DeprecationWarning: find_element_by_name is deprecated. Please use find_element(by=By.NAME, value=name) instead\n",
      "  element = browser.find_element_by_name('accLoginPW')\n"
     ]
    },
    {
     "name": "stdout",
     "output_type": "stream",
     "text": [
      "情報を入力しました\n"
     ]
    },
    {
     "name": "stderr",
     "output_type": "stream",
     "text": [
      "C:\\Users\\matsuno\\AppData\\Local\\Temp\\ipykernel_8048\\839271715.py:10: DeprecationWarning: find_element_by_xpath is deprecated. Please use find_element(by=By.XPATH, value=xpath) instead\n",
      "  browser_from = browser.find_element_by_xpath('/html/body/section/section[2]/div/form/div/span/button')\n"
     ]
    },
    {
     "name": "stdout",
     "output_type": "stream",
     "text": [
      "情報を入力してログインボタンを押しました\n"
     ]
    }
   ],
   "source": [
    "element = browser.find_element_by_name('accLoginID')\n",
    "element.clear()\n",
    "element.send_keys(HEAD_HUNTER[0])\n",
    "\n",
    "element = browser.find_element_by_name('accLoginPW')\n",
    "element.clear()\n",
    "element.send_keys(HEAD_HUNTER[1])\n",
    "print(\"情報を入力しました\")\n",
    "\n",
    "browser_from = browser.find_element_by_xpath('/html/body/section/section[2]/div/form/div/span/button')\n",
    "time.sleep(1)\n",
    "browser_from.click()\n",
    "time.sleep(1)\n",
    "print(\"情報を入力してログインボタンを押しました\")"
   ]
  },
  {
   "cell_type": "code",
   "execution_count": 8,
   "id": "f8f96f7c-5c04-431d-918d-a0562f5654f7",
   "metadata": {},
   "outputs": [
    {
     "name": "stdout",
     "output_type": "stream",
     "text": [
      "エンDBに移動\n"
     ]
    }
   ],
   "source": [
    "browser.get('https://mid-tenshoku.com/company/scout_emp/?PK=DB1298')\n",
    "time.sleep(1)\n",
    "print(\"エンDBに移動\")"
   ]
  },
  {
   "cell_type": "code",
   "execution_count": 9,
   "id": "049d0223-365a-460a-a44d-1c36a1bf08c7",
   "metadata": {},
   "outputs": [
    {
     "name": "stderr",
     "output_type": "stream",
     "text": [
      "C:\\Users\\matsuno\\AppData\\Local\\Temp\\ipykernel_8048\\955273208.py:1: DeprecationWarning: find_element_by_xpath is deprecated. Please use find_element(by=By.XPATH, value=xpath) instead\n",
      "  browser_from = browser.find_element_by_xpath('/html/body/section/div[2]/div/div/ul/li[3]/a')\n"
     ]
    },
    {
     "name": "stdout",
     "output_type": "stream",
     "text": [
      "送信済みスカウトに移動\n"
     ]
    }
   ],
   "source": [
    "browser_from = browser.find_element_by_xpath('/html/body/section/div[2]/div/div/ul/li[3]/a')\n",
    "time.sleep(3)\n",
    "browser_from.click()\n",
    "print(\"送信済みスカウトに移動\")"
   ]
  },
  {
   "cell_type": "code",
   "execution_count": 10,
   "id": "d3a1eded-b2dc-41e4-a76a-696bc7d431de",
   "metadata": {},
   "outputs": [
    {
     "data": {
      "text/plain": [
       "datetime.datetime"
      ]
     },
     "execution_count": 10,
     "metadata": {},
     "output_type": "execute_result"
    }
   ],
   "source": [
    "type(datetime.datetime.strptime(DAY, '%Y/%m/%d'))"
   ]
  },
  {
   "cell_type": "code",
   "execution_count": 43,
   "id": "eb56199d-eb32-4da5-8d85-bd8ea549e813",
   "metadata": {},
   "outputs": [
    {
     "name": "stderr",
     "output_type": "stream",
     "text": [
      "C:\\Users\\matsuno\\AppData\\Local\\Temp\\ipykernel_8048\\1141169127.py:21: DeprecationWarning: find_element_by_xpath is deprecated. Please use find_element(by=By.XPATH, value=xpath) instead\n",
      "  element_page = browser.find_element_by_xpath('/html/body/section/section/div/div[1]/span')\n",
      "C:\\Users\\matsuno\\AppData\\Local\\Temp\\ipykernel_8048\\1141169127.py:26: DeprecationWarning: find_element_by_xpath is deprecated. Please use find_element(by=By.XPATH, value=xpath) instead\n",
      "  element_DAY = browser.find_element_by_xpath('/html/body/section/section/div/div[2]/div[' + str(i) + ']/div[1]/div[1]/div[2]/div[1]/div')\n",
      "C:\\Users\\matsuno\\AppData\\Local\\Temp\\ipykernel_8048\\1141169127.py:34: DeprecationWarning: find_element_by_xpath is deprecated. Please use find_element(by=By.XPATH, value=xpath) instead\n",
      "  element_tittle = browser.find_element_by_xpath('/html/body/section/section/div/div[2]/div[' + str(i) + ']/div[1]/div[1]/div[3]/div/a/div[2]/span[2]')\n"
     ]
    },
    {
     "name": "stdout",
     "output_type": "stream",
     "text": [
      "全1115件中、1101～1115件を表示\n",
      "1件目　2022/07/15\n",
      "1件目　【非公開求人】国際会議のディレクター職のご紹介\n"
     ]
    },
    {
     "name": "stderr",
     "output_type": "stream",
     "text": [
      "C:\\Users\\matsuno\\AppData\\Local\\Temp\\ipykernel_8048\\1141169127.py:26: DeprecationWarning: find_element_by_xpath is deprecated. Please use find_element(by=By.XPATH, value=xpath) instead\n",
      "  element_DAY = browser.find_element_by_xpath('/html/body/section/section/div/div[2]/div[' + str(i) + ']/div[1]/div[1]/div[2]/div[1]/div')\n",
      "C:\\Users\\matsuno\\AppData\\Local\\Temp\\ipykernel_8048\\1141169127.py:34: DeprecationWarning: find_element_by_xpath is deprecated. Please use find_element(by=By.XPATH, value=xpath) instead\n",
      "  element_tittle = browser.find_element_by_xpath('/html/body/section/section/div/div[2]/div[' + str(i) + ']/div[1]/div[1]/div[3]/div/a/div[2]/span[2]')\n",
      "C:\\Users\\matsuno\\AppData\\Local\\Temp\\ipykernel_8048\\1141169127.py:26: DeprecationWarning: find_element_by_xpath is deprecated. Please use find_element(by=By.XPATH, value=xpath) instead\n",
      "  element_DAY = browser.find_element_by_xpath('/html/body/section/section/div/div[2]/div[' + str(i) + ']/div[1]/div[1]/div[2]/div[1]/div')\n",
      "C:\\Users\\matsuno\\AppData\\Local\\Temp\\ipykernel_8048\\1141169127.py:34: DeprecationWarning: find_element_by_xpath is deprecated. Please use find_element(by=By.XPATH, value=xpath) instead\n",
      "  element_tittle = browser.find_element_by_xpath('/html/body/section/section/div/div[2]/div[' + str(i) + ']/div[1]/div[1]/div[3]/div/a/div[2]/span[2]')\n"
     ]
    },
    {
     "name": "stdout",
     "output_type": "stream",
     "text": [
      "2件目　2022/07/15\n",
      "2件目　【非公開求人】国際会議のディレクター職のご紹介\n",
      "3件目　2022/07/15\n",
      "3件目　【非公開求人】国際会議のディレクター職のご紹介\n"
     ]
    },
    {
     "name": "stderr",
     "output_type": "stream",
     "text": [
      "C:\\Users\\matsuno\\AppData\\Local\\Temp\\ipykernel_8048\\1141169127.py:26: DeprecationWarning: find_element_by_xpath is deprecated. Please use find_element(by=By.XPATH, value=xpath) instead\n",
      "  element_DAY = browser.find_element_by_xpath('/html/body/section/section/div/div[2]/div[' + str(i) + ']/div[1]/div[1]/div[2]/div[1]/div')\n",
      "C:\\Users\\matsuno\\AppData\\Local\\Temp\\ipykernel_8048\\1141169127.py:34: DeprecationWarning: find_element_by_xpath is deprecated. Please use find_element(by=By.XPATH, value=xpath) instead\n",
      "  element_tittle = browser.find_element_by_xpath('/html/body/section/section/div/div[2]/div[' + str(i) + ']/div[1]/div[1]/div[3]/div/a/div[2]/span[2]')\n",
      "C:\\Users\\matsuno\\AppData\\Local\\Temp\\ipykernel_8048\\1141169127.py:26: DeprecationWarning: find_element_by_xpath is deprecated. Please use find_element(by=By.XPATH, value=xpath) instead\n",
      "  element_DAY = browser.find_element_by_xpath('/html/body/section/section/div/div[2]/div[' + str(i) + ']/div[1]/div[1]/div[2]/div[1]/div')\n",
      "C:\\Users\\matsuno\\AppData\\Local\\Temp\\ipykernel_8048\\1141169127.py:34: DeprecationWarning: find_element_by_xpath is deprecated. Please use find_element(by=By.XPATH, value=xpath) instead\n",
      "  element_tittle = browser.find_element_by_xpath('/html/body/section/section/div/div[2]/div[' + str(i) + ']/div[1]/div[1]/div[3]/div/a/div[2]/span[2]')\n"
     ]
    },
    {
     "name": "stdout",
     "output_type": "stream",
     "text": [
      "4件目　2022/07/15\n",
      "4件目　【非公開求人】国際会議のディレクター職のご紹介\n",
      "5件目　2022/07/15\n",
      "5件目　【非公開求人】国際会議のディレクター職のご紹介\n"
     ]
    },
    {
     "name": "stderr",
     "output_type": "stream",
     "text": [
      "C:\\Users\\matsuno\\AppData\\Local\\Temp\\ipykernel_8048\\1141169127.py:26: DeprecationWarning: find_element_by_xpath is deprecated. Please use find_element(by=By.XPATH, value=xpath) instead\n",
      "  element_DAY = browser.find_element_by_xpath('/html/body/section/section/div/div[2]/div[' + str(i) + ']/div[1]/div[1]/div[2]/div[1]/div')\n",
      "C:\\Users\\matsuno\\AppData\\Local\\Temp\\ipykernel_8048\\1141169127.py:34: DeprecationWarning: find_element_by_xpath is deprecated. Please use find_element(by=By.XPATH, value=xpath) instead\n",
      "  element_tittle = browser.find_element_by_xpath('/html/body/section/section/div/div[2]/div[' + str(i) + ']/div[1]/div[1]/div[3]/div/a/div[2]/span[2]')\n",
      "C:\\Users\\matsuno\\AppData\\Local\\Temp\\ipykernel_8048\\1141169127.py:26: DeprecationWarning: find_element_by_xpath is deprecated. Please use find_element(by=By.XPATH, value=xpath) instead\n",
      "  element_DAY = browser.find_element_by_xpath('/html/body/section/section/div/div[2]/div[' + str(i) + ']/div[1]/div[1]/div[2]/div[1]/div')\n",
      "C:\\Users\\matsuno\\AppData\\Local\\Temp\\ipykernel_8048\\1141169127.py:34: DeprecationWarning: find_element_by_xpath is deprecated. Please use find_element(by=By.XPATH, value=xpath) instead\n",
      "  element_tittle = browser.find_element_by_xpath('/html/body/section/section/div/div[2]/div[' + str(i) + ']/div[1]/div[1]/div[3]/div/a/div[2]/span[2]')\n"
     ]
    },
    {
     "name": "stdout",
     "output_type": "stream",
     "text": [
      "6件目　2022/07/15\n",
      "6件目　【非公開求人】国際会議のディレクター職のご紹介\n",
      "7件目　2022/07/15\n",
      "7件目　【非公開求人】国際会議のディレクター職のご紹介\n"
     ]
    },
    {
     "name": "stderr",
     "output_type": "stream",
     "text": [
      "C:\\Users\\matsuno\\AppData\\Local\\Temp\\ipykernel_8048\\1141169127.py:26: DeprecationWarning: find_element_by_xpath is deprecated. Please use find_element(by=By.XPATH, value=xpath) instead\n",
      "  element_DAY = browser.find_element_by_xpath('/html/body/section/section/div/div[2]/div[' + str(i) + ']/div[1]/div[1]/div[2]/div[1]/div')\n",
      "C:\\Users\\matsuno\\AppData\\Local\\Temp\\ipykernel_8048\\1141169127.py:34: DeprecationWarning: find_element_by_xpath is deprecated. Please use find_element(by=By.XPATH, value=xpath) instead\n",
      "  element_tittle = browser.find_element_by_xpath('/html/body/section/section/div/div[2]/div[' + str(i) + ']/div[1]/div[1]/div[3]/div/a/div[2]/span[2]')\n",
      "C:\\Users\\matsuno\\AppData\\Local\\Temp\\ipykernel_8048\\1141169127.py:26: DeprecationWarning: find_element_by_xpath is deprecated. Please use find_element(by=By.XPATH, value=xpath) instead\n",
      "  element_DAY = browser.find_element_by_xpath('/html/body/section/section/div/div[2]/div[' + str(i) + ']/div[1]/div[1]/div[2]/div[1]/div')\n",
      "C:\\Users\\matsuno\\AppData\\Local\\Temp\\ipykernel_8048\\1141169127.py:34: DeprecationWarning: find_element_by_xpath is deprecated. Please use find_element(by=By.XPATH, value=xpath) instead\n",
      "  element_tittle = browser.find_element_by_xpath('/html/body/section/section/div/div[2]/div[' + str(i) + ']/div[1]/div[1]/div[3]/div/a/div[2]/span[2]')\n"
     ]
    },
    {
     "name": "stdout",
     "output_type": "stream",
     "text": [
      "8件目　2022/07/15\n",
      "8件目　【非公開求人】国際会議のディレクター職のご紹介\n",
      "9件目　2022/07/15\n",
      "9件目　【非公開求人】国際会議のディレクター職のご紹介\n"
     ]
    },
    {
     "name": "stderr",
     "output_type": "stream",
     "text": [
      "C:\\Users\\matsuno\\AppData\\Local\\Temp\\ipykernel_8048\\1141169127.py:26: DeprecationWarning: find_element_by_xpath is deprecated. Please use find_element(by=By.XPATH, value=xpath) instead\n",
      "  element_DAY = browser.find_element_by_xpath('/html/body/section/section/div/div[2]/div[' + str(i) + ']/div[1]/div[1]/div[2]/div[1]/div')\n",
      "C:\\Users\\matsuno\\AppData\\Local\\Temp\\ipykernel_8048\\1141169127.py:34: DeprecationWarning: find_element_by_xpath is deprecated. Please use find_element(by=By.XPATH, value=xpath) instead\n",
      "  element_tittle = browser.find_element_by_xpath('/html/body/section/section/div/div[2]/div[' + str(i) + ']/div[1]/div[1]/div[3]/div/a/div[2]/span[2]')\n",
      "C:\\Users\\matsuno\\AppData\\Local\\Temp\\ipykernel_8048\\1141169127.py:26: DeprecationWarning: find_element_by_xpath is deprecated. Please use find_element(by=By.XPATH, value=xpath) instead\n",
      "  element_DAY = browser.find_element_by_xpath('/html/body/section/section/div/div[2]/div[' + str(i) + ']/div[1]/div[1]/div[2]/div[1]/div')\n",
      "C:\\Users\\matsuno\\AppData\\Local\\Temp\\ipykernel_8048\\1141169127.py:34: DeprecationWarning: find_element_by_xpath is deprecated. Please use find_element(by=By.XPATH, value=xpath) instead\n",
      "  element_tittle = browser.find_element_by_xpath('/html/body/section/section/div/div[2]/div[' + str(i) + ']/div[1]/div[1]/div[3]/div/a/div[2]/span[2]')\n"
     ]
    },
    {
     "name": "stdout",
     "output_type": "stream",
     "text": [
      "10件目　2022/07/15\n",
      "10件目　【非公開求人】国際会議のディレクター職のご紹介\n",
      "11件目　2022/07/15\n",
      "11件目　【非公開求人】国際会議のディレクター職のご紹介\n"
     ]
    },
    {
     "name": "stderr",
     "output_type": "stream",
     "text": [
      "C:\\Users\\matsuno\\AppData\\Local\\Temp\\ipykernel_8048\\1141169127.py:26: DeprecationWarning: find_element_by_xpath is deprecated. Please use find_element(by=By.XPATH, value=xpath) instead\n",
      "  element_DAY = browser.find_element_by_xpath('/html/body/section/section/div/div[2]/div[' + str(i) + ']/div[1]/div[1]/div[2]/div[1]/div')\n",
      "C:\\Users\\matsuno\\AppData\\Local\\Temp\\ipykernel_8048\\1141169127.py:34: DeprecationWarning: find_element_by_xpath is deprecated. Please use find_element(by=By.XPATH, value=xpath) instead\n",
      "  element_tittle = browser.find_element_by_xpath('/html/body/section/section/div/div[2]/div[' + str(i) + ']/div[1]/div[1]/div[3]/div/a/div[2]/span[2]')\n",
      "C:\\Users\\matsuno\\AppData\\Local\\Temp\\ipykernel_8048\\1141169127.py:26: DeprecationWarning: find_element_by_xpath is deprecated. Please use find_element(by=By.XPATH, value=xpath) instead\n",
      "  element_DAY = browser.find_element_by_xpath('/html/body/section/section/div/div[2]/div[' + str(i) + ']/div[1]/div[1]/div[2]/div[1]/div')\n",
      "C:\\Users\\matsuno\\AppData\\Local\\Temp\\ipykernel_8048\\1141169127.py:34: DeprecationWarning: find_element_by_xpath is deprecated. Please use find_element(by=By.XPATH, value=xpath) instead\n",
      "  element_tittle = browser.find_element_by_xpath('/html/body/section/section/div/div[2]/div[' + str(i) + ']/div[1]/div[1]/div[3]/div/a/div[2]/span[2]')\n"
     ]
    },
    {
     "name": "stdout",
     "output_type": "stream",
     "text": [
      "12件目　2022/07/15\n",
      "12件目　【非公開求人】国際会議のディレクター職のご紹介\n",
      "13件目　2022/07/15\n",
      "13件目　【非公開求人】国際会議のディレクター職のご紹介\n"
     ]
    },
    {
     "name": "stderr",
     "output_type": "stream",
     "text": [
      "C:\\Users\\matsuno\\AppData\\Local\\Temp\\ipykernel_8048\\1141169127.py:26: DeprecationWarning: find_element_by_xpath is deprecated. Please use find_element(by=By.XPATH, value=xpath) instead\n",
      "  element_DAY = browser.find_element_by_xpath('/html/body/section/section/div/div[2]/div[' + str(i) + ']/div[1]/div[1]/div[2]/div[1]/div')\n",
      "C:\\Users\\matsuno\\AppData\\Local\\Temp\\ipykernel_8048\\1141169127.py:34: DeprecationWarning: find_element_by_xpath is deprecated. Please use find_element(by=By.XPATH, value=xpath) instead\n",
      "  element_tittle = browser.find_element_by_xpath('/html/body/section/section/div/div[2]/div[' + str(i) + ']/div[1]/div[1]/div[3]/div/a/div[2]/span[2]')\n",
      "C:\\Users\\matsuno\\AppData\\Local\\Temp\\ipykernel_8048\\1141169127.py:26: DeprecationWarning: find_element_by_xpath is deprecated. Please use find_element(by=By.XPATH, value=xpath) instead\n",
      "  element_DAY = browser.find_element_by_xpath('/html/body/section/section/div/div[2]/div[' + str(i) + ']/div[1]/div[1]/div[2]/div[1]/div')\n",
      "C:\\Users\\matsuno\\AppData\\Local\\Temp\\ipykernel_8048\\1141169127.py:34: DeprecationWarning: find_element_by_xpath is deprecated. Please use find_element(by=By.XPATH, value=xpath) instead\n",
      "  element_tittle = browser.find_element_by_xpath('/html/body/section/section/div/div[2]/div[' + str(i) + ']/div[1]/div[1]/div[3]/div/a/div[2]/span[2]')\n"
     ]
    },
    {
     "name": "stdout",
     "output_type": "stream",
     "text": [
      "14件目　2022/07/15\n",
      "14件目　【非公開求人】国際会議のディレクター職のご紹介\n",
      "15件目　2022/07/15\n",
      "15件目　【非公開求人】国際会議のディレクター職のご紹介\n"
     ]
    },
    {
     "name": "stderr",
     "output_type": "stream",
     "text": [
      "C:\\Users\\matsuno\\AppData\\Local\\Temp\\ipykernel_8048\\1141169127.py:26: DeprecationWarning: find_element_by_xpath is deprecated. Please use find_element(by=By.XPATH, value=xpath) instead\n",
      "  element_DAY = browser.find_element_by_xpath('/html/body/section/section/div/div[2]/div[' + str(i) + ']/div[1]/div[1]/div[2]/div[1]/div')\n",
      "C:\\Users\\matsuno\\AppData\\Local\\Temp\\ipykernel_8048\\1141169127.py:28: DeprecationWarning: find_element_by_xpath is deprecated. Please use find_element(by=By.XPATH, value=xpath) instead\n",
      "  element_DAY = browser.find_element_by_xpath('/html/body/section/section/div/div[2]/div[' + str(i) + ']/div[1]/div/div[2]/div[1]/div')\n"
     ]
    },
    {
     "ename": "NoSuchElementException",
     "evalue": "Message: no such element: Unable to locate element: {\"method\":\"xpath\",\"selector\":\"/html/body/section/section/div/div[2]/div[16]/div[1]/div/div[2]/div[1]/div\"}\n  (Session info: chrome=104.0.5112.81)\nStacktrace:\nBacktrace:\n\tOrdinal0 [0x00D078B3+2193587]\n\tOrdinal0 [0x00CA0681+1771137]\n\tOrdinal0 [0x00BB41A8+803240]\n\tOrdinal0 [0x00BE24A0+992416]\n\tOrdinal0 [0x00BE273B+993083]\n\tOrdinal0 [0x00C0F7C2+1177538]\n\tOrdinal0 [0x00BFD7F4+1103860]\n\tOrdinal0 [0x00C0DAE2+1170146]\n\tOrdinal0 [0x00BFD5C6+1103302]\n\tOrdinal0 [0x00BD77E0+948192]\n\tOrdinal0 [0x00BD86E6+952038]\n\tGetHandleVerifier [0x00FB0CB2+2738370]\n\tGetHandleVerifier [0x00FA21B8+2678216]\n\tGetHandleVerifier [0x00D917AA+512954]\n\tGetHandleVerifier [0x00D90856+509030]\n\tOrdinal0 [0x00CA743B+1799227]\n\tOrdinal0 [0x00CABB68+1817448]\n\tOrdinal0 [0x00CABC55+1817685]\n\tOrdinal0 [0x00CB5230+1856048]\n\tBaseThreadInitThunk [0x76506739+25]\n\tRtlGetFullPathName_UEx [0x776E8FEF+1215]\n\tRtlGetFullPathName_UEx [0x776E8FBD+1165]\n",
     "output_type": "error",
     "traceback": [
      "\u001b[1;31m---------------------------------------------------------------------------\u001b[0m",
      "\u001b[1;31mNoSuchElementException\u001b[0m                    Traceback (most recent call last)",
      "Input \u001b[1;32mIn [43]\u001b[0m, in \u001b[0;36m<cell line: 11>\u001b[1;34m()\u001b[0m\n\u001b[0;32m     25\u001b[0m \u001b[38;5;28;01mtry\u001b[39;00m:\n\u001b[1;32m---> 26\u001b[0m     element_DAY \u001b[38;5;241m=\u001b[39m \u001b[43mbrowser\u001b[49m\u001b[38;5;241;43m.\u001b[39;49m\u001b[43mfind_element_by_xpath\u001b[49m\u001b[43m(\u001b[49m\u001b[38;5;124;43m'\u001b[39;49m\u001b[38;5;124;43m/html/body/section/section/div/div[2]/div[\u001b[39;49m\u001b[38;5;124;43m'\u001b[39;49m\u001b[43m \u001b[49m\u001b[38;5;241;43m+\u001b[39;49m\u001b[43m \u001b[49m\u001b[38;5;28;43mstr\u001b[39;49m\u001b[43m(\u001b[49m\u001b[43mi\u001b[49m\u001b[43m)\u001b[49m\u001b[43m \u001b[49m\u001b[38;5;241;43m+\u001b[39;49m\u001b[43m \u001b[49m\u001b[38;5;124;43m'\u001b[39;49m\u001b[38;5;124;43m]/div[1]/div[1]/div[2]/div[1]/div\u001b[39;49m\u001b[38;5;124;43m'\u001b[39;49m\u001b[43m)\u001b[49m\n\u001b[0;32m     27\u001b[0m \u001b[38;5;28;01mexcept\u001b[39;00m NoSuchElementException:\n",
      "File \u001b[1;32m~\\anaconda3\\lib\\site-packages\\selenium\\webdriver\\remote\\webdriver.py:526\u001b[0m, in \u001b[0;36mWebDriver.find_element_by_xpath\u001b[1;34m(self, xpath)\u001b[0m\n\u001b[0;32m    521\u001b[0m warnings\u001b[38;5;241m.\u001b[39mwarn(\n\u001b[0;32m    522\u001b[0m     \u001b[38;5;124m\"\u001b[39m\u001b[38;5;124mfind_element_by_xpath is deprecated. Please use find_element(by=By.XPATH, value=xpath) instead\u001b[39m\u001b[38;5;124m\"\u001b[39m,\n\u001b[0;32m    523\u001b[0m     \u001b[38;5;167;01mDeprecationWarning\u001b[39;00m,\n\u001b[0;32m    524\u001b[0m     stacklevel\u001b[38;5;241m=\u001b[39m\u001b[38;5;241m2\u001b[39m,\n\u001b[0;32m    525\u001b[0m )\n\u001b[1;32m--> 526\u001b[0m \u001b[38;5;28;01mreturn\u001b[39;00m \u001b[38;5;28;43mself\u001b[39;49m\u001b[38;5;241;43m.\u001b[39;49m\u001b[43mfind_element\u001b[49m\u001b[43m(\u001b[49m\u001b[43mby\u001b[49m\u001b[38;5;241;43m=\u001b[39;49m\u001b[43mBy\u001b[49m\u001b[38;5;241;43m.\u001b[39;49m\u001b[43mXPATH\u001b[49m\u001b[43m,\u001b[49m\u001b[43m \u001b[49m\u001b[43mvalue\u001b[49m\u001b[38;5;241;43m=\u001b[39;49m\u001b[43mxpath\u001b[49m\u001b[43m)\u001b[49m\n",
      "File \u001b[1;32m~\\anaconda3\\lib\\site-packages\\selenium\\webdriver\\remote\\webdriver.py:1251\u001b[0m, in \u001b[0;36mWebDriver.find_element\u001b[1;34m(self, by, value)\u001b[0m\n\u001b[0;32m   1249\u001b[0m     value \u001b[38;5;241m=\u001b[39m \u001b[38;5;124m'\u001b[39m\u001b[38;5;124m[name=\u001b[39m\u001b[38;5;124m\"\u001b[39m\u001b[38;5;132;01m%s\u001b[39;00m\u001b[38;5;124m\"\u001b[39m\u001b[38;5;124m]\u001b[39m\u001b[38;5;124m'\u001b[39m \u001b[38;5;241m%\u001b[39m value\n\u001b[1;32m-> 1251\u001b[0m \u001b[38;5;28;01mreturn\u001b[39;00m \u001b[38;5;28;43mself\u001b[39;49m\u001b[38;5;241;43m.\u001b[39;49m\u001b[43mexecute\u001b[49m\u001b[43m(\u001b[49m\u001b[43mCommand\u001b[49m\u001b[38;5;241;43m.\u001b[39;49m\u001b[43mFIND_ELEMENT\u001b[49m\u001b[43m,\u001b[49m\u001b[43m \u001b[49m\u001b[43m{\u001b[49m\n\u001b[0;32m   1252\u001b[0m \u001b[43m    \u001b[49m\u001b[38;5;124;43m'\u001b[39;49m\u001b[38;5;124;43musing\u001b[39;49m\u001b[38;5;124;43m'\u001b[39;49m\u001b[43m:\u001b[49m\u001b[43m \u001b[49m\u001b[43mby\u001b[49m\u001b[43m,\u001b[49m\n\u001b[0;32m   1253\u001b[0m \u001b[43m    \u001b[49m\u001b[38;5;124;43m'\u001b[39;49m\u001b[38;5;124;43mvalue\u001b[39;49m\u001b[38;5;124;43m'\u001b[39;49m\u001b[43m:\u001b[49m\u001b[43m \u001b[49m\u001b[43mvalue\u001b[49m\u001b[43m}\u001b[49m\u001b[43m)\u001b[49m[\u001b[38;5;124m'\u001b[39m\u001b[38;5;124mvalue\u001b[39m\u001b[38;5;124m'\u001b[39m]\n",
      "File \u001b[1;32m~\\anaconda3\\lib\\site-packages\\selenium\\webdriver\\remote\\webdriver.py:430\u001b[0m, in \u001b[0;36mWebDriver.execute\u001b[1;34m(self, driver_command, params)\u001b[0m\n\u001b[0;32m    429\u001b[0m \u001b[38;5;28;01mif\u001b[39;00m response:\n\u001b[1;32m--> 430\u001b[0m     \u001b[38;5;28;43mself\u001b[39;49m\u001b[38;5;241;43m.\u001b[39;49m\u001b[43merror_handler\u001b[49m\u001b[38;5;241;43m.\u001b[39;49m\u001b[43mcheck_response\u001b[49m\u001b[43m(\u001b[49m\u001b[43mresponse\u001b[49m\u001b[43m)\u001b[49m\n\u001b[0;32m    431\u001b[0m     response[\u001b[38;5;124m'\u001b[39m\u001b[38;5;124mvalue\u001b[39m\u001b[38;5;124m'\u001b[39m] \u001b[38;5;241m=\u001b[39m \u001b[38;5;28mself\u001b[39m\u001b[38;5;241m.\u001b[39m_unwrap_value(\n\u001b[0;32m    432\u001b[0m         response\u001b[38;5;241m.\u001b[39mget(\u001b[38;5;124m'\u001b[39m\u001b[38;5;124mvalue\u001b[39m\u001b[38;5;124m'\u001b[39m, \u001b[38;5;28;01mNone\u001b[39;00m))\n",
      "File \u001b[1;32m~\\anaconda3\\lib\\site-packages\\selenium\\webdriver\\remote\\errorhandler.py:247\u001b[0m, in \u001b[0;36mErrorHandler.check_response\u001b[1;34m(self, response)\u001b[0m\n\u001b[0;32m    246\u001b[0m     \u001b[38;5;28;01mraise\u001b[39;00m exception_class(message, screen, stacktrace, alert_text)  \u001b[38;5;66;03m# type: ignore[call-arg]  # mypy is not smart enough here\u001b[39;00m\n\u001b[1;32m--> 247\u001b[0m \u001b[38;5;28;01mraise\u001b[39;00m exception_class(message, screen, stacktrace)\n",
      "\u001b[1;31mNoSuchElementException\u001b[0m: Message: no such element: Unable to locate element: {\"method\":\"xpath\",\"selector\":\"/html/body/section/section/div/div[2]/div[16]/div[1]/div[1]/div[2]/div[1]/div\"}\n  (Session info: chrome=104.0.5112.81)\nStacktrace:\nBacktrace:\n\tOrdinal0 [0x00D078B3+2193587]\n\tOrdinal0 [0x00CA0681+1771137]\n\tOrdinal0 [0x00BB41A8+803240]\n\tOrdinal0 [0x00BE24A0+992416]\n\tOrdinal0 [0x00BE273B+993083]\n\tOrdinal0 [0x00C0F7C2+1177538]\n\tOrdinal0 [0x00BFD7F4+1103860]\n\tOrdinal0 [0x00C0DAE2+1170146]\n\tOrdinal0 [0x00BFD5C6+1103302]\n\tOrdinal0 [0x00BD77E0+948192]\n\tOrdinal0 [0x00BD86E6+952038]\n\tGetHandleVerifier [0x00FB0CB2+2738370]\n\tGetHandleVerifier [0x00FA21B8+2678216]\n\tGetHandleVerifier [0x00D917AA+512954]\n\tGetHandleVerifier [0x00D90856+509030]\n\tOrdinal0 [0x00CA743B+1799227]\n\tOrdinal0 [0x00CABB68+1817448]\n\tOrdinal0 [0x00CABC55+1817685]\n\tOrdinal0 [0x00CB5230+1856048]\n\tBaseThreadInitThunk [0x76506739+25]\n\tRtlGetFullPathName_UEx [0x776E8FEF+1215]\n\tRtlGetFullPathName_UEx [0x776E8FBD+1165]\n",
      "\nDuring handling of the above exception, another exception occurred:\n",
      "\u001b[1;31mNoSuchElementException\u001b[0m                    Traceback (most recent call last)",
      "Input \u001b[1;32mIn [43]\u001b[0m, in \u001b[0;36m<cell line: 11>\u001b[1;34m()\u001b[0m\n\u001b[0;32m     26\u001b[0m     element_DAY \u001b[38;5;241m=\u001b[39m browser\u001b[38;5;241m.\u001b[39mfind_element_by_xpath(\u001b[38;5;124m'\u001b[39m\u001b[38;5;124m/html/body/section/section/div/div[2]/div[\u001b[39m\u001b[38;5;124m'\u001b[39m \u001b[38;5;241m+\u001b[39m \u001b[38;5;28mstr\u001b[39m(i) \u001b[38;5;241m+\u001b[39m \u001b[38;5;124m'\u001b[39m\u001b[38;5;124m]/div[1]/div[1]/div[2]/div[1]/div\u001b[39m\u001b[38;5;124m'\u001b[39m)\n\u001b[0;32m     27\u001b[0m \u001b[38;5;28;01mexcept\u001b[39;00m NoSuchElementException:\n\u001b[1;32m---> 28\u001b[0m     element_DAY \u001b[38;5;241m=\u001b[39m \u001b[43mbrowser\u001b[49m\u001b[38;5;241;43m.\u001b[39;49m\u001b[43mfind_element_by_xpath\u001b[49m\u001b[43m(\u001b[49m\u001b[38;5;124;43m'\u001b[39;49m\u001b[38;5;124;43m/html/body/section/section/div/div[2]/div[\u001b[39;49m\u001b[38;5;124;43m'\u001b[39;49m\u001b[43m \u001b[49m\u001b[38;5;241;43m+\u001b[39;49m\u001b[43m \u001b[49m\u001b[38;5;28;43mstr\u001b[39;49m\u001b[43m(\u001b[49m\u001b[43mi\u001b[49m\u001b[43m)\u001b[49m\u001b[43m \u001b[49m\u001b[38;5;241;43m+\u001b[39;49m\u001b[43m \u001b[49m\u001b[38;5;124;43m'\u001b[39;49m\u001b[38;5;124;43m]/div[1]/div/div[2]/div[1]/div\u001b[39;49m\u001b[38;5;124;43m'\u001b[39;49m\u001b[43m)\u001b[49m\n\u001b[0;32m     30\u001b[0m tdatetime \u001b[38;5;241m=\u001b[39m datetime\u001b[38;5;241m.\u001b[39mdatetime\u001b[38;5;241m.\u001b[39mstrptime(element_DAY\u001b[38;5;241m.\u001b[39mtext\u001b[38;5;241m.\u001b[39msplit(\u001b[38;5;124m'\u001b[39m\u001b[38;5;124m:\u001b[39m\u001b[38;5;124m'\u001b[39m)[\u001b[38;5;241m1\u001b[39m], \u001b[38;5;124m'\u001b[39m\u001b[38;5;124m%\u001b[39m\u001b[38;5;124mY/\u001b[39m\u001b[38;5;124m%\u001b[39m\u001b[38;5;124mm/\u001b[39m\u001b[38;5;132;01m%d\u001b[39;00m\u001b[38;5;124m'\u001b[39m)\n\u001b[0;32m     32\u001b[0m \u001b[38;5;28;01mif\u001b[39;00m element_DAY\u001b[38;5;241m.\u001b[39mtext\u001b[38;5;241m.\u001b[39msplit(\u001b[38;5;124m'\u001b[39m\u001b[38;5;124m:\u001b[39m\u001b[38;5;124m'\u001b[39m)[\u001b[38;5;241m1\u001b[39m] \u001b[38;5;241m>\u001b[39m DAY:\n",
      "File \u001b[1;32m~\\anaconda3\\lib\\site-packages\\selenium\\webdriver\\remote\\webdriver.py:526\u001b[0m, in \u001b[0;36mWebDriver.find_element_by_xpath\u001b[1;34m(self, xpath)\u001b[0m\n\u001b[0;32m    504\u001b[0m \u001b[38;5;124;03m\"\"\"\u001b[39;00m\n\u001b[0;32m    505\u001b[0m \u001b[38;5;124;03mFinds an element by xpath.\u001b[39;00m\n\u001b[0;32m    506\u001b[0m \n\u001b[1;32m   (...)\u001b[0m\n\u001b[0;32m    519\u001b[0m \u001b[38;5;124;03m        element = driver.find_element_by_xpath('//div/td[1]')\u001b[39;00m\n\u001b[0;32m    520\u001b[0m \u001b[38;5;124;03m\"\"\"\u001b[39;00m\n\u001b[0;32m    521\u001b[0m warnings\u001b[38;5;241m.\u001b[39mwarn(\n\u001b[0;32m    522\u001b[0m     \u001b[38;5;124m\"\u001b[39m\u001b[38;5;124mfind_element_by_xpath is deprecated. Please use find_element(by=By.XPATH, value=xpath) instead\u001b[39m\u001b[38;5;124m\"\u001b[39m,\n\u001b[0;32m    523\u001b[0m     \u001b[38;5;167;01mDeprecationWarning\u001b[39;00m,\n\u001b[0;32m    524\u001b[0m     stacklevel\u001b[38;5;241m=\u001b[39m\u001b[38;5;241m2\u001b[39m,\n\u001b[0;32m    525\u001b[0m )\n\u001b[1;32m--> 526\u001b[0m \u001b[38;5;28;01mreturn\u001b[39;00m \u001b[38;5;28;43mself\u001b[39;49m\u001b[38;5;241;43m.\u001b[39;49m\u001b[43mfind_element\u001b[49m\u001b[43m(\u001b[49m\u001b[43mby\u001b[49m\u001b[38;5;241;43m=\u001b[39;49m\u001b[43mBy\u001b[49m\u001b[38;5;241;43m.\u001b[39;49m\u001b[43mXPATH\u001b[49m\u001b[43m,\u001b[49m\u001b[43m \u001b[49m\u001b[43mvalue\u001b[49m\u001b[38;5;241;43m=\u001b[39;49m\u001b[43mxpath\u001b[49m\u001b[43m)\u001b[49m\n",
      "File \u001b[1;32m~\\anaconda3\\lib\\site-packages\\selenium\\webdriver\\remote\\webdriver.py:1251\u001b[0m, in \u001b[0;36mWebDriver.find_element\u001b[1;34m(self, by, value)\u001b[0m\n\u001b[0;32m   1248\u001b[0m     by \u001b[38;5;241m=\u001b[39m By\u001b[38;5;241m.\u001b[39mCSS_SELECTOR\n\u001b[0;32m   1249\u001b[0m     value \u001b[38;5;241m=\u001b[39m \u001b[38;5;124m'\u001b[39m\u001b[38;5;124m[name=\u001b[39m\u001b[38;5;124m\"\u001b[39m\u001b[38;5;132;01m%s\u001b[39;00m\u001b[38;5;124m\"\u001b[39m\u001b[38;5;124m]\u001b[39m\u001b[38;5;124m'\u001b[39m \u001b[38;5;241m%\u001b[39m value\n\u001b[1;32m-> 1251\u001b[0m \u001b[38;5;28;01mreturn\u001b[39;00m \u001b[38;5;28;43mself\u001b[39;49m\u001b[38;5;241;43m.\u001b[39;49m\u001b[43mexecute\u001b[49m\u001b[43m(\u001b[49m\u001b[43mCommand\u001b[49m\u001b[38;5;241;43m.\u001b[39;49m\u001b[43mFIND_ELEMENT\u001b[49m\u001b[43m,\u001b[49m\u001b[43m \u001b[49m\u001b[43m{\u001b[49m\n\u001b[0;32m   1252\u001b[0m \u001b[43m    \u001b[49m\u001b[38;5;124;43m'\u001b[39;49m\u001b[38;5;124;43musing\u001b[39;49m\u001b[38;5;124;43m'\u001b[39;49m\u001b[43m:\u001b[49m\u001b[43m \u001b[49m\u001b[43mby\u001b[49m\u001b[43m,\u001b[49m\n\u001b[0;32m   1253\u001b[0m \u001b[43m    \u001b[49m\u001b[38;5;124;43m'\u001b[39;49m\u001b[38;5;124;43mvalue\u001b[39;49m\u001b[38;5;124;43m'\u001b[39;49m\u001b[43m:\u001b[49m\u001b[43m \u001b[49m\u001b[43mvalue\u001b[49m\u001b[43m}\u001b[49m\u001b[43m)\u001b[49m[\u001b[38;5;124m'\u001b[39m\u001b[38;5;124mvalue\u001b[39m\u001b[38;5;124m'\u001b[39m]\n",
      "File \u001b[1;32m~\\anaconda3\\lib\\site-packages\\selenium\\webdriver\\remote\\webdriver.py:430\u001b[0m, in \u001b[0;36mWebDriver.execute\u001b[1;34m(self, driver_command, params)\u001b[0m\n\u001b[0;32m    428\u001b[0m response \u001b[38;5;241m=\u001b[39m \u001b[38;5;28mself\u001b[39m\u001b[38;5;241m.\u001b[39mcommand_executor\u001b[38;5;241m.\u001b[39mexecute(driver_command, params)\n\u001b[0;32m    429\u001b[0m \u001b[38;5;28;01mif\u001b[39;00m response:\n\u001b[1;32m--> 430\u001b[0m     \u001b[38;5;28;43mself\u001b[39;49m\u001b[38;5;241;43m.\u001b[39;49m\u001b[43merror_handler\u001b[49m\u001b[38;5;241;43m.\u001b[39;49m\u001b[43mcheck_response\u001b[49m\u001b[43m(\u001b[49m\u001b[43mresponse\u001b[49m\u001b[43m)\u001b[49m\n\u001b[0;32m    431\u001b[0m     response[\u001b[38;5;124m'\u001b[39m\u001b[38;5;124mvalue\u001b[39m\u001b[38;5;124m'\u001b[39m] \u001b[38;5;241m=\u001b[39m \u001b[38;5;28mself\u001b[39m\u001b[38;5;241m.\u001b[39m_unwrap_value(\n\u001b[0;32m    432\u001b[0m         response\u001b[38;5;241m.\u001b[39mget(\u001b[38;5;124m'\u001b[39m\u001b[38;5;124mvalue\u001b[39m\u001b[38;5;124m'\u001b[39m, \u001b[38;5;28;01mNone\u001b[39;00m))\n\u001b[0;32m    433\u001b[0m     \u001b[38;5;28;01mreturn\u001b[39;00m response\n",
      "File \u001b[1;32m~\\anaconda3\\lib\\site-packages\\selenium\\webdriver\\remote\\errorhandler.py:247\u001b[0m, in \u001b[0;36mErrorHandler.check_response\u001b[1;34m(self, response)\u001b[0m\n\u001b[0;32m    245\u001b[0m         alert_text \u001b[38;5;241m=\u001b[39m value[\u001b[38;5;124m'\u001b[39m\u001b[38;5;124malert\u001b[39m\u001b[38;5;124m'\u001b[39m]\u001b[38;5;241m.\u001b[39mget(\u001b[38;5;124m'\u001b[39m\u001b[38;5;124mtext\u001b[39m\u001b[38;5;124m'\u001b[39m)\n\u001b[0;32m    246\u001b[0m     \u001b[38;5;28;01mraise\u001b[39;00m exception_class(message, screen, stacktrace, alert_text)  \u001b[38;5;66;03m# type: ignore[call-arg]  # mypy is not smart enough here\u001b[39;00m\n\u001b[1;32m--> 247\u001b[0m \u001b[38;5;28;01mraise\u001b[39;00m exception_class(message, screen, stacktrace)\n",
      "\u001b[1;31mNoSuchElementException\u001b[0m: Message: no such element: Unable to locate element: {\"method\":\"xpath\",\"selector\":\"/html/body/section/section/div/div[2]/div[16]/div[1]/div/div[2]/div[1]/div\"}\n  (Session info: chrome=104.0.5112.81)\nStacktrace:\nBacktrace:\n\tOrdinal0 [0x00D078B3+2193587]\n\tOrdinal0 [0x00CA0681+1771137]\n\tOrdinal0 [0x00BB41A8+803240]\n\tOrdinal0 [0x00BE24A0+992416]\n\tOrdinal0 [0x00BE273B+993083]\n\tOrdinal0 [0x00C0F7C2+1177538]\n\tOrdinal0 [0x00BFD7F4+1103860]\n\tOrdinal0 [0x00C0DAE2+1170146]\n\tOrdinal0 [0x00BFD5C6+1103302]\n\tOrdinal0 [0x00BD77E0+948192]\n\tOrdinal0 [0x00BD86E6+952038]\n\tGetHandleVerifier [0x00FB0CB2+2738370]\n\tGetHandleVerifier [0x00FA21B8+2678216]\n\tGetHandleVerifier [0x00D917AA+512954]\n\tGetHandleVerifier [0x00D90856+509030]\n\tOrdinal0 [0x00CA743B+1799227]\n\tOrdinal0 [0x00CABB68+1817448]\n\tOrdinal0 [0x00CABC55+1817685]\n\tOrdinal0 [0x00CB5230+1856048]\n\tBaseThreadInitThunk [0x76506739+25]\n\tRtlGetFullPathName_UEx [0x776E8FEF+1215]\n\tRtlGetFullPathName_UEx [0x776E8FBD+1165]\n"
     ]
    }
   ],
   "source": [
    "time.sleep(1)\n",
    "browser.implicitly_wait(0.05)\n",
    "df_count = pd.DataFrame(columns=['コンサルタント','send_tittle'])\n",
    "\n",
    "tdatetime_yesterday = datetime.datetime.strptime(DAY, '%Y/%m/%d')\n",
    "\n",
    "ee = 0\n",
    "pp = 0\n",
    "nn = 0\n",
    "\n",
    "while ee == 0:\n",
    "    \n",
    "\n",
    "    \n",
    "    if nn == 1:\n",
    "        break\n",
    "    nn += 1\n",
    "        \n",
    "\n",
    "    \n",
    "    element_page = browser.find_element_by_xpath('/html/body/section/section/div/div[1]/span')\n",
    "    print(element_page.text)\n",
    "    \n",
    "    for i in range(1,51):\n",
    "        try:\n",
    "            element_DAY = browser.find_element_by_xpath('/html/body/section/section/div/div[2]/div[' + str(i) + ']/div[1]/div[1]/div[2]/div[1]/div')\n",
    "        except NoSuchElementException:\n",
    "            element_DAY = browser.find_element_by_xpath('/html/body/section/section/div/div[2]/div[' + str(i) + ']/div[1]/div/div[2]/div[1]/div')\n",
    "        \n",
    "        tdatetime = datetime.datetime.strptime(element_DAY.text.split(':')[1], '%Y/%m/%d')\n",
    "\n",
    "        if element_DAY.text.split(':')[1] > DAY:\n",
    "            try:\n",
    "                element_tittle = browser.find_element_by_xpath('/html/body/section/section/div/div[2]/div[' + str(i) + ']/div[1]/div[1]/div[3]/div/a/div[2]/span[2]')\n",
    "            except NoSuchElementException:\n",
    "                elementt_tittle = browser.find_element_by_xpath('/html/body/section/section/div/div[2]/div[' + str(i) + ']/div[1]/div/div[3]/div/a/div[2]/span[2]')\n",
    "        #elif tdatetime < tdatetime_yesterday:\n",
    "            #print(str(i) + \"件目　\" + element_tittle.text)\n",
    "            #print(\"カウント終了\")\n",
    "            #ee = 1\n",
    "            #break\n",
    "        else:\n",
    "            continue\n",
    "        print(str(i) + \"件目　\" + element_DAY.text.split(':')[1])\n",
    "        print(str(i) + \"件目　\" + element_tittle.text)\n",
    "\n",
    "        #try:\n",
    "            #element_resend = browser.find_element_by_xpath('/html/body/section/section/div/div[2]/div[' + str(i) + ']/div[1]/div[1]/div[3]/div/a/div[1]/span[5]')\n",
    "            #print(\"再送済み\" + str(i) + \"件目　\" + element_resend.text)\n",
    "            #continue\n",
    "        #except NoSuchElementException:\n",
    "            #try:\n",
    "                #element_resend = browser.find_element_by_xpath('/html/body/section/section/div/div[2]/div[' + str(i) + ']/div[1]/div/div[3]/div/a/div[1]/span[5]')\n",
    "                #print(\"再送済み\" + str(i) + \"件目　\" + element_resend.text)\n",
    "                #continue\n",
    "            #except NoSuchElementException:\n",
    "                #pass\n",
    "        df = pd.DataFrame([[HEAD_HUNTER[0],element_tittle.text]],columns=['コンサルタント','send_tittle'])\n",
    "        df_count = pd.concat([df_count,df],join='outer',ignore_index=True)\n",
    "        \n",
    "    else:\n",
    "        if pp == 0:\n",
    "            browser_from = browser.find_element_by_xpath('/html/body/section/section/div/div[1]/ul/li[14]/a')\n",
    "            pp += 1\n",
    "        elif pp == 1:\n",
    "            browser_from = browser.find_element_by_xpath('/html/body/section/section/div/div[1]/ul/li[14]/a')\n",
    "        time.sleep(1)\n",
    "        browser_from.click()\n",
    "        print(\"次ページに移動\")\n",
    "\n",
    "\n",
    "\n",
    "display(df_count)\n",
    "    "
   ]
  },
  {
   "cell_type": "code",
   "execution_count": 44,
   "id": "57822bf9-c90c-4dba-964a-e9132f48fd45",
   "metadata": {},
   "outputs": [
    {
     "data": {
      "text/plain": [
       "【非公開求人】国際会議のディレクター職のご紹介    15\n",
       "Name: send_tittle, dtype: int64"
      ]
     },
     "execution_count": 44,
     "metadata": {},
     "output_type": "execute_result"
    }
   ],
   "source": [
    "df_count_all = df_count['send_tittle']\n",
    "df_count_all .value_counts()"
   ]
  },
  {
   "cell_type": "code",
   "execution_count": 29,
   "id": "51926983-e421-4207-affe-3155eb9bc1cf",
   "metadata": {},
   "outputs": [
    {
     "data": {
      "text/html": [
       "<div>\n",
       "<style scoped>\n",
       "    .dataframe tbody tr th:only-of-type {\n",
       "        vertical-align: middle;\n",
       "    }\n",
       "\n",
       "    .dataframe tbody tr th {\n",
       "        vertical-align: top;\n",
       "    }\n",
       "\n",
       "    .dataframe thead th {\n",
       "        text-align: right;\n",
       "    }\n",
       "</style>\n",
       "<table border=\"1\" class=\"dataframe\">\n",
       "  <thead>\n",
       "    <tr style=\"text-align: right;\">\n",
       "      <th></th>\n",
       "      <th>コンサルタント</th>\n",
       "      <th>send_tittle</th>\n",
       "    </tr>\n",
       "  </thead>\n",
       "  <tbody>\n",
       "    <tr>\n",
       "      <th>0</th>\n",
       "      <td>PMC012</td>\n",
       "      <td>【非公開求人】国際会議のディレクター職のご紹介</td>\n",
       "    </tr>\n",
       "    <tr>\n",
       "      <th>1</th>\n",
       "      <td>PMC012</td>\n",
       "      <td>【非公開求人】国際会議のディレクター職のご紹介</td>\n",
       "    </tr>\n",
       "    <tr>\n",
       "      <th>2</th>\n",
       "      <td>PMC012</td>\n",
       "      <td>【非公開求人】国際会議のディレクター職のご紹介</td>\n",
       "    </tr>\n",
       "    <tr>\n",
       "      <th>3</th>\n",
       "      <td>PMC012</td>\n",
       "      <td>【非公開求人】国際会議のディレクター職のご紹介</td>\n",
       "    </tr>\n",
       "    <tr>\n",
       "      <th>4</th>\n",
       "      <td>PMC012</td>\n",
       "      <td>【非公開求人】国際会議のディレクター職のご紹介</td>\n",
       "    </tr>\n",
       "    <tr>\n",
       "      <th>5</th>\n",
       "      <td>PMC012</td>\n",
       "      <td>【非公開求人】国際会議のディレクター職のご紹介</td>\n",
       "    </tr>\n",
       "    <tr>\n",
       "      <th>6</th>\n",
       "      <td>PMC012</td>\n",
       "      <td>【非公開求人】国際会議のディレクター職のご紹介</td>\n",
       "    </tr>\n",
       "    <tr>\n",
       "      <th>7</th>\n",
       "      <td>PMC012</td>\n",
       "      <td>【非公開求人】国際会議のディレクター職のご紹介</td>\n",
       "    </tr>\n",
       "    <tr>\n",
       "      <th>8</th>\n",
       "      <td>PMC012</td>\n",
       "      <td>【非公開求人】国際会議のディレクター職のご紹介</td>\n",
       "    </tr>\n",
       "    <tr>\n",
       "      <th>9</th>\n",
       "      <td>PMC012</td>\n",
       "      <td>【非公開求人】国際会議のディレクター職のご紹介</td>\n",
       "    </tr>\n",
       "    <tr>\n",
       "      <th>10</th>\n",
       "      <td>PMC012</td>\n",
       "      <td>世界的外資コンサル会社でのアシスタント業務■正社員／最寄駅すぐ／年間休日120日以上／年収4...</td>\n",
       "    </tr>\n",
       "    <tr>\n",
       "      <th>11</th>\n",
       "      <td>PMC012</td>\n",
       "      <td>世界的外資コンサル会社でのアシスタント業務■正社員／最寄駅すぐ／年間休日120日以上／年収4...</td>\n",
       "    </tr>\n",
       "    <tr>\n",
       "      <th>12</th>\n",
       "      <td>PMC012</td>\n",
       "      <td>【非公開求人】国際会議のディレクター職のご紹介</td>\n",
       "    </tr>\n",
       "    <tr>\n",
       "      <th>13</th>\n",
       "      <td>PMC012</td>\n",
       "      <td>【非公開求人】国際会議のディレクター職のご紹介</td>\n",
       "    </tr>\n",
       "    <tr>\n",
       "      <th>14</th>\n",
       "      <td>PMC012</td>\n",
       "      <td>【非公開求人】国際会議のディレクター職のご紹介</td>\n",
       "    </tr>\n",
       "    <tr>\n",
       "      <th>15</th>\n",
       "      <td>PMC012</td>\n",
       "      <td>【非公開求人】国際会議のディレクター職のご紹介</td>\n",
       "    </tr>\n",
       "    <tr>\n",
       "      <th>16</th>\n",
       "      <td>PMC012</td>\n",
       "      <td>【非公開求人】国際会議のディレクター職のご紹介</td>\n",
       "    </tr>\n",
       "    <tr>\n",
       "      <th>17</th>\n",
       "      <td>PMC012</td>\n",
       "      <td>【非公開求人】国際会議のディレクター職のご紹介</td>\n",
       "    </tr>\n",
       "    <tr>\n",
       "      <th>18</th>\n",
       "      <td>PMC012</td>\n",
       "      <td>【非公開求人】国際会議のディレクター職のご紹介</td>\n",
       "    </tr>\n",
       "    <tr>\n",
       "      <th>19</th>\n",
       "      <td>PMC012</td>\n",
       "      <td>【非公開求人】国際会議のディレクター職のご紹介</td>\n",
       "    </tr>\n",
       "    <tr>\n",
       "      <th>20</th>\n",
       "      <td>PMC012</td>\n",
       "      <td>【非公開求人】国際会議のディレクター職のご紹介</td>\n",
       "    </tr>\n",
       "    <tr>\n",
       "      <th>21</th>\n",
       "      <td>PMC012</td>\n",
       "      <td>【非公開求人】国際会議のディレクター職のご紹介</td>\n",
       "    </tr>\n",
       "    <tr>\n",
       "      <th>22</th>\n",
       "      <td>PMC012</td>\n",
       "      <td>【非公開求人】国際会議のディレクター職のご紹介</td>\n",
       "    </tr>\n",
       "    <tr>\n",
       "      <th>23</th>\n",
       "      <td>PMC012</td>\n",
       "      <td>【非公開求人】国際会議のディレクター職のご紹介</td>\n",
       "    </tr>\n",
       "    <tr>\n",
       "      <th>24</th>\n",
       "      <td>PMC012</td>\n",
       "      <td>【非公開求人】国際会議のディレクター職のご紹介</td>\n",
       "    </tr>\n",
       "    <tr>\n",
       "      <th>25</th>\n",
       "      <td>PMC012</td>\n",
       "      <td>【非公開求人】国際会議のディレクター職のご紹介</td>\n",
       "    </tr>\n",
       "    <tr>\n",
       "      <th>26</th>\n",
       "      <td>PMC012</td>\n",
       "      <td>世界的外資コンサル会社でのアシスタント業務■正社員／最寄駅すぐ／年間休日120日以上／年収4...</td>\n",
       "    </tr>\n",
       "  </tbody>\n",
       "</table>\n",
       "</div>"
      ],
      "text/plain": [
       "   コンサルタント                                        send_tittle\n",
       "0   PMC012                            【非公開求人】国際会議のディレクター職のご紹介\n",
       "1   PMC012                            【非公開求人】国際会議のディレクター職のご紹介\n",
       "2   PMC012                            【非公開求人】国際会議のディレクター職のご紹介\n",
       "3   PMC012                            【非公開求人】国際会議のディレクター職のご紹介\n",
       "4   PMC012                            【非公開求人】国際会議のディレクター職のご紹介\n",
       "5   PMC012                            【非公開求人】国際会議のディレクター職のご紹介\n",
       "6   PMC012                            【非公開求人】国際会議のディレクター職のご紹介\n",
       "7   PMC012                            【非公開求人】国際会議のディレクター職のご紹介\n",
       "8   PMC012                            【非公開求人】国際会議のディレクター職のご紹介\n",
       "9   PMC012                            【非公開求人】国際会議のディレクター職のご紹介\n",
       "10  PMC012  世界的外資コンサル会社でのアシスタント業務■正社員／最寄駅すぐ／年間休日120日以上／年収4...\n",
       "11  PMC012  世界的外資コンサル会社でのアシスタント業務■正社員／最寄駅すぐ／年間休日120日以上／年収4...\n",
       "12  PMC012                            【非公開求人】国際会議のディレクター職のご紹介\n",
       "13  PMC012                            【非公開求人】国際会議のディレクター職のご紹介\n",
       "14  PMC012                            【非公開求人】国際会議のディレクター職のご紹介\n",
       "15  PMC012                            【非公開求人】国際会議のディレクター職のご紹介\n",
       "16  PMC012                            【非公開求人】国際会議のディレクター職のご紹介\n",
       "17  PMC012                            【非公開求人】国際会議のディレクター職のご紹介\n",
       "18  PMC012                            【非公開求人】国際会議のディレクター職のご紹介\n",
       "19  PMC012                            【非公開求人】国際会議のディレクター職のご紹介\n",
       "20  PMC012                            【非公開求人】国際会議のディレクター職のご紹介\n",
       "21  PMC012                            【非公開求人】国際会議のディレクター職のご紹介\n",
       "22  PMC012                            【非公開求人】国際会議のディレクター職のご紹介\n",
       "23  PMC012                            【非公開求人】国際会議のディレクター職のご紹介\n",
       "24  PMC012                            【非公開求人】国際会議のディレクター職のご紹介\n",
       "25  PMC012                            【非公開求人】国際会議のディレクター職のご紹介\n",
       "26  PMC012  世界的外資コンサル会社でのアシスタント業務■正社員／最寄駅すぐ／年間休日120日以上／年収4..."
      ]
     },
     "execution_count": 29,
     "metadata": {},
     "output_type": "execute_result"
    }
   ],
   "source": [
    "df_count"
   ]
  },
  {
   "cell_type": "code",
   "execution_count": null,
   "id": "2376f20b-7a8c-4995-bdb2-a7b9fc583412",
   "metadata": {},
   "outputs": [],
   "source": []
  },
  {
   "cell_type": "code",
   "execution_count": null,
   "id": "718966f9-121e-489c-a30b-4312036cc663",
   "metadata": {},
   "outputs": [],
   "source": []
  }
 ],
 "metadata": {
  "kernelspec": {
   "display_name": "Python 3 (ipykernel)",
   "language": "python",
   "name": "python3"
  },
  "language_info": {
   "codemirror_mode": {
    "name": "ipython",
    "version": 3
   },
   "file_extension": ".py",
   "mimetype": "text/x-python",
   "name": "python",
   "nbconvert_exporter": "python",
   "pygments_lexer": "ipython3",
   "version": "3.9.12"
  }
 },
 "nbformat": 4,
 "nbformat_minor": 5
}
