{
 "cells": [
  {
   "cell_type": "code",
   "execution_count": 7,
   "id": "8d596df0-c97c-49c4-aad3-30bc4e01e065",
   "metadata": {},
   "outputs": [
    {
     "name": "stdout",
     "output_type": "stream",
     "text": [
      "Defaulting to user installation because normal site-packages is not writeable\n",
      "Requirement already satisfied: selenium in c:\\users\\s-mat\\appdata\\roaming\\python\\python39\\site-packages (4.1.0)\n",
      "Requirement already satisfied: urllib3[secure]~=1.26 in c:\\programdata\\anaconda3\\lib\\site-packages (from selenium) (1.26.11)\n",
      "Requirement already satisfied: trio~=0.17 in c:\\programdata\\anaconda3\\lib\\site-packages (from selenium) (0.22.0)\n",
      "Requirement already satisfied: trio-websocket~=0.9 in c:\\programdata\\anaconda3\\lib\\site-packages (from selenium) (0.9.2)\n",
      "Requirement already satisfied: cffi>=1.14 in c:\\programdata\\anaconda3\\lib\\site-packages (from trio~=0.17->selenium) (1.15.1)\n",
      "Requirement already satisfied: exceptiongroup>=1.0.0rc9 in c:\\programdata\\anaconda3\\lib\\site-packages (from trio~=0.17->selenium) (1.1.0)\n",
      "Requirement already satisfied: outcome in c:\\programdata\\anaconda3\\lib\\site-packages (from trio~=0.17->selenium) (1.2.0)\n",
      "Requirement already satisfied: sortedcontainers in c:\\programdata\\anaconda3\\lib\\site-packages (from trio~=0.17->selenium) (2.4.0)\n",
      "Requirement already satisfied: idna in c:\\programdata\\anaconda3\\lib\\site-packages (from trio~=0.17->selenium) (3.3)\n",
      "Requirement already satisfied: attrs>=19.2.0 in c:\\programdata\\anaconda3\\lib\\site-packages (from trio~=0.17->selenium) (21.4.0)\n",
      "Requirement already satisfied: async-generator>=1.9 in c:\\programdata\\anaconda3\\lib\\site-packages (from trio~=0.17->selenium) (1.10)\n",
      "Requirement already satisfied: sniffio in c:\\programdata\\anaconda3\\lib\\site-packages (from trio~=0.17->selenium) (1.2.0)\n",
      "Requirement already satisfied: wsproto>=0.14 in c:\\programdata\\anaconda3\\lib\\site-packages (from trio-websocket~=0.9->selenium) (1.2.0)\n",
      "Requirement already satisfied: pyOpenSSL>=0.14 in c:\\programdata\\anaconda3\\lib\\site-packages (from urllib3[secure]~=1.26->selenium) (22.0.0)\n",
      "Requirement already satisfied: certifi in c:\\programdata\\anaconda3\\lib\\site-packages (from urllib3[secure]~=1.26->selenium) (2022.9.14)\n",
      "Requirement already satisfied: cryptography>=1.3.4 in c:\\programdata\\anaconda3\\lib\\site-packages (from urllib3[secure]~=1.26->selenium) (37.0.1)\n",
      "Requirement already satisfied: pycparser in c:\\programdata\\anaconda3\\lib\\site-packages (from cffi>=1.14->trio~=0.17->selenium) (2.21)\n",
      "Requirement already satisfied: h11<1,>=0.9.0 in c:\\programdata\\anaconda3\\lib\\site-packages (from wsproto>=0.14->trio-websocket~=0.9->selenium) (0.14.0)\n"
     ]
    }
   ],
   "source": [
    "!pip install selenium"
   ]
  },
  {
   "cell_type": "code",
   "execution_count": 8,
   "id": "c62caeb7-5b6d-4a81-9a82-186a71d42dd2",
   "metadata": {},
   "outputs": [],
   "source": [
    "#from selenium.webdriver.chrome.service import Service\n",
    "#from selenium.webdriver.chrome.options import Options\n",
    "\n",
    "from selenium import webdriver\n",
    "#from selenium.webdriver.common.by import By\n",
    "\n",
    "import time\n",
    "\n",
    "import pandas as pd\n",
    "\n",
    "from selenium.webdriver.common.action_chains import ActionChains\n",
    "from selenium.webdriver.common.keys import Keys\n",
    "from selenium.common.exceptions import NoSuchElementException\n",
    "\n",
    "import re\n",
    "\n",
    "import numpy as np\n",
    "import datetime\n",
    "\n"
   ]
  },
  {
   "cell_type": "code",
   "execution_count": 9,
   "id": "a52ec4cc-200b-4cea-b45e-7bae1b82fff6",
   "metadata": {},
   "outputs": [],
   "source": [
    "OKAMOTO = ['PMC002' , 'yutaka581214']\n",
    "IIDA = ['PMC010' , 'PPP0224']\n",
    "RIKITAKE =['PMC013' , 'rikitake1020']\n",
    "MORI = ['PMC014' , 'yumi1201']\n",
    "\n",
    "HEAD_HUNTER_all = [OKAMOTO , IIDA , RIKITAKE ,MORI]\n",
    "\n",
    "url_login = 'https://mid-tenshoku.com/company_login/login/?PK=DB1298'"
   ]
  },
  {
   "cell_type": "code",
   "execution_count": 10,
   "id": "cc8983c0-efcf-4d01-86df-782107186c5b",
   "metadata": {},
   "outputs": [],
   "source": [
    "DAY = \"2023/03/03\"\n",
    "i = 3\n",
    "HEAD_HUNTER = HEAD_HUNTER_all[i]"
   ]
  },
  {
   "cell_type": "code",
   "execution_count": 11,
   "id": "11520a60-54d7-4f6b-be0b-dc6fc8cc3145",
   "metadata": {},
   "outputs": [
    {
     "name": "stderr",
     "output_type": "stream",
     "text": [
      "C:\\Users\\s-mat\\AppData\\Local\\Temp\\ipykernel_10000\\3787239408.py:2: DeprecationWarning: executable_path has been deprecated, please pass in a Service object\n",
      "  browser = webdriver.Chrome(executable_path = 'C:/Users/s-mat/Downloads/MyPandas/chromedriver.exe')\n"
     ]
    },
    {
     "name": "stdout",
     "output_type": "stream",
     "text": [
      "ログインページに開きました\n"
     ]
    }
   ],
   "source": [
    "#browser = webdriver.Chrome(service=Service('C:/Users/s-mat/Downloads/MyPandas/chromedriver.exe'), options=options) # Chrome Driver\n",
    "browser = webdriver.Chrome(executable_path = 'C:/Users/s-mat/Downloads/MyPandas/chromedriver.exe')\n",
    "\n",
    "browser.implicitly_wait(10)\n",
    "browser.get(url_login)\n",
    "time.sleep(1)\n",
    "print(\"ログインページに開きました\")"
   ]
  },
  {
   "cell_type": "code",
   "execution_count": 12,
   "id": "44c56844-4654-4bfd-be22-479b93acd244",
   "metadata": {},
   "outputs": [
    {
     "name": "stderr",
     "output_type": "stream",
     "text": [
      "C:\\Users\\s-mat\\AppData\\Local\\Temp\\ipykernel_10000\\196881334.py:1: DeprecationWarning: find_element_by_* commands are deprecated. Please use find_element() instead\n",
      "  element = browser.find_element_by_name('accLoginID')\n",
      "C:\\Users\\s-mat\\AppData\\Local\\Temp\\ipykernel_10000\\196881334.py:5: DeprecationWarning: find_element_by_* commands are deprecated. Please use find_element() instead\n",
      "  element = browser.find_element_by_name('accLoginPW')\n",
      "C:\\Users\\s-mat\\AppData\\Local\\Temp\\ipykernel_10000\\196881334.py:10: DeprecationWarning: find_element_by_* commands are deprecated. Please use find_element() instead\n",
      "  browser_from = browser.find_element_by_xpath('/html/body/section/section[2]/div/form/div/span/button')\n"
     ]
    },
    {
     "name": "stdout",
     "output_type": "stream",
     "text": [
      "情報を入力しました\n",
      "情報を入力してログインボタンを押しました\n"
     ]
    }
   ],
   "source": [
    "element = browser.find_element_by_name('accLoginID')\n",
    "element.clear()\n",
    "element.send_keys(HEAD_HUNTER[0])\n",
    "\n",
    "element = browser.find_element_by_name('accLoginPW')\n",
    "element.clear()\n",
    "element.send_keys(HEAD_HUNTER[1])\n",
    "print(\"情報を入力しました\")\n",
    "\n",
    "browser_from = browser.find_element_by_xpath('/html/body/section/section[2]/div/form/div/span/button')\n",
    "time.sleep(1)\n",
    "browser_from.click()\n",
    "time.sleep(5)\n",
    "print(\"情報を入力してログインボタンを押しました\")"
   ]
  },
  {
   "cell_type": "code",
   "execution_count": 13,
   "id": "f8f96f7c-5c04-431d-918d-a0562f5654f7",
   "metadata": {},
   "outputs": [
    {
     "name": "stdout",
     "output_type": "stream",
     "text": [
      "ミドルに移動\n"
     ]
    }
   ],
   "source": [
    "browser.get('https://mid-tenshoku.com/company/scout/?PK=361603')\n",
    "time.sleep(5)\n",
    "print(\"ミドルに移動\")"
   ]
  },
  {
   "cell_type": "code",
   "execution_count": 14,
   "id": "049d0223-365a-460a-a44d-1c36a1bf08c7",
   "metadata": {},
   "outputs": [
    {
     "name": "stderr",
     "output_type": "stream",
     "text": [
      "C:\\Users\\s-mat\\AppData\\Local\\Temp\\ipykernel_10000\\2551573529.py:1: DeprecationWarning: find_element_by_* commands are deprecated. Please use find_element() instead\n",
      "  browser_from = browser.find_element_by_xpath('/html/body/section/div[1]/div/div/ul/li[4]/a')\n"
     ]
    },
    {
     "name": "stdout",
     "output_type": "stream",
     "text": [
      "送信済みスカウトに移動\n"
     ]
    }
   ],
   "source": [
    "browser_from = browser.find_element_by_xpath('/html/body/section/div[1]/div/div/ul/li[4]/a')\n",
    "time.sleep(5)\n",
    "browser_from.click()\n",
    "print(\"送信済みスカウトに移動\")"
   ]
  },
  {
   "cell_type": "code",
   "execution_count": 15,
   "id": "d3a1eded-b2dc-41e4-a76a-696bc7d431de",
   "metadata": {},
   "outputs": [
    {
     "data": {
      "text/plain": [
       "datetime.datetime"
      ]
     },
     "execution_count": 15,
     "metadata": {},
     "output_type": "execute_result"
    }
   ],
   "source": [
    "type(datetime.datetime.strptime(DAY, '%Y/%m/%d'))"
   ]
  },
  {
   "cell_type": "code",
   "execution_count": 16,
   "id": "eb56199d-eb32-4da5-8d85-bd8ea549e813",
   "metadata": {},
   "outputs": [
    {
     "name": "stderr",
     "output_type": "stream",
     "text": [
      "C:\\Users\\s-mat\\AppData\\Local\\Temp\\ipykernel_10000\\714478864.py:11: DeprecationWarning: find_element_by_* commands are deprecated. Please use find_element() instead\n",
      "  element_page = browser.find_element_by_xpath('/html/body/section/section/div/div[1]/span')\n",
      "C:\\Users\\s-mat\\AppData\\Local\\Temp\\ipykernel_10000\\714478864.py:16: DeprecationWarning: find_element_by_* commands are deprecated. Please use find_element() instead\n",
      "  element_DAY = browser.find_element_by_xpath('/html/body/section/section/div/div[2]/div[' + str(i) + ']/div[1]/div[1]/div[2]/div[1]/div')\n"
     ]
    },
    {
     "name": "stdout",
     "output_type": "stream",
     "text": [
      "全1714件中、1～50件を表示\n"
     ]
    },
    {
     "name": "stderr",
     "output_type": "stream",
     "text": [
      "C:\\Users\\s-mat\\AppData\\Local\\Temp\\ipykernel_10000\\714478864.py:24: DeprecationWarning: find_element_by_* commands are deprecated. Please use find_element() instead\n",
      "  element_tittle = browser.find_element_by_xpath('/html/body/section/section/div/div[2]/div[' + str(i) + ']/div[1]/div[1]/div[3]/div/a/div[2]/span[2]')\n",
      "C:\\Users\\s-mat\\AppData\\Local\\Temp\\ipykernel_10000\\714478864.py:16: DeprecationWarning: find_element_by_* commands are deprecated. Please use find_element() instead\n",
      "  element_DAY = browser.find_element_by_xpath('/html/body/section/section/div/div[2]/div[' + str(i) + ']/div[1]/div[1]/div[2]/div[1]/div')\n",
      "C:\\Users\\s-mat\\AppData\\Local\\Temp\\ipykernel_10000\\714478864.py:24: DeprecationWarning: find_element_by_* commands are deprecated. Please use find_element() instead\n",
      "  element_tittle = browser.find_element_by_xpath('/html/body/section/section/div/div[2]/div[' + str(i) + ']/div[1]/div[1]/div[3]/div/a/div[2]/span[2]')\n",
      "C:\\Users\\s-mat\\AppData\\Local\\Temp\\ipykernel_10000\\714478864.py:16: DeprecationWarning: find_element_by_* commands are deprecated. Please use find_element() instead\n",
      "  element_DAY = browser.find_element_by_xpath('/html/body/section/section/div/div[2]/div[' + str(i) + ']/div[1]/div[1]/div[2]/div[1]/div')\n",
      "C:\\Users\\s-mat\\AppData\\Local\\Temp\\ipykernel_10000\\714478864.py:24: DeprecationWarning: find_element_by_* commands are deprecated. Please use find_element() instead\n",
      "  element_tittle = browser.find_element_by_xpath('/html/body/section/section/div/div[2]/div[' + str(i) + ']/div[1]/div[1]/div[3]/div/a/div[2]/span[2]')\n",
      "C:\\Users\\s-mat\\AppData\\Local\\Temp\\ipykernel_10000\\714478864.py:16: DeprecationWarning: find_element_by_* commands are deprecated. Please use find_element() instead\n",
      "  element_DAY = browser.find_element_by_xpath('/html/body/section/section/div/div[2]/div[' + str(i) + ']/div[1]/div[1]/div[2]/div[1]/div')\n"
     ]
    },
    {
     "name": "stdout",
     "output_type": "stream",
     "text": [
      "31件目　2023/03/03\n",
      "31件目　【管理職候補/医療法人の運営ディレクター】～プライム上場グループ（設立8年　年商100億）～\n",
      "32件目　2023/03/03\n",
      "32件目　【管理職候補/医療法人の運営ディレクター】～プライム上場グループ（設立8年　年商100億）～\n",
      "33件目　2023/03/03\n",
      "33件目　【管理職候補/医療法人の運営ディレクター】～プライム上場グループ（設立8年　年商100億）～\n",
      "34件目　2023/03/03\n",
      "34件目　【管理職候補/医療法人の運営ディレクター】～プライム上場グループ（設立8年　年商100億）～\n"
     ]
    },
    {
     "name": "stderr",
     "output_type": "stream",
     "text": [
      "C:\\Users\\s-mat\\AppData\\Local\\Temp\\ipykernel_10000\\714478864.py:24: DeprecationWarning: find_element_by_* commands are deprecated. Please use find_element() instead\n",
      "  element_tittle = browser.find_element_by_xpath('/html/body/section/section/div/div[2]/div[' + str(i) + ']/div[1]/div[1]/div[3]/div/a/div[2]/span[2]')\n",
      "C:\\Users\\s-mat\\AppData\\Local\\Temp\\ipykernel_10000\\714478864.py:16: DeprecationWarning: find_element_by_* commands are deprecated. Please use find_element() instead\n",
      "  element_DAY = browser.find_element_by_xpath('/html/body/section/section/div/div[2]/div[' + str(i) + ']/div[1]/div[1]/div[2]/div[1]/div')\n",
      "C:\\Users\\s-mat\\AppData\\Local\\Temp\\ipykernel_10000\\714478864.py:24: DeprecationWarning: find_element_by_* commands are deprecated. Please use find_element() instead\n",
      "  element_tittle = browser.find_element_by_xpath('/html/body/section/section/div/div[2]/div[' + str(i) + ']/div[1]/div[1]/div[3]/div/a/div[2]/span[2]')\n",
      "C:\\Users\\s-mat\\AppData\\Local\\Temp\\ipykernel_10000\\714478864.py:16: DeprecationWarning: find_element_by_* commands are deprecated. Please use find_element() instead\n",
      "  element_DAY = browser.find_element_by_xpath('/html/body/section/section/div/div[2]/div[' + str(i) + ']/div[1]/div[1]/div[2]/div[1]/div')\n",
      "C:\\Users\\s-mat\\AppData\\Local\\Temp\\ipykernel_10000\\714478864.py:24: DeprecationWarning: find_element_by_* commands are deprecated. Please use find_element() instead\n",
      "  element_tittle = browser.find_element_by_xpath('/html/body/section/section/div/div[2]/div[' + str(i) + ']/div[1]/div[1]/div[3]/div/a/div[2]/span[2]')\n",
      "C:\\Users\\s-mat\\AppData\\Local\\Temp\\ipykernel_10000\\714478864.py:16: DeprecationWarning: find_element_by_* commands are deprecated. Please use find_element() instead\n",
      "  element_DAY = browser.find_element_by_xpath('/html/body/section/section/div/div[2]/div[' + str(i) + ']/div[1]/div[1]/div[2]/div[1]/div')\n"
     ]
    },
    {
     "name": "stdout",
     "output_type": "stream",
     "text": [
      "35件目　2023/03/03\n",
      "35件目　【管理職候補/医療法人の運営ディレクター】～プライム上場グループ（設立8年　年商100億）～\n",
      "36件目　2023/03/03\n",
      "36件目　【管理職候補/医療法人の運営ディレクター】～プライム上場グループ（設立8年　年商100億）～\n",
      "37件目　2023/03/03\n",
      "37件目　【管理職候補/医療法人の運営ディレクター】～プライム上場グループ（設立8年　年商100億）～\n"
     ]
    },
    {
     "name": "stderr",
     "output_type": "stream",
     "text": [
      "C:\\Users\\s-mat\\AppData\\Local\\Temp\\ipykernel_10000\\714478864.py:24: DeprecationWarning: find_element_by_* commands are deprecated. Please use find_element() instead\n",
      "  element_tittle = browser.find_element_by_xpath('/html/body/section/section/div/div[2]/div[' + str(i) + ']/div[1]/div[1]/div[3]/div/a/div[2]/span[2]')\n",
      "C:\\Users\\s-mat\\AppData\\Local\\Temp\\ipykernel_10000\\714478864.py:16: DeprecationWarning: find_element_by_* commands are deprecated. Please use find_element() instead\n",
      "  element_DAY = browser.find_element_by_xpath('/html/body/section/section/div/div[2]/div[' + str(i) + ']/div[1]/div[1]/div[2]/div[1]/div')\n",
      "C:\\Users\\s-mat\\AppData\\Local\\Temp\\ipykernel_10000\\714478864.py:24: DeprecationWarning: find_element_by_* commands are deprecated. Please use find_element() instead\n",
      "  element_tittle = browser.find_element_by_xpath('/html/body/section/section/div/div[2]/div[' + str(i) + ']/div[1]/div[1]/div[3]/div/a/div[2]/span[2]')\n",
      "C:\\Users\\s-mat\\AppData\\Local\\Temp\\ipykernel_10000\\714478864.py:16: DeprecationWarning: find_element_by_* commands are deprecated. Please use find_element() instead\n",
      "  element_DAY = browser.find_element_by_xpath('/html/body/section/section/div/div[2]/div[' + str(i) + ']/div[1]/div[1]/div[2]/div[1]/div')\n",
      "C:\\Users\\s-mat\\AppData\\Local\\Temp\\ipykernel_10000\\714478864.py:24: DeprecationWarning: find_element_by_* commands are deprecated. Please use find_element() instead\n",
      "  element_tittle = browser.find_element_by_xpath('/html/body/section/section/div/div[2]/div[' + str(i) + ']/div[1]/div[1]/div[3]/div/a/div[2]/span[2]')\n",
      "C:\\Users\\s-mat\\AppData\\Local\\Temp\\ipykernel_10000\\714478864.py:16: DeprecationWarning: find_element_by_* commands are deprecated. Please use find_element() instead\n",
      "  element_DAY = browser.find_element_by_xpath('/html/body/section/section/div/div[2]/div[' + str(i) + ']/div[1]/div[1]/div[2]/div[1]/div')\n"
     ]
    },
    {
     "name": "stdout",
     "output_type": "stream",
     "text": [
      "38件目　2023/03/03\n",
      "38件目　【管理職候補/医療法人の運営ディレクター】～プライム上場グループ（設立8年　年商100億）～\n",
      "39件目　2023/03/03\n",
      "39件目　【管理職候補/医療法人の運営ディレクター】～プライム上場グループ（設立8年　年商100億）～\n",
      "40件目　2023/03/03\n",
      "40件目　【管理職候補/医療法人の運営ディレクター】～プライム上場グループ（設立8年　年商100億）～\n"
     ]
    },
    {
     "name": "stderr",
     "output_type": "stream",
     "text": [
      "C:\\Users\\s-mat\\AppData\\Local\\Temp\\ipykernel_10000\\714478864.py:24: DeprecationWarning: find_element_by_* commands are deprecated. Please use find_element() instead\n",
      "  element_tittle = browser.find_element_by_xpath('/html/body/section/section/div/div[2]/div[' + str(i) + ']/div[1]/div[1]/div[3]/div/a/div[2]/span[2]')\n",
      "C:\\Users\\s-mat\\AppData\\Local\\Temp\\ipykernel_10000\\714478864.py:16: DeprecationWarning: find_element_by_* commands are deprecated. Please use find_element() instead\n",
      "  element_DAY = browser.find_element_by_xpath('/html/body/section/section/div/div[2]/div[' + str(i) + ']/div[1]/div[1]/div[2]/div[1]/div')\n",
      "C:\\Users\\s-mat\\AppData\\Local\\Temp\\ipykernel_10000\\714478864.py:24: DeprecationWarning: find_element_by_* commands are deprecated. Please use find_element() instead\n",
      "  element_tittle = browser.find_element_by_xpath('/html/body/section/section/div/div[2]/div[' + str(i) + ']/div[1]/div[1]/div[3]/div/a/div[2]/span[2]')\n",
      "C:\\Users\\s-mat\\AppData\\Local\\Temp\\ipykernel_10000\\714478864.py:16: DeprecationWarning: find_element_by_* commands are deprecated. Please use find_element() instead\n",
      "  element_DAY = browser.find_element_by_xpath('/html/body/section/section/div/div[2]/div[' + str(i) + ']/div[1]/div[1]/div[2]/div[1]/div')\n",
      "C:\\Users\\s-mat\\AppData\\Local\\Temp\\ipykernel_10000\\714478864.py:24: DeprecationWarning: find_element_by_* commands are deprecated. Please use find_element() instead\n",
      "  element_tittle = browser.find_element_by_xpath('/html/body/section/section/div/div[2]/div[' + str(i) + ']/div[1]/div[1]/div[3]/div/a/div[2]/span[2]')\n",
      "C:\\Users\\s-mat\\AppData\\Local\\Temp\\ipykernel_10000\\714478864.py:16: DeprecationWarning: find_element_by_* commands are deprecated. Please use find_element() instead\n",
      "  element_DAY = browser.find_element_by_xpath('/html/body/section/section/div/div[2]/div[' + str(i) + ']/div[1]/div[1]/div[2]/div[1]/div')\n"
     ]
    },
    {
     "name": "stdout",
     "output_type": "stream",
     "text": [
      "41件目　2023/03/03\n",
      "41件目　【管理職候補/医療法人の運営ディレクター】～プライム上場グループ（設立8年　年商100億）～\n",
      "42件目　2023/03/03\n",
      "42件目　【管理職候補/医療法人の運営ディレクター】～プライム上場グループ（設立8年　年商100億）～\n",
      "43件目　2023/03/03\n",
      "43件目　【管理職候補/医療法人の運営ディレクター】～プライム上場グループ（設立8年　年商100億）～\n"
     ]
    },
    {
     "name": "stderr",
     "output_type": "stream",
     "text": [
      "C:\\Users\\s-mat\\AppData\\Local\\Temp\\ipykernel_10000\\714478864.py:24: DeprecationWarning: find_element_by_* commands are deprecated. Please use find_element() instead\n",
      "  element_tittle = browser.find_element_by_xpath('/html/body/section/section/div/div[2]/div[' + str(i) + ']/div[1]/div[1]/div[3]/div/a/div[2]/span[2]')\n",
      "C:\\Users\\s-mat\\AppData\\Local\\Temp\\ipykernel_10000\\714478864.py:16: DeprecationWarning: find_element_by_* commands are deprecated. Please use find_element() instead\n",
      "  element_DAY = browser.find_element_by_xpath('/html/body/section/section/div/div[2]/div[' + str(i) + ']/div[1]/div[1]/div[2]/div[1]/div')\n",
      "C:\\Users\\s-mat\\AppData\\Local\\Temp\\ipykernel_10000\\714478864.py:24: DeprecationWarning: find_element_by_* commands are deprecated. Please use find_element() instead\n",
      "  element_tittle = browser.find_element_by_xpath('/html/body/section/section/div/div[2]/div[' + str(i) + ']/div[1]/div[1]/div[3]/div/a/div[2]/span[2]')\n",
      "C:\\Users\\s-mat\\AppData\\Local\\Temp\\ipykernel_10000\\714478864.py:16: DeprecationWarning: find_element_by_* commands are deprecated. Please use find_element() instead\n",
      "  element_DAY = browser.find_element_by_xpath('/html/body/section/section/div/div[2]/div[' + str(i) + ']/div[1]/div[1]/div[2]/div[1]/div')\n",
      "C:\\Users\\s-mat\\AppData\\Local\\Temp\\ipykernel_10000\\714478864.py:24: DeprecationWarning: find_element_by_* commands are deprecated. Please use find_element() instead\n",
      "  element_tittle = browser.find_element_by_xpath('/html/body/section/section/div/div[2]/div[' + str(i) + ']/div[1]/div[1]/div[3]/div/a/div[2]/span[2]')\n",
      "C:\\Users\\s-mat\\AppData\\Local\\Temp\\ipykernel_10000\\714478864.py:16: DeprecationWarning: find_element_by_* commands are deprecated. Please use find_element() instead\n",
      "  element_DAY = browser.find_element_by_xpath('/html/body/section/section/div/div[2]/div[' + str(i) + ']/div[1]/div[1]/div[2]/div[1]/div')\n"
     ]
    },
    {
     "name": "stdout",
     "output_type": "stream",
     "text": [
      "44件目　2023/03/03\n",
      "44件目　【管理職候補/医療法人の運営ディレクター】～プライム上場グループ（設立8年　年商100億）～\n",
      "45件目　2023/03/03\n",
      "45件目　【管理職候補/医療法人の運営ディレクター】～プライム上場グループ（設立8年　年商100億）～\n",
      "46件目　2023/03/03\n",
      "46件目　【管理職候補/医療法人の運営ディレクター】～プライム上場グループ（設立8年　年商100億）～\n"
     ]
    },
    {
     "name": "stderr",
     "output_type": "stream",
     "text": [
      "C:\\Users\\s-mat\\AppData\\Local\\Temp\\ipykernel_10000\\714478864.py:24: DeprecationWarning: find_element_by_* commands are deprecated. Please use find_element() instead\n",
      "  element_tittle = browser.find_element_by_xpath('/html/body/section/section/div/div[2]/div[' + str(i) + ']/div[1]/div[1]/div[3]/div/a/div[2]/span[2]')\n",
      "C:\\Users\\s-mat\\AppData\\Local\\Temp\\ipykernel_10000\\714478864.py:16: DeprecationWarning: find_element_by_* commands are deprecated. Please use find_element() instead\n",
      "  element_DAY = browser.find_element_by_xpath('/html/body/section/section/div/div[2]/div[' + str(i) + ']/div[1]/div[1]/div[2]/div[1]/div')\n",
      "C:\\Users\\s-mat\\AppData\\Local\\Temp\\ipykernel_10000\\714478864.py:24: DeprecationWarning: find_element_by_* commands are deprecated. Please use find_element() instead\n",
      "  element_tittle = browser.find_element_by_xpath('/html/body/section/section/div/div[2]/div[' + str(i) + ']/div[1]/div[1]/div[3]/div/a/div[2]/span[2]')\n",
      "C:\\Users\\s-mat\\AppData\\Local\\Temp\\ipykernel_10000\\714478864.py:16: DeprecationWarning: find_element_by_* commands are deprecated. Please use find_element() instead\n",
      "  element_DAY = browser.find_element_by_xpath('/html/body/section/section/div/div[2]/div[' + str(i) + ']/div[1]/div[1]/div[2]/div[1]/div')\n",
      "C:\\Users\\s-mat\\AppData\\Local\\Temp\\ipykernel_10000\\714478864.py:24: DeprecationWarning: find_element_by_* commands are deprecated. Please use find_element() instead\n",
      "  element_tittle = browser.find_element_by_xpath('/html/body/section/section/div/div[2]/div[' + str(i) + ']/div[1]/div[1]/div[3]/div/a/div[2]/span[2]')\n",
      "C:\\Users\\s-mat\\AppData\\Local\\Temp\\ipykernel_10000\\714478864.py:16: DeprecationWarning: find_element_by_* commands are deprecated. Please use find_element() instead\n",
      "  element_DAY = browser.find_element_by_xpath('/html/body/section/section/div/div[2]/div[' + str(i) + ']/div[1]/div[1]/div[2]/div[1]/div')\n"
     ]
    },
    {
     "name": "stdout",
     "output_type": "stream",
     "text": [
      "47件目　2023/03/03\n",
      "47件目　【管理職候補/医療法人の運営ディレクター】～プライム上場グループ（設立8年　年商100億）～\n",
      "48件目　2023/03/03\n",
      "48件目　【管理職候補/医療法人の運営ディレクター】～プライム上場グループ（設立8年　年商100億）～\n",
      "49件目　2023/03/03\n",
      "49件目　【管理職候補/医療法人の運営ディレクター】～プライム上場グループ（設立8年　年商100億）～\n"
     ]
    },
    {
     "name": "stderr",
     "output_type": "stream",
     "text": [
      "C:\\Users\\s-mat\\AppData\\Local\\Temp\\ipykernel_10000\\714478864.py:24: DeprecationWarning: find_element_by_* commands are deprecated. Please use find_element() instead\n",
      "  element_tittle = browser.find_element_by_xpath('/html/body/section/section/div/div[2]/div[' + str(i) + ']/div[1]/div[1]/div[3]/div/a/div[2]/span[2]')\n",
      "C:\\Users\\s-mat\\AppData\\Local\\Temp\\ipykernel_10000\\714478864.py:16: DeprecationWarning: find_element_by_* commands are deprecated. Please use find_element() instead\n",
      "  element_DAY = browser.find_element_by_xpath('/html/body/section/section/div/div[2]/div[' + str(i) + ']/div[1]/div[1]/div[2]/div[1]/div')\n",
      "C:\\Users\\s-mat\\AppData\\Local\\Temp\\ipykernel_10000\\714478864.py:24: DeprecationWarning: find_element_by_* commands are deprecated. Please use find_element() instead\n",
      "  element_tittle = browser.find_element_by_xpath('/html/body/section/section/div/div[2]/div[' + str(i) + ']/div[1]/div[1]/div[3]/div/a/div[2]/span[2]')\n",
      "C:\\Users\\s-mat\\AppData\\Local\\Temp\\ipykernel_10000\\714478864.py:43: DeprecationWarning: find_element_by_* commands are deprecated. Please use find_element() instead\n",
      "  browser_from = browser.find_element_by_xpath('/html/body/section/section/div/div[1]/ul/li[12]/a')\n"
     ]
    },
    {
     "name": "stdout",
     "output_type": "stream",
     "text": [
      "50件目　2023/03/03\n",
      "50件目　【管理職候補/医療法人の運営ディレクター】～プライム上場グループ（設立8年　年商100億）～\n",
      "次ページに移動\n",
      "全1714件中、51～100件を表示\n"
     ]
    },
    {
     "name": "stderr",
     "output_type": "stream",
     "text": [
      "C:\\Users\\s-mat\\AppData\\Local\\Temp\\ipykernel_10000\\714478864.py:11: DeprecationWarning: find_element_by_* commands are deprecated. Please use find_element() instead\n",
      "  element_page = browser.find_element_by_xpath('/html/body/section/section/div/div[1]/span')\n",
      "C:\\Users\\s-mat\\AppData\\Local\\Temp\\ipykernel_10000\\714478864.py:16: DeprecationWarning: find_element_by_* commands are deprecated. Please use find_element() instead\n",
      "  element_DAY = browser.find_element_by_xpath('/html/body/section/section/div/div[2]/div[' + str(i) + ']/div[1]/div[1]/div[2]/div[1]/div')\n",
      "C:\\Users\\s-mat\\AppData\\Local\\Temp\\ipykernel_10000\\714478864.py:24: DeprecationWarning: find_element_by_* commands are deprecated. Please use find_element() instead\n",
      "  element_tittle = browser.find_element_by_xpath('/html/body/section/section/div/div[2]/div[' + str(i) + ']/div[1]/div[1]/div[3]/div/a/div[2]/span[2]')\n",
      "C:\\Users\\s-mat\\AppData\\Local\\Temp\\ipykernel_10000\\714478864.py:16: DeprecationWarning: find_element_by_* commands are deprecated. Please use find_element() instead\n",
      "  element_DAY = browser.find_element_by_xpath('/html/body/section/section/div/div[2]/div[' + str(i) + ']/div[1]/div[1]/div[2]/div[1]/div')\n",
      "C:\\Users\\s-mat\\AppData\\Local\\Temp\\ipykernel_10000\\714478864.py:24: DeprecationWarning: find_element_by_* commands are deprecated. Please use find_element() instead\n",
      "  element_tittle = browser.find_element_by_xpath('/html/body/section/section/div/div[2]/div[' + str(i) + ']/div[1]/div[1]/div[3]/div/a/div[2]/span[2]')\n",
      "C:\\Users\\s-mat\\AppData\\Local\\Temp\\ipykernel_10000\\714478864.py:16: DeprecationWarning: find_element_by_* commands are deprecated. Please use find_element() instead\n",
      "  element_DAY = browser.find_element_by_xpath('/html/body/section/section/div/div[2]/div[' + str(i) + ']/div[1]/div[1]/div[2]/div[1]/div')\n",
      "C:\\Users\\s-mat\\AppData\\Local\\Temp\\ipykernel_10000\\714478864.py:24: DeprecationWarning: find_element_by_* commands are deprecated. Please use find_element() instead\n",
      "  element_tittle = browser.find_element_by_xpath('/html/body/section/section/div/div[2]/div[' + str(i) + ']/div[1]/div[1]/div[3]/div/a/div[2]/span[2]')\n",
      "C:\\Users\\s-mat\\AppData\\Local\\Temp\\ipykernel_10000\\714478864.py:16: DeprecationWarning: find_element_by_* commands are deprecated. Please use find_element() instead\n",
      "  element_DAY = browser.find_element_by_xpath('/html/body/section/section/div/div[2]/div[' + str(i) + ']/div[1]/div[1]/div[2]/div[1]/div')\n"
     ]
    },
    {
     "name": "stdout",
     "output_type": "stream",
     "text": [
      "1件目　2023/03/03\n",
      "1件目　【管理職候補/医療法人の運営ディレクター】～プライム上場グループ（設立8年　年商100億）～\n",
      "2件目　2023/03/03\n",
      "2件目　【管理職候補/医療法人の運営ディレクター】～プライム上場グループ（設立8年　年商100億）～\n",
      "3件目　2023/03/03\n",
      "3件目　【管理職候補/医療法人の運営ディレクター】～プライム上場グループ（設立8年　年商100億）～\n"
     ]
    },
    {
     "name": "stderr",
     "output_type": "stream",
     "text": [
      "C:\\Users\\s-mat\\AppData\\Local\\Temp\\ipykernel_10000\\714478864.py:24: DeprecationWarning: find_element_by_* commands are deprecated. Please use find_element() instead\n",
      "  element_tittle = browser.find_element_by_xpath('/html/body/section/section/div/div[2]/div[' + str(i) + ']/div[1]/div[1]/div[3]/div/a/div[2]/span[2]')\n",
      "C:\\Users\\s-mat\\AppData\\Local\\Temp\\ipykernel_10000\\714478864.py:16: DeprecationWarning: find_element_by_* commands are deprecated. Please use find_element() instead\n",
      "  element_DAY = browser.find_element_by_xpath('/html/body/section/section/div/div[2]/div[' + str(i) + ']/div[1]/div[1]/div[2]/div[1]/div')\n",
      "C:\\Users\\s-mat\\AppData\\Local\\Temp\\ipykernel_10000\\714478864.py:24: DeprecationWarning: find_element_by_* commands are deprecated. Please use find_element() instead\n",
      "  element_tittle = browser.find_element_by_xpath('/html/body/section/section/div/div[2]/div[' + str(i) + ']/div[1]/div[1]/div[3]/div/a/div[2]/span[2]')\n",
      "C:\\Users\\s-mat\\AppData\\Local\\Temp\\ipykernel_10000\\714478864.py:16: DeprecationWarning: find_element_by_* commands are deprecated. Please use find_element() instead\n",
      "  element_DAY = browser.find_element_by_xpath('/html/body/section/section/div/div[2]/div[' + str(i) + ']/div[1]/div[1]/div[2]/div[1]/div')\n",
      "C:\\Users\\s-mat\\AppData\\Local\\Temp\\ipykernel_10000\\714478864.py:24: DeprecationWarning: find_element_by_* commands are deprecated. Please use find_element() instead\n",
      "  element_tittle = browser.find_element_by_xpath('/html/body/section/section/div/div[2]/div[' + str(i) + ']/div[1]/div[1]/div[3]/div/a/div[2]/span[2]')\n",
      "C:\\Users\\s-mat\\AppData\\Local\\Temp\\ipykernel_10000\\714478864.py:16: DeprecationWarning: find_element_by_* commands are deprecated. Please use find_element() instead\n",
      "  element_DAY = browser.find_element_by_xpath('/html/body/section/section/div/div[2]/div[' + str(i) + ']/div[1]/div[1]/div[2]/div[1]/div')\n",
      "C:\\Users\\s-mat\\AppData\\Local\\Temp\\ipykernel_10000\\714478864.py:24: DeprecationWarning: find_element_by_* commands are deprecated. Please use find_element() instead\n",
      "  element_tittle = browser.find_element_by_xpath('/html/body/section/section/div/div[2]/div[' + str(i) + ']/div[1]/div[1]/div[3]/div/a/div[2]/span[2]')\n"
     ]
    },
    {
     "name": "stdout",
     "output_type": "stream",
     "text": [
      "4件目　2023/03/03\n",
      "4件目　【管理職候補/医療法人の運営ディレクター】～プライム上場グループ（設立8年　年商100億）～\n",
      "5件目　2023/03/03\n",
      "5件目　【管理職候補/医療法人の運営ディレクター】～プライム上場グループ（設立8年　年商100億）～\n",
      "6件目　2023/03/03\n",
      "6件目　【管理職候補/医療法人の運営ディレクター】～プライム上場グループ（設立8年　年商100億）～\n",
      "7件目　2023/03/03\n",
      "7件目　【管理職候補/医療法人の運営ディレクター】～プライム上場グループ（設立8年　年商100億）～\n",
      "8件目　2023/03/03\n",
      "8件目　【管理職候補/医療法人の運営ディレクター】～プライム上場グループ（設立8年　年商100億）～\n",
      "9件目　2023/03/03\n",
      "9件目　【管理職候補/医療法人の運営ディレクター】～プライム上場グループ（設立8年　年商100億）～\n",
      "10件目　2023/03/03\n",
      "10件目　【管理職候補/医療法人の運営ディレクター】～プライム上場グループ（設立8年　年商100億）～\n"
     ]
    },
    {
     "name": "stderr",
     "output_type": "stream",
     "text": [
      "C:\\Users\\s-mat\\AppData\\Local\\Temp\\ipykernel_10000\\714478864.py:16: DeprecationWarning: find_element_by_* commands are deprecated. Please use find_element() instead\n",
      "  element_DAY = browser.find_element_by_xpath('/html/body/section/section/div/div[2]/div[' + str(i) + ']/div[1]/div[1]/div[2]/div[1]/div')\n",
      "C:\\Users\\s-mat\\AppData\\Local\\Temp\\ipykernel_10000\\714478864.py:24: DeprecationWarning: find_element_by_* commands are deprecated. Please use find_element() instead\n",
      "  element_tittle = browser.find_element_by_xpath('/html/body/section/section/div/div[2]/div[' + str(i) + ']/div[1]/div[1]/div[3]/div/a/div[2]/span[2]')\n",
      "C:\\Users\\s-mat\\AppData\\Local\\Temp\\ipykernel_10000\\714478864.py:16: DeprecationWarning: find_element_by_* commands are deprecated. Please use find_element() instead\n",
      "  element_DAY = browser.find_element_by_xpath('/html/body/section/section/div/div[2]/div[' + str(i) + ']/div[1]/div[1]/div[2]/div[1]/div')\n",
      "C:\\Users\\s-mat\\AppData\\Local\\Temp\\ipykernel_10000\\714478864.py:24: DeprecationWarning: find_element_by_* commands are deprecated. Please use find_element() instead\n",
      "  element_tittle = browser.find_element_by_xpath('/html/body/section/section/div/div[2]/div[' + str(i) + ']/div[1]/div[1]/div[3]/div/a/div[2]/span[2]')\n",
      "C:\\Users\\s-mat\\AppData\\Local\\Temp\\ipykernel_10000\\714478864.py:16: DeprecationWarning: find_element_by_* commands are deprecated. Please use find_element() instead\n",
      "  element_DAY = browser.find_element_by_xpath('/html/body/section/section/div/div[2]/div[' + str(i) + ']/div[1]/div[1]/div[2]/div[1]/div')\n",
      "C:\\Users\\s-mat\\AppData\\Local\\Temp\\ipykernel_10000\\714478864.py:24: DeprecationWarning: find_element_by_* commands are deprecated. Please use find_element() instead\n",
      "  element_tittle = browser.find_element_by_xpath('/html/body/section/section/div/div[2]/div[' + str(i) + ']/div[1]/div[1]/div[3]/div/a/div[2]/span[2]')\n",
      "C:\\Users\\s-mat\\AppData\\Local\\Temp\\ipykernel_10000\\714478864.py:16: DeprecationWarning: find_element_by_* commands are deprecated. Please use find_element() instead\n",
      "  element_DAY = browser.find_element_by_xpath('/html/body/section/section/div/div[2]/div[' + str(i) + ']/div[1]/div[1]/div[2]/div[1]/div')\n",
      "C:\\Users\\s-mat\\AppData\\Local\\Temp\\ipykernel_10000\\714478864.py:24: DeprecationWarning: find_element_by_* commands are deprecated. Please use find_element() instead\n",
      "  element_tittle = browser.find_element_by_xpath('/html/body/section/section/div/div[2]/div[' + str(i) + ']/div[1]/div[1]/div[3]/div/a/div[2]/span[2]')\n",
      "C:\\Users\\s-mat\\AppData\\Local\\Temp\\ipykernel_10000\\714478864.py:16: DeprecationWarning: find_element_by_* commands are deprecated. Please use find_element() instead\n",
      "  element_DAY = browser.find_element_by_xpath('/html/body/section/section/div/div[2]/div[' + str(i) + ']/div[1]/div[1]/div[2]/div[1]/div')\n",
      "C:\\Users\\s-mat\\AppData\\Local\\Temp\\ipykernel_10000\\714478864.py:24: DeprecationWarning: find_element_by_* commands are deprecated. Please use find_element() instead\n",
      "  element_tittle = browser.find_element_by_xpath('/html/body/section/section/div/div[2]/div[' + str(i) + ']/div[1]/div[1]/div[3]/div/a/div[2]/span[2]')\n",
      "C:\\Users\\s-mat\\AppData\\Local\\Temp\\ipykernel_10000\\714478864.py:16: DeprecationWarning: find_element_by_* commands are deprecated. Please use find_element() instead\n",
      "  element_DAY = browser.find_element_by_xpath('/html/body/section/section/div/div[2]/div[' + str(i) + ']/div[1]/div[1]/div[2]/div[1]/div')\n",
      "C:\\Users\\s-mat\\AppData\\Local\\Temp\\ipykernel_10000\\714478864.py:24: DeprecationWarning: find_element_by_* commands are deprecated. Please use find_element() instead\n",
      "  element_tittle = browser.find_element_by_xpath('/html/body/section/section/div/div[2]/div[' + str(i) + ']/div[1]/div[1]/div[3]/div/a/div[2]/span[2]')\n",
      "C:\\Users\\s-mat\\AppData\\Local\\Temp\\ipykernel_10000\\714478864.py:16: DeprecationWarning: find_element_by_* commands are deprecated. Please use find_element() instead\n",
      "  element_DAY = browser.find_element_by_xpath('/html/body/section/section/div/div[2]/div[' + str(i) + ']/div[1]/div[1]/div[2]/div[1]/div')\n",
      "C:\\Users\\s-mat\\AppData\\Local\\Temp\\ipykernel_10000\\714478864.py:24: DeprecationWarning: find_element_by_* commands are deprecated. Please use find_element() instead\n",
      "  element_tittle = browser.find_element_by_xpath('/html/body/section/section/div/div[2]/div[' + str(i) + ']/div[1]/div[1]/div[3]/div/a/div[2]/span[2]')\n"
     ]
    },
    {
     "name": "stdout",
     "output_type": "stream",
     "text": [
      "11件目　2023/03/03\n",
      "11件目　【管理職候補/医療法人の運営ディレクター】～プライム上場グループ（設立8年　年商100億）～\n",
      "12件目　2023/03/03\n",
      "12件目　【管理職候補/医療法人の運営ディレクター】～プライム上場グループ（設立8年　年商100億）～\n",
      "13件目　2023/03/03\n",
      "13件目　【管理職候補/医療法人の運営ディレクター】～プライム上場グループ（設立8年　年商100億）～\n",
      "14件目　2023/03/03\n",
      "14件目　【管理職候補/医療法人の運営ディレクター】～プライム上場グループ（設立8年　年商100億）～\n"
     ]
    },
    {
     "name": "stderr",
     "output_type": "stream",
     "text": [
      "C:\\Users\\s-mat\\AppData\\Local\\Temp\\ipykernel_10000\\714478864.py:16: DeprecationWarning: find_element_by_* commands are deprecated. Please use find_element() instead\n",
      "  element_DAY = browser.find_element_by_xpath('/html/body/section/section/div/div[2]/div[' + str(i) + ']/div[1]/div[1]/div[2]/div[1]/div')\n",
      "C:\\Users\\s-mat\\AppData\\Local\\Temp\\ipykernel_10000\\714478864.py:24: DeprecationWarning: find_element_by_* commands are deprecated. Please use find_element() instead\n",
      "  element_tittle = browser.find_element_by_xpath('/html/body/section/section/div/div[2]/div[' + str(i) + ']/div[1]/div[1]/div[3]/div/a/div[2]/span[2]')\n",
      "C:\\Users\\s-mat\\AppData\\Local\\Temp\\ipykernel_10000\\714478864.py:16: DeprecationWarning: find_element_by_* commands are deprecated. Please use find_element() instead\n",
      "  element_DAY = browser.find_element_by_xpath('/html/body/section/section/div/div[2]/div[' + str(i) + ']/div[1]/div[1]/div[2]/div[1]/div')\n",
      "C:\\Users\\s-mat\\AppData\\Local\\Temp\\ipykernel_10000\\714478864.py:24: DeprecationWarning: find_element_by_* commands are deprecated. Please use find_element() instead\n",
      "  element_tittle = browser.find_element_by_xpath('/html/body/section/section/div/div[2]/div[' + str(i) + ']/div[1]/div[1]/div[3]/div/a/div[2]/span[2]')\n",
      "C:\\Users\\s-mat\\AppData\\Local\\Temp\\ipykernel_10000\\714478864.py:16: DeprecationWarning: find_element_by_* commands are deprecated. Please use find_element() instead\n",
      "  element_DAY = browser.find_element_by_xpath('/html/body/section/section/div/div[2]/div[' + str(i) + ']/div[1]/div[1]/div[2]/div[1]/div')\n",
      "C:\\Users\\s-mat\\AppData\\Local\\Temp\\ipykernel_10000\\714478864.py:24: DeprecationWarning: find_element_by_* commands are deprecated. Please use find_element() instead\n",
      "  element_tittle = browser.find_element_by_xpath('/html/body/section/section/div/div[2]/div[' + str(i) + ']/div[1]/div[1]/div[3]/div/a/div[2]/span[2]')\n",
      "C:\\Users\\s-mat\\AppData\\Local\\Temp\\ipykernel_10000\\714478864.py:16: DeprecationWarning: find_element_by_* commands are deprecated. Please use find_element() instead\n",
      "  element_DAY = browser.find_element_by_xpath('/html/body/section/section/div/div[2]/div[' + str(i) + ']/div[1]/div[1]/div[2]/div[1]/div')\n"
     ]
    },
    {
     "name": "stdout",
     "output_type": "stream",
     "text": [
      "15件目　2023/03/03\n",
      "15件目　【管理職候補/医療法人の運営ディレクター】～プライム上場グループ（設立8年　年商100億）～\n",
      "16件目　2023/03/03\n",
      "16件目　【管理職候補/医療法人の運営ディレクター】～プライム上場グループ（設立8年　年商100億）～\n",
      "17件目　2023/03/03\n",
      "17件目　【管理職候補/医療法人の運営ディレクター】～プライム上場グループ（設立8年　年商100億）～\n"
     ]
    },
    {
     "name": "stderr",
     "output_type": "stream",
     "text": [
      "C:\\Users\\s-mat\\AppData\\Local\\Temp\\ipykernel_10000\\714478864.py:24: DeprecationWarning: find_element_by_* commands are deprecated. Please use find_element() instead\n",
      "  element_tittle = browser.find_element_by_xpath('/html/body/section/section/div/div[2]/div[' + str(i) + ']/div[1]/div[1]/div[3]/div/a/div[2]/span[2]')\n",
      "C:\\Users\\s-mat\\AppData\\Local\\Temp\\ipykernel_10000\\714478864.py:16: DeprecationWarning: find_element_by_* commands are deprecated. Please use find_element() instead\n",
      "  element_DAY = browser.find_element_by_xpath('/html/body/section/section/div/div[2]/div[' + str(i) + ']/div[1]/div[1]/div[2]/div[1]/div')\n",
      "C:\\Users\\s-mat\\AppData\\Local\\Temp\\ipykernel_10000\\714478864.py:24: DeprecationWarning: find_element_by_* commands are deprecated. Please use find_element() instead\n",
      "  element_tittle = browser.find_element_by_xpath('/html/body/section/section/div/div[2]/div[' + str(i) + ']/div[1]/div[1]/div[3]/div/a/div[2]/span[2]')\n",
      "C:\\Users\\s-mat\\AppData\\Local\\Temp\\ipykernel_10000\\714478864.py:16: DeprecationWarning: find_element_by_* commands are deprecated. Please use find_element() instead\n",
      "  element_DAY = browser.find_element_by_xpath('/html/body/section/section/div/div[2]/div[' + str(i) + ']/div[1]/div[1]/div[2]/div[1]/div')\n",
      "C:\\Users\\s-mat\\AppData\\Local\\Temp\\ipykernel_10000\\714478864.py:24: DeprecationWarning: find_element_by_* commands are deprecated. Please use find_element() instead\n",
      "  element_tittle = browser.find_element_by_xpath('/html/body/section/section/div/div[2]/div[' + str(i) + ']/div[1]/div[1]/div[3]/div/a/div[2]/span[2]')\n",
      "C:\\Users\\s-mat\\AppData\\Local\\Temp\\ipykernel_10000\\714478864.py:16: DeprecationWarning: find_element_by_* commands are deprecated. Please use find_element() instead\n",
      "  element_DAY = browser.find_element_by_xpath('/html/body/section/section/div/div[2]/div[' + str(i) + ']/div[1]/div[1]/div[2]/div[1]/div')\n"
     ]
    },
    {
     "name": "stdout",
     "output_type": "stream",
     "text": [
      "18件目　2023/03/03\n",
      "18件目　【管理職候補/医療法人の運営ディレクター】～プライム上場グループ（設立8年　年商100億）～\n",
      "19件目　2023/03/03\n",
      "19件目　【管理職候補/医療法人の運営ディレクター】～プライム上場グループ（設立8年　年商100億）～\n",
      "20件目　2023/03/03\n",
      "20件目　【管理職候補/医療法人の運営ディレクター】～プライム上場グループ（設立8年　年商100億）～\n",
      "21件目　【管理職候補/医療法人の運営ディレクター】～プライム上場グループ（設立8年　年商100億）～\n",
      "カウント終了\n"
     ]
    },
    {
     "data": {
      "text/html": [
       "<div>\n",
       "<style scoped>\n",
       "    .dataframe tbody tr th:only-of-type {\n",
       "        vertical-align: middle;\n",
       "    }\n",
       "\n",
       "    .dataframe tbody tr th {\n",
       "        vertical-align: top;\n",
       "    }\n",
       "\n",
       "    .dataframe thead th {\n",
       "        text-align: right;\n",
       "    }\n",
       "</style>\n",
       "<table border=\"1\" class=\"dataframe\">\n",
       "  <thead>\n",
       "    <tr style=\"text-align: right;\">\n",
       "      <th></th>\n",
       "      <th>コンサルタント</th>\n",
       "      <th>send_tittle</th>\n",
       "    </tr>\n",
       "  </thead>\n",
       "  <tbody>\n",
       "    <tr>\n",
       "      <th>0</th>\n",
       "      <td>PMC014</td>\n",
       "      <td>【管理職候補/医療法人の運営ディレクター】～プライム上場グループ（設立8年　年商100億）～</td>\n",
       "    </tr>\n",
       "    <tr>\n",
       "      <th>1</th>\n",
       "      <td>PMC014</td>\n",
       "      <td>【管理職候補/医療法人の運営ディレクター】～プライム上場グループ（設立8年　年商100億）～</td>\n",
       "    </tr>\n",
       "    <tr>\n",
       "      <th>2</th>\n",
       "      <td>PMC014</td>\n",
       "      <td>【管理職候補/医療法人の運営ディレクター】～プライム上場グループ（設立8年　年商100億）～</td>\n",
       "    </tr>\n",
       "    <tr>\n",
       "      <th>3</th>\n",
       "      <td>PMC014</td>\n",
       "      <td>【管理職候補/医療法人の運営ディレクター】～プライム上場グループ（設立8年　年商100億）～</td>\n",
       "    </tr>\n",
       "    <tr>\n",
       "      <th>4</th>\n",
       "      <td>PMC014</td>\n",
       "      <td>【管理職候補/医療法人の運営ディレクター】～プライム上場グループ（設立8年　年商100億）～</td>\n",
       "    </tr>\n",
       "    <tr>\n",
       "      <th>5</th>\n",
       "      <td>PMC014</td>\n",
       "      <td>【管理職候補/医療法人の運営ディレクター】～プライム上場グループ（設立8年　年商100億）～</td>\n",
       "    </tr>\n",
       "    <tr>\n",
       "      <th>6</th>\n",
       "      <td>PMC014</td>\n",
       "      <td>【管理職候補/医療法人の運営ディレクター】～プライム上場グループ（設立8年　年商100億）～</td>\n",
       "    </tr>\n",
       "    <tr>\n",
       "      <th>7</th>\n",
       "      <td>PMC014</td>\n",
       "      <td>【管理職候補/医療法人の運営ディレクター】～プライム上場グループ（設立8年　年商100億）～</td>\n",
       "    </tr>\n",
       "    <tr>\n",
       "      <th>8</th>\n",
       "      <td>PMC014</td>\n",
       "      <td>【管理職候補/医療法人の運営ディレクター】～プライム上場グループ（設立8年　年商100億）～</td>\n",
       "    </tr>\n",
       "    <tr>\n",
       "      <th>9</th>\n",
       "      <td>PMC014</td>\n",
       "      <td>【管理職候補/医療法人の運営ディレクター】～プライム上場グループ（設立8年　年商100億）～</td>\n",
       "    </tr>\n",
       "    <tr>\n",
       "      <th>10</th>\n",
       "      <td>PMC014</td>\n",
       "      <td>【管理職候補/医療法人の運営ディレクター】～プライム上場グループ（設立8年　年商100億）～</td>\n",
       "    </tr>\n",
       "    <tr>\n",
       "      <th>11</th>\n",
       "      <td>PMC014</td>\n",
       "      <td>【管理職候補/医療法人の運営ディレクター】～プライム上場グループ（設立8年　年商100億）～</td>\n",
       "    </tr>\n",
       "    <tr>\n",
       "      <th>12</th>\n",
       "      <td>PMC014</td>\n",
       "      <td>【管理職候補/医療法人の運営ディレクター】～プライム上場グループ（設立8年　年商100億）～</td>\n",
       "    </tr>\n",
       "    <tr>\n",
       "      <th>13</th>\n",
       "      <td>PMC014</td>\n",
       "      <td>【管理職候補/医療法人の運営ディレクター】～プライム上場グループ（設立8年　年商100億）～</td>\n",
       "    </tr>\n",
       "    <tr>\n",
       "      <th>14</th>\n",
       "      <td>PMC014</td>\n",
       "      <td>【管理職候補/医療法人の運営ディレクター】～プライム上場グループ（設立8年　年商100億）～</td>\n",
       "    </tr>\n",
       "    <tr>\n",
       "      <th>15</th>\n",
       "      <td>PMC014</td>\n",
       "      <td>【管理職候補/医療法人の運営ディレクター】～プライム上場グループ（設立8年　年商100億）～</td>\n",
       "    </tr>\n",
       "    <tr>\n",
       "      <th>16</th>\n",
       "      <td>PMC014</td>\n",
       "      <td>【管理職候補/医療法人の運営ディレクター】～プライム上場グループ（設立8年　年商100億）～</td>\n",
       "    </tr>\n",
       "    <tr>\n",
       "      <th>17</th>\n",
       "      <td>PMC014</td>\n",
       "      <td>【管理職候補/医療法人の運営ディレクター】～プライム上場グループ（設立8年　年商100億）～</td>\n",
       "    </tr>\n",
       "    <tr>\n",
       "      <th>18</th>\n",
       "      <td>PMC014</td>\n",
       "      <td>【管理職候補/医療法人の運営ディレクター】～プライム上場グループ（設立8年　年商100億）～</td>\n",
       "    </tr>\n",
       "    <tr>\n",
       "      <th>19</th>\n",
       "      <td>PMC014</td>\n",
       "      <td>【管理職候補/医療法人の運営ディレクター】～プライム上場グループ（設立8年　年商100億）～</td>\n",
       "    </tr>\n",
       "    <tr>\n",
       "      <th>20</th>\n",
       "      <td>PMC014</td>\n",
       "      <td>【管理職候補/医療法人の運営ディレクター】～プライム上場グループ（設立8年　年商100億）～</td>\n",
       "    </tr>\n",
       "    <tr>\n",
       "      <th>21</th>\n",
       "      <td>PMC014</td>\n",
       "      <td>【管理職候補/医療法人の運営ディレクター】～プライム上場グループ（設立8年　年商100億）～</td>\n",
       "    </tr>\n",
       "    <tr>\n",
       "      <th>22</th>\n",
       "      <td>PMC014</td>\n",
       "      <td>【管理職候補/医療法人の運営ディレクター】～プライム上場グループ（設立8年　年商100億）～</td>\n",
       "    </tr>\n",
       "    <tr>\n",
       "      <th>23</th>\n",
       "      <td>PMC014</td>\n",
       "      <td>【管理職候補/医療法人の運営ディレクター】～プライム上場グループ（設立8年　年商100億）～</td>\n",
       "    </tr>\n",
       "    <tr>\n",
       "      <th>24</th>\n",
       "      <td>PMC014</td>\n",
       "      <td>【管理職候補/医療法人の運営ディレクター】～プライム上場グループ（設立8年　年商100億）～</td>\n",
       "    </tr>\n",
       "    <tr>\n",
       "      <th>25</th>\n",
       "      <td>PMC014</td>\n",
       "      <td>【管理職候補/医療法人の運営ディレクター】～プライム上場グループ（設立8年　年商100億）～</td>\n",
       "    </tr>\n",
       "    <tr>\n",
       "      <th>26</th>\n",
       "      <td>PMC014</td>\n",
       "      <td>【管理職候補/医療法人の運営ディレクター】～プライム上場グループ（設立8年　年商100億）～</td>\n",
       "    </tr>\n",
       "    <tr>\n",
       "      <th>27</th>\n",
       "      <td>PMC014</td>\n",
       "      <td>【管理職候補/医療法人の運営ディレクター】～プライム上場グループ（設立8年　年商100億）～</td>\n",
       "    </tr>\n",
       "    <tr>\n",
       "      <th>28</th>\n",
       "      <td>PMC014</td>\n",
       "      <td>【管理職候補/医療法人の運営ディレクター】～プライム上場グループ（設立8年　年商100億）～</td>\n",
       "    </tr>\n",
       "    <tr>\n",
       "      <th>29</th>\n",
       "      <td>PMC014</td>\n",
       "      <td>【管理職候補/医療法人の運営ディレクター】～プライム上場グループ（設立8年　年商100億）～</td>\n",
       "    </tr>\n",
       "    <tr>\n",
       "      <th>30</th>\n",
       "      <td>PMC014</td>\n",
       "      <td>【管理職候補/医療法人の運営ディレクター】～プライム上場グループ（設立8年　年商100億）～</td>\n",
       "    </tr>\n",
       "    <tr>\n",
       "      <th>31</th>\n",
       "      <td>PMC014</td>\n",
       "      <td>【管理職候補/医療法人の運営ディレクター】～プライム上場グループ（設立8年　年商100億）～</td>\n",
       "    </tr>\n",
       "    <tr>\n",
       "      <th>32</th>\n",
       "      <td>PMC014</td>\n",
       "      <td>【管理職候補/医療法人の運営ディレクター】～プライム上場グループ（設立8年　年商100億）～</td>\n",
       "    </tr>\n",
       "    <tr>\n",
       "      <th>33</th>\n",
       "      <td>PMC014</td>\n",
       "      <td>【管理職候補/医療法人の運営ディレクター】～プライム上場グループ（設立8年　年商100億）～</td>\n",
       "    </tr>\n",
       "    <tr>\n",
       "      <th>34</th>\n",
       "      <td>PMC014</td>\n",
       "      <td>【管理職候補/医療法人の運営ディレクター】～プライム上場グループ（設立8年　年商100億）～</td>\n",
       "    </tr>\n",
       "    <tr>\n",
       "      <th>35</th>\n",
       "      <td>PMC014</td>\n",
       "      <td>【管理職候補/医療法人の運営ディレクター】～プライム上場グループ（設立8年　年商100億）～</td>\n",
       "    </tr>\n",
       "    <tr>\n",
       "      <th>36</th>\n",
       "      <td>PMC014</td>\n",
       "      <td>【管理職候補/医療法人の運営ディレクター】～プライム上場グループ（設立8年　年商100億）～</td>\n",
       "    </tr>\n",
       "    <tr>\n",
       "      <th>37</th>\n",
       "      <td>PMC014</td>\n",
       "      <td>【管理職候補/医療法人の運営ディレクター】～プライム上場グループ（設立8年　年商100億）～</td>\n",
       "    </tr>\n",
       "    <tr>\n",
       "      <th>38</th>\n",
       "      <td>PMC014</td>\n",
       "      <td>【管理職候補/医療法人の運営ディレクター】～プライム上場グループ（設立8年　年商100億）～</td>\n",
       "    </tr>\n",
       "    <tr>\n",
       "      <th>39</th>\n",
       "      <td>PMC014</td>\n",
       "      <td>【管理職候補/医療法人の運営ディレクター】～プライム上場グループ（設立8年　年商100億）～</td>\n",
       "    </tr>\n",
       "  </tbody>\n",
       "</table>\n",
       "</div>"
      ],
      "text/plain": [
       "   コンサルタント                                     send_tittle\n",
       "0   PMC014  【管理職候補/医療法人の運営ディレクター】～プライム上場グループ（設立8年　年商100億）～\n",
       "1   PMC014  【管理職候補/医療法人の運営ディレクター】～プライム上場グループ（設立8年　年商100億）～\n",
       "2   PMC014  【管理職候補/医療法人の運営ディレクター】～プライム上場グループ（設立8年　年商100億）～\n",
       "3   PMC014  【管理職候補/医療法人の運営ディレクター】～プライム上場グループ（設立8年　年商100億）～\n",
       "4   PMC014  【管理職候補/医療法人の運営ディレクター】～プライム上場グループ（設立8年　年商100億）～\n",
       "5   PMC014  【管理職候補/医療法人の運営ディレクター】～プライム上場グループ（設立8年　年商100億）～\n",
       "6   PMC014  【管理職候補/医療法人の運営ディレクター】～プライム上場グループ（設立8年　年商100億）～\n",
       "7   PMC014  【管理職候補/医療法人の運営ディレクター】～プライム上場グループ（設立8年　年商100億）～\n",
       "8   PMC014  【管理職候補/医療法人の運営ディレクター】～プライム上場グループ（設立8年　年商100億）～\n",
       "9   PMC014  【管理職候補/医療法人の運営ディレクター】～プライム上場グループ（設立8年　年商100億）～\n",
       "10  PMC014  【管理職候補/医療法人の運営ディレクター】～プライム上場グループ（設立8年　年商100億）～\n",
       "11  PMC014  【管理職候補/医療法人の運営ディレクター】～プライム上場グループ（設立8年　年商100億）～\n",
       "12  PMC014  【管理職候補/医療法人の運営ディレクター】～プライム上場グループ（設立8年　年商100億）～\n",
       "13  PMC014  【管理職候補/医療法人の運営ディレクター】～プライム上場グループ（設立8年　年商100億）～\n",
       "14  PMC014  【管理職候補/医療法人の運営ディレクター】～プライム上場グループ（設立8年　年商100億）～\n",
       "15  PMC014  【管理職候補/医療法人の運営ディレクター】～プライム上場グループ（設立8年　年商100億）～\n",
       "16  PMC014  【管理職候補/医療法人の運営ディレクター】～プライム上場グループ（設立8年　年商100億）～\n",
       "17  PMC014  【管理職候補/医療法人の運営ディレクター】～プライム上場グループ（設立8年　年商100億）～\n",
       "18  PMC014  【管理職候補/医療法人の運営ディレクター】～プライム上場グループ（設立8年　年商100億）～\n",
       "19  PMC014  【管理職候補/医療法人の運営ディレクター】～プライム上場グループ（設立8年　年商100億）～\n",
       "20  PMC014  【管理職候補/医療法人の運営ディレクター】～プライム上場グループ（設立8年　年商100億）～\n",
       "21  PMC014  【管理職候補/医療法人の運営ディレクター】～プライム上場グループ（設立8年　年商100億）～\n",
       "22  PMC014  【管理職候補/医療法人の運営ディレクター】～プライム上場グループ（設立8年　年商100億）～\n",
       "23  PMC014  【管理職候補/医療法人の運営ディレクター】～プライム上場グループ（設立8年　年商100億）～\n",
       "24  PMC014  【管理職候補/医療法人の運営ディレクター】～プライム上場グループ（設立8年　年商100億）～\n",
       "25  PMC014  【管理職候補/医療法人の運営ディレクター】～プライム上場グループ（設立8年　年商100億）～\n",
       "26  PMC014  【管理職候補/医療法人の運営ディレクター】～プライム上場グループ（設立8年　年商100億）～\n",
       "27  PMC014  【管理職候補/医療法人の運営ディレクター】～プライム上場グループ（設立8年　年商100億）～\n",
       "28  PMC014  【管理職候補/医療法人の運営ディレクター】～プライム上場グループ（設立8年　年商100億）～\n",
       "29  PMC014  【管理職候補/医療法人の運営ディレクター】～プライム上場グループ（設立8年　年商100億）～\n",
       "30  PMC014  【管理職候補/医療法人の運営ディレクター】～プライム上場グループ（設立8年　年商100億）～\n",
       "31  PMC014  【管理職候補/医療法人の運営ディレクター】～プライム上場グループ（設立8年　年商100億）～\n",
       "32  PMC014  【管理職候補/医療法人の運営ディレクター】～プライム上場グループ（設立8年　年商100億）～\n",
       "33  PMC014  【管理職候補/医療法人の運営ディレクター】～プライム上場グループ（設立8年　年商100億）～\n",
       "34  PMC014  【管理職候補/医療法人の運営ディレクター】～プライム上場グループ（設立8年　年商100億）～\n",
       "35  PMC014  【管理職候補/医療法人の運営ディレクター】～プライム上場グループ（設立8年　年商100億）～\n",
       "36  PMC014  【管理職候補/医療法人の運営ディレクター】～プライム上場グループ（設立8年　年商100億）～\n",
       "37  PMC014  【管理職候補/医療法人の運営ディレクター】～プライム上場グループ（設立8年　年商100億）～\n",
       "38  PMC014  【管理職候補/医療法人の運営ディレクター】～プライム上場グループ（設立8年　年商100億）～\n",
       "39  PMC014  【管理職候補/医療法人の運営ディレクター】～プライム上場グループ（設立8年　年商100億）～"
      ]
     },
     "metadata": {},
     "output_type": "display_data"
    }
   ],
   "source": [
    "time.sleep(1)\n",
    "browser.implicitly_wait(0.05)\n",
    "df_count = pd.DataFrame(columns=['コンサルタント','send_tittle'])\n",
    "\n",
    "tdatetime_yesterday = datetime.datetime.strptime(DAY, '%Y/%m/%d')\n",
    "\n",
    "ee = 0\n",
    "pp = 0\n",
    "\n",
    "while ee == 0:\n",
    "    element_page = browser.find_element_by_xpath('/html/body/section/section/div/div[1]/span')\n",
    "    print(element_page.text)\n",
    "    \n",
    "    for i in range(1,51):\n",
    "        try:\n",
    "            element_DAY = browser.find_element_by_xpath('/html/body/section/section/div/div[2]/div[' + str(i) + ']/div[1]/div[1]/div[2]/div[1]/div')\n",
    "        except NoSuchElementException:\n",
    "            element_DAY = browser.find_element_by_xpath('/html/body/section/section/div/div[2]/div[' + str(i) + ']/div[1]/div/div[2]/div[1]/div')\n",
    "        \n",
    "        tdatetime = datetime.datetime.strptime(element_DAY.text.split(':')[1], '%Y/%m/%d')\n",
    "\n",
    "        if element_DAY.text.split(':')[1] == DAY:\n",
    "            try:\n",
    "                element_tittle = browser.find_element_by_xpath('/html/body/section/section/div/div[2]/div[' + str(i) + ']/div[1]/div[1]/div[3]/div/a/div[2]/span[2]')\n",
    "            except NoSuchElementException:\n",
    "                elementt_tittle = browser.find_element_by_xpath('/html/body/section/section/div/div[2]/div[' + str(i) + ']/div[1]/div/div[3]/div/a/div[2]/span[2]')\n",
    "        elif tdatetime < tdatetime_yesterday:\n",
    "            print(str(i) + \"件目　\" + element_tittle.text)\n",
    "            print(\"カウント終了\")\n",
    "            ee = 1\n",
    "            break\n",
    "        else:\n",
    "            continue\n",
    "        print(str(i) + \"件目　\" + element_DAY.text.split(':')[1])\n",
    "        print(str(i) + \"件目　\" + element_tittle.text)\n",
    "\n",
    "        df = pd.DataFrame([[HEAD_HUNTER[0],element_tittle.text]],columns=['コンサルタント','send_tittle'])\n",
    "        df_count = pd.concat([df_count,df],join='outer',ignore_index=True)\n",
    "        \n",
    "    else:\n",
    "        if pp == 0:\n",
    "            #browser_from = browser.find_element_by_xpath('/html/body/section/section/div/div[1]/ul/li[13]/a')\n",
    "            browser_from = browser.find_element_by_xpath('/html/body/section/section/div/div[1]/ul/li[12]/a')\n",
    "            pp += 1\n",
    "        elif pp == 1:\n",
    "            browser_from = browser.find_element_by_xpath('/html/body/section/section/div/div[1]/ul/li[13]/a')\n",
    "        time.sleep(1)\n",
    "        browser_from.click()\n",
    "        print(\"次ページに移動\")\n",
    "\n",
    "\n",
    "\n",
    "display(df_count)\n",
    "    "
   ]
  },
  {
   "cell_type": "code",
   "execution_count": 17,
   "id": "57822bf9-c90c-4dba-964a-e9132f48fd45",
   "metadata": {},
   "outputs": [
    {
     "data": {
      "text/plain": [
       "【管理職候補/医療法人の運営ディレクター】～プライム上場グループ（設立8年　年商100億）～    40\n",
       "Name: send_tittle, dtype: int64"
      ]
     },
     "execution_count": 17,
     "metadata": {},
     "output_type": "execute_result"
    }
   ],
   "source": [
    "df_count_all = df_count['send_tittle']\n",
    "df_count_all .value_counts()"
   ]
  },
  {
   "cell_type": "code",
   "execution_count": null,
   "id": "ac9dc06b-0912-4242-8a36-c15b279d7ecf",
   "metadata": {},
   "outputs": [],
   "source": []
  },
  {
   "cell_type": "code",
   "execution_count": null,
   "id": "10adea36-5f93-49d2-ad83-74475c772e44",
   "metadata": {},
   "outputs": [],
   "source": []
  },
  {
   "cell_type": "code",
   "execution_count": null,
   "id": "51926983-e421-4207-affe-3155eb9bc1cf",
   "metadata": {},
   "outputs": [],
   "source": []
  },
  {
   "cell_type": "code",
   "execution_count": null,
   "id": "2376f20b-7a8c-4995-bdb2-a7b9fc583412",
   "metadata": {},
   "outputs": [],
   "source": []
  },
  {
   "cell_type": "code",
   "execution_count": null,
   "id": "718966f9-121e-489c-a30b-4312036cc663",
   "metadata": {},
   "outputs": [],
   "source": []
  }
 ],
 "metadata": {
  "kernelspec": {
   "display_name": "Python 3 (ipykernel)",
   "language": "python",
   "name": "python3"
  },
  "language_info": {
   "codemirror_mode": {
    "name": "ipython",
    "version": 3
   },
   "file_extension": ".py",
   "mimetype": "text/x-python",
   "name": "python",
   "nbconvert_exporter": "python",
   "pygments_lexer": "ipython3",
   "version": "3.10.10"
  }
 },
 "nbformat": 4,
 "nbformat_minor": 5
}
