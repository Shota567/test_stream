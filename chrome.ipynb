{
 "cells": [
  {
   "cell_type": "code",
   "execution_count": 68,
   "id": "a8b495e0-76f7-401b-ada2-0a329b41f8a1",
   "metadata": {},
   "outputs": [
    {
     "name": "stdout",
     "output_type": "stream",
     "text": [
      "Requirement already satisfied: selenium in c:\\users\\rukur\\anaconda3\\lib\\site-packages (4.1.3)\n",
      "Requirement already satisfied: urllib3[secure,socks]~=1.26 in c:\\users\\rukur\\anaconda3\\lib\\site-packages (from selenium) (1.26.7)\n",
      "Requirement already satisfied: trio-websocket~=0.9 in c:\\users\\rukur\\anaconda3\\lib\\site-packages (from selenium) (0.9.2)\n",
      "Requirement already satisfied: trio~=0.17 in c:\\users\\rukur\\anaconda3\\lib\\site-packages (from selenium) (0.20.0)\n",
      "Requirement already satisfied: idna in c:\\users\\rukur\\anaconda3\\lib\\site-packages (from trio~=0.17->selenium) (3.2)\n",
      "Requirement already satisfied: attrs>=19.2.0 in c:\\users\\rukur\\anaconda3\\lib\\site-packages (from trio~=0.17->selenium) (21.2.0)\n",
      "Requirement already satisfied: async-generator>=1.9 in c:\\users\\rukur\\anaconda3\\lib\\site-packages (from trio~=0.17->selenium) (1.10)\n",
      "Requirement already satisfied: sortedcontainers in c:\\users\\rukur\\anaconda3\\lib\\site-packages (from trio~=0.17->selenium) (2.4.0)\n",
      "Requirement already satisfied: cffi>=1.14 in c:\\users\\rukur\\anaconda3\\lib\\site-packages (from trio~=0.17->selenium) (1.14.6)\n",
      "Requirement already satisfied: outcome in c:\\users\\rukur\\anaconda3\\lib\\site-packages (from trio~=0.17->selenium) (1.1.0)\n",
      "Requirement already satisfied: sniffio in c:\\users\\rukur\\anaconda3\\lib\\site-packages (from trio~=0.17->selenium) (1.2.0)\n",
      "Requirement already satisfied: pycparser in c:\\users\\rukur\\anaconda3\\lib\\site-packages (from cffi>=1.14->trio~=0.17->selenium) (2.20)\n",
      "Requirement already satisfied: wsproto>=0.14 in c:\\users\\rukur\\anaconda3\\lib\\site-packages (from trio-websocket~=0.9->selenium) (1.1.0)\n",
      "Requirement already satisfied: PySocks!=1.5.7,<2.0,>=1.5.6 in c:\\users\\rukur\\anaconda3\\lib\\site-packages (from urllib3[secure,socks]~=1.26->selenium) (1.7.1)\n",
      "Requirement already satisfied: pyOpenSSL>=0.14 in c:\\users\\rukur\\anaconda3\\lib\\site-packages (from urllib3[secure,socks]~=1.26->selenium) (21.0.0)\n",
      "Requirement already satisfied: cryptography>=1.3.4 in c:\\users\\rukur\\anaconda3\\lib\\site-packages (from urllib3[secure,socks]~=1.26->selenium) (3.4.7)\n",
      "Requirement already satisfied: certifi in c:\\users\\rukur\\anaconda3\\lib\\site-packages (from urllib3[secure,socks]~=1.26->selenium) (2021.10.8)\n",
      "Requirement already satisfied: six>=1.5.2 in c:\\users\\rukur\\anaconda3\\lib\\site-packages (from pyOpenSSL>=0.14->urllib3[secure,socks]~=1.26->selenium) (1.16.0)\n",
      "Requirement already satisfied: h11<1,>=0.9.0 in c:\\users\\rukur\\anaconda3\\lib\\site-packages (from wsproto>=0.14->trio-websocket~=0.9->selenium) (0.13.0)\n"
     ]
    }
   ],
   "source": [
    "!pip install selenium"
   ]
  },
  {
   "cell_type": "code",
   "execution_count": 69,
   "id": "0f375107-ba0f-4435-8e2a-e07dee29cc68",
   "metadata": {},
   "outputs": [
    {
     "name": "stdout",
     "output_type": "stream",
     "text": [
      "Requirement already satisfied: beautifulsoup4 in c:\\users\\rukur\\anaconda3\\lib\\site-packages (4.10.0)\n",
      "Requirement already satisfied: soupsieve>1.2 in c:\\users\\rukur\\anaconda3\\lib\\site-packages (from beautifulsoup4) (2.2.1)\n"
     ]
    }
   ],
   "source": [
    "!pip install beautifulsoup4"
   ]
  },
  {
   "cell_type": "code",
   "execution_count": 70,
   "id": "458a9a56-538c-4227-a20f-ba04f2ab5855",
   "metadata": {},
   "outputs": [],
   "source": [
    "from selenium import webdriver\n",
    "\n",
    "import time\n",
    "\n",
    "import pandas as pd\n",
    "\n",
    "from selenium.webdriver.common.action_chains import ActionChains\n",
    "from selenium.webdriver.common.keys import Keys\n",
    "\n",
    "from selenium.common.exceptions import NoSuchElementException\n",
    "\n",
    "from bs4 import BeautifulSoup\n",
    "import requests\n",
    "\n",
    "import re\n",
    "\n",
    "import numpy as np"
   ]
  },
  {
   "cell_type": "code",
   "execution_count": 71,
   "id": "5c0987ea-3fe5-4b91-bcc1-1efb6ed570c2",
   "metadata": {},
   "outputs": [],
   "source": [
    "USER = 'matsuno@assemblage.asia'\n",
    "PASS = 'shota1004'\n",
    "DAY = '2022/05/13'\n",
    "TAMURA = 'd-head-hunter-login-106233'\n",
    "GOTO = 'd-head-hunter-login-106010'\n",
    "HEAD_HUNTER = TAMURA"
   ]
  },
  {
   "cell_type": "code",
   "execution_count": 72,
   "id": "f9dbf1cb-f54a-42b9-9d5f-69d6073b82ac",
   "metadata": {},
   "outputs": [
    {
     "name": "stderr",
     "output_type": "stream",
     "text": [
      "C:\\Users\\rukur\\AppData\\Local\\Temp/ipykernel_7092/37351864.py:1: DeprecationWarning: executable_path has been deprecated, please pass in a Service object\n",
      "  browser = webdriver.Chrome(executable_path = 'C:/Users/rukur/Downloads/MyPandas/chromedriver.exe')\n"
     ]
    }
   ],
   "source": [
    "browser = webdriver.Chrome(executable_path = 'C:/Users/rukur/Downloads/MyPandas/chromedriver.exe')\n",
    "browser.implicitly_wait(1)"
   ]
  },
  {
   "cell_type": "code",
   "execution_count": 73,
   "id": "97e31ccf-2e3a-4f1c-9361-4be8e3cf281e",
   "metadata": {},
   "outputs": [
    {
     "name": "stdout",
     "output_type": "stream",
     "text": [
      "ログインページにアクセスしました\n"
     ]
    }
   ],
   "source": [
    "url_login = 'https://agt.directscout.recruit.co.jp/agent_administrator/login'\n",
    "browser.get(url_login)\n",
    "time.sleep(1)\n",
    "print(\"ログインページにアクセスしました\")"
   ]
  },
  {
   "cell_type": "code",
   "execution_count": 74,
   "id": "ceaa7b99-9e57-4c8f-be66-91071d2351fe",
   "metadata": {},
   "outputs": [
    {
     "name": "stdout",
     "output_type": "stream",
     "text": [
      "フォームを送信\n"
     ]
    },
    {
     "name": "stderr",
     "output_type": "stream",
     "text": [
      "C:\\Users\\rukur\\AppData\\Local\\Temp/ipykernel_7092/2514630149.py:1: DeprecationWarning: find_element_by_* commands are deprecated. Please use find_element() instead\n",
      "  element = browser.find_element_by_id('agent_administrator_email')\n",
      "C:\\Users\\rukur\\AppData\\Local\\Temp/ipykernel_7092/2514630149.py:5: DeprecationWarning: find_element_by_* commands are deprecated. Please use find_element() instead\n",
      "  element = browser.find_element_by_id('agent_administrator_password')\n"
     ]
    }
   ],
   "source": [
    "element = browser.find_element_by_id('agent_administrator_email')\n",
    "element.clear()\n",
    "element.send_keys(USER)\n",
    "\n",
    "element = browser.find_element_by_id('agent_administrator_password')\n",
    "element.clear()\n",
    "element.send_keys(PASS)\n",
    "\n",
    "print(\"フォームを送信\")"
   ]
  },
  {
   "cell_type": "code",
   "execution_count": 75,
   "id": "8666f6ec-3059-4588-b1a8-139bcc96783e",
   "metadata": {},
   "outputs": [
    {
     "name": "stderr",
     "output_type": "stream",
     "text": [
      "C:\\Users\\rukur\\AppData\\Local\\Temp/ipykernel_7092/1062997332.py:1: DeprecationWarning: find_element_by_name is deprecated. Please use find_element(by=By.NAME, value=name) instead\n",
      "  browser_from = browser.find_element_by_name('commit')\n"
     ]
    },
    {
     "name": "stdout",
     "output_type": "stream",
     "text": [
      "情報を入力してログインボタンを押しました\n"
     ]
    }
   ],
   "source": [
    "browser_from = browser.find_element_by_name('commit')\n",
    "time.sleep(3)\n",
    "browser_from.click()\n",
    "print(\"情報を入力してログインボタンを押しました\")"
   ]
  },
  {
   "cell_type": "code",
   "execution_count": 76,
   "id": "f41ba293-035f-4d7c-9419-bbc4708a491f",
   "metadata": {},
   "outputs": [
    {
     "name": "stderr",
     "output_type": "stream",
     "text": [
      "C:\\Users\\rukur\\AppData\\Local\\Temp/ipykernel_7092/1163064450.py:1: DeprecationWarning: find_element_by_* commands are deprecated. Please use find_element() instead\n",
      "  browser_from = browser.find_element_by_id(HEAD_HUNTER)\n"
     ]
    },
    {
     "name": "stdout",
     "output_type": "stream",
     "text": [
      "コンサルタントページへ移動しました\n"
     ]
    }
   ],
   "source": [
    "browser_from = browser.find_element_by_id(HEAD_HUNTER)\n",
    "time.sleep(1)\n",
    "browser_from.click()\n",
    "print(\"コンサルタントページへ移動しました\")"
   ]
  },
  {
   "cell_type": "code",
   "execution_count": 77,
   "id": "377a3bf4-1fcb-4302-bde2-e9a36067e7cf",
   "metadata": {},
   "outputs": [
    {
     "name": "stderr",
     "output_type": "stream",
     "text": [
      "C:\\Users\\rukur\\AppData\\Local\\Temp/ipykernel_7092/1781063321.py:1: DeprecationWarning: find_element_by_xpath is deprecated. Please use find_element(by=By.XPATH, value=xpath) instead\n",
      "  browser_from = browser.find_element_by_xpath('/html/body/header/nav/ul/li[6]/a')\n"
     ]
    },
    {
     "name": "stdout",
     "output_type": "stream",
     "text": [
      "求職者検索ページへ移動しました\n"
     ]
    }
   ],
   "source": [
    "browser_from = browser.find_element_by_xpath('/html/body/header/nav/ul/li[6]/a')\n",
    "time.sleep(1)\n",
    "browser_from.click()\n",
    "print(\"求職者検索ページへ移動しました\")"
   ]
  },
  {
   "cell_type": "code",
   "execution_count": 78,
   "id": "ad25614c-33c4-4d8d-b854-5ce600552350",
   "metadata": {},
   "outputs": [
    {
     "name": "stdout",
     "output_type": "stream",
     "text": [
      "フォームを送信\n"
     ]
    },
    {
     "name": "stderr",
     "output_type": "stream",
     "text": [
      "C:\\Users\\rukur\\AppData\\Local\\Temp/ipykernel_7092/516648591.py:1: DeprecationWarning: find_element_by_name is deprecated. Please use find_element(by=By.NAME, value=name) instead\n",
      "  element = browser.find_element_by_name('message_search_form[date_from]')\n",
      "C:\\Users\\rukur\\AppData\\Local\\Temp/ipykernel_7092/516648591.py:5: DeprecationWarning: find_element_by_name is deprecated. Please use find_element(by=By.NAME, value=name) instead\n",
      "  element = browser.find_element_by_name('message_search_form[date_to]')\n"
     ]
    }
   ],
   "source": [
    "element = browser.find_element_by_name('message_search_form[date_from]')\n",
    "element.clear()\n",
    "element.send_keys(DAY)\n",
    "\n",
    "element = browser.find_element_by_name('message_search_form[date_to]')\n",
    "element.clear()\n",
    "element.send_keys(DAY)\n",
    "\n",
    "print(\"フォームを送信\")"
   ]
  },
  {
   "cell_type": "code",
   "execution_count": 79,
   "id": "d887e8af-a0c5-44e6-9f13-d3e701aaca25",
   "metadata": {},
   "outputs": [
    {
     "name": "stdout",
     "output_type": "stream",
     "text": [
      "受信をクリア"
     ]
    },
    {
     "name": "stderr",
     "output_type": "stream",
     "text": [
      "C:\\Users\\rukur\\AppData\\Local\\Temp/ipykernel_7092/254037352.py:1: DeprecationWarning: find_element_by_xpath is deprecated. Please use find_element(by=By.XPATH, value=xpath) instead\n",
      "  browser_from = browser.find_element_by_xpath('//*[@id=\"new_message_search_form\"]/dl[3]/dd/div[1]/div[1]/ins')\n"
     ]
    },
    {
     "name": "stdout",
     "output_type": "stream",
     "text": [
      "\n",
      "送信をチェック\n",
      "返信をクリア\n"
     ]
    },
    {
     "name": "stderr",
     "output_type": "stream",
     "text": [
      "C:\\Users\\rukur\\AppData\\Local\\Temp/ipykernel_7092/254037352.py:5: DeprecationWarning: find_element_by_xpath is deprecated. Please use find_element(by=By.XPATH, value=xpath) instead\n",
      "  browser_from = browser.find_element_by_xpath('//*[@id=\"new_message_search_form\"]/dl[3]/dd/div[2]/div[1]/ins')\n",
      "C:\\Users\\rukur\\AppData\\Local\\Temp/ipykernel_7092/254037352.py:9: DeprecationWarning: find_element_by_xpath is deprecated. Please use find_element(by=By.XPATH, value=xpath) instead\n",
      "  browser_from = browser.find_element_by_xpath('//*[@id=\"new_message_search_form\"]/dl[3]/dd/div[2]/div[5]/ins')\n"
     ]
    }
   ],
   "source": [
    "browser_from = browser.find_element_by_xpath('//*[@id=\"new_message_search_form\"]/dl[3]/dd/div[1]/div[1]/ins')\n",
    "browser_from.click()\n",
    "print(\"受信をクリア\")\n",
    "\n",
    "browser_from = browser.find_element_by_xpath('//*[@id=\"new_message_search_form\"]/dl[3]/dd/div[2]/div[1]/ins')\n",
    "browser_from.click()\n",
    "print(\"送信をチェック\")\n",
    "\n",
    "browser_from = browser.find_element_by_xpath('//*[@id=\"new_message_search_form\"]/dl[3]/dd/div[2]/div[5]/ins')\n",
    "browser_from.click()\n",
    "print(\"返信をクリア\")\n",
    "\n",
    "#browser_from = browser.find_element_by_xpath('/html/body/div[2]/div/div[1]/div[1]/div[2]/form/dl[3]/dd/div[2]/div[4]/ins')\n",
    "#browser_from.click()\n",
    "#print(\"FITをクリア\")"
   ]
  },
  {
   "cell_type": "code",
   "execution_count": 80,
   "id": "7f7bb1ba-fa07-49f4-b937-75d8ed381475",
   "metadata": {},
   "outputs": [
    {
     "name": "stderr",
     "output_type": "stream",
     "text": [
      "C:\\Users\\rukur\\AppData\\Local\\Temp/ipykernel_7092/2986351597.py:1: DeprecationWarning: find_element_by_name is deprecated. Please use find_element(by=By.NAME, value=name) instead\n",
      "  browser_from = browser.find_element_by_name('commit')\n"
     ]
    },
    {
     "name": "stdout",
     "output_type": "stream",
     "text": [
      "検索をしました\n"
     ]
    }
   ],
   "source": [
    "browser_from = browser.find_element_by_name('commit')\n",
    "time.sleep(1)\n",
    "browser_from.click()\n",
    "print(\"検索をしました\")"
   ]
  },
  {
   "cell_type": "code",
   "execution_count": 81,
   "id": "b8f19bd0-61a2-4ae2-a5f7-8ecb623dfa1c",
   "metadata": {},
   "outputs": [
    {
     "name": "stdout",
     "output_type": "stream",
     "text": [
      "109\n"
     ]
    },
    {
     "name": "stderr",
     "output_type": "stream",
     "text": [
      "C:\\Users\\rukur\\AppData\\Local\\Temp/ipykernel_7092/1919625979.py:1: DeprecationWarning: find_element_by_xpath is deprecated. Please use find_element(by=By.XPATH, value=xpath) instead\n",
      "  send_all = browser.find_element_by_xpath('/html/body/div[2]/div/div[1]/div[2]/p')\n"
     ]
    }
   ],
   "source": [
    "send_all = browser.find_element_by_xpath('/html/body/div[2]/div/div[1]/div[2]/p')\n",
    "send_all_count = re.sub(r\"\\D\", \"\", send_all.text.split('全')[1])\n",
    "print(send_all_count)"
   ]
  },
  {
   "cell_type": "code",
   "execution_count": 82,
   "id": "30f29aaf-eb20-406e-b237-db9e1a195c98",
   "metadata": {},
   "outputs": [],
   "source": [
    "actions = ActionChains(browser)"
   ]
  },
  {
   "cell_type": "code",
   "execution_count": 83,
   "id": "7774682f-122c-4938-8bd0-21c8fa2ff2fd",
   "metadata": {},
   "outputs": [],
   "source": [
    "k1 = '/html/body/div[2]/div/div[1]/table/tbody/tr['\n",
    "k2 = ']/td[3]/a/span'"
   ]
  },
  {
   "cell_type": "code",
   "execution_count": 84,
   "id": "4e9c3100-86fc-4f06-b9f2-88959eac1d52",
   "metadata": {},
   "outputs": [
    {
     "data": {
      "text/html": [
       "<div>\n",
       "<style scoped>\n",
       "    .dataframe tbody tr th:only-of-type {\n",
       "        vertical-align: middle;\n",
       "    }\n",
       "\n",
       "    .dataframe tbody tr th {\n",
       "        vertical-align: top;\n",
       "    }\n",
       "\n",
       "    .dataframe thead th {\n",
       "        text-align: right;\n",
       "    }\n",
       "</style>\n",
       "<table border=\"1\" class=\"dataframe\">\n",
       "  <thead>\n",
       "    <tr style=\"text-align: right;\">\n",
       "      <th></th>\n",
       "      <th>number</th>\n",
       "      <th>send_tittle</th>\n",
       "      <th>send_day</th>\n",
       "    </tr>\n",
       "  </thead>\n",
       "  <tbody>\n",
       "  </tbody>\n",
       "</table>\n",
       "</div>"
      ],
      "text/plain": [
       "Empty DataFrame\n",
       "Columns: [number, send_tittle, send_day]\n",
       "Index: []"
      ]
     },
     "execution_count": 84,
     "metadata": {},
     "output_type": "execute_result"
    }
   ],
   "source": [
    "df2 = pd.DataFrame(columns=['number','send_tittle','send_day'])\n",
    "df2"
   ]
  },
  {
   "cell_type": "code",
   "execution_count": 85,
   "id": "3a023358-93dc-4b57-ad8d-c63178ec8e34",
   "metadata": {},
   "outputs": [
    {
     "name": "stdout",
     "output_type": "stream",
     "text": [
      "4 10\n",
      "[1, 2, 3]\n"
     ]
    }
   ],
   "source": [
    "j = int(send_all_count)\n",
    "if j <= 50:\n",
    "    j_page = j + 1\n",
    "    j_loop = 2\n",
    "else:\n",
    "    j_page = divmod(j,50)[1] + 1\n",
    "    j_loop = divmod(j,50)[0] + 2\n",
    "print(j_loop,j_page)\n",
    "print(list(range(1,j_loop)))"
   ]
  },
  {
   "cell_type": "code",
   "execution_count": 86,
   "id": "36cf9246-bdc8-4b64-916c-f45b96e0fb65",
   "metadata": {
    "tags": []
   },
   "outputs": [
    {
     "name": "stdout",
     "output_type": "stream",
     "text": [
      "1\n"
     ]
    },
    {
     "name": "stderr",
     "output_type": "stream",
     "text": [
      "C:\\Users\\rukur\\AppData\\Local\\Temp/ipykernel_7092/2025155792.py:15: DeprecationWarning: find_element_by_xpath is deprecated. Please use find_element(by=By.XPATH, value=xpath) instead\n",
      "  browser_from = browser.find_element_by_xpath(k1 + str(i) + k2)\n"
     ]
    },
    {
     "name": "stdout",
     "output_type": "stream",
     "text": [
      "求職者ページへ遷移1\n"
     ]
    },
    {
     "name": "stderr",
     "output_type": "stream",
     "text": [
      "C:\\Users\\rukur\\AppData\\Local\\Temp/ipykernel_7092/2025155792.py:28: DeprecationWarning: find_element_by_xpath is deprecated. Please use find_element(by=By.XPATH, value=xpath) instead\n",
      "  browser_from = browser.find_element_by_xpath('/html/body/div[2]/div/div[2]/ul/li[2]/a')\n"
     ]
    },
    {
     "name": "stdout",
     "output_type": "stream",
     "text": [
      "メッセージへ移動しました1\n"
     ]
    },
    {
     "name": "stderr",
     "output_type": "stream",
     "text": [
      "C:\\Users\\rukur\\AppData\\Local\\Temp/ipykernel_7092/2025155792.py:34: DeprecationWarning: find_element_by_xpath is deprecated. Please use find_element(by=By.XPATH, value=xpath) instead\n",
      "  browser_from = browser.find_element_by_xpath('/html/body/div[2]/div/div[2]/div[4]/div[2]/div[1]/div[2]')\n",
      "C:\\Users\\rukur\\AppData\\Local\\Temp/ipykernel_7092/2025155792.py:46: DeprecationWarning: find_element_by_xpath is deprecated. Please use find_element(by=By.XPATH, value=xpath) instead\n",
      "  send_tittle = browser.find_element_by_xpath(s1+result+s2)\n",
      "C:\\Users\\rukur\\AppData\\Local\\Temp/ipykernel_7092/2025155792.py:47: DeprecationWarning: find_element_by_xpath is deprecated. Please use find_element(by=By.XPATH, value=xpath) instead\n",
      "  send_day = browser.find_element_by_xpath(s1+result+s3)\n"
     ]
    },
    {
     "name": "stdout",
     "output_type": "stream",
     "text": [
      "全 1 件\n",
      "「人×ICT×環境」～自社らしい働き方や環境を提案～ 2022/05/13 16:57\n",
      "2\n",
      "求職者ページへ遷移2\n",
      "メッセージへ移動しました2\n"
     ]
    },
    {
     "name": "stderr",
     "output_type": "stream",
     "text": [
      "C:\\Users\\rukur\\AppData\\Local\\Temp/ipykernel_7092/2025155792.py:36: DeprecationWarning: find_element_by_xpath is deprecated. Please use find_element(by=By.XPATH, value=xpath) instead\n",
      "  browser_from = browser.find_element_by_xpath('/html/body/div[2]/div/div[2]/div[5]/div[2]/div[1]/div[2]')\n"
     ]
    },
    {
     "name": "stdout",
     "output_type": "stream",
     "text": [
      "全 1 件\n"
     ]
    },
    {
     "name": "stderr",
     "output_type": "stream",
     "text": [
      "C:\\Users\\rukur\\AppData\\Local\\Temp/ipykernel_7092/2025155792.py:55: DeprecationWarning: find_element_by_xpath is deprecated. Please use find_element(by=By.XPATH, value=xpath) instead\n",
      "  send_tittle = browser.find_element_by_xpath(s1+result+s2)\n",
      "C:\\Users\\rukur\\AppData\\Local\\Temp/ipykernel_7092/2025155792.py:56: DeprecationWarning: find_element_by_xpath is deprecated. Please use find_element(by=By.XPATH, value=xpath) instead\n",
      "  send_day = browser.find_element_by_xpath(s1+result+s3)\n"
     ]
    },
    {
     "name": "stdout",
     "output_type": "stream",
     "text": [
      "「人×ICT×環境」～自社らしい働き方や環境を提案～ 2022/05/13 16:57\n",
      "3\n",
      "求職者ページへ遷移3\n",
      "メッセージへ移動しました3\n",
      "全 1 件\n",
      "「人×ICT×環境」～自社らしい働き方や環境を提案～ 2022/05/13 16:56\n",
      "4\n",
      "求職者ページへ遷移4\n",
      "メッセージへ移動しました4\n",
      "全 1 件\n",
      "「人×ICT×環境」～自社らしい働き方や環境を提案～ 2022/05/13 16:56\n",
      "5\n",
      "求職者ページへ遷移5\n",
      "メッセージへ移動しました5\n",
      "全 1 件\n",
      "「人×ICT×環境」～自社らしい働き方や環境を提案～ 2022/05/13 16:56\n",
      "6\n",
      "求職者ページへ遷移6\n",
      "メッセージへ移動しました6\n",
      "全 1 件\n",
      "「人×ICT×環境」～自社らしい働き方や環境を提案～ 2022/05/13 16:55\n",
      "7\n",
      "求職者ページへ遷移7\n",
      "メッセージへ移動しました7\n",
      "全 1 件\n",
      "「人×ICT×環境」～自社らしい働き方や環境を提案～ 2022/05/13 16:55\n",
      "8\n",
      "求職者ページへ遷移8\n",
      "メッセージへ移動しました8\n",
      "全 1 件\n",
      "「人×ICT×環境」～自社らしい働き方や環境を提案～ 2022/05/13 16:55\n",
      "9\n",
      "求職者ページへ遷移9\n",
      "メッセージへ移動しました9\n",
      "全 1 件\n",
      "「人×ICT×環境」～自社らしい働き方や環境を提案～ 2022/05/13 16:55\n",
      "10\n",
      "求職者ページへ遷移10\n",
      "メッセージへ移動しました10\n",
      "全 1 件\n",
      "「人×ICT×環境」～自社らしい働き方や環境を提案～ 2022/05/13 16:54\n",
      "11\n",
      "求職者ページへ遷移11\n",
      "メッセージへ移動しました11\n",
      "全 1 件\n",
      "「人×ICT×環境」～自社らしい働き方や環境を提案～ 2022/05/13 16:54\n",
      "12\n",
      "求職者ページへ遷移12\n",
      "メッセージへ移動しました12\n",
      "全 1 件\n",
      "「人×ICT×環境」～自社らしい働き方や環境を提案～ 2022/05/13 16:54\n",
      "13\n",
      "求職者ページへ遷移13\n",
      "メッセージへ移動しました13\n",
      "全 1 件\n",
      "「人×ICT×環境」～自社らしい働き方や環境を提案～ 2022/05/13 16:54\n",
      "14\n",
      "求職者ページへ遷移14\n",
      "メッセージへ移動しました14\n",
      "全 1 件\n",
      "「人×ICT×環境」～自社らしい働き方や環境を提案～ 2022/05/13 16:54\n",
      "15\n",
      "求職者ページへ遷移15\n",
      "メッセージへ移動しました15\n",
      "全 3 件\n",
      "「人×ICT×環境」～自社らしい働き方や環境を提案～ 2022/05/13 16:54\n",
      "16\n",
      "求職者ページへ遷移16\n",
      "メッセージへ移動しました16\n",
      "全 1 件\n",
      "「人×ICT×環境」～自社らしい働き方や環境を提案～ 2022/05/13 16:54\n",
      "17\n",
      "求職者ページへ遷移17\n",
      "メッセージへ移動しました17\n",
      "全 1 件\n",
      "「人×ICT×環境」～自社らしい働き方や環境を提案～ 2022/05/13 15:51\n",
      "18\n",
      "求職者ページへ遷移18\n",
      "メッセージへ移動しました18\n",
      "全 1 件\n",
      "「人×ICT×環境」～自社らしい働き方や環境を提案～ 2022/05/13 15:51\n",
      "19\n",
      "求職者ページへ遷移19\n",
      "メッセージへ移動しました19\n",
      "全 1 件\n",
      "「人×ICT×環境」～自社らしい働き方や環境を提案～ 2022/05/13 15:51\n",
      "20\n",
      "求職者ページへ遷移20\n",
      "メッセージへ移動しました20\n",
      "全 1 件\n",
      "「人×ICT×環境」～自社らしい働き方や環境を提案～ 2022/05/13 15:51\n",
      "21\n",
      "求職者ページへ遷移21\n",
      "メッセージへ移動しました21\n",
      "全 1 件\n",
      "「人×ICT×環境」～自社らしい働き方や環境を提案～ 2022/05/13 15:50\n",
      "22\n",
      "求職者ページへ遷移22\n",
      "メッセージへ移動しました22\n",
      "全 1 件\n",
      "「人×ICT×環境」～自社らしい働き方や環境を提案～ 2022/05/13 15:50\n",
      "23\n",
      "求職者ページへ遷移23\n",
      "メッセージへ移動しました23\n",
      "全 1 件\n",
      "「人×ICT×環境」～自社らしい働き方や環境を提案～ 2022/05/13 15:48\n",
      "24\n",
      "求職者ページへ遷移24\n",
      "メッセージへ移動しました24\n",
      "全 1 件\n",
      "「人×ICT×環境」～自社らしい働き方や環境を提案～ 2022/05/13 15:40\n",
      "25\n",
      "求職者ページへ遷移25\n",
      "メッセージへ移動しました25\n",
      "全 1 件\n",
      "「人×ICT×環境」～自社らしい働き方や環境を提案～ 2022/05/13 15:40\n",
      "26\n",
      "求職者ページへ遷移26\n",
      "メッセージへ移動しました26\n",
      "全 1 件\n",
      "「人×ICT×環境」～自社らしい働き方や環境を提案～ 2022/05/13 15:40\n",
      "27\n",
      "求職者ページへ遷移27\n",
      "メッセージへ移動しました27\n",
      "全 1 件\n",
      "「人×ICT×環境」～自社らしい働き方や環境を提案～ 2022/05/13 15:40\n",
      "28\n",
      "退会しました28\n",
      "29\n",
      "求職者ページへ遷移29\n",
      "メッセージへ移動しました29\n",
      "全 1 件\n",
      "「人×ICT×環境」～自社らしい働き方や環境を提案～ 2022/05/13 15:40\n",
      "30\n",
      "求職者ページへ遷移30\n",
      "メッセージへ移動しました30\n",
      "全 1 件\n",
      "「人×ICT×環境」～自社らしい働き方や環境を提案～ 2022/05/13 15:40\n",
      "31\n",
      "求職者ページへ遷移31\n",
      "メッセージへ移動しました31\n",
      "全 1 件\n",
      "「人×ICT×環境」～自社らしい働き方や環境を提案～ 2022/05/13 15:39\n",
      "32\n",
      "求職者ページへ遷移32\n",
      "メッセージへ移動しました32\n",
      "全 1 件\n",
      "「人×ICT×環境」～自社らしい働き方や環境を提案～ 2022/05/13 15:39\n",
      "33\n",
      "求職者ページへ遷移33\n",
      "メッセージへ移動しました33\n",
      "全 1 件\n",
      "「人×ICT×環境」～自社らしい働き方や環境を提案～ 2022/05/13 15:39\n",
      "34\n",
      "求職者ページへ遷移34\n",
      "メッセージへ移動しました34\n",
      "全 1 件\n",
      "「人×ICT×環境」～自社らしい働き方や環境を提案～ 2022/05/13 15:39\n",
      "35\n",
      "求職者ページへ遷移35\n",
      "メッセージへ移動しました35\n",
      "全 1 件\n",
      "「人×ICT×環境」～自社らしい働き方や環境を提案～ 2022/05/13 15:39\n",
      "36\n",
      "求職者ページへ遷移36\n",
      "メッセージへ移動しました36\n",
      "全 1 件\n",
      "「人×ICT×環境」～自社らしい働き方や環境を提案～ 2022/05/13 15:38\n",
      "37\n"
     ]
    },
    {
     "name": "stderr",
     "output_type": "stream",
     "text": [
      "C:\\Users\\rukur\\AppData\\Local\\Temp/ipykernel_7092/2025155792.py:98: DeprecationWarning: find_element_by_xpath is deprecated. Please use find_element(by=By.XPATH, value=xpath) instead\n",
      "  send_tittle = browser.find_element_by_xpath(s1+s2)\n",
      "C:\\Users\\rukur\\AppData\\Local\\Temp/ipykernel_7092/2025155792.py:99: DeprecationWarning: find_element_by_xpath is deprecated. Please use find_element(by=By.XPATH, value=xpath) instead\n",
      "  send_day = browser.find_element_by_xpath(s1+s3)\n"
     ]
    },
    {
     "name": "stdout",
     "output_type": "stream",
     "text": [
      "求職者ページへ遷移37\n",
      "メッセージへ移動しました37\n",
      "全 1 件\n",
      "「人×ICT×環境」～自社らしい働き方や環境を提案～ 2022/05/13 15:38\n",
      "38\n",
      "求職者ページへ遷移38\n",
      "メッセージへ移動しました38\n",
      "全 1 件\n",
      "「人×ICT×環境」～自社らしい働き方や環境を提案～ 2022/05/13 15:37\n",
      "39\n",
      "求職者ページへ遷移39\n",
      "メッセージへ移動しました39\n",
      "全 1 件\n",
      "「人×ICT×環境」～自社らしい働き方や環境を提案～ 2022/05/13 15:37\n",
      "40\n",
      "求職者ページへ遷移40\n",
      "メッセージへ移動しました40\n",
      "全 1 件\n",
      "「人×ICT×環境」～自社らしい働き方や環境を提案～ 2022/05/13 15:37\n",
      "41\n",
      "求職者ページへ遷移41\n",
      "メッセージへ移動しました41\n",
      "全 1 件\n",
      "「人×ICT×環境」～自社らしい働き方や環境を提案～ 2022/05/13 15:37\n",
      "42\n",
      "求職者ページへ遷移42\n",
      "メッセージへ移動しました42\n",
      "全 1 件\n",
      "「人×ICT×環境」～自社らしい働き方や環境を提案～ 2022/05/13 15:37\n",
      "43\n",
      "求職者ページへ遷移43\n",
      "メッセージへ移動しました43\n",
      "全 1 件\n",
      "「人×ICT×環境」～自社らしい働き方や環境を提案～ 2022/05/13 15:37\n",
      "44\n",
      "求職者ページへ遷移44\n",
      "メッセージへ移動しました44\n",
      "全 1 件\n",
      "「人×ICT×環境」～自社らしい働き方や環境を提案～ 2022/05/13 15:37\n",
      "45\n",
      "求職者ページへ遷移45\n",
      "メッセージへ移動しました45\n",
      "全 1 件\n",
      "「人×ICT×環境」～自社らしい働き方や環境を提案～ 2022/05/13 15:37\n",
      "46\n",
      "求職者ページへ遷移46\n",
      "メッセージへ移動しました46\n",
      "全 1 件\n",
      "「人×ICT×環境」～自社らしい働き方や環境を提案～ 2022/05/13 15:36\n",
      "47\n",
      "求職者ページへ遷移47\n",
      "メッセージへ移動しました47\n",
      "全 1 件\n",
      "「人×ICT×環境」～自社らしい働き方や環境を提案～ 2022/05/13 15:36\n",
      "48\n",
      "求職者ページへ遷移48\n",
      "メッセージへ移動しました48\n",
      "全 1 件\n",
      "「人×ICT×環境」～自社らしい働き方や環境を提案～ 2022/05/13 15:36\n",
      "49\n",
      "求職者ページへ遷移49\n",
      "メッセージへ移動しました49\n",
      "全 1 件\n",
      "「人×ICT×環境」～自社らしい働き方や環境を提案～ 2022/05/13 15:36\n",
      "50\n",
      "求職者ページへ遷移50\n",
      "メッセージへ移動しました50\n",
      "全 1 件\n",
      "「人×ICT×環境」～自社らしい働き方や環境を提案～ 2022/05/13 15:36\n"
     ]
    },
    {
     "name": "stderr",
     "output_type": "stream",
     "text": [
      "C:\\Users\\rukur\\AppData\\Local\\Temp/ipykernel_7092/2025155792.py:158: DeprecationWarning: find_elements_by_xpath is deprecated. Please use find_elements(by=By.XPATH, value=xpath) instead\n",
      "  for item in browser.find_elements_by_xpath('//a[contains(text(), \"次の50件 >\")]') :\n"
     ]
    },
    {
     "name": "stdout",
     "output_type": "stream",
     "text": [
      "次のページへ1\n",
      "51\n",
      "求職者ページへ遷移51\n",
      "メッセージへ移動しました51\n",
      "全 1 件\n",
      "「人×ICT×環境」～自社らしい働き方や環境を提案～ 2022/05/13 15:36\n",
      "52\n",
      "求職者ページへ遷移52\n",
      "メッセージへ移動しました52\n",
      "全 1 件\n",
      "「人×ICT×環境」～自社らしい働き方や環境を提案～ 2022/05/13 15:35\n",
      "53\n",
      "求職者ページへ遷移53\n",
      "メッセージへ移動しました53\n",
      "全 1 件\n",
      "「人×ICT×環境」～自社らしい働き方や環境を提案～ 2022/05/13 15:35\n",
      "54\n",
      "求職者ページへ遷移54\n",
      "メッセージへ移動しました54\n",
      "全 6 件\n",
      "「人×ICT×環境」～自社らしい働き方や環境を提案～ 2022/05/13 15:35\n",
      "55\n",
      "求職者ページへ遷移55\n",
      "メッセージへ移動しました55\n",
      "全 1 件\n",
      "「人×ICT×環境」～自社らしい働き方や環境を提案～ 2022/05/13 15:35\n",
      "56\n",
      "求職者ページへ遷移56\n",
      "メッセージへ移動しました56\n",
      "全 1 件\n",
      "「人×ICT×環境」～自社らしい働き方や環境を提案～ 2022/05/13 15:35\n",
      "57\n",
      "求職者ページへ遷移57\n",
      "メッセージへ移動しました57\n",
      "全 1 件\n",
      "「人×ICT×環境」～自社らしい働き方や環境を提案～ 2022/05/13 15:35\n",
      "58\n",
      "求職者ページへ遷移58\n",
      "メッセージへ移動しました58\n",
      "全 1 件\n",
      "医療法人の運営マネージャー・経営コンサルタント■東証1部上場グループ／年休122日／リモート環境あり 2022/05/13 15:13\n",
      "59\n",
      "求職者ページへ遷移59\n",
      "メッセージへ移動しました59\n",
      "全 1 件\n",
      "医療法人の運営マネージャー・経営コンサルタント■東証1部上場グループ／年休122日／リモート環境あり 2022/05/13 15:13\n",
      "60\n",
      "求職者ページへ遷移60\n",
      "メッセージへ移動しました60\n",
      "全 1 件\n",
      "医療法人の運営マネージャー・経営コンサルタント■東証1部上場グループ／年休122日／リモート環境あり 2022/05/13 15:13\n",
      "61\n",
      "求職者ページへ遷移61\n",
      "メッセージへ移動しました61\n",
      "全 1 件\n",
      "医療法人の運営マネージャー・経営コンサルタント■東証1部上場グループ／年休122日／リモート環境あり 2022/05/13 15:12\n",
      "62\n",
      "求職者ページへ遷移62\n",
      "メッセージへ移動しました62\n",
      "全 1 件\n",
      "医療法人の運営マネージャー・経営コンサルタント■東証1部上場グループ／年休122日／リモート環境あり 2022/05/13 15:12\n",
      "63\n",
      "求職者ページへ遷移63\n",
      "メッセージへ移動しました63\n",
      "全 1 件\n",
      "医療法人の運営マネージャー・経営コンサルタント■東証1部上場グループ／年休122日／リモート環境あり 2022/05/13 15:12\n",
      "64\n",
      "求職者ページへ遷移64\n",
      "メッセージへ移動しました64\n",
      "全 1 件\n",
      "医療法人の運営マネージャー・経営コンサルタント■東証1部上場グループ／年休122日／リモート環境あり 2022/05/13 15:12\n",
      "65\n",
      "求職者ページへ遷移65\n",
      "メッセージへ移動しました65\n",
      "全 1 件\n",
      "医療法人の運営マネージャー・経営コンサルタント■東証1部上場グループ／年休122日／リモート環境あり 2022/05/13 15:11\n",
      "66\n",
      "求職者ページへ遷移66\n",
      "メッセージへ移動しました66\n",
      "全 1 件\n",
      "医療法人の運営マネージャー・経営コンサルタント■東証1部上場グループ／年休122日／リモート環境あり 2022/05/13 15:11\n",
      "67\n",
      "求職者ページへ遷移67\n",
      "メッセージへ移動しました67\n",
      "全 1 件\n",
      "医療法人の運営マネージャー・経営コンサルタント■東証1部上場グループ／年休122日／リモート環境あり 2022/05/13 15:11\n",
      "68\n",
      "求職者ページへ遷移68\n",
      "メッセージへ移動しました68\n",
      "全 1 件\n",
      "医療法人の運営マネージャー・経営コンサルタント■東証1部上場グループ／年休122日／リモート環境あり 2022/05/13 15:10\n",
      "69\n",
      "求職者ページへ遷移69\n",
      "メッセージへ移動しました69\n",
      "全 1 件\n",
      "医療法人の運営マネージャー・経営コンサルタント■東証1部上場グループ／年休122日／リモート環境あり 2022/05/13 15:09\n",
      "70\n",
      "求職者ページへ遷移70\n",
      "メッセージへ移動しました70\n",
      "全 1 件\n",
      "医療法人の運営マネージャー・経営コンサルタント■東証1部上場グループ／年休122日／リモート環境あり 2022/05/13 15:09\n",
      "71\n",
      "求職者ページへ遷移71\n",
      "メッセージへ移動しました71\n",
      "全 1 件\n",
      "医療法人の運営マネージャー・経営コンサルタント■東証1部上場グループ／年休122日／リモート環境あり 2022/05/13 15:09\n",
      "72\n",
      "求職者ページへ遷移72\n",
      "メッセージへ移動しました72\n",
      "全 1 件\n",
      "医療法人の運営マネージャー・経営コンサルタント■東証1部上場グループ／年休122日／リモート環境あり 2022/05/13 15:09\n",
      "73\n",
      "求職者ページへ遷移73\n",
      "メッセージへ移動しました73\n",
      "全 1 件\n",
      "医療法人の運営マネージャー・経営コンサルタント■東証1部上場グループ／年休122日／リモート環境あり 2022/05/13 15:08\n",
      "74\n",
      "求職者ページへ遷移74\n",
      "メッセージへ移動しました74\n",
      "全 2 件\n",
      "医療法人の運営マネージャー・経営コンサルタント■東証1部上場グループ／年休122日／リモート環境あり 2022/05/13 15:08\n",
      "75\n",
      "求職者ページへ遷移75\n",
      "メッセージへ移動しました75\n",
      "全 1 件\n",
      "医療法人の運営マネージャー・経営コンサルタント■東証1部上場グループ／年休122日／リモート環境あり 2022/05/13 15:08\n",
      "76\n",
      "求職者ページへ遷移76\n",
      "メッセージへ移動しました76\n",
      "全 1 件\n",
      "医療法人の運営マネージャー・経営コンサルタント■東証1部上場グループ／年休122日／リモート環境あり 2022/05/13 15:07\n",
      "77\n",
      "求職者ページへ遷移77\n",
      "メッセージへ移動しました77\n",
      "全 1 件\n",
      "医療法人の運営マネージャー・経営コンサルタント■東証1部上場グループ／年休122日／リモート環境あり 2022/05/13 15:07\n",
      "78\n",
      "求職者ページへ遷移78\n",
      "メッセージへ移動しました78\n",
      "全 1 件\n",
      "医療法人の運営マネージャー・経営コンサルタント■東証1部上場グループ／年休122日／リモート環境あり 2022/05/13 15:07\n",
      "79\n",
      "求職者ページへ遷移79\n",
      "メッセージへ移動しました79\n",
      "全 1 件\n",
      "医療法人の運営マネージャー・経営コンサルタント■東証1部上場グループ／年休122日／リモート環境あり 2022/05/13 15:07\n",
      "80\n",
      "求職者ページへ遷移80\n",
      "メッセージへ移動しました80\n",
      "全 1 件\n",
      "医療法人の運営マネージャー・経営コンサルタント■東証1部上場グループ／年休122日／リモート環境あり 2022/05/13 15:06\n",
      "81\n",
      "求職者ページへ遷移81\n",
      "メッセージへ移動しました81\n",
      "全 1 件\n",
      "医療法人の運営マネージャー・経営コンサルタント■東証1部上場グループ／年休122日／リモート環境あり 2022/05/13 15:06\n",
      "82\n",
      "求職者ページへ遷移82\n",
      "メッセージへ移動しました82\n",
      "全 5 件\n",
      "医療法人の運営マネージャー・経営コンサルタント■東証1部上場グループ／年休122日／リモート環境あり 2022/05/13 15:05\n",
      "83\n"
     ]
    },
    {
     "name": "stderr",
     "output_type": "stream",
     "text": [
      "C:\\Users\\rukur\\AppData\\Local\\Temp/ipykernel_7092/2025155792.py:114: DeprecationWarning: find_element_by_xpath is deprecated. Please use find_element(by=By.XPATH, value=xpath) instead\n",
      "  send_tittle = browser.find_element_by_xpath(s1+result+s2)\n",
      "C:\\Users\\rukur\\AppData\\Local\\Temp/ipykernel_7092/2025155792.py:115: DeprecationWarning: find_element_by_xpath is deprecated. Please use find_element(by=By.XPATH, value=xpath) instead\n",
      "  send_day = browser.find_element_by_xpath(s1+result+s3)\n"
     ]
    },
    {
     "name": "stdout",
     "output_type": "stream",
     "text": [
      "求職者ページへ遷移83\n",
      "メッセージへ移動しました83\n",
      "全 1 件\n",
      "医療法人の運営マネージャー・経営コンサルタント■東証1部上場グループ／年休122日／リモート環境あり 2022/05/13 15:05\n",
      "84\n",
      "求職者ページへ遷移84\n",
      "メッセージへ移動しました84\n",
      "全 1 件\n",
      "医療法人の運営マネージャー・経営コンサルタント■東証1部上場グループ／年休122日／リモート環境あり 2022/05/13 15:05\n",
      "85\n",
      "求職者ページへ遷移85\n",
      "メッセージへ移動しました85\n",
      "全 1 件\n",
      "医療法人の運営マネージャー・経営コンサルタント■東証1部上場グループ／年休122日／リモート環境あり 2022/05/13 15:05\n",
      "86\n",
      "求職者ページへ遷移86\n",
      "メッセージへ移動しました86\n",
      "全 1 件\n",
      "医療法人の運営マネージャー・経営コンサルタント■東証1部上場グループ／年休122日／リモート環境あり 2022/05/13 15:04\n",
      "87\n",
      "求職者ページへ遷移87\n",
      "メッセージへ移動しました87\n",
      "全 1 件\n",
      "医療法人の運営マネージャー・経営コンサルタント■東証1部上場グループ／年休122日／リモート環境あり 2022/05/13 15:04\n",
      "88\n",
      "求職者ページへ遷移88\n",
      "メッセージへ移動しました88\n",
      "全 1 件\n",
      "「人×ICT×環境」～自社らしい働き方や環境を提案～ 2022/05/13 15:01\n",
      "89\n",
      "求職者ページへ遷移89\n",
      "メッセージへ移動しました89\n",
      "全 1 件\n",
      "「人×ICT×環境」～自社らしい働き方や環境を提案～ 2022/05/13 15:00\n",
      "90\n",
      "求職者ページへ遷移90\n",
      "メッセージへ移動しました90\n",
      "全 1 件\n",
      "医療法人の運営マネージャー・経営コンサルタント■東証1部上場グループ／年休122日／リモート環境あり 2022/05/13 14:59\n",
      "91\n",
      "求職者ページへ遷移91\n",
      "メッセージへ移動しました91\n",
      "全 1 件\n",
      "「人×ICT×環境」～自社らしい働き方や環境を提案～ 2022/05/13 14:59\n",
      "92\n",
      "求職者ページへ遷移92\n",
      "メッセージへ移動しました92\n",
      "全 1 件\n",
      "「人×ICT×環境」～自社らしい働き方や環境を提案～ 2022/05/13 14:57\n",
      "93\n",
      "求職者ページへ遷移93\n",
      "メッセージへ移動しました93\n",
      "全 1 件\n",
      "医療法人の運営マネージャー・経営コンサルタント■東証1部上場グループ／年休122日／リモート環境あり 2022/05/13 14:41\n",
      "94\n",
      "求職者ページへ遷移94\n",
      "メッセージへ移動しました94\n",
      "全 1 件\n",
      "医療法人の運営マネージャー・経営コンサルタント■東証1部上場グループ／年休122日／リモート環境あり 2022/05/13 14:40\n",
      "95\n",
      "求職者ページへ遷移95\n",
      "メッセージへ移動しました95\n",
      "全 1 件\n",
      "医療法人の運営マネージャー・経営コンサルタント■東証1部上場グループ／年休122日／リモート環境あり 2022/05/13 14:38\n",
      "96\n",
      "求職者ページへ遷移96\n",
      "メッセージへ移動しました96\n",
      "全 1 件\n",
      "医療法人の運営マネージャー・経営コンサルタント■東証1部上場グループ／年休122日／リモート環境あり 2022/05/13 14:38\n",
      "97\n",
      "求職者ページへ遷移97\n",
      "メッセージへ移動しました97\n",
      "全 1 件\n",
      "医療法人の運営マネージャー・経営コンサルタント■東証1部上場グループ／年休122日／リモート環境あり 2022/05/13 14:38\n",
      "98\n",
      "求職者ページへ遷移98\n",
      "メッセージへ移動しました98\n",
      "全 1 件\n",
      "医療法人の運営マネージャー・経営コンサルタント■東証1部上場グループ／年休122日／リモート環境あり 2022/05/13 14:38\n",
      "99\n",
      "求職者ページへ遷移99\n",
      "メッセージへ移動しました99\n",
      "全 1 件\n",
      "【組織コンサルタント/幹部候補】～マネジメントの”解”を学び、自ら組織を変革～ 2022/05/13 13:25\n",
      "100\n",
      "求職者ページへ遷移100\n",
      "メッセージへ移動しました100\n",
      "全 1 件\n",
      "【組織コンサルタント/幹部候補】～マネジメントの”解”を学び、自ら組織を変革～ 2022/05/13 13:24\n",
      "次のページへ2\n",
      "101\n",
      "求職者ページへ遷移101\n",
      "メッセージへ移動しました101\n",
      "全 3 件\n",
      "【組織コンサルタント/幹部候補】～マネジメントの”解”を学び、自ら組織を変革～ 2022/05/13 13:23\n",
      "102\n",
      "求職者ページへ遷移102\n",
      "メッセージへ移動しました102\n",
      "全 1 件\n",
      "【組織コンサルタント/幹部候補】～マネジメントの”解”を学び、自ら組織を変革～ 2022/05/13 13:22\n",
      "103\n",
      "求職者ページへ遷移103\n",
      "メッセージへ移動しました103\n",
      "全 1 件\n",
      "【組織コンサルタント/幹部候補】～マネジメントの”解”を学び、自ら組織を変革～ 2022/05/13 13:22\n",
      "104\n",
      "求職者ページへ遷移104\n",
      "メッセージへ移動しました104\n",
      "全 1 件\n",
      "【組織コンサルタント/幹部候補】～マネジメントの”解”を学び、自ら組織を変革～ 2022/05/13 13:22\n",
      "105\n",
      "求職者ページへ遷移105\n",
      "メッセージへ移動しました105\n",
      "全 1 件\n",
      "【組織コンサルタント/幹部候補】～マネジメントの”解”を学び、自ら組織を変革～ 2022/05/13 13:21\n",
      "106\n",
      "求職者ページへ遷移106\n",
      "メッセージへ移動しました106\n",
      "全 6 件\n",
      "【組織コンサルタント/幹部候補】～マネジメントの”解”を学び、自ら組織を変革～ 2022/05/13 13:20\n",
      "107\n",
      "求職者ページへ遷移107\n",
      "メッセージへ移動しました107\n",
      "全 1 件\n",
      "【組織コンサルタント/幹部候補】～マネジメントの”解”を学び、自ら組織を変革～ 2022/05/13 13:20\n",
      "108\n",
      "求職者ページへ遷移108\n",
      "メッセージへ移動しました108\n",
      "全 1 件\n",
      "【組織コンサルタント/幹部候補】～マネジメントの”解”を学び、自ら組織を変革～ 2022/05/13 13:20\n",
      "109\n",
      "求職者ページへ遷移109\n",
      "退会しました109\n"
     ]
    }
   ],
   "source": [
    "tab_count = 0\n",
    "\n",
    "for h in range(1,j_loop):\n",
    "    if h == j_loop - 1:\n",
    "        send_page = j_page\n",
    "    else:\n",
    "        send_page = 51\n",
    "\n",
    "\n",
    "    for i in range(1,send_page):\n",
    "\n",
    "        print(str(i + ((h - 1) * 50)))     \n",
    "\n",
    "        try:\n",
    "            browser_from = browser.find_element_by_xpath(k1 + str(i) + k2)\n",
    "            time.sleep(1)\n",
    "\n",
    "            actions.key_down(Keys.CONTROL)\n",
    "            actions.click(browser_from)\n",
    "            actions.perform()\n",
    "\n",
    "            print(\"求職者ページへ遷移\" + str(i + ((h - 1) * 50)))\n",
    "\n",
    "            tab_count += 1\n",
    "            browser.switch_to.window(browser.window_handles[tab_count])\n",
    "\n",
    "            try:\n",
    "                browser_from = browser.find_element_by_xpath('/html/body/div[2]/div/div[2]/ul/li[2]/a')   \n",
    "                browser_from.click()\n",
    "                print(\"メッセージへ移動しました\" + str(i + ((h - 1) * 50)))\n",
    "                time.sleep(1)\n",
    "\n",
    "                try:\n",
    "                    browser_from = browser.find_element_by_xpath('/html/body/div[2]/div/div[2]/div[4]/div[2]/div[1]/div[2]')       \n",
    "                except NoSuchElementException:\n",
    "                    browser_from = browser.find_element_by_xpath('/html/body/div[2]/div/div[2]/div[5]/div[2]/div[1]/div[2]')\n",
    "\n",
    "                print(browser_from.text)\n",
    "                result = re.sub(r\"\\D\", \"\", browser_from.text)\n",
    "\n",
    "                s1 = '/html/body/div[2]/div/div[2]/div[4]/div[2]/ul/li['\n",
    "                s2 = ']/div[1]/span[2]'\n",
    "                s3 = ']/div[1]/span[3]'\n",
    "\n",
    "                try:\n",
    "                    send_tittle = browser.find_element_by_xpath(s1+result+s2)\n",
    "                    send_day = browser.find_element_by_xpath(s1+result+s3)\n",
    "\n",
    "                except NoSuchElementException:\n",
    "                    try:\n",
    "                        s1 = '/html/body/div[2]/div/div[2]/div[5]/div[2]/ul/li['\n",
    "                        s2 = ']/div[1]/span[2]'\n",
    "                        s3 = ']/div[1]/span[3]'\n",
    "\n",
    "                        send_tittle = browser.find_element_by_xpath(s1+result+s2)\n",
    "                        send_day = browser.find_element_by_xpath(s1+result+s3)\n",
    "\n",
    "                    except NoSuchElementException:\n",
    "                        if int(result) == 1:\n",
    "                            try:\n",
    "                                s1 = '/html/body/div[2]/div/div[2]/div[4]/div[2]/ul/li'\n",
    "                                s2 = '/div[1]/span[3]'\n",
    "                                s3 = '/div[1]/span[4]'\n",
    "\n",
    "                                send_tittle = browser.find_element_by_xpath(s1+s2)\n",
    "                                send_day = browser.find_element_by_xpath(s1+s3)   \n",
    "\n",
    "                            except NoSuchElementException:                    \n",
    "                                s1 = '/html/body/div[2]/div/div[2]/div[5]/div[2]/ul/li'\n",
    "                                s2 = '/div[1]/span[3]'\n",
    "                                s3 = '/div[1]/span[4]'\n",
    "\n",
    "                                send_tittle = browser.find_element_by_xpath(s1+s2)\n",
    "                                send_day = browser.find_element_by_xpath(s1+s3)  \n",
    "                        else:\n",
    "                            try:\n",
    "                                s1 = '/html/body/div[2]/div/div[2]/div[4]/div[2]/ul/li['\n",
    "                                s2 = ']/div[1]/span[3]'\n",
    "                                s3 = ']/div[1]/span[4]'\n",
    "\n",
    "                                send_tittle = browser.find_element_by_xpath(s1+result+s2)\n",
    "                                send_day = browser.find_element_by_xpath(s1+result+s3)\n",
    "                            except NoSuchElementException:\n",
    "                                s1 = '/html/body/div[2]/div/div[2]/div[5]/div[2]/ul/li['\n",
    "                                s2 = ']/div[1]/span[3]'\n",
    "                                s3 = ']/div[1]/span[4]'\n",
    "\n",
    "                                send_tittle = browser.find_element_by_xpath(s1+result+s2)\n",
    "                                send_day = browser.find_element_by_xpath(s1+result+s3)\n",
    "\n",
    "                if len(send_tittle.text) == 0:\n",
    "                    if int(result) == 1:\n",
    "                        try:\n",
    "                            s1 = '/html/body/div[2]/div/div[2]/div[4]/div[2]/ul/li'\n",
    "                            s2 = '/div[1]/span[3]'\n",
    "                            s3 = '/div[1]/span[4]'\n",
    "\n",
    "                            send_tittle = browser.find_element_by_xpath(s1+s2)\n",
    "                            send_day = browser.find_element_by_xpath(s1+s3)   \n",
    "\n",
    "                        except NoSuchElementException:                    \n",
    "                            s1 = '/html/body/div[2]/div/div[2]/div[5]/div[2]/ul/li'\n",
    "                            s2 = '/div[1]/span[3]'\n",
    "                            s3 = '/div[1]/span[4]'\n",
    "\n",
    "                            send_tittle = browser.find_element_by_xpath(s1+s2)\n",
    "                            send_day = browser.find_element_by_xpath(s1+s3)  \n",
    "                    else:\n",
    "                        try:\n",
    "                            s1 = '/html/body/div[2]/div/div[2]/div[4]/div[2]/ul/li['\n",
    "                            s2 = ']/div[1]/span[3]'\n",
    "                            s3 = ']/div[1]/span[4]'\n",
    "\n",
    "                            send_tittle = browser.find_element_by_xpath(s1+result+s2)\n",
    "                            send_day = browser.find_element_by_xpath(s1+result+s3)\n",
    "                        except NoSuchElementException:\n",
    "                            s1 = '/html/body/div[2]/div/div[2]/div[5]/div[2]/ul/li['\n",
    "                            s2 = ']/div[1]/span[3]'\n",
    "                            s3 = ']/div[1]/span[4]'\n",
    "\n",
    "                            send_tittle = browser.find_element_by_xpath(s1+result+s2)\n",
    "                            send_day = browser.find_element_by_xpath(s1+result+s3)\n",
    "                else:\n",
    "                    pass\n",
    "\n",
    "\n",
    "                print(send_tittle.text,send_day.text)\n",
    "\n",
    "                df = pd.DataFrame([[str(i + ((h - 1) * 50)),send_tittle.text,send_day.text]],columns=['number','send_tittle','send_day'])\n",
    "\n",
    "                df2 = pd.concat([df2,df],join='outer',ignore_index=True)\n",
    "\n",
    "\n",
    "\n",
    "            except NoSuchElementException:\n",
    "                print(\"退会しました\" + str(i + ((h - 1) * 50)))\n",
    "\n",
    "                send_tittle = \"退会しました\"\n",
    "                send_day = \"0\"\n",
    "                df = pd.DataFrame([[str(i + ((h - 1) * 50)),send_tittle,send_day]],columns=['number','send_tittle','send_day'])\n",
    "                df2 = pd.concat([df2,df],join='outer',ignore_index=True)\n",
    "                \n",
    "        except NoSuchElementException:\n",
    "            print(\"退会しました\" + str(i + ((h - 1) * 50)))\n",
    "\n",
    "            send_tittle = \"退会しました\"\n",
    "            send_day = \"2020/01/01 00:00\"\n",
    "            df = pd.DataFrame([[str(i + ((h - 1) * 50)),send_tittle,send_day]],columns=['number','send_tittle','send_day'])\n",
    "            df2 = pd.concat([df2,df],join='outer',ignore_index=True)\n",
    "            \n",
    "        \n",
    "        browser.switch_to.window(browser.window_handles[0])\n",
    "\n",
    "    \n",
    "    if h == j_loop - 1:\n",
    "        pass\n",
    "    else:\n",
    "        for item in browser.find_elements_by_xpath('//a[contains(text(), \"次の50件 >\")]') :\n",
    "            time.sleep(1)\n",
    "            item.click()\n",
    "            print(\"次のページへ\" + str(h))\n",
    "            break\n",
    "\n"
   ]
  },
  {
   "cell_type": "code",
   "execution_count": null,
   "id": "cd94ab27-6dfd-498d-b1dc-d174dae837d0",
   "metadata": {},
   "outputs": [],
   "source": []
  },
  {
   "cell_type": "code",
   "execution_count": 87,
   "id": "c21d487d-3478-430f-b772-ad80ab2cf78f",
   "metadata": {},
   "outputs": [
    {
     "data": {
      "text/html": [
       "<div>\n",
       "<style scoped>\n",
       "    .dataframe tbody tr th:only-of-type {\n",
       "        vertical-align: middle;\n",
       "    }\n",
       "\n",
       "    .dataframe tbody tr th {\n",
       "        vertical-align: top;\n",
       "    }\n",
       "\n",
       "    .dataframe thead th {\n",
       "        text-align: right;\n",
       "    }\n",
       "</style>\n",
       "<table border=\"1\" class=\"dataframe\">\n",
       "  <thead>\n",
       "    <tr style=\"text-align: right;\">\n",
       "      <th></th>\n",
       "      <th>number</th>\n",
       "      <th>send_tittle</th>\n",
       "      <th>send_day</th>\n",
       "    </tr>\n",
       "  </thead>\n",
       "  <tbody>\n",
       "    <tr>\n",
       "      <th>0</th>\n",
       "      <td>1</td>\n",
       "      <td>「人×ICT×環境」～自社らしい働き方や環境を提案～</td>\n",
       "      <td>2022/05/13 16:57</td>\n",
       "    </tr>\n",
       "    <tr>\n",
       "      <th>1</th>\n",
       "      <td>2</td>\n",
       "      <td>「人×ICT×環境」～自社らしい働き方や環境を提案～</td>\n",
       "      <td>2022/05/13 16:57</td>\n",
       "    </tr>\n",
       "    <tr>\n",
       "      <th>2</th>\n",
       "      <td>3</td>\n",
       "      <td>「人×ICT×環境」～自社らしい働き方や環境を提案～</td>\n",
       "      <td>2022/05/13 16:56</td>\n",
       "    </tr>\n",
       "    <tr>\n",
       "      <th>3</th>\n",
       "      <td>4</td>\n",
       "      <td>「人×ICT×環境」～自社らしい働き方や環境を提案～</td>\n",
       "      <td>2022/05/13 16:56</td>\n",
       "    </tr>\n",
       "    <tr>\n",
       "      <th>4</th>\n",
       "      <td>5</td>\n",
       "      <td>「人×ICT×環境」～自社らしい働き方や環境を提案～</td>\n",
       "      <td>2022/05/13 16:56</td>\n",
       "    </tr>\n",
       "    <tr>\n",
       "      <th>...</th>\n",
       "      <td>...</td>\n",
       "      <td>...</td>\n",
       "      <td>...</td>\n",
       "    </tr>\n",
       "    <tr>\n",
       "      <th>104</th>\n",
       "      <td>105</td>\n",
       "      <td>【組織コンサルタント/幹部候補】～マネジメントの”解”を学び、自ら組織を変革～</td>\n",
       "      <td>2022/05/13 13:21</td>\n",
       "    </tr>\n",
       "    <tr>\n",
       "      <th>105</th>\n",
       "      <td>106</td>\n",
       "      <td>【組織コンサルタント/幹部候補】～マネジメントの”解”を学び、自ら組織を変革～</td>\n",
       "      <td>2022/05/13 13:20</td>\n",
       "    </tr>\n",
       "    <tr>\n",
       "      <th>106</th>\n",
       "      <td>107</td>\n",
       "      <td>【組織コンサルタント/幹部候補】～マネジメントの”解”を学び、自ら組織を変革～</td>\n",
       "      <td>2022/05/13 13:20</td>\n",
       "    </tr>\n",
       "    <tr>\n",
       "      <th>107</th>\n",
       "      <td>108</td>\n",
       "      <td>【組織コンサルタント/幹部候補】～マネジメントの”解”を学び、自ら組織を変革～</td>\n",
       "      <td>2022/05/13 13:20</td>\n",
       "    </tr>\n",
       "    <tr>\n",
       "      <th>108</th>\n",
       "      <td>109</td>\n",
       "      <td>退会しました</td>\n",
       "      <td>0</td>\n",
       "    </tr>\n",
       "  </tbody>\n",
       "</table>\n",
       "<p>109 rows × 3 columns</p>\n",
       "</div>"
      ],
      "text/plain": [
       "    number                              send_tittle          send_day\n",
       "0        1               「人×ICT×環境」～自社らしい働き方や環境を提案～  2022/05/13 16:57\n",
       "1        2               「人×ICT×環境」～自社らしい働き方や環境を提案～  2022/05/13 16:57\n",
       "2        3               「人×ICT×環境」～自社らしい働き方や環境を提案～  2022/05/13 16:56\n",
       "3        4               「人×ICT×環境」～自社らしい働き方や環境を提案～  2022/05/13 16:56\n",
       "4        5               「人×ICT×環境」～自社らしい働き方や環境を提案～  2022/05/13 16:56\n",
       "..     ...                                      ...               ...\n",
       "104    105  【組織コンサルタント/幹部候補】～マネジメントの”解”を学び、自ら組織を変革～  2022/05/13 13:21\n",
       "105    106  【組織コンサルタント/幹部候補】～マネジメントの”解”を学び、自ら組織を変革～  2022/05/13 13:20\n",
       "106    107  【組織コンサルタント/幹部候補】～マネジメントの”解”を学び、自ら組織を変革～  2022/05/13 13:20\n",
       "107    108  【組織コンサルタント/幹部候補】～マネジメントの”解”を学び、自ら組織を変革～  2022/05/13 13:20\n",
       "108    109                                   退会しました                 0\n",
       "\n",
       "[109 rows x 3 columns]"
      ]
     },
     "execution_count": 87,
     "metadata": {},
     "output_type": "execute_result"
    }
   ],
   "source": [
    "df2"
   ]
  },
  {
   "cell_type": "code",
   "execution_count": null,
   "id": "d8f24988-f2de-4f5a-a57b-52bb5b95adbe",
   "metadata": {},
   "outputs": [],
   "source": []
  },
  {
   "cell_type": "code",
   "execution_count": 88,
   "id": "285513f7-63c6-4945-b9e7-d19b7ff5f694",
   "metadata": {},
   "outputs": [
    {
     "data": {
      "text/plain": [
       "「人×ICT×環境」～自社らしい働き方や環境を提案～                            60\n",
       "医療法人の運営マネージャー・経営コンサルタント■東証1部上場グループ／年休122日／リモート環境あり    37\n",
       "【組織コンサルタント/幹部候補】～マネジメントの”解”を学び、自ら組織を変革～               10\n",
       "退会しました                                                 2\n",
       "Name: send_tittle, dtype: int64"
      ]
     },
     "execution_count": 88,
     "metadata": {},
     "output_type": "execute_result"
    }
   ],
   "source": [
    "df3 = df2['send_tittle']\n",
    "df3.value_counts()"
   ]
  },
  {
   "cell_type": "code",
   "execution_count": 89,
   "id": "ddd372ed-0540-44d5-9c96-1b6416c6824d",
   "metadata": {},
   "outputs": [
    {
     "name": "stdout",
     "output_type": "stream",
     "text": [
      "Requirement already satisfied: numexpr in c:\\users\\rukur\\anaconda3\\lib\\site-packages (2.7.3)\n",
      "Requirement already satisfied: numpy>=1.7 in c:\\users\\rukur\\anaconda3\\lib\\site-packages (from numexpr) (1.20.3)\n"
     ]
    }
   ],
   "source": [
    "!pip install numexpr"
   ]
  },
  {
   "cell_type": "code",
   "execution_count": 90,
   "id": "4e1b16ac-04b9-40a7-aeb4-ab2ff22807e8",
   "metadata": {},
   "outputs": [
    {
     "name": "stdout",
     "output_type": "stream",
     "text": [
      "27     退会しました\n",
      "108    退会しました\n",
      "Name: send_tittle, dtype: object\n"
     ]
    }
   ],
   "source": [
    "#df3\n",
    "print(df3[df3 == \"退会しました\"])\n",
    "#df2.iloc[27]"
   ]
  },
  {
   "cell_type": "code",
   "execution_count": 95,
   "id": "07a5c575-b52c-4286-9a40-30581c933fde",
   "metadata": {},
   "outputs": [
    {
     "data": {
      "text/plain": [
       "number            109\n",
       "send_tittle    退会しました\n",
       "send_day            0\n",
       "Name: 108, dtype: object"
      ]
     },
     "execution_count": 95,
     "metadata": {},
     "output_type": "execute_result"
    }
   ],
   "source": [
    "df2.iloc[108]"
   ]
  },
  {
   "cell_type": "code",
   "execution_count": 96,
   "id": "ecf68c3a-3f8a-4545-84b1-ef731182915d",
   "metadata": {},
   "outputs": [],
   "source": [
    "from datetime import datetime as dt"
   ]
  },
  {
   "cell_type": "code",
   "execution_count": 92,
   "id": "ba639874-7d52-406a-a6a3-f6e19342f7f3",
   "metadata": {},
   "outputs": [
    {
     "ename": "ParserError",
     "evalue": "day is out of range for month: 0",
     "output_type": "error",
     "traceback": [
      "\u001b[1;31m---------------------------------------------------------------------------\u001b[0m",
      "\u001b[1;31mValueError\u001b[0m                                Traceback (most recent call last)",
      "\u001b[1;32m~\\anaconda3\\lib\\site-packages\\dateutil\\parser\\_parser.py\u001b[0m in \u001b[0;36mparse\u001b[1;34m(self, timestr, default, ignoretz, tzinfos, **kwargs)\u001b[0m\n\u001b[0;32m    648\u001b[0m         \u001b[1;32mtry\u001b[0m\u001b[1;33m:\u001b[0m\u001b[1;33m\u001b[0m\u001b[1;33m\u001b[0m\u001b[0m\n\u001b[1;32m--> 649\u001b[1;33m             \u001b[0mret\u001b[0m \u001b[1;33m=\u001b[0m \u001b[0mself\u001b[0m\u001b[1;33m.\u001b[0m\u001b[0m_build_naive\u001b[0m\u001b[1;33m(\u001b[0m\u001b[0mres\u001b[0m\u001b[1;33m,\u001b[0m \u001b[0mdefault\u001b[0m\u001b[1;33m)\u001b[0m\u001b[1;33m\u001b[0m\u001b[1;33m\u001b[0m\u001b[0m\n\u001b[0m\u001b[0;32m    650\u001b[0m         \u001b[1;32mexcept\u001b[0m \u001b[0mValueError\u001b[0m \u001b[1;32mas\u001b[0m \u001b[0me\u001b[0m\u001b[1;33m:\u001b[0m\u001b[1;33m\u001b[0m\u001b[1;33m\u001b[0m\u001b[0m\n",
      "\u001b[1;32m~\\anaconda3\\lib\\site-packages\\dateutil\\parser\\_parser.py\u001b[0m in \u001b[0;36m_build_naive\u001b[1;34m(self, res, default)\u001b[0m\n\u001b[0;32m   1234\u001b[0m \u001b[1;33m\u001b[0m\u001b[0m\n\u001b[1;32m-> 1235\u001b[1;33m         \u001b[0mnaive\u001b[0m \u001b[1;33m=\u001b[0m \u001b[0mdefault\u001b[0m\u001b[1;33m.\u001b[0m\u001b[0mreplace\u001b[0m\u001b[1;33m(\u001b[0m\u001b[1;33m**\u001b[0m\u001b[0mrepl\u001b[0m\u001b[1;33m)\u001b[0m\u001b[1;33m\u001b[0m\u001b[1;33m\u001b[0m\u001b[0m\n\u001b[0m\u001b[0;32m   1236\u001b[0m \u001b[1;33m\u001b[0m\u001b[0m\n",
      "\u001b[1;31mValueError\u001b[0m: day is out of range for month",
      "\nThe above exception was the direct cause of the following exception:\n",
      "\u001b[1;31mParserError\u001b[0m                               Traceback (most recent call last)",
      "\u001b[1;32m~\\anaconda3\\lib\\site-packages\\pandas\\_libs\\tslib.pyx\u001b[0m in \u001b[0;36mpandas._libs.tslib.array_to_datetime\u001b[1;34m()\u001b[0m\n",
      "\u001b[1;32m~\\anaconda3\\lib\\site-packages\\pandas\\_libs\\tslibs\\parsing.pyx\u001b[0m in \u001b[0;36mpandas._libs.tslibs.parsing.parse_datetime_string\u001b[1;34m()\u001b[0m\n",
      "\u001b[1;32m~\\anaconda3\\lib\\site-packages\\dateutil\\parser\\_parser.py\u001b[0m in \u001b[0;36mparse\u001b[1;34m(timestr, parserinfo, **kwargs)\u001b[0m\n\u001b[0;32m   1367\u001b[0m     \u001b[1;32melse\u001b[0m\u001b[1;33m:\u001b[0m\u001b[1;33m\u001b[0m\u001b[1;33m\u001b[0m\u001b[0m\n\u001b[1;32m-> 1368\u001b[1;33m         \u001b[1;32mreturn\u001b[0m \u001b[0mDEFAULTPARSER\u001b[0m\u001b[1;33m.\u001b[0m\u001b[0mparse\u001b[0m\u001b[1;33m(\u001b[0m\u001b[0mtimestr\u001b[0m\u001b[1;33m,\u001b[0m \u001b[1;33m**\u001b[0m\u001b[0mkwargs\u001b[0m\u001b[1;33m)\u001b[0m\u001b[1;33m\u001b[0m\u001b[1;33m\u001b[0m\u001b[0m\n\u001b[0m\u001b[0;32m   1369\u001b[0m \u001b[1;33m\u001b[0m\u001b[0m\n",
      "\u001b[1;32m~\\anaconda3\\lib\\site-packages\\dateutil\\parser\\_parser.py\u001b[0m in \u001b[0;36mparse\u001b[1;34m(self, timestr, default, ignoretz, tzinfos, **kwargs)\u001b[0m\n\u001b[0;32m    650\u001b[0m         \u001b[1;32mexcept\u001b[0m \u001b[0mValueError\u001b[0m \u001b[1;32mas\u001b[0m \u001b[0me\u001b[0m\u001b[1;33m:\u001b[0m\u001b[1;33m\u001b[0m\u001b[1;33m\u001b[0m\u001b[0m\n\u001b[1;32m--> 651\u001b[1;33m             \u001b[0msix\u001b[0m\u001b[1;33m.\u001b[0m\u001b[0mraise_from\u001b[0m\u001b[1;33m(\u001b[0m\u001b[0mParserError\u001b[0m\u001b[1;33m(\u001b[0m\u001b[0mstr\u001b[0m\u001b[1;33m(\u001b[0m\u001b[0me\u001b[0m\u001b[1;33m)\u001b[0m \u001b[1;33m+\u001b[0m \u001b[1;34m\": %s\"\u001b[0m\u001b[1;33m,\u001b[0m \u001b[0mtimestr\u001b[0m\u001b[1;33m)\u001b[0m\u001b[1;33m,\u001b[0m \u001b[0me\u001b[0m\u001b[1;33m)\u001b[0m\u001b[1;33m\u001b[0m\u001b[1;33m\u001b[0m\u001b[0m\n\u001b[0m\u001b[0;32m    652\u001b[0m \u001b[1;33m\u001b[0m\u001b[0m\n",
      "\u001b[1;32m~\\anaconda3\\lib\\site-packages\\six.py\u001b[0m in \u001b[0;36mraise_from\u001b[1;34m(value, from_value)\u001b[0m\n",
      "\u001b[1;31mParserError\u001b[0m: day is out of range for month: 0",
      "\nDuring handling of the above exception, another exception occurred:\n",
      "\u001b[1;31mTypeError\u001b[0m                                 Traceback (most recent call last)",
      "\u001b[1;32m~\\anaconda3\\lib\\site-packages\\pandas\\_libs\\tslib.pyx\u001b[0m in \u001b[0;36mpandas._libs.tslib.array_to_datetime\u001b[1;34m()\u001b[0m\n",
      "\u001b[1;31mTypeError\u001b[0m: invalid string coercion to datetime",
      "\nDuring handling of the above exception, another exception occurred:\n",
      "\u001b[1;31mValueError\u001b[0m                                Traceback (most recent call last)",
      "\u001b[1;32m~\\anaconda3\\lib\\site-packages\\dateutil\\parser\\_parser.py\u001b[0m in \u001b[0;36mparse\u001b[1;34m(self, timestr, default, ignoretz, tzinfos, **kwargs)\u001b[0m\n\u001b[0;32m    648\u001b[0m         \u001b[1;32mtry\u001b[0m\u001b[1;33m:\u001b[0m\u001b[1;33m\u001b[0m\u001b[1;33m\u001b[0m\u001b[0m\n\u001b[1;32m--> 649\u001b[1;33m             \u001b[0mret\u001b[0m \u001b[1;33m=\u001b[0m \u001b[0mself\u001b[0m\u001b[1;33m.\u001b[0m\u001b[0m_build_naive\u001b[0m\u001b[1;33m(\u001b[0m\u001b[0mres\u001b[0m\u001b[1;33m,\u001b[0m \u001b[0mdefault\u001b[0m\u001b[1;33m)\u001b[0m\u001b[1;33m\u001b[0m\u001b[1;33m\u001b[0m\u001b[0m\n\u001b[0m\u001b[0;32m    650\u001b[0m         \u001b[1;32mexcept\u001b[0m \u001b[0mValueError\u001b[0m \u001b[1;32mas\u001b[0m \u001b[0me\u001b[0m\u001b[1;33m:\u001b[0m\u001b[1;33m\u001b[0m\u001b[1;33m\u001b[0m\u001b[0m\n",
      "\u001b[1;32m~\\anaconda3\\lib\\site-packages\\dateutil\\parser\\_parser.py\u001b[0m in \u001b[0;36m_build_naive\u001b[1;34m(self, res, default)\u001b[0m\n\u001b[0;32m   1234\u001b[0m \u001b[1;33m\u001b[0m\u001b[0m\n\u001b[1;32m-> 1235\u001b[1;33m         \u001b[0mnaive\u001b[0m \u001b[1;33m=\u001b[0m \u001b[0mdefault\u001b[0m\u001b[1;33m.\u001b[0m\u001b[0mreplace\u001b[0m\u001b[1;33m(\u001b[0m\u001b[1;33m**\u001b[0m\u001b[0mrepl\u001b[0m\u001b[1;33m)\u001b[0m\u001b[1;33m\u001b[0m\u001b[1;33m\u001b[0m\u001b[0m\n\u001b[0m\u001b[0;32m   1236\u001b[0m \u001b[1;33m\u001b[0m\u001b[0m\n",
      "\u001b[1;31mValueError\u001b[0m: day is out of range for month",
      "\nThe above exception was the direct cause of the following exception:\n",
      "\u001b[1;31mParserError\u001b[0m                               Traceback (most recent call last)",
      "\u001b[1;32m~\\AppData\\Local\\Temp/ipykernel_7092/3488132736.py\u001b[0m in \u001b[0;36m<module>\u001b[1;34m\u001b[0m\n\u001b[1;32m----> 1\u001b[1;33m \u001b[0mdf2\u001b[0m\u001b[1;33m[\u001b[0m\u001b[1;34m'send_day'\u001b[0m\u001b[1;33m]\u001b[0m \u001b[1;33m=\u001b[0m \u001b[0mpd\u001b[0m\u001b[1;33m.\u001b[0m\u001b[0mto_datetime\u001b[0m\u001b[1;33m(\u001b[0m\u001b[0mdf2\u001b[0m\u001b[1;33m[\u001b[0m\u001b[1;34m'send_day'\u001b[0m\u001b[1;33m]\u001b[0m\u001b[1;33m)\u001b[0m\u001b[1;33m\u001b[0m\u001b[1;33m\u001b[0m\u001b[0m\n\u001b[0m",
      "\u001b[1;32m~\\anaconda3\\lib\\site-packages\\pandas\\core\\tools\\datetimes.py\u001b[0m in \u001b[0;36mto_datetime\u001b[1;34m(arg, errors, dayfirst, yearfirst, utc, format, exact, unit, infer_datetime_format, origin, cache)\u001b[0m\n\u001b[0;32m    881\u001b[0m                 \u001b[0mresult\u001b[0m \u001b[1;33m=\u001b[0m \u001b[0mresult\u001b[0m\u001b[1;33m.\u001b[0m\u001b[0mtz_localize\u001b[0m\u001b[1;33m(\u001b[0m\u001b[0mtz\u001b[0m\u001b[1;33m)\u001b[0m  \u001b[1;31m# type: ignore[call-arg]\u001b[0m\u001b[1;33m\u001b[0m\u001b[1;33m\u001b[0m\u001b[0m\n\u001b[0;32m    882\u001b[0m     \u001b[1;32melif\u001b[0m \u001b[0misinstance\u001b[0m\u001b[1;33m(\u001b[0m\u001b[0marg\u001b[0m\u001b[1;33m,\u001b[0m \u001b[0mABCSeries\u001b[0m\u001b[1;33m)\u001b[0m\u001b[1;33m:\u001b[0m\u001b[1;33m\u001b[0m\u001b[1;33m\u001b[0m\u001b[0m\n\u001b[1;32m--> 883\u001b[1;33m         \u001b[0mcache_array\u001b[0m \u001b[1;33m=\u001b[0m \u001b[0m_maybe_cache\u001b[0m\u001b[1;33m(\u001b[0m\u001b[0marg\u001b[0m\u001b[1;33m,\u001b[0m \u001b[0mformat\u001b[0m\u001b[1;33m,\u001b[0m \u001b[0mcache\u001b[0m\u001b[1;33m,\u001b[0m \u001b[0mconvert_listlike\u001b[0m\u001b[1;33m)\u001b[0m\u001b[1;33m\u001b[0m\u001b[1;33m\u001b[0m\u001b[0m\n\u001b[0m\u001b[0;32m    884\u001b[0m         \u001b[1;32mif\u001b[0m \u001b[1;32mnot\u001b[0m \u001b[0mcache_array\u001b[0m\u001b[1;33m.\u001b[0m\u001b[0mempty\u001b[0m\u001b[1;33m:\u001b[0m\u001b[1;33m\u001b[0m\u001b[1;33m\u001b[0m\u001b[0m\n\u001b[0;32m    885\u001b[0m             \u001b[0mresult\u001b[0m \u001b[1;33m=\u001b[0m \u001b[0marg\u001b[0m\u001b[1;33m.\u001b[0m\u001b[0mmap\u001b[0m\u001b[1;33m(\u001b[0m\u001b[0mcache_array\u001b[0m\u001b[1;33m)\u001b[0m\u001b[1;33m\u001b[0m\u001b[1;33m\u001b[0m\u001b[0m\n",
      "\u001b[1;32m~\\anaconda3\\lib\\site-packages\\pandas\\core\\tools\\datetimes.py\u001b[0m in \u001b[0;36m_maybe_cache\u001b[1;34m(arg, format, cache, convert_listlike)\u001b[0m\n\u001b[0;32m    193\u001b[0m         \u001b[0munique_dates\u001b[0m \u001b[1;33m=\u001b[0m \u001b[0munique\u001b[0m\u001b[1;33m(\u001b[0m\u001b[0marg\u001b[0m\u001b[1;33m)\u001b[0m\u001b[1;33m\u001b[0m\u001b[1;33m\u001b[0m\u001b[0m\n\u001b[0;32m    194\u001b[0m         \u001b[1;32mif\u001b[0m \u001b[0mlen\u001b[0m\u001b[1;33m(\u001b[0m\u001b[0munique_dates\u001b[0m\u001b[1;33m)\u001b[0m \u001b[1;33m<\u001b[0m \u001b[0mlen\u001b[0m\u001b[1;33m(\u001b[0m\u001b[0marg\u001b[0m\u001b[1;33m)\u001b[0m\u001b[1;33m:\u001b[0m\u001b[1;33m\u001b[0m\u001b[1;33m\u001b[0m\u001b[0m\n\u001b[1;32m--> 195\u001b[1;33m             \u001b[0mcache_dates\u001b[0m \u001b[1;33m=\u001b[0m \u001b[0mconvert_listlike\u001b[0m\u001b[1;33m(\u001b[0m\u001b[0munique_dates\u001b[0m\u001b[1;33m,\u001b[0m \u001b[0mformat\u001b[0m\u001b[1;33m)\u001b[0m\u001b[1;33m\u001b[0m\u001b[1;33m\u001b[0m\u001b[0m\n\u001b[0m\u001b[0;32m    196\u001b[0m             \u001b[0mcache_array\u001b[0m \u001b[1;33m=\u001b[0m \u001b[0mSeries\u001b[0m\u001b[1;33m(\u001b[0m\u001b[0mcache_dates\u001b[0m\u001b[1;33m,\u001b[0m \u001b[0mindex\u001b[0m\u001b[1;33m=\u001b[0m\u001b[0munique_dates\u001b[0m\u001b[1;33m)\u001b[0m\u001b[1;33m\u001b[0m\u001b[1;33m\u001b[0m\u001b[0m\n\u001b[0;32m    197\u001b[0m             \u001b[1;31m# GH#39882 and GH#35888 in case of None and NaT we get duplicates\u001b[0m\u001b[1;33m\u001b[0m\u001b[1;33m\u001b[0m\u001b[0m\n",
      "\u001b[1;32m~\\anaconda3\\lib\\site-packages\\pandas\\core\\tools\\datetimes.py\u001b[0m in \u001b[0;36m_convert_listlike_datetimes\u001b[1;34m(arg, format, name, tz, unit, errors, infer_datetime_format, dayfirst, yearfirst, exact)\u001b[0m\n\u001b[0;32m    399\u001b[0m     \u001b[1;32massert\u001b[0m \u001b[0mformat\u001b[0m \u001b[1;32mis\u001b[0m \u001b[1;32mNone\u001b[0m \u001b[1;32mor\u001b[0m \u001b[0minfer_datetime_format\u001b[0m\u001b[1;33m\u001b[0m\u001b[1;33m\u001b[0m\u001b[0m\n\u001b[0;32m    400\u001b[0m     \u001b[0mutc\u001b[0m \u001b[1;33m=\u001b[0m \u001b[0mtz\u001b[0m \u001b[1;33m==\u001b[0m \u001b[1;34m\"utc\"\u001b[0m\u001b[1;33m\u001b[0m\u001b[1;33m\u001b[0m\u001b[0m\n\u001b[1;32m--> 401\u001b[1;33m     result, tz_parsed = objects_to_datetime64ns(\n\u001b[0m\u001b[0;32m    402\u001b[0m         \u001b[0marg\u001b[0m\u001b[1;33m,\u001b[0m\u001b[1;33m\u001b[0m\u001b[1;33m\u001b[0m\u001b[0m\n\u001b[0;32m    403\u001b[0m         \u001b[0mdayfirst\u001b[0m\u001b[1;33m=\u001b[0m\u001b[0mdayfirst\u001b[0m\u001b[1;33m,\u001b[0m\u001b[1;33m\u001b[0m\u001b[1;33m\u001b[0m\u001b[0m\n",
      "\u001b[1;32m~\\anaconda3\\lib\\site-packages\\pandas\\core\\arrays\\datetimes.py\u001b[0m in \u001b[0;36mobjects_to_datetime64ns\u001b[1;34m(data, dayfirst, yearfirst, utc, errors, require_iso8601, allow_object, allow_mixed)\u001b[0m\n\u001b[0;32m   2191\u001b[0m             \u001b[1;32mreturn\u001b[0m \u001b[0mvalues\u001b[0m\u001b[1;33m.\u001b[0m\u001b[0mview\u001b[0m\u001b[1;33m(\u001b[0m\u001b[1;34m\"i8\"\u001b[0m\u001b[1;33m)\u001b[0m\u001b[1;33m,\u001b[0m \u001b[0mtz_parsed\u001b[0m\u001b[1;33m\u001b[0m\u001b[1;33m\u001b[0m\u001b[0m\n\u001b[0;32m   2192\u001b[0m         \u001b[1;32mexcept\u001b[0m \u001b[1;33m(\u001b[0m\u001b[0mValueError\u001b[0m\u001b[1;33m,\u001b[0m \u001b[0mTypeError\u001b[0m\u001b[1;33m)\u001b[0m\u001b[1;33m:\u001b[0m\u001b[1;33m\u001b[0m\u001b[1;33m\u001b[0m\u001b[0m\n\u001b[1;32m-> 2193\u001b[1;33m             \u001b[1;32mraise\u001b[0m \u001b[0merr\u001b[0m\u001b[1;33m\u001b[0m\u001b[1;33m\u001b[0m\u001b[0m\n\u001b[0m\u001b[0;32m   2194\u001b[0m \u001b[1;33m\u001b[0m\u001b[0m\n\u001b[0;32m   2195\u001b[0m     \u001b[1;32mif\u001b[0m \u001b[0mtz_parsed\u001b[0m \u001b[1;32mis\u001b[0m \u001b[1;32mnot\u001b[0m \u001b[1;32mNone\u001b[0m\u001b[1;33m:\u001b[0m\u001b[1;33m\u001b[0m\u001b[1;33m\u001b[0m\u001b[0m\n",
      "\u001b[1;32m~\\anaconda3\\lib\\site-packages\\pandas\\core\\arrays\\datetimes.py\u001b[0m in \u001b[0;36mobjects_to_datetime64ns\u001b[1;34m(data, dayfirst, yearfirst, utc, errors, require_iso8601, allow_object, allow_mixed)\u001b[0m\n\u001b[0;32m   2173\u001b[0m     \u001b[0morder\u001b[0m\u001b[1;33m:\u001b[0m \u001b[0mLiteral\u001b[0m\u001b[1;33m[\u001b[0m\u001b[1;34m\"F\"\u001b[0m\u001b[1;33m,\u001b[0m \u001b[1;34m\"C\"\u001b[0m\u001b[1;33m]\u001b[0m \u001b[1;33m=\u001b[0m \u001b[1;34m\"F\"\u001b[0m \u001b[1;32mif\u001b[0m \u001b[0mflags\u001b[0m\u001b[1;33m.\u001b[0m\u001b[0mf_contiguous\u001b[0m \u001b[1;32melse\u001b[0m \u001b[1;34m\"C\"\u001b[0m\u001b[1;33m\u001b[0m\u001b[1;33m\u001b[0m\u001b[0m\n\u001b[0;32m   2174\u001b[0m     \u001b[1;32mtry\u001b[0m\u001b[1;33m:\u001b[0m\u001b[1;33m\u001b[0m\u001b[1;33m\u001b[0m\u001b[0m\n\u001b[1;32m-> 2175\u001b[1;33m         result, tz_parsed = tslib.array_to_datetime(\n\u001b[0m\u001b[0;32m   2176\u001b[0m             \u001b[0mdata\u001b[0m\u001b[1;33m.\u001b[0m\u001b[0mravel\u001b[0m\u001b[1;33m(\u001b[0m\u001b[1;34m\"K\"\u001b[0m\u001b[1;33m)\u001b[0m\u001b[1;33m,\u001b[0m\u001b[1;33m\u001b[0m\u001b[1;33m\u001b[0m\u001b[0m\n\u001b[0;32m   2177\u001b[0m             \u001b[0merrors\u001b[0m\u001b[1;33m=\u001b[0m\u001b[0merrors\u001b[0m\u001b[1;33m,\u001b[0m\u001b[1;33m\u001b[0m\u001b[1;33m\u001b[0m\u001b[0m\n",
      "\u001b[1;32m~\\anaconda3\\lib\\site-packages\\pandas\\_libs\\tslib.pyx\u001b[0m in \u001b[0;36mpandas._libs.tslib.array_to_datetime\u001b[1;34m()\u001b[0m\n",
      "\u001b[1;32m~\\anaconda3\\lib\\site-packages\\pandas\\_libs\\tslib.pyx\u001b[0m in \u001b[0;36mpandas._libs.tslib.array_to_datetime\u001b[1;34m()\u001b[0m\n",
      "\u001b[1;32m~\\anaconda3\\lib\\site-packages\\pandas\\_libs\\tslib.pyx\u001b[0m in \u001b[0;36mpandas._libs.tslib._array_to_datetime_object\u001b[1;34m()\u001b[0m\n",
      "\u001b[1;32m~\\anaconda3\\lib\\site-packages\\pandas\\_libs\\tslib.pyx\u001b[0m in \u001b[0;36mpandas._libs.tslib._array_to_datetime_object\u001b[1;34m()\u001b[0m\n",
      "\u001b[1;32m~\\anaconda3\\lib\\site-packages\\pandas\\_libs\\tslibs\\parsing.pyx\u001b[0m in \u001b[0;36mpandas._libs.tslibs.parsing.parse_datetime_string\u001b[1;34m()\u001b[0m\n",
      "\u001b[1;32m~\\anaconda3\\lib\\site-packages\\dateutil\\parser\\_parser.py\u001b[0m in \u001b[0;36mparse\u001b[1;34m(timestr, parserinfo, **kwargs)\u001b[0m\n\u001b[0;32m   1366\u001b[0m         \u001b[1;32mreturn\u001b[0m \u001b[0mparser\u001b[0m\u001b[1;33m(\u001b[0m\u001b[0mparserinfo\u001b[0m\u001b[1;33m)\u001b[0m\u001b[1;33m.\u001b[0m\u001b[0mparse\u001b[0m\u001b[1;33m(\u001b[0m\u001b[0mtimestr\u001b[0m\u001b[1;33m,\u001b[0m \u001b[1;33m**\u001b[0m\u001b[0mkwargs\u001b[0m\u001b[1;33m)\u001b[0m\u001b[1;33m\u001b[0m\u001b[1;33m\u001b[0m\u001b[0m\n\u001b[0;32m   1367\u001b[0m     \u001b[1;32melse\u001b[0m\u001b[1;33m:\u001b[0m\u001b[1;33m\u001b[0m\u001b[1;33m\u001b[0m\u001b[0m\n\u001b[1;32m-> 1368\u001b[1;33m         \u001b[1;32mreturn\u001b[0m \u001b[0mDEFAULTPARSER\u001b[0m\u001b[1;33m.\u001b[0m\u001b[0mparse\u001b[0m\u001b[1;33m(\u001b[0m\u001b[0mtimestr\u001b[0m\u001b[1;33m,\u001b[0m \u001b[1;33m**\u001b[0m\u001b[0mkwargs\u001b[0m\u001b[1;33m)\u001b[0m\u001b[1;33m\u001b[0m\u001b[1;33m\u001b[0m\u001b[0m\n\u001b[0m\u001b[0;32m   1369\u001b[0m \u001b[1;33m\u001b[0m\u001b[0m\n\u001b[0;32m   1370\u001b[0m \u001b[1;33m\u001b[0m\u001b[0m\n",
      "\u001b[1;32m~\\anaconda3\\lib\\site-packages\\dateutil\\parser\\_parser.py\u001b[0m in \u001b[0;36mparse\u001b[1;34m(self, timestr, default, ignoretz, tzinfos, **kwargs)\u001b[0m\n\u001b[0;32m    649\u001b[0m             \u001b[0mret\u001b[0m \u001b[1;33m=\u001b[0m \u001b[0mself\u001b[0m\u001b[1;33m.\u001b[0m\u001b[0m_build_naive\u001b[0m\u001b[1;33m(\u001b[0m\u001b[0mres\u001b[0m\u001b[1;33m,\u001b[0m \u001b[0mdefault\u001b[0m\u001b[1;33m)\u001b[0m\u001b[1;33m\u001b[0m\u001b[1;33m\u001b[0m\u001b[0m\n\u001b[0;32m    650\u001b[0m         \u001b[1;32mexcept\u001b[0m \u001b[0mValueError\u001b[0m \u001b[1;32mas\u001b[0m \u001b[0me\u001b[0m\u001b[1;33m:\u001b[0m\u001b[1;33m\u001b[0m\u001b[1;33m\u001b[0m\u001b[0m\n\u001b[1;32m--> 651\u001b[1;33m             \u001b[0msix\u001b[0m\u001b[1;33m.\u001b[0m\u001b[0mraise_from\u001b[0m\u001b[1;33m(\u001b[0m\u001b[0mParserError\u001b[0m\u001b[1;33m(\u001b[0m\u001b[0mstr\u001b[0m\u001b[1;33m(\u001b[0m\u001b[0me\u001b[0m\u001b[1;33m)\u001b[0m \u001b[1;33m+\u001b[0m \u001b[1;34m\": %s\"\u001b[0m\u001b[1;33m,\u001b[0m \u001b[0mtimestr\u001b[0m\u001b[1;33m)\u001b[0m\u001b[1;33m,\u001b[0m \u001b[0me\u001b[0m\u001b[1;33m)\u001b[0m\u001b[1;33m\u001b[0m\u001b[1;33m\u001b[0m\u001b[0m\n\u001b[0m\u001b[0;32m    652\u001b[0m \u001b[1;33m\u001b[0m\u001b[0m\n\u001b[0;32m    653\u001b[0m         \u001b[1;32mif\u001b[0m \u001b[1;32mnot\u001b[0m \u001b[0mignoretz\u001b[0m\u001b[1;33m:\u001b[0m\u001b[1;33m\u001b[0m\u001b[1;33m\u001b[0m\u001b[0m\n",
      "\u001b[1;32m~\\anaconda3\\lib\\site-packages\\six.py\u001b[0m in \u001b[0;36mraise_from\u001b[1;34m(value, from_value)\u001b[0m\n",
      "\u001b[1;31mParserError\u001b[0m: day is out of range for month: 0"
     ]
    }
   ],
   "source": [
    "df2['send_day'] = pd.to_datetime(df2['send_day'])"
   ]
  },
  {
   "cell_type": "code",
   "execution_count": null,
   "id": "ee3a6079-749c-4569-a403-0e4e6d684bf7",
   "metadata": {},
   "outputs": [],
   "source": [
    "DAY_date = dt.strptime(DAY, '%Y/%m/%d')"
   ]
  },
  {
   "cell_type": "code",
   "execution_count": null,
   "id": "e0c57e67-10c7-4da1-805c-4983a4a2be2c",
   "metadata": {},
   "outputs": [],
   "source": [
    "#type(df2['send_day'])"
   ]
  },
  {
   "cell_type": "code",
   "execution_count": null,
   "id": "6a956024-97ff-4854-8a31-4a4d48dd6538",
   "metadata": {},
   "outputs": [],
   "source": []
  },
  {
   "cell_type": "code",
   "execution_count": null,
   "id": "2a53fadf-27d9-4732-a854-2274d55ab3b2",
   "metadata": {},
   "outputs": [],
   "source": [
    "df2"
   ]
  },
  {
   "cell_type": "code",
   "execution_count": null,
   "id": "4f04a607-edff-476a-8486-b284167acc85",
   "metadata": {},
   "outputs": [],
   "source": [
    "df4 = df2[df2['send_day'] >= DAY_date]\n",
    "#type(DAY)"
   ]
  },
  {
   "cell_type": "code",
   "execution_count": null,
   "id": "1fec9183-3285-426a-b834-d49eea1c4f50",
   "metadata": {},
   "outputs": [],
   "source": [
    "#df2.iloc[70:90]\n",
    "df4"
   ]
  },
  {
   "cell_type": "code",
   "execution_count": null,
   "id": "666227ef-2612-4f01-b9cc-eb0321fe4fd9",
   "metadata": {},
   "outputs": [],
   "source": [
    "df5 = df4['send_tittle']\n",
    "df5.value_counts()"
   ]
  },
  {
   "cell_type": "code",
   "execution_count": null,
   "id": "ac403e58-48a1-4fb1-a359-05680905592f",
   "metadata": {},
   "outputs": [],
   "source": [
    "!pip install gspread oauth2client\n",
    "import gspread\n",
    "from oauth2client.service_account import ServiceAccountCredentials\n",
    "\n",
    "#jsonファイルを使って認証情報を取得\n",
    "scope = ['https://spreadsheets.google.com/feeds','https://www.googleapis.com/auth/drive']\n",
    "c = ServiceAccountCredentials.from_json_keyfile_name('myprojexttest-350004-5efc628271d6.json', scope)\n",
    "\n",
    "#認証情報を使ってスプレッドシートの操作権を取得\n",
    "gs = gspread.authorize(c)\n",
    "\n",
    "#共有したスプレッドシートのキー（後述）を使ってシートの情報を取得\n",
    "SPREADSHEET_KEY = '1gyHg9iZrkA3ODmMyTyhl24okY903AzGDB1jaCDl9HN8'"
   ]
  },
  {
   "cell_type": "code",
   "execution_count": null,
   "id": "1edeb22e-494b-4e38-88e2-ea1df4174277",
   "metadata": {},
   "outputs": [],
   "source": []
  },
  {
   "cell_type": "code",
   "execution_count": null,
   "id": "13e24da8-aa21-4acb-851b-bc116a629f8a",
   "metadata": {},
   "outputs": [],
   "source": [
    "!pip install gspread_dataframe\n",
    "from gspread_dataframe import set_with_dataframe\n",
    "workbook = gs.open_by_key(SPREADSHEET_KEY)"
   ]
  },
  {
   "cell_type": "code",
   "execution_count": 97,
   "id": "86b4bad6-a87f-4b80-a960-0d9f0a6d47ef",
   "metadata": {},
   "outputs": [],
   "source": [
    "workbook.add_worksheet(title=DAY + \"RD\" + HEAD_HUNTER, rows=50, cols=10)\n",
    "set_with_dataframe(workbook.worksheet(DAY + \"RD\" + HEAD_HUNTER), df4, include_index=True)"
   ]
  },
  {
   "cell_type": "code",
   "execution_count": 98,
   "id": "47016fb3-2e47-4b57-bfa0-d5fe879bb8c7",
   "metadata": {},
   "outputs": [],
   "source": [
    "workbook.add_worksheet(title=DAY + \"RD_count\" + HEAD_HUNTER, rows=50, cols=10)\n",
    "set_with_dataframe(workbook.worksheet(DAY + \"RD_count\" + HEAD_HUNTER), pd.DataFrame(df5.value_counts()) , include_index=True)"
   ]
  },
  {
   "cell_type": "code",
   "execution_count": 50,
   "id": "f6511367-89b8-4325-bd86-aa7438c652d0",
   "metadata": {},
   "outputs": [],
   "source": []
  },
  {
   "cell_type": "code",
   "execution_count": 43,
   "id": "0dd0d7d2-f1dd-4e1b-a171-d96b2494f065",
   "metadata": {},
   "outputs": [
    {
     "data": {
      "text/plain": [
       "pandas.core.series.Series"
      ]
     },
     "execution_count": 43,
     "metadata": {},
     "output_type": "execute_result"
    }
   ],
   "source": [
    "type(df3)"
   ]
  },
  {
   "cell_type": "code",
   "execution_count": 48,
   "id": "6c211193-09cd-4c41-8fe4-0d149847444b",
   "metadata": {},
   "outputs": [
    {
     "data": {
      "text/html": [
       "<div>\n",
       "<style scoped>\n",
       "    .dataframe tbody tr th:only-of-type {\n",
       "        vertical-align: middle;\n",
       "    }\n",
       "\n",
       "    .dataframe tbody tr th {\n",
       "        vertical-align: top;\n",
       "    }\n",
       "\n",
       "    .dataframe thead th {\n",
       "        text-align: right;\n",
       "    }\n",
       "</style>\n",
       "<table border=\"1\" class=\"dataframe\">\n",
       "  <thead>\n",
       "    <tr style=\"text-align: right;\">\n",
       "      <th></th>\n",
       "      <th>send_tittle</th>\n",
       "    </tr>\n",
       "  </thead>\n",
       "  <tbody>\n",
       "    <tr>\n",
       "      <th>【組織コンサルタント/幹部候補】～マネジメントの”解”を学び、自ら組織を変革～</th>\n",
       "      <td>96</td>\n",
       "    </tr>\n",
       "    <tr>\n",
       "      <th>医療法人の運営マネージャー・経営コンサルタント■東証1部上場グループ／年休122日／リモート環境あり</th>\n",
       "      <td>43</td>\n",
       "    </tr>\n",
       "    <tr>\n",
       "      <th>【ご面談のお願い】ご経歴を拝見致しました！</th>\n",
       "      <td>34</td>\n",
       "    </tr>\n",
       "  </tbody>\n",
       "</table>\n",
       "</div>"
      ],
      "text/plain": [
       "                                                    send_tittle\n",
       "【組織コンサルタント/幹部候補】～マネジメントの”解”を学び、自ら組織を変革～                      96\n",
       "医療法人の運営マネージャー・経営コンサルタント■東証1部上場グループ／年休122日／リモート環境あり           43\n",
       "【ご面談のお願い】ご経歴を拝見致しました！                                        34"
      ]
     },
     "execution_count": 48,
     "metadata": {},
     "output_type": "execute_result"
    }
   ],
   "source": [
    "pd.DataFrame(df3.value_counts())"
   ]
  },
  {
   "cell_type": "code",
   "execution_count": 83,
   "id": "f285d3ba-22ae-48e6-b0a5-63d89c0d2382",
   "metadata": {},
   "outputs": [
    {
     "data": {
      "text/plain": [
       "'2022/05/12'"
      ]
     },
     "execution_count": 83,
     "metadata": {},
     "output_type": "execute_result"
    }
   ],
   "source": [
    "DAY"
   ]
  },
  {
   "cell_type": "code",
   "execution_count": 77,
   "id": "296f8aff-ace6-47e6-8a0a-65a4f319e4ad",
   "metadata": {},
   "outputs": [
    {
     "ename": "AttributeError",
     "evalue": "'str' object has no attribute 'text'",
     "output_type": "error",
     "traceback": [
      "\u001b[1;31m---------------------------------------------------------------------------\u001b[0m",
      "\u001b[1;31mAttributeError\u001b[0m                            Traceback (most recent call last)",
      "\u001b[1;32m~\\AppData\\Local\\Temp/ipykernel_22604/4242302277.py\u001b[0m in \u001b[0;36m<module>\u001b[1;34m\u001b[0m\n\u001b[0;32m      2\u001b[0m \u001b[1;33m\u001b[0m\u001b[0m\n\u001b[0;32m      3\u001b[0m \u001b[0mpd\u001b[0m\u001b[1;33m.\u001b[0m\u001b[0mDataFrame\u001b[0m\u001b[1;33m(\u001b[0m\u001b[1;33m[\u001b[0m\u001b[1;33m[\u001b[0m\u001b[0mtest_test\u001b[0m\u001b[1;33m,\u001b[0m\u001b[0mtest_test\u001b[0m\u001b[1;33m]\u001b[0m\u001b[1;33m]\u001b[0m\u001b[1;33m)\u001b[0m\u001b[1;33m\u001b[0m\u001b[1;33m\u001b[0m\u001b[0m\n\u001b[1;32m----> 4\u001b[1;33m \u001b[0mprint\u001b[0m\u001b[1;33m(\u001b[0m\u001b[0mtest_test\u001b[0m\u001b[1;33m.\u001b[0m\u001b[0mtext\u001b[0m\u001b[1;33m)\u001b[0m\u001b[1;33m\u001b[0m\u001b[1;33m\u001b[0m\u001b[0m\n\u001b[0m",
      "\u001b[1;31mAttributeError\u001b[0m: 'str' object has no attribute 'text'"
     ]
    }
   ],
   "source": [
    "test_test = \"退会\"\n",
    "\n",
    "pd.DataFrame([[test_test,test_test]])\n",
    "print(test_test.text)"
   ]
  },
  {
   "cell_type": "code",
   "execution_count": null,
   "id": "c628ea89-c4fd-4c5a-a75b-4ff35b00366d",
   "metadata": {},
   "outputs": [],
   "source": []
  }
 ],
 "metadata": {
  "kernelspec": {
   "display_name": "Python 3 (ipykernel)",
   "language": "python",
   "name": "python3"
  },
  "language_info": {
   "codemirror_mode": {
    "name": "ipython",
    "version": 3
   },
   "file_extension": ".py",
   "mimetype": "text/x-python",
   "name": "python",
   "nbconvert_exporter": "python",
   "pygments_lexer": "ipython3",
   "version": "3.9.7"
  }
 },
 "nbformat": 4,
 "nbformat_minor": 5
}
